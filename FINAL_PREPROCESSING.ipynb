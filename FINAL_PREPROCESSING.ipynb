{
 "cells": [
  {
   "cell_type": "code",
   "execution_count": 2,
   "id": "ffe7bd78",
   "metadata": {},
   "outputs": [],
   "source": [
    "import pandas as pd\n",
    "import numpy as np\n",
    "import seaborn as sns\n",
    "import matplotlib.pyplot as plt"
   ]
  },
  {
   "cell_type": "code",
   "execution_count": 2,
   "id": "b447aa87",
   "metadata": {
    "scrolled": true
   },
   "outputs": [
    {
     "data": {
      "text/plain": [
       "Index(['age', 'careAddr', 'careNm', 'careTel', 'chargeNm', 'colorCd',\n",
       "       'desertionNo', 'filename', 'happenDt', 'happenPlace', 'kindCd',\n",
       "       'neuterYn', 'noticeEdt', 'noticeNo', 'noticeSdt', 'officetel', 'orgNm',\n",
       "       'popfile', 'processState', 'sexCd', 'specialMark', 'weight',\n",
       "       'noticeComment'],\n",
       "      dtype='object')"
      ]
     },
     "execution_count": 2,
     "metadata": {},
     "output_type": "execute_result"
    }
   ],
   "source": [
    "df_test = pd.read_csv('./Data/FINAL_DATASET_DOG.csv',encoding='euc-kr',index_col=0)\n",
    "df_test.columns"
   ]
  },
  {
   "cell_type": "code",
   "execution_count": 3,
   "id": "0553171f",
   "metadata": {},
   "outputs": [],
   "source": [
    "df_test.rename(columns={'age':'나이', 'careAddr': '보호장소', 'careNm':'보호소이름', 'careTel':'보호소전화번호','chargeNm':'담당자','colorCd':'색상','desertionNo':'유기번호','filename':'썸네일사진',\n",
    "                       'happenDt':'접수일','happenPlace':'발견장소','kindCd':'품종','neuterYn':'중성화여부','noticeSdt':'공고시작일','officetel':'담당자연락처',\n",
    "                       'orgNm':'관할기관','popfile':'사진','processState':'상태','sexCd':'성별','specialMark':'특징','weight':'체중','noticeComment':'특이사항',\n",
    "                       'noticeEdt':'공고종료일','noticeNo':'공고번호'},inplace=True)\n"
   ]
  },
  {
   "cell_type": "code",
   "execution_count": 4,
   "id": "5b1fb7a4",
   "metadata": {
    "scrolled": true
   },
   "outputs": [
    {
     "data": {
      "text/plain": [
       "Index(['나이', '보호장소', '보호소이름', '보호소전화번호', '담당자', '색상', '유기번호', '썸네일사진', '접수일',\n",
       "       '발견장소', '품종', '중성화여부', '공고종료일', '공고번호', '공고시작일', '담당자연락처', '관할기관', '사진',\n",
       "       '상태', '성별', '특징', '체중', '특이사항'],\n",
       "      dtype='object')"
      ]
     },
     "execution_count": 4,
     "metadata": {},
     "output_type": "execute_result"
    }
   ],
   "source": [
    "df_test.columns"
   ]
  },
  {
   "cell_type": "code",
   "execution_count": 5,
   "id": "437f353b",
   "metadata": {},
   "outputs": [],
   "source": [
    "df_test.to_csv('./Data/FINAL_DOG_DOG.csv',encoding='euc-kr')"
   ]
  },
  {
   "cell_type": "markdown",
   "id": "5116bc54",
   "metadata": {},
   "source": [
    "---"
   ]
  },
  {
   "cell_type": "markdown",
   "id": "20a35136",
   "metadata": {},
   "source": [
    "## 여기서부터 💔"
   ]
  },
  {
   "cell_type": "code",
   "execution_count": 6,
   "id": "cef740e4",
   "metadata": {},
   "outputs": [],
   "source": [
    "RAW = pd.read_csv('./Data/FINAL_DOG_DOG.csv',encoding='euc-kr',index_col=0)"
   ]
  },
  {
   "cell_type": "code",
   "execution_count": 351,
   "id": "0443c5cd",
   "metadata": {},
   "outputs": [
    {
     "data": {
      "text/html": [
       "<div>\n",
       "<style scoped>\n",
       "    .dataframe tbody tr th:only-of-type {\n",
       "        vertical-align: middle;\n",
       "    }\n",
       "\n",
       "    .dataframe tbody tr th {\n",
       "        vertical-align: top;\n",
       "    }\n",
       "\n",
       "    .dataframe thead th {\n",
       "        text-align: right;\n",
       "    }\n",
       "</style>\n",
       "<table border=\"1\" class=\"dataframe\">\n",
       "  <thead>\n",
       "    <tr style=\"text-align: right;\">\n",
       "      <th></th>\n",
       "      <th>나이</th>\n",
       "      <th>보호장소</th>\n",
       "      <th>보호소이름</th>\n",
       "      <th>보호소전화번호</th>\n",
       "      <th>담당자</th>\n",
       "      <th>색상</th>\n",
       "      <th>유기번호</th>\n",
       "      <th>썸네일사진</th>\n",
       "      <th>접수일</th>\n",
       "      <th>발견장소</th>\n",
       "      <th>...</th>\n",
       "      <th>공고번호</th>\n",
       "      <th>공고시작일</th>\n",
       "      <th>담당자연락처</th>\n",
       "      <th>관할기관</th>\n",
       "      <th>사진</th>\n",
       "      <th>상태</th>\n",
       "      <th>성별</th>\n",
       "      <th>특징</th>\n",
       "      <th>체중</th>\n",
       "      <th>특이사항</th>\n",
       "    </tr>\n",
       "  </thead>\n",
       "  <tbody>\n",
       "    <tr>\n",
       "      <th>0</th>\n",
       "      <td>NaN</td>\n",
       "      <td>서울특별시 양천구 등촌로 160 (목동) 1층</td>\n",
       "      <td>강현림동물병원</td>\n",
       "      <td>02-2642-9159</td>\n",
       "      <td>양천구청</td>\n",
       "      <td>갈색</td>\n",
       "      <td>4.113140e+14</td>\n",
       "      <td>http://www.animal.go.kr/files/shelter/2016/10/...</td>\n",
       "      <td>2017</td>\n",
       "      <td>신정동신정119안전센터 (다음1-1)</td>\n",
       "      <td>...</td>\n",
       "      <td>서울-양천-2017-00001</td>\n",
       "      <td>20170101</td>\n",
       "      <td>02-2620-4918</td>\n",
       "      <td>서울특별시 양천구</td>\n",
       "      <td>http://www.animal.go.kr/files/shelter/2016/10/...</td>\n",
       "      <td>종료(입양)</td>\n",
       "      <td>M</td>\n",
       "      <td>치석ㅇ&amp;#47552;으며온순하고잘따르나천방지축임</td>\n",
       "      <td>38(Kg)</td>\n",
       "      <td>NaN</td>\n",
       "    </tr>\n",
       "  </tbody>\n",
       "</table>\n",
       "<p>1 rows × 23 columns</p>\n",
       "</div>"
      ],
      "text/plain": [
       "   나이                       보호장소    보호소이름       보호소전화번호   담당자  색상  \\\n",
       "0 NaN  서울특별시 양천구 등촌로 160 (목동) 1층  강현림동물병원  02-2642-9159  양천구청  갈색   \n",
       "\n",
       "           유기번호                                              썸네일사진   접수일  \\\n",
       "0  4.113140e+14  http://www.animal.go.kr/files/shelter/2016/10/...  2017   \n",
       "\n",
       "                   발견장소  ...              공고번호     공고시작일        담당자연락처  \\\n",
       "0  신정동신정119안전센터 (다음1-1)  ...  서울-양천-2017-00001  20170101  02-2620-4918   \n",
       "\n",
       "        관할기관                                                 사진      상태 성별  \\\n",
       "0  서울특별시 양천구  http://www.animal.go.kr/files/shelter/2016/10/...  종료(입양)  M   \n",
       "\n",
       "                           특징      체중 특이사항  \n",
       "0  치석ㅇ&#47552;으며온순하고잘따르나천방지축임  38(Kg)  NaN  \n",
       "\n",
       "[1 rows x 23 columns]"
      ]
     },
     "execution_count": 351,
     "metadata": {},
     "output_type": "execute_result"
    }
   ],
   "source": [
    "df_test = pd.read_csv('./Data/FINAL_DOG_DOG.csv',encoding='euc-kr',index_col=0)\n",
    "df_test.head(1)"
   ]
  },
  {
   "cell_type": "code",
   "execution_count": 352,
   "id": "92da489c",
   "metadata": {},
   "outputs": [
    {
     "data": {
      "text/plain": [
       "array([      nan, 2.000e+01, 1.900e+01, 2.000e+00, 1.000e+01, 2.020e+03,\n",
       "       2.016e+03])"
      ]
     },
     "execution_count": 352,
     "metadata": {},
     "output_type": "execute_result"
    }
   ],
   "source": [
    "df_test['나이'].unique()"
   ]
  },
  {
   "cell_type": "code",
   "execution_count": 353,
   "id": "eaf4a4e0",
   "metadata": {},
   "outputs": [
    {
     "data": {
      "text/plain": [
       "array(['', '20'], dtype=object)"
      ]
     },
     "execution_count": 353,
     "metadata": {},
     "output_type": "execute_result"
    }
   ],
   "source": [
    "df_test['나이'] = df_test['나이'].apply(lambda x : str(x[:-4])\n",
    "df_test['나이'].unique()"
   ]
  },
  {
   "cell_type": "code",
   "execution_count": 354,
   "id": "de49b26c",
   "metadata": {},
   "outputs": [],
   "source": [
    "df_test['나이'] = df_test['나이'].replace('','바보')"
   ]
  },
  {
   "cell_type": "code",
   "execution_count": 322,
   "id": "b786ae6e",
   "metadata": {},
   "outputs": [],
   "source": [
    "df_test['나이'] = df_test.replace('`','바보')\n",
    "df_test['나이'] = df_test.replace('-','바보')\n"
   ]
  },
  {
   "cell_type": "code",
   "execution_count": 323,
   "id": "cd31a69d",
   "metadata": {},
   "outputs": [
    {
     "data": {
      "text/plain": [
       "array([nan, 20.0, 19.0, 2.0, 10.0, 2020.0, 2016.0], dtype=object)"
      ]
     },
     "execution_count": 323,
     "metadata": {},
     "output_type": "execute_result"
    }
   ],
   "source": [
    "df_test['나이'].unique()"
   ]
  },
  {
   "cell_type": "code",
   "execution_count": 324,
   "id": "b3d28123",
   "metadata": {},
   "outputs": [
    {
     "data": {
      "text/plain": [
       "array([nan, 20.0, 19.0, 2.0, 10.0, 2020.0, 2016.0], dtype=object)"
      ]
     },
     "execution_count": 324,
     "metadata": {},
     "output_type": "execute_result"
    }
   ],
   "source": [
    "df_age = df_test.loc[df_test['나이'] != '바보']\n",
    "df_age['나이'].unique()"
   ]
  },
  {
   "cell_type": "code",
   "execution_count": 325,
   "id": "b478229f",
   "metadata": {},
   "outputs": [],
   "source": [
    "df_test = df_age"
   ]
  },
  {
   "cell_type": "code",
   "execution_count": 326,
   "id": "01029a52",
   "metadata": {},
   "outputs": [],
   "source": [
    "df_test.to_csv('./Data/#1.csv',encoding='euc-kr')"
   ]
  },
  {
   "cell_type": "markdown",
   "id": "478c5bce",
   "metadata": {},
   "source": [
    "## 💟 나이말고"
   ]
  },
  {
   "cell_type": "code",
   "execution_count": 349,
   "id": "806e067d",
   "metadata": {},
   "outputs": [
    {
     "data": {
      "text/plain": [
       "32768     20\n",
       "32769     20\n",
       "32770     20\n",
       "32771     20\n",
       "32772     20\n",
       "          ..\n",
       "425979    20\n",
       "425980    20\n",
       "425981    20\n",
       "425982    20\n",
       "425983    20\n",
       "Name: 나이, Length: 196569, dtype: int32"
      ]
     },
     "execution_count": 349,
     "metadata": {},
     "output_type": "execute_result"
    }
   ],
   "source": [
    "df_test['나이']"
   ]
  },
  {
   "cell_type": "code",
   "execution_count": 332,
   "id": "152e6c08",
   "metadata": {},
   "outputs": [],
   "source": [
    "df_test = df_test[df_test['나이'].apply(lambda x : len(str(x)) == 4)]"
   ]
  },
  {
   "cell_type": "code",
   "execution_count": 333,
   "id": "f0e3a86c",
   "metadata": {},
   "outputs": [
    {
     "data": {
      "text/plain": [
       "array([20.0, 19.0, 10.0], dtype=object)"
      ]
     },
     "execution_count": 333,
     "metadata": {},
     "output_type": "execute_result"
    }
   ],
   "source": [
    "df_test['나이'].unique()"
   ]
  },
  {
   "cell_type": "code",
   "execution_count": 334,
   "id": "13ac8f93",
   "metadata": {},
   "outputs": [
    {
     "data": {
      "text/plain": [
       "array([20.0, 19.0, 10.0], dtype=object)"
      ]
     },
     "execution_count": 334,
     "metadata": {},
     "output_type": "execute_result"
    }
   ],
   "source": [
    "df_test = df_test[df_test['나이'] != '1018']\n",
    "df_test['나이'].unique()"
   ]
  },
  {
   "cell_type": "code",
   "execution_count": 335,
   "id": "bd401c40",
   "metadata": {},
   "outputs": [
    {
     "data": {
      "text/plain": [
       "(196569, 23)"
      ]
     },
     "execution_count": 335,
     "metadata": {},
     "output_type": "execute_result"
    }
   ],
   "source": [
    "df_test.shape"
   ]
  },
  {
   "cell_type": "code",
   "execution_count": 336,
   "id": "950c660b",
   "metadata": {},
   "outputs": [],
   "source": [
    "df_test['나이'] = df_test['나이'].astype('int')\n"
   ]
  },
  {
   "cell_type": "markdown",
   "id": "fc664742",
   "metadata": {},
   "source": [
    "### 접수일 💫"
   ]
  },
  {
   "cell_type": "code",
   "execution_count": 337,
   "id": "a96d3eed",
   "metadata": {},
   "outputs": [],
   "source": [
    "df_test['접수일'] = df_test['접수일'].astype('str')"
   ]
  },
  {
   "cell_type": "code",
   "execution_count": 338,
   "id": "b1c22eb2",
   "metadata": {},
   "outputs": [],
   "source": [
    "df_test['접수일']= df_test['접수일'].apply(lambda x : x[:4])\n"
   ]
  },
  {
   "cell_type": "code",
   "execution_count": 339,
   "id": "abcc6a14",
   "metadata": {},
   "outputs": [
    {
     "data": {
      "text/plain": [
       "array(['2017', '2018', '2019', '2021'], dtype=object)"
      ]
     },
     "execution_count": 339,
     "metadata": {},
     "output_type": "execute_result"
    }
   ],
   "source": [
    "df_test['접수일'].unique()"
   ]
  },
  {
   "cell_type": "code",
   "execution_count": 346,
   "id": "f16172a2",
   "metadata": {},
   "outputs": [],
   "source": [
    "df_test['접수일'] = df_test['접수일'].astype('int')"
   ]
  },
  {
   "cell_type": "code",
   "execution_count": 347,
   "id": "42955ec4",
   "metadata": {},
   "outputs": [],
   "source": [
    "df_test['당시의나이'] = df_test['접수일'] - df_test['나이']"
   ]
  },
  {
   "cell_type": "code",
   "execution_count": 348,
   "id": "3ef40970",
   "metadata": {},
   "outputs": [
    {
     "data": {
      "text/plain": [
       "1999    65623\n",
       "1998    57883\n",
       "1997    40294\n",
       "2001    32765\n",
       "2000        3\n",
       "2009        1\n",
       "Name: 당시의나이, dtype: int64"
      ]
     },
     "execution_count": 348,
     "metadata": {},
     "output_type": "execute_result"
    }
   ],
   "source": [
    "df_test['당시의나이'].value_counts()"
   ]
  },
  {
   "cell_type": "code",
   "execution_count": 343,
   "id": "5e543dcb",
   "metadata": {},
   "outputs": [
    {
     "data": {
      "text/html": [
       "<div>\n",
       "<style scoped>\n",
       "    .dataframe tbody tr th:only-of-type {\n",
       "        vertical-align: middle;\n",
       "    }\n",
       "\n",
       "    .dataframe tbody tr th {\n",
       "        vertical-align: top;\n",
       "    }\n",
       "\n",
       "    .dataframe thead th {\n",
       "        text-align: right;\n",
       "    }\n",
       "</style>\n",
       "<table border=\"1\" class=\"dataframe\">\n",
       "  <thead>\n",
       "    <tr style=\"text-align: right;\">\n",
       "      <th></th>\n",
       "      <th>나이</th>\n",
       "      <th>보호장소</th>\n",
       "      <th>보호소이름</th>\n",
       "      <th>보호소전화번호</th>\n",
       "      <th>담당자</th>\n",
       "      <th>색상</th>\n",
       "      <th>유기번호</th>\n",
       "      <th>썸네일사진</th>\n",
       "      <th>접수일</th>\n",
       "      <th>발견장소</th>\n",
       "      <th>...</th>\n",
       "      <th>공고시작일</th>\n",
       "      <th>담당자연락처</th>\n",
       "      <th>관할기관</th>\n",
       "      <th>사진</th>\n",
       "      <th>상태</th>\n",
       "      <th>성별</th>\n",
       "      <th>특징</th>\n",
       "      <th>체중</th>\n",
       "      <th>특이사항</th>\n",
       "      <th>당시의나이</th>\n",
       "    </tr>\n",
       "  </thead>\n",
       "  <tbody>\n",
       "    <tr>\n",
       "      <th>32768</th>\n",
       "      <td>20</td>\n",
       "      <td>전라남도 순천시 상사면 민속마을길 978 (상사면) .</td>\n",
       "      <td>대한동물사랑협회</td>\n",
       "      <td>061-755-7547</td>\n",
       "      <td>순천시</td>\n",
       "      <td>검정</td>\n",
       "      <td>4.464820e+14</td>\n",
       "      <td>http://www.animal.go.kr/files/shelter/2017/07/...</td>\n",
       "      <td>2017</td>\n",
       "      <td>상사면 쌍지리</td>\n",
       "      <td>...</td>\n",
       "      <td>20170724</td>\n",
       "      <td>061-749-3094</td>\n",
       "      <td>전라남도 순천시</td>\n",
       "      <td>http://www.animal.go.kr/files/shelter/2017/07/...</td>\n",
       "      <td>보호중</td>\n",
       "      <td>M</td>\n",
       "      <td>검정</td>\n",
       "      <td>3(Kg)</td>\n",
       "      <td>NaN</td>\n",
       "      <td>1997</td>\n",
       "    </tr>\n",
       "  </tbody>\n",
       "</table>\n",
       "<p>1 rows × 24 columns</p>\n",
       "</div>"
      ],
      "text/plain": [
       "       나이                            보호장소     보호소이름       보호소전화번호  담당자  색상  \\\n",
       "32768  20  전라남도 순천시 상사면 민속마을길 978 (상사면) .  대한동물사랑협회  061-755-7547  순천시  검정   \n",
       "\n",
       "               유기번호                                              썸네일사진   접수일  \\\n",
       "32768  4.464820e+14  http://www.animal.go.kr/files/shelter/2017/07/...  2017   \n",
       "\n",
       "          발견장소  ...     공고시작일        담당자연락처      관할기관  \\\n",
       "32768  상사면 쌍지리  ...  20170724  061-749-3094  전라남도 순천시   \n",
       "\n",
       "                                                      사진   상태 성별  특징     체중  \\\n",
       "32768  http://www.animal.go.kr/files/shelter/2017/07/...  보호중  M  검정  3(Kg)   \n",
       "\n",
       "      특이사항 당시의나이  \n",
       "32768  NaN  1997  \n",
       "\n",
       "[1 rows x 24 columns]"
      ]
     },
     "execution_count": 343,
     "metadata": {},
     "output_type": "execute_result"
    }
   ],
   "source": [
    "df_test['당시의나이'] = df_test['당시의나이'].replace(-1,0)\n",
    "df_test.head(1)"
   ]
  },
  {
   "cell_type": "code",
   "execution_count": 344,
   "id": "74e0f7b1",
   "metadata": {},
   "outputs": [
    {
     "data": {
      "text/plain": [
       "array([1997, 1998, 1999, 2009, 2000, 2001], dtype=int32)"
      ]
     },
     "execution_count": 344,
     "metadata": {},
     "output_type": "execute_result"
    }
   ],
   "source": [
    "df_test['당시의나이'].unique()"
   ]
  },
  {
   "cell_type": "code",
   "execution_count": 345,
   "id": "9fd7b8c1",
   "metadata": {},
   "outputs": [
    {
     "data": {
      "image/png": "[encoded data removed]",
      "text/plain": [
       "<Figure size 1296x1296 with 1 Axes>"
      ]
     },
     "metadata": {},
     "output_type": "display_data"
    }
   ],
   "source": [
    "import warnings\n",
    "\n",
    "warnings.filterwarnings('ignore')\n",
    "\n",
    "plt.rcParams['font.family'] ='Malgun Gothic'\n",
    "\n",
    "plt.style.use('ggplot')\n",
    "plt.figure(figsize = (18, 18))\n",
    "sns.countplot('당시의나이',data = df_test)\n",
    "plt.show()"
   ]
  },
  {
   "cell_type": "markdown",
   "id": "437664fc",
   "metadata": {},
   "source": [
    "## 중성화 🔯\n",
    "---"
   ]
  },
  {
   "cell_type": "code",
   "execution_count": 30,
   "id": "e55cd957",
   "metadata": {},
   "outputs": [
    {
     "data": {
      "text/plain": [
       "Index(['나이', '보호장소', '보호소이름', '보호소전화번호', '담당자', '색상', '유기번호', '썸네일사진', '접수일',\n",
       "       '발견장소', '품종', '중성화여부', '공고종료일', '공고번호', '공고시작일', '담당자연락처', '관할기관', '사진',\n",
       "       '상태', '성별', '특징', '체중', '특이사항', '당시의나이'],\n",
       "      dtype='object')"
      ]
     },
     "execution_count": 30,
     "metadata": {},
     "output_type": "execute_result"
    }
   ],
   "source": [
    "df_test.columns"
   ]
  },
  {
   "cell_type": "code",
   "execution_count": 31,
   "id": "92d964d6",
   "metadata": {},
   "outputs": [
    {
     "data": {
      "text/plain": [
       "array(['N', 'Y', 'U'], dtype=object)"
      ]
     },
     "execution_count": 31,
     "metadata": {},
     "output_type": "execute_result"
    }
   ],
   "source": [
    "df_test['중성화여부'].unique()"
   ]
  },
  {
   "cell_type": "code",
   "execution_count": 32,
   "id": "9e56ca7e",
   "metadata": {},
   "outputs": [],
   "source": [
    "df_test['중성화여부'] = pd.Categorical(df_test['중성화여부'])\n",
    "df_test['중성화여부'] = df_test['중성화여부'].map({'N' : 0 , 'U' : 1, 'Y' : 2})"
   ]
  },
  {
   "cell_type": "code",
   "execution_count": 33,
   "id": "e6d281d1",
   "metadata": {},
   "outputs": [
    {
     "data": {
      "text/plain": [
       "[0, 2, 1]\n",
       "Categories (3, int64): [0, 2, 1]"
      ]
     },
     "execution_count": 33,
     "metadata": {},
     "output_type": "execute_result"
    }
   ],
   "source": [
    "df_test['중성화여부'].unique()"
   ]
  },
  {
   "cell_type": "code",
   "execution_count": 34,
   "id": "26bcdb3b",
   "metadata": {},
   "outputs": [],
   "source": [
    "df_test.to_csv('#2_중성화까지.csv',encoding='euc-kr')"
   ]
  },
  {
   "cell_type": "markdown",
   "id": "55f75aaf",
   "metadata": {},
   "source": [
    "### Drop Columns 💢\n",
    "---"
   ]
  },
  {
   "cell_type": "code",
   "execution_count": 35,
   "id": "a9af4243",
   "metadata": {
    "scrolled": true
   },
   "outputs": [
    {
     "data": {
      "text/plain": [
       "Index(['나이', '보호장소', '보호소이름', '보호소전화번호', '담당자', '색상', '유기번호', '썸네일사진', '접수일',\n",
       "       '발견장소', '품종', '중성화여부', '공고종료일', '공고번호', '공고시작일', '담당자연락처', '관할기관', '사진',\n",
       "       '상태', '성별', '특징', '체중', '특이사항', '당시의나이'],\n",
       "      dtype='object')"
      ]
     },
     "execution_count": 35,
     "metadata": {},
     "output_type": "execute_result"
    }
   ],
   "source": [
    "df_test.columns"
   ]
  },
  {
   "cell_type": "markdown",
   "id": "f6be3005",
   "metadata": {},
   "source": [
    "## 체중 💦 --> 💥 Catch Point 💥\n",
    "---"
   ]
  },
  {
   "cell_type": "code",
   "execution_count": 36,
   "id": "88e3de4b",
   "metadata": {},
   "outputs": [],
   "source": [
    "# df_prac 으로 사용하기 \n",
    "\n",
    "df_prac = df_test[['공고번호','보호소이름','품종','색상','성별','체중','중성화여부','당시의나이','접수일', '상태']]\n"
   ]
  },
  {
   "cell_type": "markdown",
   "id": "150fc342",
   "metadata": {},
   "source": [
    "### 정규식으로 쉽게 💌"
   ]
  },
  {
   "cell_type": "code",
   "execution_count": 37,
   "id": "63e8e57f",
   "metadata": {},
   "outputs": [],
   "source": [
    "\n",
    "df_prac['체중'] = df_test['체중'].apply(lambda x : x[:-4])\n",
    "df_prac[['체중_소수점','체중_정수']] = df_prac['체중'].str.extract(r'(\\d+\\.\\d+)|(\\d+)')\n",
    "df_prac['체중']=  df_prac['체중_소수점'].fillna(df_prac['체중_정수'])\n",
    "\n",
    "df_prac = df_prac.loc[df_prac['체중'].apply(lambda x: x is not np.NaN)]\n",
    "df_prac = df_prac.loc[df_prac['체중'].apply(lambda x: x is not None)]\n",
    "\n",
    "df_prac['체중'] = df_prac['체중'].astype('float')\n"
   ]
  },
  {
   "cell_type": "code",
   "execution_count": 38,
   "id": "d58f4e49",
   "metadata": {},
   "outputs": [
    {
     "data": {
      "text/plain": [
       "0"
      ]
     },
     "execution_count": 38,
     "metadata": {},
     "output_type": "execute_result"
    }
   ],
   "source": [
    "df_prac['체중'].isnull().sum()"
   ]
  },
  {
   "cell_type": "markdown",
   "id": "c3d8ae90",
   "metadata": {},
   "source": [
    "#### 체중 Outlier 처리 --- 💨\n",
    "---"
   ]
  },
  {
   "cell_type": "code",
   "execution_count": 39,
   "id": "84f71e17",
   "metadata": {
    "scrolled": true
   },
   "outputs": [
    {
     "data": {
      "text/plain": [
       "array([ 38.  ,   3.1 ,   5.  , ..., 310.  , 230.  ,  27.66])"
      ]
     },
     "execution_count": 39,
     "metadata": {},
     "output_type": "execute_result"
    }
   ],
   "source": [
    "df_prac['체중'].unique()"
   ]
  },
  {
   "cell_type": "code",
   "execution_count": 40,
   "id": "22902439",
   "metadata": {},
   "outputs": [
    {
     "data": {
      "text/plain": [
       "Int64Index([  3559,  12929,  14164,  14527,  15865,  23510,  24615,  31106,\n",
       "             33483,  39176,\n",
       "            ...\n",
       "            425942, 425943, 426063, 426064, 426083, 426303, 426304, 426308,\n",
       "            426330, 426331],\n",
       "           dtype='int64', length=162)"
      ]
     },
     "execution_count": 40,
     "metadata": {},
     "output_type": "execute_result"
    }
   ],
   "source": [
    "df_prac[df_prac['체중'].apply(lambda x : x >= 100)].index"
   ]
  },
  {
   "cell_type": "code",
   "execution_count": 41,
   "id": "06855766",
   "metadata": {},
   "outputs": [],
   "source": [
    "change_weight_index = df_prac[df_prac['체중'].apply(lambda x : x >= 100)].index"
   ]
  },
  {
   "cell_type": "code",
   "execution_count": 42,
   "id": "527bfd69",
   "metadata": {},
   "outputs": [],
   "source": [
    "new_weight = df_prac.loc[change_weight_index, '체중'].apply(lambda x : x / 1000)"
   ]
  },
  {
   "cell_type": "code",
   "execution_count": 43,
   "id": "574f6b4b",
   "metadata": {},
   "outputs": [],
   "source": [
    "df_prac.loc[change_weight_index, '체중'] = new_weight"
   ]
  },
  {
   "cell_type": "code",
   "execution_count": 44,
   "id": "e64eaa76",
   "metadata": {},
   "outputs": [
    {
     "data": {
      "text/html": [
       "<div>\n",
       "<style scoped>\n",
       "    .dataframe tbody tr th:only-of-type {\n",
       "        vertical-align: middle;\n",
       "    }\n",
       "\n",
       "    .dataframe tbody tr th {\n",
       "        vertical-align: top;\n",
       "    }\n",
       "\n",
       "    .dataframe thead th {\n",
       "        text-align: right;\n",
       "    }\n",
       "</style>\n",
       "<table border=\"1\" class=\"dataframe\">\n",
       "  <thead>\n",
       "    <tr style=\"text-align: right;\">\n",
       "      <th></th>\n",
       "      <th>공고번호</th>\n",
       "      <th>보호소이름</th>\n",
       "      <th>품종</th>\n",
       "      <th>색상</th>\n",
       "      <th>성별</th>\n",
       "      <th>체중</th>\n",
       "      <th>중성화여부</th>\n",
       "      <th>당시의나이</th>\n",
       "      <th>상태</th>\n",
       "      <th>체중_소수점</th>\n",
       "      <th>체중_정수</th>\n",
       "    </tr>\n",
       "  </thead>\n",
       "  <tbody>\n",
       "    <tr>\n",
       "      <th>90784</th>\n",
       "      <td>경기-평택-2018-00509</td>\n",
       "      <td>평택시유기동물보호소</td>\n",
       "      <td>[개] 믹스견</td>\n",
       "      <td>기타</td>\n",
       "      <td>F</td>\n",
       "      <td>20180.323</td>\n",
       "      <td>0</td>\n",
       "      <td>0</td>\n",
       "      <td>종료(입양)</td>\n",
       "      <td>NaN</td>\n",
       "      <td>20180323</td>\n",
       "    </tr>\n",
       "  </tbody>\n",
       "</table>\n",
       "</div>"
      ],
      "text/plain": [
       "                   공고번호       보호소이름       품종  색상 성별         체중 중성화여부  당시의나이  \\\n",
       "90784  경기-평택-2018-00509  평택시유기동물보호소  [개] 믹스견  기타  F  20180.323     0      0   \n",
       "\n",
       "           상태 체중_소수점     체중_정수  \n",
       "90784  종료(입양)    NaN  20180323  "
      ]
     },
     "execution_count": 44,
     "metadata": {},
     "output_type": "execute_result"
    }
   ],
   "source": [
    "df_prac[df_prac['체중'] == 20180.323]"
   ]
  },
  {
   "cell_type": "code",
   "execution_count": 45,
   "id": "8adc1339",
   "metadata": {},
   "outputs": [],
   "source": [
    "df_prac.drop(90784,axis=0, inplace=True)"
   ]
  },
  {
   "cell_type": "code",
   "execution_count": 46,
   "id": "908f4291",
   "metadata": {
    "scrolled": true
   },
   "outputs": [
    {
     "data": {
      "text/plain": [
       "<AxesSubplot:xlabel='체중'>"
      ]
     },
     "execution_count": 46,
     "metadata": {},
     "output_type": "execute_result"
    },
    {
     "data": {
      "image/png": "[encoded data removed]",
      "text/plain": [
       "<Figure size 432x288 with 1 Axes>"
      ]
     },
     "metadata": {},
     "output_type": "display_data"
    }
   ],
   "source": [
    "sns.boxplot('체중', data=df_prac)"
   ]
  },
  {
   "cell_type": "markdown",
   "id": "559bc1c7",
   "metadata": {},
   "source": [
    "##### 체중 범주화 처리 💢\n",
    "---\n",
    "    기준을 찾기"
   ]
  },
  {
   "cell_type": "markdown",
   "id": "5afd9627",
   "metadata": {},
   "source": [
    "### 범주화 하지말자!\n",
    "---\n",
    "\n",
    "count, bin_dividers = np.histogram(df_prac['체중'], bins=5)\n",
    "\n",
    "print(bin_dividers)\n",
    "\n",
    "bin_names = ['소소','소', '중','중중', '대']\n",
    "\n",
    "df_prac['NEW_체중'] = pd.cut(x = df_prac['체중'],\n",
    "                       bins= bin_dividers,\n",
    "                       labels=bin_names,\n",
    "                       include_lowest=True)\n",
    "\n",
    "df_prac['체중'] = df_prac['NEW_체중']\n",
    "df_prac.info()\n",
    "\n",
    "df_prac.drop('NEW_체중', axis=1, inplace=True)\n",
    "\n",
    "df_prac['체중'] = df_prac['체중'].map({'소소':1,'소': 2, '중' : 3 ,'중중': 4,'대': 5})\n",
    "df_prac['체중'].unique()"
   ]
  },
  {
   "cell_type": "code",
   "execution_count": 47,
   "id": "526068b3",
   "metadata": {},
   "outputs": [],
   "source": [
    "# 오예\n",
    "\n",
    "df_prac.to_csv('./Data/#3_체중까지.csv',encoding='cp949')"
   ]
  },
  {
   "cell_type": "markdown",
   "id": "449bc521",
   "metadata": {},
   "source": [
    "---\n",
    "## 성별 💤"
   ]
  },
  {
   "cell_type": "code",
   "execution_count": 48,
   "id": "521d3f9d",
   "metadata": {},
   "outputs": [],
   "source": [
    "df_3 = pd.read_csv('./Data/#3_체중까지.csv',encoding='cp949',index_col=0)"
   ]
  },
  {
   "cell_type": "code",
   "execution_count": 49,
   "id": "0777e2d5",
   "metadata": {},
   "outputs": [
    {
     "data": {
      "text/plain": [
       "array(['M', 'F', 'Q'], dtype=object)"
      ]
     },
     "execution_count": 49,
     "metadata": {},
     "output_type": "execute_result"
    }
   ],
   "source": [
    "df_3['성별'].unique()"
   ]
  },
  {
   "cell_type": "code",
   "execution_count": 50,
   "id": "88a5ddc2",
   "metadata": {},
   "outputs": [],
   "source": [
    "df_3 = df_3.loc[df_3['성별'] != 'Q']\n"
   ]
  },
  {
   "cell_type": "code",
   "execution_count": 51,
   "id": "f497b6cc",
   "metadata": {},
   "outputs": [],
   "source": [
    "df_3['성별'] = pd.Categorical(df_3['성별'])\n",
    "\n",
    "df_3['성별'] = df_3['성별'].map({'M': 0, 'F': 1})"
   ]
  },
  {
   "cell_type": "code",
   "execution_count": 52,
   "id": "836634da",
   "metadata": {},
   "outputs": [
    {
     "data": {
      "text/plain": [
       "[0, 1]\n",
       "Categories (2, int64): [0, 1]"
      ]
     },
     "execution_count": 52,
     "metadata": {},
     "output_type": "execute_result"
    }
   ],
   "source": [
    "df_3['성별'].unique()"
   ]
  },
  {
   "cell_type": "code",
   "execution_count": 53,
   "id": "0561c9b0",
   "metadata": {},
   "outputs": [],
   "source": [
    "df_3.to_csv('./Data/#4_성별까지.csv',encoding='cp949')"
   ]
  },
  {
   "cell_type": "markdown",
   "id": "bc185660",
   "metadata": {},
   "source": [
    "---\n",
    "## 상태 💤\n",
    "---\n",
    "입양 --> 걍 두고 |  y = 1 <br>\n",
    "반환 --> 주인한테 돌아간거 |  drop / no drop <br>\n",
    "미포획 --> 탈주의 가능성 높음 | drop <br>\n",
    "자연사 --> 사망 | y = 자연사 <br>\n",
    "기증 --> 다른 센터나 보호소로 보냄 | drop  <br>\n",
    "안락사 --> 사망 |  y = 안락사 <br>\n",
    "보호중 --> 보호중 |  drop <br>\n",
    "방사 --> 탈주 |  drop "
   ]
  },
  {
   "cell_type": "code",
   "execution_count": 221,
   "id": "166d51a3",
   "metadata": {},
   "outputs": [],
   "source": [
    "df_4 = pd.read_csv('./Data/#4_성별까지.csv',encoding='cp949',index_col=0)"
   ]
  },
  {
   "cell_type": "code",
   "execution_count": 222,
   "id": "9af12729",
   "metadata": {},
   "outputs": [],
   "source": [
    "df_4['상태'] = pd.Categorical(df_4['상태'])"
   ]
  },
  {
   "cell_type": "code",
   "execution_count": 223,
   "id": "47a93f50",
   "metadata": {},
   "outputs": [
    {
     "data": {
      "text/plain": [
       "['종료(입양)', '종료(반환)', '종료(미포획)', '종료(자연사)', '종료(기증)', '종료(안락사)', '보호중', '종료(방사)']\n",
       "Categories (8, object): ['종료(입양)', '종료(반환)', '종료(미포획)', '종료(자연사)', '종료(기증)', '종료(안락사)', '보호중', '종료(방사)']"
      ]
     },
     "execution_count": 223,
     "metadata": {},
     "output_type": "execute_result"
    }
   ],
   "source": [
    "df_4['상태'].unique()"
   ]
  },
  {
   "cell_type": "code",
   "execution_count": 224,
   "id": "f8125244",
   "metadata": {},
   "outputs": [],
   "source": [
    "df_4['옵션'] = df_4['상태'].str.split('(',expand= True)[1]"
   ]
  },
  {
   "cell_type": "code",
   "execution_count": 225,
   "id": "690ffd6d",
   "metadata": {},
   "outputs": [
    {
     "name": "stderr",
     "output_type": "stream",
     "text": [
      "<ipython-input-225-df4db5bd8187>:1: FutureWarning: The default value of regex will change from True to False in a future version. In addition, single character regular expressions will*not* be treated as literal strings when regex=True.\n",
      "  df_4['옵션'] = df_4['옵션'].str.replace(')','')\n"
     ]
    }
   ],
   "source": [
    "df_4['옵션'] = df_4['옵션'].str.replace(')','')"
   ]
  },
  {
   "cell_type": "code",
   "execution_count": 226,
   "id": "dcd6dcc9",
   "metadata": {},
   "outputs": [],
   "source": [
    "df_4['옵션1'] = df_4['상태'].str.split('(',expand=True)[0]"
   ]
  },
  {
   "cell_type": "code",
   "execution_count": 227,
   "id": "aa5f3b8f",
   "metadata": {},
   "outputs": [],
   "source": [
    "df_4['상태'] = df_4['옵션'].fillna(df_4['옵션1'])"
   ]
  },
  {
   "cell_type": "code",
   "execution_count": 228,
   "id": "56d55360",
   "metadata": {},
   "outputs": [
    {
     "data": {
      "text/plain": [
       "array(['입양', '반환', '미포획', '자연사', '기증', '안락사', '보호중', '방사'], dtype=object)"
      ]
     },
     "execution_count": 228,
     "metadata": {},
     "output_type": "execute_result"
    }
   ],
   "source": [
    "df_4['상태'].unique()"
   ]
  },
  {
   "cell_type": "code",
   "execution_count": 229,
   "id": "0666419e",
   "metadata": {},
   "outputs": [],
   "source": [
    "df_4.drop(['체중_소수점','체중_정수','옵션','옵션1'],axis=1,inplace=True)"
   ]
  },
  {
   "cell_type": "code",
   "execution_count": 230,
   "id": "93730cd8",
   "metadata": {
    "scrolled": true
   },
   "outputs": [
    {
     "data": {
      "text/plain": [
       "array(['입양', '반환', '미포획', '자연사', '기증', '안락사', '보호중', '방사'], dtype=object)"
      ]
     },
     "execution_count": 230,
     "metadata": {},
     "output_type": "execute_result"
    }
   ],
   "source": [
    "df_4['상태'].unique()"
   ]
  },
  {
   "cell_type": "code",
   "execution_count": 231,
   "id": "3c695849",
   "metadata": {},
   "outputs": [
    {
     "data": {
      "text/html": [
       "<div>\n",
       "<style scoped>\n",
       "    .dataframe tbody tr th:only-of-type {\n",
       "        vertical-align: middle;\n",
       "    }\n",
       "\n",
       "    .dataframe tbody tr th {\n",
       "        vertical-align: top;\n",
       "    }\n",
       "\n",
       "    .dataframe thead th {\n",
       "        text-align: right;\n",
       "    }\n",
       "</style>\n",
       "<table border=\"1\" class=\"dataframe\">\n",
       "  <thead>\n",
       "    <tr style=\"text-align: right;\">\n",
       "      <th></th>\n",
       "      <th>공고번호</th>\n",
       "      <th>보호소이름</th>\n",
       "      <th>품종</th>\n",
       "      <th>색상</th>\n",
       "      <th>성별</th>\n",
       "      <th>체중</th>\n",
       "      <th>중성화여부</th>\n",
       "      <th>당시의나이</th>\n",
       "      <th>상태</th>\n",
       "    </tr>\n",
       "  </thead>\n",
       "  <tbody>\n",
       "    <tr>\n",
       "      <th>4</th>\n",
       "      <td>전남-여수-2017-00002</td>\n",
       "      <td>유기동물보호소</td>\n",
       "      <td>[개] 말티즈</td>\n",
       "      <td>흰색</td>\n",
       "      <td>0</td>\n",
       "      <td>1.4</td>\n",
       "      <td>0</td>\n",
       "      <td>2</td>\n",
       "      <td>반환</td>\n",
       "    </tr>\n",
       "    <tr>\n",
       "      <th>6</th>\n",
       "      <td>충남-천안-2017-00028</td>\n",
       "      <td>천안시유기동물보호소</td>\n",
       "      <td>[개] 포메라니안</td>\n",
       "      <td>블랙탄</td>\n",
       "      <td>0</td>\n",
       "      <td>3.0</td>\n",
       "      <td>0</td>\n",
       "      <td>4</td>\n",
       "      <td>미포획</td>\n",
       "    </tr>\n",
       "    <tr>\n",
       "      <th>7</th>\n",
       "      <td>충남-천안-2017-00027</td>\n",
       "      <td>천안시유기동물보호소</td>\n",
       "      <td>[개] 시츄</td>\n",
       "      <td>브라운</td>\n",
       "      <td>1</td>\n",
       "      <td>4.0</td>\n",
       "      <td>0</td>\n",
       "      <td>1</td>\n",
       "      <td>미포획</td>\n",
       "    </tr>\n",
       "    <tr>\n",
       "      <th>9</th>\n",
       "      <td>충남-천안-2017-00025</td>\n",
       "      <td>천안시유기동물보호소</td>\n",
       "      <td>[개] 골든 리트리버</td>\n",
       "      <td>골든색</td>\n",
       "      <td>0</td>\n",
       "      <td>40.0</td>\n",
       "      <td>0</td>\n",
       "      <td>1</td>\n",
       "      <td>반환</td>\n",
       "    </tr>\n",
       "    <tr>\n",
       "      <th>11</th>\n",
       "      <td>충남-천안-2017-00023</td>\n",
       "      <td>천안시유기동물보호소</td>\n",
       "      <td>[개] 믹스견</td>\n",
       "      <td>흰베이지</td>\n",
       "      <td>1</td>\n",
       "      <td>0.5</td>\n",
       "      <td>0</td>\n",
       "      <td>0</td>\n",
       "      <td>미포획</td>\n",
       "    </tr>\n",
       "    <tr>\n",
       "      <th>...</th>\n",
       "      <td>...</td>\n",
       "      <td>...</td>\n",
       "      <td>...</td>\n",
       "      <td>...</td>\n",
       "      <td>...</td>\n",
       "      <td>...</td>\n",
       "      <td>...</td>\n",
       "      <td>...</td>\n",
       "      <td>...</td>\n",
       "    </tr>\n",
       "    <tr>\n",
       "      <th>428797</th>\n",
       "      <td>경북-포항-2021-01148</td>\n",
       "      <td>영일동물플러스</td>\n",
       "      <td>[개] 믹스견</td>\n",
       "      <td>흑황백</td>\n",
       "      <td>1</td>\n",
       "      <td>1.3</td>\n",
       "      <td>0</td>\n",
       "      <td>0</td>\n",
       "      <td>보호중</td>\n",
       "    </tr>\n",
       "    <tr>\n",
       "      <th>428798</th>\n",
       "      <td>충남-청양-2021-00096</td>\n",
       "      <td>청양보호소</td>\n",
       "      <td>[개] 푸들</td>\n",
       "      <td>회색</td>\n",
       "      <td>0</td>\n",
       "      <td>3.0</td>\n",
       "      <td>0</td>\n",
       "      <td>1</td>\n",
       "      <td>보호중</td>\n",
       "    </tr>\n",
       "    <tr>\n",
       "      <th>428799</th>\n",
       "      <td>경기-화성-2021-01373</td>\n",
       "      <td>남양유기견보호센터</td>\n",
       "      <td>[개] 말티즈</td>\n",
       "      <td>흰색</td>\n",
       "      <td>1</td>\n",
       "      <td>5.0</td>\n",
       "      <td>1</td>\n",
       "      <td>4</td>\n",
       "      <td>보호중</td>\n",
       "    </tr>\n",
       "    <tr>\n",
       "      <th>428800</th>\n",
       "      <td>경북-상주-2021-00513</td>\n",
       "      <td>상주유기동물보호센터</td>\n",
       "      <td>[개] 믹스견</td>\n",
       "      <td>흰</td>\n",
       "      <td>1</td>\n",
       "      <td>8.0</td>\n",
       "      <td>1</td>\n",
       "      <td>0</td>\n",
       "      <td>보호중</td>\n",
       "    </tr>\n",
       "    <tr>\n",
       "      <th>428801</th>\n",
       "      <td>경북-울릉-2021-00007</td>\n",
       "      <td>울릉군농업기술센터</td>\n",
       "      <td>[개] 믹스견</td>\n",
       "      <td>황색</td>\n",
       "      <td>1</td>\n",
       "      <td>4.5</td>\n",
       "      <td>0</td>\n",
       "      <td>2</td>\n",
       "      <td>보호중</td>\n",
       "    </tr>\n",
       "  </tbody>\n",
       "</table>\n",
       "<p>290319 rows × 9 columns</p>\n",
       "</div>"
      ],
      "text/plain": [
       "                    공고번호       보호소이름           품종    색상  성별    체중  중성화여부  \\\n",
       "4       전남-여수-2017-00002     유기동물보호소      [개] 말티즈    흰색   0   1.4      0   \n",
       "6       충남-천안-2017-00028  천안시유기동물보호소    [개] 포메라니안   블랙탄   0   3.0      0   \n",
       "7       충남-천안-2017-00027  천안시유기동물보호소       [개] 시츄   브라운   1   4.0      0   \n",
       "9       충남-천안-2017-00025  천안시유기동물보호소  [개] 골든 리트리버   골든색   0  40.0      0   \n",
       "11      충남-천안-2017-00023  천안시유기동물보호소      [개] 믹스견  흰베이지   1   0.5      0   \n",
       "...                  ...         ...          ...   ...  ..   ...    ...   \n",
       "428797  경북-포항-2021-01148     영일동물플러스      [개] 믹스견   흑황백   1   1.3      0   \n",
       "428798  충남-청양-2021-00096       청양보호소       [개] 푸들    회색   0   3.0      0   \n",
       "428799  경기-화성-2021-01373   남양유기견보호센터      [개] 말티즈    흰색   1   5.0      1   \n",
       "428800  경북-상주-2021-00513  상주유기동물보호센터      [개] 믹스견     흰   1   8.0      1   \n",
       "428801  경북-울릉-2021-00007   울릉군농업기술센터      [개] 믹스견    황색   1   4.5      0   \n",
       "\n",
       "        당시의나이   상태  \n",
       "4           2   반환  \n",
       "6           4  미포획  \n",
       "7           1  미포획  \n",
       "9           1   반환  \n",
       "11          0  미포획  \n",
       "...       ...  ...  \n",
       "428797      0  보호중  \n",
       "428798      1  보호중  \n",
       "428799      4  보호중  \n",
       "428800      0  보호중  \n",
       "428801      2  보호중  \n",
       "\n",
       "[290319 rows x 9 columns]"
      ]
     },
     "execution_count": 231,
     "metadata": {},
     "output_type": "execute_result"
    }
   ],
   "source": [
    "df_4[df_4['상태'] != '입양']"
   ]
  },
  {
   "cell_type": "code",
   "execution_count": 232,
   "id": "f8c984bf",
   "metadata": {},
   "outputs": [],
   "source": [
    "# 쓸모없는 상태를 버리고 \n",
    "\n",
    "df_4 = df_4[(df_4['상태'] != '방사' ) & (df_4['상태'] != '미포획') & (df_4['상태'] != '반환') & (df_4['상태'] != '기증') & (df_4['상태'] != '보호중')]\n",
    "df_4['상태'].unique()\n",
    "# 상태를 두 분류로 나눈다.\n",
    "\n",
    "df_4.loc[df_4['상태'] != '입양','상태'] = '입양아님'"
   ]
  },
  {
   "cell_type": "code",
   "execution_count": 233,
   "id": "6446b79b",
   "metadata": {},
   "outputs": [
    {
     "data": {
      "text/html": [
       "<div>\n",
       "<style scoped>\n",
       "    .dataframe tbody tr th:only-of-type {\n",
       "        vertical-align: middle;\n",
       "    }\n",
       "\n",
       "    .dataframe tbody tr th {\n",
       "        vertical-align: top;\n",
       "    }\n",
       "\n",
       "    .dataframe thead th {\n",
       "        text-align: right;\n",
       "    }\n",
       "</style>\n",
       "<table border=\"1\" class=\"dataframe\">\n",
       "  <thead>\n",
       "    <tr style=\"text-align: right;\">\n",
       "      <th></th>\n",
       "      <th>공고번호</th>\n",
       "      <th>보호소이름</th>\n",
       "      <th>품종</th>\n",
       "      <th>색상</th>\n",
       "      <th>성별</th>\n",
       "      <th>체중</th>\n",
       "      <th>중성화여부</th>\n",
       "      <th>당시의나이</th>\n",
       "      <th>상태</th>\n",
       "    </tr>\n",
       "  </thead>\n",
       "  <tbody>\n",
       "    <tr>\n",
       "      <th>0</th>\n",
       "      <td>서울-양천-2017-00001</td>\n",
       "      <td>강현림동물병원</td>\n",
       "      <td>[개] 골든 리트리버</td>\n",
       "      <td>갈색</td>\n",
       "      <td>0</td>\n",
       "      <td>38.0</td>\n",
       "      <td>0</td>\n",
       "      <td>5</td>\n",
       "      <td>0</td>\n",
       "    </tr>\n",
       "    <tr>\n",
       "      <th>1</th>\n",
       "      <td>서울-중랑-2017-00003</td>\n",
       "      <td>한국동물구조관리협회</td>\n",
       "      <td>[개] 푸들</td>\n",
       "      <td>갈</td>\n",
       "      <td>0</td>\n",
       "      <td>3.1</td>\n",
       "      <td>0</td>\n",
       "      <td>4</td>\n",
       "      <td>0</td>\n",
       "    </tr>\n",
       "  </tbody>\n",
       "</table>\n",
       "</div>"
      ],
      "text/plain": [
       "               공고번호       보호소이름           품종  색상  성별    체중  중성화여부  당시의나이 상태\n",
       "0  서울-양천-2017-00001     강현림동물병원  [개] 골든 리트리버  갈색   0  38.0      0      5  0\n",
       "1  서울-중랑-2017-00003  한국동물구조관리협회       [개] 푸들   갈   0   3.1      0      4  0"
      ]
     },
     "execution_count": 233,
     "metadata": {},
     "output_type": "execute_result"
    }
   ],
   "source": [
    "# 그리고 카테고리화 하고 / 1,0 으로 바꾸기\n",
    "df_4['상태'] = pd.Categorical(df_4['상태'])\n",
    "df_4['상태'] = df_4['상태'].map({'입양': 0, '입양아님' : 1})\n",
    "\n",
    "df_4.head(2)"
   ]
  },
  {
   "cell_type": "code",
   "execution_count": 317,
   "id": "6c7331ca",
   "metadata": {},
   "outputs": [
    {
     "data": {
      "text/plain": [
       "1    195337\n",
       "0    132472\n",
       "Name: 상태, dtype: int64"
      ]
     },
     "execution_count": 317,
     "metadata": {},
     "output_type": "execute_result"
    }
   ],
   "source": [
    "df_4['상태'].value_counts(0)"
   ]
  },
  {
   "cell_type": "code",
   "execution_count": 234,
   "id": "bace66c2",
   "metadata": {},
   "outputs": [
    {
     "data": {
      "text/plain": [
       "[0, 1]\n",
       "Categories (2, int64): [0, 1]"
      ]
     },
     "execution_count": 234,
     "metadata": {},
     "output_type": "execute_result"
    }
   ],
   "source": [
    "df_4['상태'].unique()"
   ]
  },
  {
   "cell_type": "code",
   "execution_count": 235,
   "id": "b4971f8c",
   "metadata": {},
   "outputs": [],
   "source": [
    "df_4.to_csv('./Data/#5_상태까지.csv',encoding='cp949')"
   ]
  },
  {
   "cell_type": "markdown",
   "id": "9fee09ea",
   "metadata": {},
   "source": [
    "---\n",
    "## 종 💤"
   ]
  },
  {
   "cell_type": "markdown",
   "id": "3a5f210a",
   "metadata": {},
   "source": [
    "## 가져온 종류와 기존의 DATASET 비교 💔\n",
    "---"
   ]
  },
  {
   "cell_type": "code",
   "execution_count": 236,
   "id": "f43c57a0",
   "metadata": {},
   "outputs": [],
   "source": [
    "df_kinds = pd.read_csv('./Data/#5_상태까지.csv',encoding='cp949',index_col=0)\n",
    "\n",
    "kinds = pd.read_csv('./Data/바보.csv',encoding='cp949',index_col=0)\n"
   ]
  },
  {
   "cell_type": "code",
   "execution_count": 237,
   "id": "9719f182",
   "metadata": {},
   "outputs": [],
   "source": [
    "df_kinds['품종'] = df_kinds['품종'].apply(lambda x : x[4:])"
   ]
  },
  {
   "cell_type": "code",
   "execution_count": 238,
   "id": "6c7c636d",
   "metadata": {},
   "outputs": [],
   "source": [
    "kinds_list = np.array(kinds['0'].tolist())\n",
    "kinds_list = kinds_list.tolist()"
   ]
  },
  {
   "cell_type": "code",
   "execution_count": 239,
   "id": "2c521e5d",
   "metadata": {},
   "outputs": [],
   "source": [
    "for i in range(len(kinds_list)):\n",
    "    kinds_list[i] = kinds_list[i].replace(' ','')"
   ]
  },
  {
   "cell_type": "code",
   "execution_count": 240,
   "id": "cf828042",
   "metadata": {},
   "outputs": [],
   "source": [
    "kinds_list.append('골든리트리버')"
   ]
  },
  {
   "cell_type": "code",
   "execution_count": 241,
   "id": "5dd44104",
   "metadata": {},
   "outputs": [],
   "source": [
    "'''공백을 없애자'''\n",
    "\n",
    "df_kinds['품종'] = df_kinds['품종'].str.replace(' ','')\n"
   ]
  },
  {
   "cell_type": "code",
   "execution_count": 242,
   "id": "f0f46b50",
   "metadata": {},
   "outputs": [],
   "source": [
    "''' 믹스견을 처리하자 '''\n",
    "\n",
    "mixed_index = df_kinds[df_kinds['품종'].str.contains('혼합|혼종|잡종|mix|믹스|믹스견|&|잡견|혼혈')].index\n",
    "df_kinds.loc[mixed_index,'품종']='믹스견'"
   ]
  },
  {
   "cell_type": "markdown",
   "id": "2c247122",
   "metadata": {},
   "source": [
    "#### 종류_list에 안 속해있는 놈들 ❌\n",
    "---"
   ]
  },
  {
   "cell_type": "code",
   "execution_count": 243,
   "id": "8b5db6f6",
   "metadata": {},
   "outputs": [],
   "source": [
    "df_kinds_error = df_kinds[df_kinds['품종'].apply(lambda x : x in kinds_list) == False]"
   ]
  },
  {
   "cell_type": "markdown",
   "id": "30233efd",
   "metadata": {},
   "source": [
    "##### 수가 10개 이상인 품종을 찾자"
   ]
  },
  {
   "cell_type": "code",
   "execution_count": 244,
   "id": "8e5244db",
   "metadata": {},
   "outputs": [],
   "source": [
    "value_10_over = pd.DataFrame(df_kinds_error['품종'].value_counts() > 10)"
   ]
  },
  {
   "cell_type": "code",
   "execution_count": 245,
   "id": "16209952",
   "metadata": {},
   "outputs": [],
   "source": [
    "value_true = value_10_over[value_10_over['품종']== True]"
   ]
  },
  {
   "cell_type": "code",
   "execution_count": 250,
   "id": "6c3ce163",
   "metadata": {},
   "outputs": [
    {
     "data": {
      "text/plain": [
       "['발바리',\n",
       " '폼피츠',\n",
       " '발발이',\n",
       " '래브라도리트리버',\n",
       " '미니핀',\n",
       " '들개',\n",
       " '허스키',\n",
       " '진도',\n",
       " '재래종',\n",
       " '비숑',\n",
       " '리트리버',\n",
       " '말티푸',\n",
       " '레브라도리트리버',\n",
       " '풍산개',\n",
       " '사냥개']"
      ]
     },
     "execution_count": 250,
     "metadata": {},
     "output_type": "execute_result"
    }
   ],
   "source": [
    "value_true"
   ]
  },
  {
   "cell_type": "markdown",
   "id": "9a94a8b3",
   "metadata": {},
   "source": [
    "##### 기존에 가지고 있는 list랑 이름을 맞춰주자"
   ]
  },
  {
   "cell_type": "code",
   "execution_count": 246,
   "id": "52ff9055",
   "metadata": {},
   "outputs": [],
   "source": [
    "value_true = value_true.index.tolist()"
   ]
  },
  {
   "cell_type": "code",
   "execution_count": 247,
   "id": "6ba4ab2e",
   "metadata": {},
   "outputs": [],
   "source": [
    "value_check = pd.read_excel('./Data/아아.xlsx')\n",
    "value_check = value_check[0].tolist()"
   ]
  },
  {
   "cell_type": "code",
   "execution_count": 248,
   "id": "be29a9b8",
   "metadata": {},
   "outputs": [],
   "source": [
    "value_final = []\n",
    "\n",
    "for i in range(len(value_check)):\n",
    "    value_final.append(value_check[i])"
   ]
  },
  {
   "cell_type": "code",
   "execution_count": 249,
   "id": "6a8aface",
   "metadata": {},
   "outputs": [
    {
     "data": {
      "text/plain": [
       "['발바리',\n",
       " '폼피츠',\n",
       " '발바리',\n",
       " '라브라도리트리버',\n",
       " '미니어처핀셔',\n",
       " '들개',\n",
       " '시베리안허스키',\n",
       " '진도견',\n",
       " '비숑프리제',\n",
       " 0,\n",
       " 0,\n",
       " '믹스견',\n",
       " 0,\n",
       " '사냥개',\n",
       " '라브라도리트리버']"
      ]
     },
     "execution_count": 249,
     "metadata": {},
     "output_type": "execute_result"
    }
   ],
   "source": [
    "value_final"
   ]
  },
  {
   "cell_type": "code",
   "execution_count": 251,
   "id": "62c810b9",
   "metadata": {},
   "outputs": [],
   "source": [
    "for i in range(len(value_final)):\n",
    "    if value_final[i] == 0:\n",
    "        value_final[i] = '바보'"
   ]
  },
  {
   "cell_type": "code",
   "execution_count": 254,
   "id": "1be5d618",
   "metadata": {},
   "outputs": [],
   "source": [
    "df_kinds_error = df_kinds_error[df_kinds_error['품종'].apply(lambda x : x in value_true)]"
   ]
  },
  {
   "cell_type": "code",
   "execution_count": 255,
   "id": "c15963c5",
   "metadata": {},
   "outputs": [
    {
     "data": {
      "text/plain": [
       "발바리         586\n",
       "폼피츠          37\n",
       "발발이          35\n",
       "래브라도리트리버     27\n",
       "미니핀          25\n",
       "들개           24\n",
       "허스키          20\n",
       "진도           14\n",
       "비숑           13\n",
       "재래종          13\n",
       "리트리버         12\n",
       "말티푸          12\n",
       "풍산개          11\n",
       "사냥개          11\n",
       "레브라도리트리버     11\n",
       "Name: 품종, dtype: int64"
      ]
     },
     "execution_count": 255,
     "metadata": {},
     "output_type": "execute_result"
    }
   ],
   "source": [
    "df_kinds_error['품종'].value_counts()"
   ]
  },
  {
   "cell_type": "code",
   "execution_count": 256,
   "id": "9bded4f5",
   "metadata": {},
   "outputs": [],
   "source": [
    "for i in range(len(value_final)):\n",
    "#     df_kinds_error['품종'] = df_kinds_error['품종'].str.replace(value_true[i],value_final[i])\n",
    "    df_kinds_error.loc[df_kinds_error['품종']==value_true[i],'품종'] = value_final[i]\n"
   ]
  },
  {
   "cell_type": "code",
   "execution_count": 257,
   "id": "9bc10923",
   "metadata": {},
   "outputs": [],
   "source": [
    "df_kinds_error = df_kinds_error.loc[df_kinds_error['품종'] != '바보']"
   ]
  },
  {
   "cell_type": "code",
   "execution_count": 258,
   "id": "667a9ff5",
   "metadata": {
    "scrolled": true
   },
   "outputs": [
    {
     "data": {
      "text/plain": [
       "발바리         621\n",
       "라브라도리트리버     49\n",
       "폼피츠          37\n",
       "미니어처핀셔       25\n",
       "들개           24\n",
       "시베리안허스키      20\n",
       "진도견          14\n",
       "비숑프리제        13\n",
       "믹스견          12\n",
       "Name: 품종, dtype: int64"
      ]
     },
     "execution_count": 258,
     "metadata": {},
     "output_type": "execute_result"
    }
   ],
   "source": [
    "df_kinds_error['품종'].value_counts()"
   ]
  },
  {
   "cell_type": "markdown",
   "id": "66356380",
   "metadata": {},
   "source": [
    "#### 종류 list에 속해있는 놈들 ⭕\n",
    "---"
   ]
  },
  {
   "cell_type": "code",
   "execution_count": 259,
   "id": "87d3a494",
   "metadata": {},
   "outputs": [],
   "source": [
    "df_kinds_true = df_kinds[df_kinds['품종'].apply(lambda x : x in kinds_list) == True]"
   ]
  },
  {
   "cell_type": "code",
   "execution_count": 260,
   "id": "0ceeb95b",
   "metadata": {},
   "outputs": [
    {
     "data": {
      "text/plain": [
       "326665"
      ]
     },
     "execution_count": 260,
     "metadata": {},
     "output_type": "execute_result"
    }
   ],
   "source": [
    "len(df_kinds_true)"
   ]
  },
  {
   "cell_type": "code",
   "execution_count": 264,
   "id": "9439ad05",
   "metadata": {},
   "outputs": [
    {
     "data": {
      "text/plain": [
       "array(['믹스견', '푸들', '말티즈', '진도견', '포메라니안', '시츄', '스피츠', '요크셔테리어', '치와와',\n",
       "       '닥스훈트', '라브라도리트리버', '골든리트리버', '코카스파니엘', '웰시코기펨브로크', '미니어쳐핀셔',\n",
       "       '프렌치불독', '시베리안허스키', '슈나우져', '비글', '비숑프리제', '보스턴테리어', '보더콜리', '퍼그',\n",
       "       '페키니즈', '불독', '포인터', '셰퍼드', '시바', '삽살개', '말라뮤트', '사모예드', '풍산견',\n",
       "       '핏불테리어', '그레이하운드', '차우차우', '샤페이', '그레이트피레니즈', '기타', '도사',\n",
       "       '웰시코기카디건', '알라스칸말라뮤트', '미니어쳐푸들', '토이푸들', '도베르만', '미텔스피츠',\n",
       "       '이탈리안그레이하운드', '올드잉글리쉬쉽독', '달마시안', '브리타니스파니엘', '셔틀랜드쉽독', '스탠다드푸들',\n",
       "       '로트와일러', '잉글리쉬세터', '베들링턴테리어', '마리노이즈', '라이카', '아메리칸불리', '케인코르소',\n",
       "       '콜리', '불테리어', '아메리칸코카스파니엘', '아키다', '빠삐용', '캐벌리어킹찰스스파니엘', '잉글리쉬포인터',\n",
       "       '제페니즈칭', '잭러셀테리어', '바셋하운드', '동경견', '화이트테리어', '저먼포인터', '잉글리쉬코카스파니엘',\n",
       "       '바센지', '올드잉글리쉬불독', '아프간하운드', '저먼셰퍼드독', '재패니즈스피츠', '그레이트덴', '미디엄푸들',\n",
       "       '휘펫', '미니어쳐슈나우저', '폭스테리어', '아이리쉬세터', '복서', '페터데일테리어', '아메리칸핏불테리어',\n",
       "       '보르조이', '벨기에그로넨달', '아메리칸불독', '도고아르젠티노', '스코티쉬테리어', '버니즈마운틴독',\n",
       "       '세인트버나드', '티베탄마스티프', '시베리안라이카', '울프독', '스태퍼드셔불테리어', '오브차카',\n",
       "       '벨기에쉽독', '벨지안셰퍼드독', '마스티프', '아메리칸스태퍼드셔테리어', '플랫코티드리트리버', '아메리칸아키다',\n",
       "       '카이훗', '잉글리쉬스프링거스파니엘', '와이어폭스테리어', '와이마라너', '스코티시디어하운드', '라사압소',\n",
       "       '노리치테리어', '미니어쳐닥스훈트', '저먼와이어헤어드포인터', '코리아트라이하운드', '제주개',\n",
       "       '피레니안마운틴독', '아이리쉬울프하운드', '비즐라', '오스트랄리안셰퍼드독', '래빗닥스훈드', '화이트리트리버',\n",
       "       '프레사까나리오', '코카푸', '웨스트하이랜드화이트테리어', '프렌치브리타니', '풀리', '살루키',\n",
       "       '맨체스터테리어', '플롯하운드', '케언테리어', '도고까니리오', '실키테리어', '웰시테리어', '뉴펀들랜드',\n",
       "       '노르포크테리어', '자이언트슈나우져', '시코쿠', '에어델테리어', '카레리안베어독', '케니스펜더',\n",
       "       '시잉프랑세즈', '블랙테리어', '아이리쉬레드앤화이트세터', '랫테리어', '볼로네즈', '레이크랜드테리어',\n",
       "       '케리블루테리어', '파라오하운드', '꼬똥드뚤레아', '웨스트시베리언라이카', '파슨러셀테리어',\n",
       "       '오스트랄리안캐틀독', '필라브라질레이로', '벨기에테뷰런', '클라인스피츠', '코카시안오브차카'],\n",
       "      dtype=object)"
      ]
     },
     "execution_count": 264,
     "metadata": {},
     "output_type": "execute_result"
    }
   ],
   "source": [
    "df_kinds_true['품종'].value_counts().index.values"
   ]
  },
  {
   "cell_type": "markdown",
   "id": "91f59c44",
   "metadata": {},
   "source": [
    "##### 최종 종류를 합쳐보자! 💫\n",
    "---"
   ]
  },
  {
   "cell_type": "code",
   "execution_count": 265,
   "id": "d733287b",
   "metadata": {},
   "outputs": [],
   "source": [
    "df_6 = pd.concat([df_kinds_true,df_kinds_error])\n",
    "# df_6['품종'] = df_6['품종'].str.replace('진도견견','진도견')"
   ]
  },
  {
   "cell_type": "code",
   "execution_count": 269,
   "id": "a4d90bec",
   "metadata": {},
   "outputs": [
    {
     "data": {
      "text/plain": [
       "160"
      ]
     },
     "execution_count": 269,
     "metadata": {},
     "output_type": "execute_result"
    }
   ],
   "source": [
    "len(list(df_6['품종'].value_counts().index.values))"
   ]
  },
  {
   "cell_type": "code",
   "execution_count": 277,
   "id": "c5339401",
   "metadata": {
    "scrolled": true
   },
   "outputs": [
    {
     "data": {
      "text/html": [
       "<div>\n",
       "<style scoped>\n",
       "    .dataframe tbody tr th:only-of-type {\n",
       "        vertical-align: middle;\n",
       "    }\n",
       "\n",
       "    .dataframe tbody tr th {\n",
       "        vertical-align: top;\n",
       "    }\n",
       "\n",
       "    .dataframe thead th {\n",
       "        text-align: right;\n",
       "    }\n",
       "</style>\n",
       "<table border=\"1\" class=\"dataframe\">\n",
       "  <thead>\n",
       "    <tr style=\"text-align: right;\">\n",
       "      <th></th>\n",
       "      <th>분류</th>\n",
       "    </tr>\n",
       "  </thead>\n",
       "  <tbody>\n",
       "    <tr>\n",
       "      <th>골든리트리버</th>\n",
       "      <td>sporting</td>\n",
       "    </tr>\n",
       "  </tbody>\n",
       "</table>\n",
       "</div>"
      ],
      "text/plain": [
       "              분류\n",
       "골든리트리버  sporting"
      ]
     },
     "execution_count": 277,
     "metadata": {},
     "output_type": "execute_result"
    }
   ],
   "source": [
    "types = pd.read_csv('./Data/종분류.csv', encoding = 'cp949', index_col = 0)\n",
    "types.head(1)"
   ]
  },
  {
   "cell_type": "code",
   "execution_count": 278,
   "id": "61937581",
   "metadata": {},
   "outputs": [
    {
     "data": {
      "text/plain": [
       "160"
      ]
     },
     "execution_count": 278,
     "metadata": {},
     "output_type": "execute_result"
    }
   ],
   "source": [
    "len(types)"
   ]
  },
  {
   "cell_type": "code",
   "execution_count": 279,
   "id": "3f480d7e",
   "metadata": {},
   "outputs": [
    {
     "data": {
      "text/plain": [
       "'골든리트리버'"
      ]
     },
     "execution_count": 279,
     "metadata": {},
     "output_type": "execute_result"
    }
   ],
   "source": [
    "types.index[0]"
   ]
  },
  {
   "cell_type": "code",
   "execution_count": 280,
   "id": "baa490e7",
   "metadata": {},
   "outputs": [
    {
     "data": {
      "text/plain": [
       "'sporting'"
      ]
     },
     "execution_count": 280,
     "metadata": {},
     "output_type": "execute_result"
    }
   ],
   "source": [
    "types['분류'][0]"
   ]
  },
  {
   "cell_type": "code",
   "execution_count": 281,
   "id": "0e37e085",
   "metadata": {},
   "outputs": [],
   "source": [
    "for i in range(len(types)) : \n",
    "    df_6.loc[df_6['품종'] == types.index[i],'품종'] = types['분류'][i]"
   ]
  },
  {
   "cell_type": "code",
   "execution_count": 282,
   "id": "5a152842",
   "metadata": {
    "scrolled": false
   },
   "outputs": [
    {
     "data": {
      "text/plain": [
       "array(['sporting', 'non-sporting', 'mix', 'toy', 'terrier', 'working',\n",
       "       'foundation stock service', 'hound', 'herding', '기타'], dtype=object)"
      ]
     },
     "execution_count": 282,
     "metadata": {},
     "output_type": "execute_result"
    }
   ],
   "source": [
    "df_6['품종'].unique()"
   ]
  },
  {
   "cell_type": "code",
   "execution_count": 283,
   "id": "fab28718",
   "metadata": {},
   "outputs": [
    {
     "name": "stdout",
     "output_type": "stream",
     "text": [
      "인코딩 변환값 :  [5 4 3 7 6 8 0 2 1 9]\n"
     ]
    }
   ],
   "source": [
    "from sklearn.preprocessing import LabelEncoder\n",
    "\n",
    "encoder = LabelEncoder()\n",
    "encoder.fit(df_6['품종'].unique())\n",
    "\n",
    "labels = encoder.transform(df_6['품종'].unique())\n",
    "\n",
    "print('인코딩 변환값 : ', labels)"
   ]
  },
  {
   "cell_type": "code",
   "execution_count": 284,
   "id": "727b9214",
   "metadata": {},
   "outputs": [
    {
     "data": {
      "text/plain": [
       "array([5, 4, 3, 7, 6, 8, 0, 2, 1, 9])"
      ]
     },
     "execution_count": 284,
     "metadata": {},
     "output_type": "execute_result"
    }
   ],
   "source": [
    "labels"
   ]
  },
  {
   "cell_type": "code",
   "execution_count": 288,
   "id": "a4315f52",
   "metadata": {},
   "outputs": [
    {
     "name": "stdout",
     "output_type": "stream",
     "text": [
      "디코딩 변환 값 : ['mix']\n"
     ]
    }
   ],
   "source": [
    "# 디코딩 변환값\n",
    "\n",
    "print('디코딩 변환 값 :' , encoder.inverse_transform([3]))"
   ]
  },
  {
   "cell_type": "code",
   "execution_count": 286,
   "id": "49c1681d",
   "metadata": {},
   "outputs": [],
   "source": [
    "품종_고유값 = df_6['품종'].unique()"
   ]
  },
  {
   "cell_type": "code",
   "execution_count": 287,
   "id": "60036137",
   "metadata": {},
   "outputs": [
    {
     "name": "stdout",
     "output_type": "stream",
     "text": [
      "<class 'pandas.core.frame.DataFrame'>\n",
      "Int64Index: 327480 entries, 0 to 418381\n",
      "Data columns (total 9 columns):\n",
      " #   Column  Non-Null Count   Dtype   \n",
      "---  ------  --------------   -----   \n",
      " 0   공고번호    327480 non-null  object  \n",
      " 1   보호소이름   327480 non-null  object  \n",
      " 2   품종      327480 non-null  category\n",
      " 3   색상      327471 non-null  object  \n",
      " 4   성별      327480 non-null  int64   \n",
      " 5   체중      327480 non-null  float64 \n",
      " 6   중성화여부   327480 non-null  int64   \n",
      " 7   당시의나이   327480 non-null  int64   \n",
      " 8   상태      327480 non-null  int64   \n",
      "dtypes: category(1), float64(1), int64(4), object(3)\n",
      "memory usage: 22.8+ MB\n"
     ]
    }
   ],
   "source": [
    "# category 화 \n",
    "\n",
    "df_6['품종'] = pd.Categorical(df_6['품종'])\n",
    "df_6.info()"
   ]
  },
  {
   "cell_type": "code",
   "execution_count": 289,
   "id": "d0a7ba70",
   "metadata": {},
   "outputs": [],
   "source": [
    "for i in range(len(labels)):\n",
    "    df_6['품종'] = df_6['품종'].replace(품종_고유값[i], labels[i])"
   ]
  },
  {
   "cell_type": "code",
   "execution_count": 290,
   "id": "afdf6ed0",
   "metadata": {},
   "outputs": [
    {
     "data": {
      "text/plain": [
       "3    235289\n",
       "7     35701\n",
       "4     22412\n",
       "0     15016\n",
       "5      6464\n",
       "8      3533\n",
       "2      3481\n",
       "1      3093\n",
       "9      1877\n",
       "6       614\n",
       "Name: 품종, dtype: int64"
      ]
     },
     "execution_count": 290,
     "metadata": {},
     "output_type": "execute_result"
    }
   ],
   "source": [
    "df_6['품종'].value_counts()"
   ]
  },
  {
   "cell_type": "code",
   "execution_count": 292,
   "id": "dd7afa31",
   "metadata": {},
   "outputs": [],
   "source": [
    "df_6.to_csv('./Data/#6_품종까지.csv',encoding='cp949')"
   ]
  },
  {
   "cell_type": "markdown",
   "id": "fb18cce5",
   "metadata": {},
   "source": [
    "### 색상 💫\n",
    "---"
   ]
  },
  {
   "cell_type": "code",
   "execution_count": 293,
   "id": "d7b6bc19",
   "metadata": {},
   "outputs": [],
   "source": [
    "df_6 = pd.read_csv('./Data/#6_품종까지.csv',encoding='cp949', index_col=0)"
   ]
  },
  {
   "cell_type": "code",
   "execution_count": 294,
   "id": "53a28aab",
   "metadata": {},
   "outputs": [
    {
     "data": {
      "text/plain": [
       "array(['혼합', '흰색', '갈색', '검정색', '노란색'], dtype=object)"
      ]
     },
     "execution_count": 294,
     "metadata": {},
     "output_type": "execute_result"
    }
   ],
   "source": [
    "final_color = pd.read_csv('./data/FInal_Color.csv',encoding='utf-8',index_col=0)\n",
    "final_color['색상최종'].unique()"
   ]
  },
  {
   "cell_type": "code",
   "execution_count": 295,
   "id": "45f15fd6",
   "metadata": {},
   "outputs": [],
   "source": [
    "df_7 = pd.merge(df_6,final_color, how='inner', on='공고번호')\n",
    "df_7['색상'] = df_7['색상최종']"
   ]
  },
  {
   "cell_type": "code",
   "execution_count": 296,
   "id": "a11443db",
   "metadata": {},
   "outputs": [],
   "source": [
    "df_7.drop('색상최종',axis=1,inplace=True)"
   ]
  },
  {
   "cell_type": "code",
   "execution_count": 297,
   "id": "5961bd3b",
   "metadata": {},
   "outputs": [],
   "source": [
    "df_7['색상'] = pd.Categorical(df_7['색상'])"
   ]
  },
  {
   "cell_type": "markdown",
   "id": "80330f4b",
   "metadata": {},
   "source": [
    "#### 흰색 - 1, 검정색 - 2, 노란색 - 3, 갈색 - 4, 혼합 - 5"
   ]
  },
  {
   "cell_type": "code",
   "execution_count": 298,
   "id": "cf225606",
   "metadata": {},
   "outputs": [],
   "source": [
    "df_7['색상'] = df_7['색상'].map({'흰색' : 1, '검정색' : 2, '노란색': 3,'갈색':4, '혼합' : 5})"
   ]
  },
  {
   "cell_type": "code",
   "execution_count": 299,
   "id": "9138ef59",
   "metadata": {},
   "outputs": [],
   "source": [
    "df_7.to_csv('./Data/#7_색상까지_FINAL.csv',encoding='cp949')"
   ]
  },
  {
   "cell_type": "markdown",
   "id": "1cab394e",
   "metadata": {},
   "source": [
    "#### 최종 DATASET 💝\n",
    "---\n",
    "    범주화 했던 자료들을 --> 데이터셋을 불러오고 나서, category 타입으로 바꿔주자\n",
    "    \n",
    "    품종\n",
    "    색상\n",
    "    성별\n",
    "    체중\n",
    "    중성화여부\n",
    "    상태\n",
    "    \n",
    "    \n",
    "    "
   ]
  },
  {
   "cell_type": "code",
   "execution_count": 300,
   "id": "6b979f5d",
   "metadata": {},
   "outputs": [
    {
     "data": {
      "text/html": [
       "<div>\n",
       "<style scoped>\n",
       "    .dataframe tbody tr th:only-of-type {\n",
       "        vertical-align: middle;\n",
       "    }\n",
       "\n",
       "    .dataframe tbody tr th {\n",
       "        vertical-align: top;\n",
       "    }\n",
       "\n",
       "    .dataframe thead th {\n",
       "        text-align: right;\n",
       "    }\n",
       "</style>\n",
       "<table border=\"1\" class=\"dataframe\">\n",
       "  <thead>\n",
       "    <tr style=\"text-align: right;\">\n",
       "      <th></th>\n",
       "      <th>공고번호</th>\n",
       "      <th>보호소이름</th>\n",
       "      <th>품종</th>\n",
       "      <th>색상</th>\n",
       "      <th>성별</th>\n",
       "      <th>체중</th>\n",
       "      <th>중성화여부</th>\n",
       "      <th>당시의나이</th>\n",
       "      <th>상태</th>\n",
       "    </tr>\n",
       "  </thead>\n",
       "  <tbody>\n",
       "    <tr>\n",
       "      <th>0</th>\n",
       "      <td>서울-양천-2017-00001</td>\n",
       "      <td>강현림동물병원</td>\n",
       "      <td>5</td>\n",
       "      <td>4</td>\n",
       "      <td>0</td>\n",
       "      <td>38.0</td>\n",
       "      <td>0</td>\n",
       "      <td>5</td>\n",
       "      <td>0</td>\n",
       "    </tr>\n",
       "    <tr>\n",
       "      <th>1</th>\n",
       "      <td>서울-중랑-2017-00003</td>\n",
       "      <td>한국동물구조관리협회</td>\n",
       "      <td>4</td>\n",
       "      <td>4</td>\n",
       "      <td>0</td>\n",
       "      <td>3.1</td>\n",
       "      <td>0</td>\n",
       "      <td>4</td>\n",
       "      <td>0</td>\n",
       "    </tr>\n",
       "  </tbody>\n",
       "</table>\n",
       "</div>"
      ],
      "text/plain": [
       "               공고번호       보호소이름  품종  색상  성별    체중  중성화여부  당시의나이  상태\n",
       "0  서울-양천-2017-00001     강현림동물병원   5   4   0  38.0      0      5   0\n",
       "1  서울-중랑-2017-00003  한국동물구조관리협회   4   4   0   3.1      0      4   0"
      ]
     },
     "execution_count": 300,
     "metadata": {},
     "output_type": "execute_result"
    }
   ],
   "source": [
    "df_final = pd.read_csv('./Data/#7_색상까지_FINAL.csv',encoding='cp949',index_col=0)\n",
    "df_final.head(2)\n"
   ]
  },
  {
   "cell_type": "markdown",
   "id": "9621d674",
   "metadata": {},
   "source": [
    "### 직영과 위탁을 나누자 💢\n",
    "---\n",
    "\n"
   ]
  },
  {
   "cell_type": "markdown",
   "id": "8833852c",
   "metadata": {},
   "source": [
    "##### 진규님이 변환해준 csv파일로 하기!"
   ]
  },
  {
   "cell_type": "code",
   "execution_count": 301,
   "id": "7012c392",
   "metadata": {},
   "outputs": [],
   "source": [
    "df_money = pd.read_csv('./Data/위탁보호소.csv',encoding='cp949',index_col=0)\n",
    "df_service = pd.read_csv('./Data/직영보호소.csv',encoding='cp949',index_col=0)\n"
   ]
  },
  {
   "cell_type": "code",
   "execution_count": 304,
   "id": "53a136e1",
   "metadata": {},
   "outputs": [
    {
     "data": {
      "text/html": [
       "<div>\n",
       "<style scoped>\n",
       "    .dataframe tbody tr th:only-of-type {\n",
       "        vertical-align: middle;\n",
       "    }\n",
       "\n",
       "    .dataframe tbody tr th {\n",
       "        vertical-align: top;\n",
       "    }\n",
       "\n",
       "    .dataframe thead th {\n",
       "        text-align: right;\n",
       "    }\n",
       "</style>\n",
       "<table border=\"1\" class=\"dataframe\">\n",
       "  <thead>\n",
       "    <tr style=\"text-align: right;\">\n",
       "      <th></th>\n",
       "      <th>공고번호</th>\n",
       "      <th>보호소이름</th>\n",
       "      <th>품종</th>\n",
       "      <th>색상</th>\n",
       "      <th>성별</th>\n",
       "      <th>체중</th>\n",
       "      <th>중성화여부</th>\n",
       "      <th>당시의나이</th>\n",
       "      <th>상태</th>\n",
       "    </tr>\n",
       "    <tr>\n",
       "      <th>X</th>\n",
       "      <th></th>\n",
       "      <th></th>\n",
       "      <th></th>\n",
       "      <th></th>\n",
       "      <th></th>\n",
       "      <th></th>\n",
       "      <th></th>\n",
       "      <th></th>\n",
       "      <th></th>\n",
       "    </tr>\n",
       "  </thead>\n",
       "  <tbody>\n",
       "    <tr>\n",
       "      <th>3</th>\n",
       "      <td>전남-여수-2017-00001</td>\n",
       "      <td>유기동물보호소</td>\n",
       "      <td>29</td>\n",
       "      <td>1</td>\n",
       "      <td>0</td>\n",
       "      <td>3.10</td>\n",
       "      <td>0</td>\n",
       "      <td>3</td>\n",
       "      <td>1</td>\n",
       "    </tr>\n",
       "    <tr>\n",
       "      <th>11</th>\n",
       "      <td>경기-가평-2017-00002</td>\n",
       "      <td>가평군유기동물보호소</td>\n",
       "      <td>38</td>\n",
       "      <td>2</td>\n",
       "      <td>0</td>\n",
       "      <td>7.95</td>\n",
       "      <td>0</td>\n",
       "      <td>3</td>\n",
       "      <td>1</td>\n",
       "    </tr>\n",
       "  </tbody>\n",
       "</table>\n",
       "</div>"
      ],
      "text/plain": [
       "                공고번호       보호소이름  품종  색상  성별    체중  중성화여부  당시의나이  상태\n",
       "X                                                                   \n",
       "3   전남-여수-2017-00001     유기동물보호소  29   1   0  3.10      0      3   1\n",
       "11  경기-가평-2017-00002  가평군유기동물보호소  38   2   0  7.95      0      3   1"
      ]
     },
     "execution_count": 304,
     "metadata": {},
     "output_type": "execute_result"
    }
   ],
   "source": [
    "df_service.head(2)"
   ]
  },
  {
   "cell_type": "code",
   "execution_count": 305,
   "id": "08a84e32",
   "metadata": {},
   "outputs": [],
   "source": [
    "service_list=  list(df_service['보호소이름'].unique())"
   ]
  },
  {
   "cell_type": "code",
   "execution_count": 307,
   "id": "32bbf3ac",
   "metadata": {},
   "outputs": [],
   "source": [
    "money_list = list(df_money['보호소이름'].unique())"
   ]
  },
  {
   "cell_type": "code",
   "execution_count": 306,
   "id": "a94b3b67",
   "metadata": {
    "scrolled": true
   },
   "outputs": [
    {
     "data": {
      "text/html": [
       "<div>\n",
       "<style scoped>\n",
       "    .dataframe tbody tr th:only-of-type {\n",
       "        vertical-align: middle;\n",
       "    }\n",
       "\n",
       "    .dataframe tbody tr th {\n",
       "        vertical-align: top;\n",
       "    }\n",
       "\n",
       "    .dataframe thead th {\n",
       "        text-align: right;\n",
       "    }\n",
       "</style>\n",
       "<table border=\"1\" class=\"dataframe\">\n",
       "  <thead>\n",
       "    <tr style=\"text-align: right;\">\n",
       "      <th></th>\n",
       "      <th>공고번호</th>\n",
       "      <th>보호소이름</th>\n",
       "      <th>품종</th>\n",
       "      <th>색상</th>\n",
       "      <th>성별</th>\n",
       "      <th>체중</th>\n",
       "      <th>중성화여부</th>\n",
       "      <th>당시의나이</th>\n",
       "      <th>상태</th>\n",
       "    </tr>\n",
       "  </thead>\n",
       "  <tbody>\n",
       "    <tr>\n",
       "      <th>0</th>\n",
       "      <td>서울-양천-2017-00001</td>\n",
       "      <td>강현림동물병원</td>\n",
       "      <td>5</td>\n",
       "      <td>4</td>\n",
       "      <td>0</td>\n",
       "      <td>38.00</td>\n",
       "      <td>0</td>\n",
       "      <td>5</td>\n",
       "      <td>0</td>\n",
       "    </tr>\n",
       "    <tr>\n",
       "      <th>1</th>\n",
       "      <td>서울-중랑-2017-00003</td>\n",
       "      <td>한국동물구조관리협회</td>\n",
       "      <td>4</td>\n",
       "      <td>4</td>\n",
       "      <td>0</td>\n",
       "      <td>3.10</td>\n",
       "      <td>0</td>\n",
       "      <td>4</td>\n",
       "      <td>0</td>\n",
       "    </tr>\n",
       "    <tr>\n",
       "      <th>2</th>\n",
       "      <td>경남-거창-2017-00004</td>\n",
       "      <td>백동물병원</td>\n",
       "      <td>3</td>\n",
       "      <td>1</td>\n",
       "      <td>1</td>\n",
       "      <td>5.00</td>\n",
       "      <td>0</td>\n",
       "      <td>1</td>\n",
       "      <td>0</td>\n",
       "    </tr>\n",
       "    <tr>\n",
       "      <th>3</th>\n",
       "      <td>전남-여수-2017-00001</td>\n",
       "      <td>유기동물보호소</td>\n",
       "      <td>7</td>\n",
       "      <td>1</td>\n",
       "      <td>0</td>\n",
       "      <td>3.10</td>\n",
       "      <td>0</td>\n",
       "      <td>3</td>\n",
       "      <td>0</td>\n",
       "    </tr>\n",
       "    <tr>\n",
       "      <th>4</th>\n",
       "      <td>충남-천안-2017-00029</td>\n",
       "      <td>천안시유기동물보호소</td>\n",
       "      <td>6</td>\n",
       "      <td>2</td>\n",
       "      <td>1</td>\n",
       "      <td>15.00</td>\n",
       "      <td>0</td>\n",
       "      <td>1</td>\n",
       "      <td>0</td>\n",
       "    </tr>\n",
       "    <tr>\n",
       "      <th>...</th>\n",
       "      <td>...</td>\n",
       "      <td>...</td>\n",
       "      <td>...</td>\n",
       "      <td>...</td>\n",
       "      <td>...</td>\n",
       "      <td>...</td>\n",
       "      <td>...</td>\n",
       "      <td>...</td>\n",
       "      <td>...</td>\n",
       "    </tr>\n",
       "    <tr>\n",
       "      <th>337432</th>\n",
       "      <td>경북-포항-2021-00902</td>\n",
       "      <td>영일동물플러스</td>\n",
       "      <td>3</td>\n",
       "      <td>1</td>\n",
       "      <td>0</td>\n",
       "      <td>3.50</td>\n",
       "      <td>2</td>\n",
       "      <td>3</td>\n",
       "      <td>0</td>\n",
       "    </tr>\n",
       "    <tr>\n",
       "      <th>337433</th>\n",
       "      <td>세종-세종-2021-00339</td>\n",
       "      <td>세종유기동물보호센터</td>\n",
       "      <td>9</td>\n",
       "      <td>1</td>\n",
       "      <td>1</td>\n",
       "      <td>7.20</td>\n",
       "      <td>1</td>\n",
       "      <td>2</td>\n",
       "      <td>0</td>\n",
       "    </tr>\n",
       "    <tr>\n",
       "      <th>337434</th>\n",
       "      <td>대구-달성-2021-00563</td>\n",
       "      <td>포산동물병원</td>\n",
       "      <td>9</td>\n",
       "      <td>5</td>\n",
       "      <td>1</td>\n",
       "      <td>3.74</td>\n",
       "      <td>0</td>\n",
       "      <td>0</td>\n",
       "      <td>1</td>\n",
       "    </tr>\n",
       "    <tr>\n",
       "      <th>337435</th>\n",
       "      <td>강원-원주-2021-00542</td>\n",
       "      <td>원주유기동물보호센터</td>\n",
       "      <td>9</td>\n",
       "      <td>4</td>\n",
       "      <td>1</td>\n",
       "      <td>8.00</td>\n",
       "      <td>0</td>\n",
       "      <td>3</td>\n",
       "      <td>1</td>\n",
       "    </tr>\n",
       "    <tr>\n",
       "      <th>337436</th>\n",
       "      <td>강원-원주-2021-00556</td>\n",
       "      <td>원주유기동물보호센터</td>\n",
       "      <td>9</td>\n",
       "      <td>2</td>\n",
       "      <td>1</td>\n",
       "      <td>2.60</td>\n",
       "      <td>0</td>\n",
       "      <td>0</td>\n",
       "      <td>0</td>\n",
       "    </tr>\n",
       "  </tbody>\n",
       "</table>\n",
       "<p>337437 rows × 9 columns</p>\n",
       "</div>"
      ],
      "text/plain": [
       "                    공고번호       보호소이름  품종  색상  성별     체중  중성화여부  당시의나이  상태\n",
       "0       서울-양천-2017-00001     강현림동물병원   5   4   0  38.00      0      5   0\n",
       "1       서울-중랑-2017-00003  한국동물구조관리협회   4   4   0   3.10      0      4   0\n",
       "2       경남-거창-2017-00004       백동물병원   3   1   1   5.00      0      1   0\n",
       "3       전남-여수-2017-00001     유기동물보호소   7   1   0   3.10      0      3   0\n",
       "4       충남-천안-2017-00029  천안시유기동물보호소   6   2   1  15.00      0      1   0\n",
       "...                  ...         ...  ..  ..  ..    ...    ...    ...  ..\n",
       "337432  경북-포항-2021-00902     영일동물플러스   3   1   0   3.50      2      3   0\n",
       "337433  세종-세종-2021-00339  세종유기동물보호센터   9   1   1   7.20      1      2   0\n",
       "337434  대구-달성-2021-00563      포산동물병원   9   5   1   3.74      0      0   1\n",
       "337435  강원-원주-2021-00542  원주유기동물보호센터   9   4   1   8.00      0      3   1\n",
       "337436  강원-원주-2021-00556  원주유기동물보호센터   9   2   1   2.60      0      0   0\n",
       "\n",
       "[337437 rows x 9 columns]"
      ]
     },
     "execution_count": 306,
     "metadata": {},
     "output_type": "execute_result"
    }
   ],
   "source": [
    "df_final"
   ]
  },
  {
   "cell_type": "code",
   "execution_count": 308,
   "id": "4567d566",
   "metadata": {
    "scrolled": true
   },
   "outputs": [],
   "source": [
    "직영 = df_final[df_final['보호소이름'].apply(lambda x : x in service_list)]\n",
    "위탁 = df_final[df_final['보호소이름'].apply(lambda x : x in money_list)]"
   ]
  },
  {
   "cell_type": "code",
   "execution_count": 309,
   "id": "48bc6896",
   "metadata": {},
   "outputs": [
    {
     "data": {
      "text/html": [
       "<div>\n",
       "<style scoped>\n",
       "    .dataframe tbody tr th:only-of-type {\n",
       "        vertical-align: middle;\n",
       "    }\n",
       "\n",
       "    .dataframe tbody tr th {\n",
       "        vertical-align: top;\n",
       "    }\n",
       "\n",
       "    .dataframe thead th {\n",
       "        text-align: right;\n",
       "    }\n",
       "</style>\n",
       "<table border=\"1\" class=\"dataframe\">\n",
       "  <thead>\n",
       "    <tr style=\"text-align: right;\">\n",
       "      <th></th>\n",
       "      <th>공고번호</th>\n",
       "      <th>보호소이름</th>\n",
       "      <th>품종</th>\n",
       "      <th>색상</th>\n",
       "      <th>성별</th>\n",
       "      <th>체중</th>\n",
       "      <th>중성화여부</th>\n",
       "      <th>당시의나이</th>\n",
       "      <th>상태</th>\n",
       "    </tr>\n",
       "  </thead>\n",
       "  <tbody>\n",
       "    <tr>\n",
       "      <th>3</th>\n",
       "      <td>전남-여수-2017-00001</td>\n",
       "      <td>유기동물보호소</td>\n",
       "      <td>7</td>\n",
       "      <td>1</td>\n",
       "      <td>0</td>\n",
       "      <td>3.10</td>\n",
       "      <td>0</td>\n",
       "      <td>3</td>\n",
       "      <td>0</td>\n",
       "    </tr>\n",
       "    <tr>\n",
       "      <th>10</th>\n",
       "      <td>경기-가평-2017-00002</td>\n",
       "      <td>가평군유기동물보호소</td>\n",
       "      <td>3</td>\n",
       "      <td>2</td>\n",
       "      <td>0</td>\n",
       "      <td>7.95</td>\n",
       "      <td>0</td>\n",
       "      <td>3</td>\n",
       "      <td>0</td>\n",
       "    </tr>\n",
       "    <tr>\n",
       "      <th>11</th>\n",
       "      <td>경기-가평-2017-00001</td>\n",
       "      <td>가평군유기동물보호소</td>\n",
       "      <td>4</td>\n",
       "      <td>4</td>\n",
       "      <td>1</td>\n",
       "      <td>2.75</td>\n",
       "      <td>0</td>\n",
       "      <td>2</td>\n",
       "      <td>0</td>\n",
       "    </tr>\n",
       "    <tr>\n",
       "      <th>19</th>\n",
       "      <td>대전-유성-2017-00001</td>\n",
       "      <td>대전동물보호센터</td>\n",
       "      <td>4</td>\n",
       "      <td>3</td>\n",
       "      <td>0</td>\n",
       "      <td>4.00</td>\n",
       "      <td>1</td>\n",
       "      <td>1</td>\n",
       "      <td>0</td>\n",
       "    </tr>\n",
       "    <tr>\n",
       "      <th>21</th>\n",
       "      <td>대전-유성-2017-00002</td>\n",
       "      <td>대전동물보호센터</td>\n",
       "      <td>7</td>\n",
       "      <td>3</td>\n",
       "      <td>1</td>\n",
       "      <td>3.00</td>\n",
       "      <td>1</td>\n",
       "      <td>5</td>\n",
       "      <td>0</td>\n",
       "    </tr>\n",
       "    <tr>\n",
       "      <th>...</th>\n",
       "      <td>...</td>\n",
       "      <td>...</td>\n",
       "      <td>...</td>\n",
       "      <td>...</td>\n",
       "      <td>...</td>\n",
       "      <td>...</td>\n",
       "      <td>...</td>\n",
       "      <td>...</td>\n",
       "      <td>...</td>\n",
       "    </tr>\n",
       "    <tr>\n",
       "      <th>336952</th>\n",
       "      <td>충북-충주-2018-00283</td>\n",
       "      <td>충주시동물보호센터</td>\n",
       "      <td>3</td>\n",
       "      <td>1</td>\n",
       "      <td>0</td>\n",
       "      <td>4.20</td>\n",
       "      <td>0</td>\n",
       "      <td>3</td>\n",
       "      <td>0</td>\n",
       "    </tr>\n",
       "    <tr>\n",
       "      <th>337280</th>\n",
       "      <td>대전-동구-2020-00119</td>\n",
       "      <td>대전동물보호센터</td>\n",
       "      <td>9</td>\n",
       "      <td>3</td>\n",
       "      <td>1</td>\n",
       "      <td>2.00</td>\n",
       "      <td>1</td>\n",
       "      <td>1</td>\n",
       "      <td>0</td>\n",
       "    </tr>\n",
       "    <tr>\n",
       "      <th>337292</th>\n",
       "      <td>강원-화천-2020-00040</td>\n",
       "      <td>화천군농업기술센터</td>\n",
       "      <td>8</td>\n",
       "      <td>2</td>\n",
       "      <td>1</td>\n",
       "      <td>20.00</td>\n",
       "      <td>0</td>\n",
       "      <td>5</td>\n",
       "      <td>0</td>\n",
       "    </tr>\n",
       "    <tr>\n",
       "      <th>337336</th>\n",
       "      <td>전남-여수-2020-00310</td>\n",
       "      <td>유기동물보호소</td>\n",
       "      <td>8</td>\n",
       "      <td>2</td>\n",
       "      <td>0</td>\n",
       "      <td>28.50</td>\n",
       "      <td>0</td>\n",
       "      <td>4</td>\n",
       "      <td>0</td>\n",
       "    </tr>\n",
       "    <tr>\n",
       "      <th>337357</th>\n",
       "      <td>경기-용인-2020-00738</td>\n",
       "      <td>용인시 동물보호센터</td>\n",
       "      <td>3</td>\n",
       "      <td>1</td>\n",
       "      <td>1</td>\n",
       "      <td>2.30</td>\n",
       "      <td>1</td>\n",
       "      <td>6</td>\n",
       "      <td>0</td>\n",
       "    </tr>\n",
       "  </tbody>\n",
       "</table>\n",
       "<p>54258 rows × 9 columns</p>\n",
       "</div>"
      ],
      "text/plain": [
       "                    공고번호       보호소이름  품종  색상  성별     체중  중성화여부  당시의나이  상태\n",
       "3       전남-여수-2017-00001     유기동물보호소   7   1   0   3.10      0      3   0\n",
       "10      경기-가평-2017-00002  가평군유기동물보호소   3   2   0   7.95      0      3   0\n",
       "11      경기-가평-2017-00001  가평군유기동물보호소   4   4   1   2.75      0      2   0\n",
       "19      대전-유성-2017-00001    대전동물보호센터   4   3   0   4.00      1      1   0\n",
       "21      대전-유성-2017-00002    대전동물보호센터   7   3   1   3.00      1      5   0\n",
       "...                  ...         ...  ..  ..  ..    ...    ...    ...  ..\n",
       "336952  충북-충주-2018-00283   충주시동물보호센터   3   1   0   4.20      0      3   0\n",
       "337280  대전-동구-2020-00119    대전동물보호센터   9   3   1   2.00      1      1   0\n",
       "337292  강원-화천-2020-00040   화천군농업기술센터   8   2   1  20.00      0      5   0\n",
       "337336  전남-여수-2020-00310     유기동물보호소   8   2   0  28.50      0      4   0\n",
       "337357  경기-용인-2020-00738  용인시 동물보호센터   3   1   1   2.30      1      6   0\n",
       "\n",
       "[54258 rows x 9 columns]"
      ]
     },
     "execution_count": 309,
     "metadata": {},
     "output_type": "execute_result"
    }
   ],
   "source": [
    "직영"
   ]
  },
  {
   "cell_type": "code",
   "execution_count": 310,
   "id": "d0783119",
   "metadata": {},
   "outputs": [
    {
     "data": {
      "text/html": [
       "<div>\n",
       "<style scoped>\n",
       "    .dataframe tbody tr th:only-of-type {\n",
       "        vertical-align: middle;\n",
       "    }\n",
       "\n",
       "    .dataframe tbody tr th {\n",
       "        vertical-align: top;\n",
       "    }\n",
       "\n",
       "    .dataframe thead th {\n",
       "        text-align: right;\n",
       "    }\n",
       "</style>\n",
       "<table border=\"1\" class=\"dataframe\">\n",
       "  <thead>\n",
       "    <tr style=\"text-align: right;\">\n",
       "      <th></th>\n",
       "      <th>공고번호</th>\n",
       "      <th>보호소이름</th>\n",
       "      <th>품종</th>\n",
       "      <th>색상</th>\n",
       "      <th>성별</th>\n",
       "      <th>체중</th>\n",
       "      <th>중성화여부</th>\n",
       "      <th>당시의나이</th>\n",
       "      <th>상태</th>\n",
       "    </tr>\n",
       "  </thead>\n",
       "  <tbody>\n",
       "    <tr>\n",
       "      <th>0</th>\n",
       "      <td>서울-양천-2017-00001</td>\n",
       "      <td>강현림동물병원</td>\n",
       "      <td>5</td>\n",
       "      <td>4</td>\n",
       "      <td>0</td>\n",
       "      <td>38.00</td>\n",
       "      <td>0</td>\n",
       "      <td>5</td>\n",
       "      <td>0</td>\n",
       "    </tr>\n",
       "    <tr>\n",
       "      <th>1</th>\n",
       "      <td>서울-중랑-2017-00003</td>\n",
       "      <td>한국동물구조관리협회</td>\n",
       "      <td>4</td>\n",
       "      <td>4</td>\n",
       "      <td>0</td>\n",
       "      <td>3.10</td>\n",
       "      <td>0</td>\n",
       "      <td>4</td>\n",
       "      <td>0</td>\n",
       "    </tr>\n",
       "    <tr>\n",
       "      <th>2</th>\n",
       "      <td>경남-거창-2017-00004</td>\n",
       "      <td>백동물병원</td>\n",
       "      <td>3</td>\n",
       "      <td>1</td>\n",
       "      <td>1</td>\n",
       "      <td>5.00</td>\n",
       "      <td>0</td>\n",
       "      <td>1</td>\n",
       "      <td>0</td>\n",
       "    </tr>\n",
       "    <tr>\n",
       "      <th>4</th>\n",
       "      <td>충남-천안-2017-00029</td>\n",
       "      <td>천안시유기동물보호소</td>\n",
       "      <td>6</td>\n",
       "      <td>2</td>\n",
       "      <td>1</td>\n",
       "      <td>15.00</td>\n",
       "      <td>0</td>\n",
       "      <td>1</td>\n",
       "      <td>0</td>\n",
       "    </tr>\n",
       "    <tr>\n",
       "      <th>5</th>\n",
       "      <td>충남-천안-2017-00026</td>\n",
       "      <td>천안시유기동물보호소</td>\n",
       "      <td>3</td>\n",
       "      <td>3</td>\n",
       "      <td>0</td>\n",
       "      <td>5.00</td>\n",
       "      <td>0</td>\n",
       "      <td>3</td>\n",
       "      <td>0</td>\n",
       "    </tr>\n",
       "    <tr>\n",
       "      <th>...</th>\n",
       "      <td>...</td>\n",
       "      <td>...</td>\n",
       "      <td>...</td>\n",
       "      <td>...</td>\n",
       "      <td>...</td>\n",
       "      <td>...</td>\n",
       "      <td>...</td>\n",
       "      <td>...</td>\n",
       "      <td>...</td>\n",
       "    </tr>\n",
       "    <tr>\n",
       "      <th>337432</th>\n",
       "      <td>경북-포항-2021-00902</td>\n",
       "      <td>영일동물플러스</td>\n",
       "      <td>3</td>\n",
       "      <td>1</td>\n",
       "      <td>0</td>\n",
       "      <td>3.50</td>\n",
       "      <td>2</td>\n",
       "      <td>3</td>\n",
       "      <td>0</td>\n",
       "    </tr>\n",
       "    <tr>\n",
       "      <th>337433</th>\n",
       "      <td>세종-세종-2021-00339</td>\n",
       "      <td>세종유기동물보호센터</td>\n",
       "      <td>9</td>\n",
       "      <td>1</td>\n",
       "      <td>1</td>\n",
       "      <td>7.20</td>\n",
       "      <td>1</td>\n",
       "      <td>2</td>\n",
       "      <td>0</td>\n",
       "    </tr>\n",
       "    <tr>\n",
       "      <th>337434</th>\n",
       "      <td>대구-달성-2021-00563</td>\n",
       "      <td>포산동물병원</td>\n",
       "      <td>9</td>\n",
       "      <td>5</td>\n",
       "      <td>1</td>\n",
       "      <td>3.74</td>\n",
       "      <td>0</td>\n",
       "      <td>0</td>\n",
       "      <td>1</td>\n",
       "    </tr>\n",
       "    <tr>\n",
       "      <th>337435</th>\n",
       "      <td>강원-원주-2021-00542</td>\n",
       "      <td>원주유기동물보호센터</td>\n",
       "      <td>9</td>\n",
       "      <td>4</td>\n",
       "      <td>1</td>\n",
       "      <td>8.00</td>\n",
       "      <td>0</td>\n",
       "      <td>3</td>\n",
       "      <td>1</td>\n",
       "    </tr>\n",
       "    <tr>\n",
       "      <th>337436</th>\n",
       "      <td>강원-원주-2021-00556</td>\n",
       "      <td>원주유기동물보호센터</td>\n",
       "      <td>9</td>\n",
       "      <td>2</td>\n",
       "      <td>1</td>\n",
       "      <td>2.60</td>\n",
       "      <td>0</td>\n",
       "      <td>0</td>\n",
       "      <td>0</td>\n",
       "    </tr>\n",
       "  </tbody>\n",
       "</table>\n",
       "<p>283179 rows × 9 columns</p>\n",
       "</div>"
      ],
      "text/plain": [
       "                    공고번호       보호소이름  품종  색상  성별     체중  중성화여부  당시의나이  상태\n",
       "0       서울-양천-2017-00001     강현림동물병원   5   4   0  38.00      0      5   0\n",
       "1       서울-중랑-2017-00003  한국동물구조관리협회   4   4   0   3.10      0      4   0\n",
       "2       경남-거창-2017-00004       백동물병원   3   1   1   5.00      0      1   0\n",
       "4       충남-천안-2017-00029  천안시유기동물보호소   6   2   1  15.00      0      1   0\n",
       "5       충남-천안-2017-00026  천안시유기동물보호소   3   3   0   5.00      0      3   0\n",
       "...                  ...         ...  ..  ..  ..    ...    ...    ...  ..\n",
       "337432  경북-포항-2021-00902     영일동물플러스   3   1   0   3.50      2      3   0\n",
       "337433  세종-세종-2021-00339  세종유기동물보호센터   9   1   1   7.20      1      2   0\n",
       "337434  대구-달성-2021-00563      포산동물병원   9   5   1   3.74      0      0   1\n",
       "337435  강원-원주-2021-00542  원주유기동물보호센터   9   4   1   8.00      0      3   1\n",
       "337436  강원-원주-2021-00556  원주유기동물보호센터   9   2   1   2.60      0      0   0\n",
       "\n",
       "[283179 rows x 9 columns]"
      ]
     },
     "execution_count": 310,
     "metadata": {},
     "output_type": "execute_result"
    }
   ],
   "source": [
    "위탁"
   ]
  },
  {
   "cell_type": "code",
   "execution_count": 311,
   "id": "5b9cb963",
   "metadata": {},
   "outputs": [],
   "source": [
    "직영 = 직영[['품종','색상','성별','체중','중성화여부','당시의나이', '상태']]\n",
    "위탁 = 위탁[['품종','색상','성별','체중','중성화여부','당시의나이', '상태']]"
   ]
  },
  {
   "cell_type": "code",
   "execution_count": 312,
   "id": "7ee76f11",
   "metadata": {
    "scrolled": true
   },
   "outputs": [
    {
     "data": {
      "text/html": [
       "<div>\n",
       "<style scoped>\n",
       "    .dataframe tbody tr th:only-of-type {\n",
       "        vertical-align: middle;\n",
       "    }\n",
       "\n",
       "    .dataframe tbody tr th {\n",
       "        vertical-align: top;\n",
       "    }\n",
       "\n",
       "    .dataframe thead th {\n",
       "        text-align: right;\n",
       "    }\n",
       "</style>\n",
       "<table border=\"1\" class=\"dataframe\">\n",
       "  <thead>\n",
       "    <tr style=\"text-align: right;\">\n",
       "      <th></th>\n",
       "      <th>품종</th>\n",
       "      <th>색상</th>\n",
       "      <th>성별</th>\n",
       "      <th>체중</th>\n",
       "      <th>중성화여부</th>\n",
       "      <th>당시의나이</th>\n",
       "      <th>상태</th>\n",
       "    </tr>\n",
       "  </thead>\n",
       "  <tbody>\n",
       "    <tr>\n",
       "      <th>3</th>\n",
       "      <td>7</td>\n",
       "      <td>1</td>\n",
       "      <td>0</td>\n",
       "      <td>3.10</td>\n",
       "      <td>0</td>\n",
       "      <td>3</td>\n",
       "      <td>0</td>\n",
       "    </tr>\n",
       "    <tr>\n",
       "      <th>10</th>\n",
       "      <td>3</td>\n",
       "      <td>2</td>\n",
       "      <td>0</td>\n",
       "      <td>7.95</td>\n",
       "      <td>0</td>\n",
       "      <td>3</td>\n",
       "      <td>0</td>\n",
       "    </tr>\n",
       "    <tr>\n",
       "      <th>11</th>\n",
       "      <td>4</td>\n",
       "      <td>4</td>\n",
       "      <td>1</td>\n",
       "      <td>2.75</td>\n",
       "      <td>0</td>\n",
       "      <td>2</td>\n",
       "      <td>0</td>\n",
       "    </tr>\n",
       "    <tr>\n",
       "      <th>19</th>\n",
       "      <td>4</td>\n",
       "      <td>3</td>\n",
       "      <td>0</td>\n",
       "      <td>4.00</td>\n",
       "      <td>1</td>\n",
       "      <td>1</td>\n",
       "      <td>0</td>\n",
       "    </tr>\n",
       "    <tr>\n",
       "      <th>21</th>\n",
       "      <td>7</td>\n",
       "      <td>3</td>\n",
       "      <td>1</td>\n",
       "      <td>3.00</td>\n",
       "      <td>1</td>\n",
       "      <td>5</td>\n",
       "      <td>0</td>\n",
       "    </tr>\n",
       "    <tr>\n",
       "      <th>...</th>\n",
       "      <td>...</td>\n",
       "      <td>...</td>\n",
       "      <td>...</td>\n",
       "      <td>...</td>\n",
       "      <td>...</td>\n",
       "      <td>...</td>\n",
       "      <td>...</td>\n",
       "    </tr>\n",
       "    <tr>\n",
       "      <th>336952</th>\n",
       "      <td>3</td>\n",
       "      <td>1</td>\n",
       "      <td>0</td>\n",
       "      <td>4.20</td>\n",
       "      <td>0</td>\n",
       "      <td>3</td>\n",
       "      <td>0</td>\n",
       "    </tr>\n",
       "    <tr>\n",
       "      <th>337280</th>\n",
       "      <td>9</td>\n",
       "      <td>3</td>\n",
       "      <td>1</td>\n",
       "      <td>2.00</td>\n",
       "      <td>1</td>\n",
       "      <td>1</td>\n",
       "      <td>0</td>\n",
       "    </tr>\n",
       "    <tr>\n",
       "      <th>337292</th>\n",
       "      <td>8</td>\n",
       "      <td>2</td>\n",
       "      <td>1</td>\n",
       "      <td>20.00</td>\n",
       "      <td>0</td>\n",
       "      <td>5</td>\n",
       "      <td>0</td>\n",
       "    </tr>\n",
       "    <tr>\n",
       "      <th>337336</th>\n",
       "      <td>8</td>\n",
       "      <td>2</td>\n",
       "      <td>0</td>\n",
       "      <td>28.50</td>\n",
       "      <td>0</td>\n",
       "      <td>4</td>\n",
       "      <td>0</td>\n",
       "    </tr>\n",
       "    <tr>\n",
       "      <th>337357</th>\n",
       "      <td>3</td>\n",
       "      <td>1</td>\n",
       "      <td>1</td>\n",
       "      <td>2.30</td>\n",
       "      <td>1</td>\n",
       "      <td>6</td>\n",
       "      <td>0</td>\n",
       "    </tr>\n",
       "  </tbody>\n",
       "</table>\n",
       "<p>54258 rows × 7 columns</p>\n",
       "</div>"
      ],
      "text/plain": [
       "        품종  색상  성별     체중  중성화여부  당시의나이  상태\n",
       "3        7   1   0   3.10      0      3   0\n",
       "10       3   2   0   7.95      0      3   0\n",
       "11       4   4   1   2.75      0      2   0\n",
       "19       4   3   0   4.00      1      1   0\n",
       "21       7   3   1   3.00      1      5   0\n",
       "...     ..  ..  ..    ...    ...    ...  ..\n",
       "336952   3   1   0   4.20      0      3   0\n",
       "337280   9   3   1   2.00      1      1   0\n",
       "337292   8   2   1  20.00      0      5   0\n",
       "337336   8   2   0  28.50      0      4   0\n",
       "337357   3   1   1   2.30      1      6   0\n",
       "\n",
       "[54258 rows x 7 columns]"
      ]
     },
     "execution_count": 312,
     "metadata": {},
     "output_type": "execute_result"
    }
   ],
   "source": [
    "직영"
   ]
  },
  {
   "cell_type": "code",
   "execution_count": 313,
   "id": "5c8b91b3",
   "metadata": {},
   "outputs": [],
   "source": [
    "직영.to_csv('./Data/직영.csv',encoding='cp949')\n",
    "위탁.to_csv('./Data/위탁.csv',encoding='cp949')"
   ]
  },
  {
   "cell_type": "code",
   "execution_count": null,
   "id": "efa820d6",
   "metadata": {},
   "outputs": [],
   "source": []
  },
  {
   "cell_type": "code",
   "execution_count": null,
   "id": "9c7349d6",
   "metadata": {},
   "outputs": [],
   "source": []
  },
  {
   "cell_type": "code",
   "execution_count": 189,
   "id": "c91cfa10",
   "metadata": {},
   "outputs": [],
   "source": [
    "df_money['보호소형태'] = '위탁'\n",
    "df_service['보호소형태'] = '직영'"
   ]
  },
  {
   "cell_type": "code",
   "execution_count": 190,
   "id": "7c9bf71a",
   "metadata": {},
   "outputs": [],
   "source": [
    "df_test = pd.concat([df_service,df_money], ignore_index=True)"
   ]
  },
  {
   "cell_type": "code",
   "execution_count": 191,
   "id": "28672a73",
   "metadata": {},
   "outputs": [],
   "source": [
    "df_test_final = df_test[['품종','색상','성별','체중','중성화여부','당시의나이','보호소형태','상태']]"
   ]
  },
  {
   "cell_type": "code",
   "execution_count": 192,
   "id": "edc45ce0",
   "metadata": {},
   "outputs": [
    {
     "name": "stderr",
     "output_type": "stream",
     "text": [
      "<ipython-input-192-a494f27e3d4b>:1: SettingWithCopyWarning: \n",
      "A value is trying to be set on a copy of a slice from a DataFrame.\n",
      "Try using .loc[row_indexer,col_indexer] = value instead\n",
      "\n",
      "See the caveats in the documentation: https://pandas.pydata.org/pandas-docs/stable/user_guide/indexing.html#returning-a-view-versus-a-copy\n",
      "  df_test_final['보호소형태'] = pd.Categorical(df_test_final['보호소형태'])\n"
     ]
    },
    {
     "data": {
      "text/plain": [
       "['직영', '위탁']\n",
       "Categories (2, object): ['직영', '위탁']"
      ]
     },
     "execution_count": 192,
     "metadata": {},
     "output_type": "execute_result"
    }
   ],
   "source": [
    "df_test_final['보호소형태'] = pd.Categorical(df_test_final['보호소형태'])\n",
    "df_test_final['보호소형태'].unique()"
   ]
  },
  {
   "cell_type": "code",
   "execution_count": 193,
   "id": "d9fbaa96",
   "metadata": {},
   "outputs": [
    {
     "name": "stderr",
     "output_type": "stream",
     "text": [
      "<ipython-input-193-4e6b7db45601>:1: SettingWithCopyWarning: \n",
      "A value is trying to be set on a copy of a slice from a DataFrame.\n",
      "Try using .loc[row_indexer,col_indexer] = value instead\n",
      "\n",
      "See the caveats in the documentation: https://pandas.pydata.org/pandas-docs/stable/user_guide/indexing.html#returning-a-view-versus-a-copy\n",
      "  df_test_final['보호소형태'] = df_test_final['보호소형태'].map({'직영' : 1, '위탁' : 0})\n"
     ]
    }
   ],
   "source": [
    "df_test_final['보호소형태'] = df_test_final['보호소형태'].map({'직영' : 1, '위탁' : 0})"
   ]
  },
  {
   "cell_type": "code",
   "execution_count": 194,
   "id": "3e2dd328",
   "metadata": {},
   "outputs": [],
   "source": [
    "df_test_final.to_csv('./data/#8_FINAL.csv',encoding='cp949')"
   ]
  },
  {
   "cell_type": "markdown",
   "id": "2f0292e3",
   "metadata": {},
   "source": [
    "## Check\n",
    "---"
   ]
  },
  {
   "cell_type": "code",
   "execution_count": 314,
   "id": "16c1957b",
   "metadata": {},
   "outputs": [
    {
     "data": {
      "text/plain": [
       "Index(['품종', '색상', '성별', '체중', '중성화여부', '당시의나이', '보호소형태', '상태'], dtype='object')"
      ]
     },
     "execution_count": 314,
     "metadata": {},
     "output_type": "execute_result"
    }
   ],
   "source": [
    "df_check = pd.read_csv('./Data/#8_FINAL.csv',encoding='cp949',index_col=0)\n",
    "df_check.columns"
   ]
  },
  {
   "cell_type": "code",
   "execution_count": 315,
   "id": "3f4af08e",
   "metadata": {},
   "outputs": [
    {
     "data": {
      "text/plain": [
       "(361195, 8)"
      ]
     },
     "execution_count": 315,
     "metadata": {},
     "output_type": "execute_result"
    }
   ],
   "source": [
    "df_check.shape"
   ]
  },
  {
   "cell_type": "code",
   "execution_count": 316,
   "id": "4690e209",
   "metadata": {},
   "outputs": [
    {
     "data": {
      "text/html": [
       "<div>\n",
       "<style scoped>\n",
       "    .dataframe tbody tr th:only-of-type {\n",
       "        vertical-align: middle;\n",
       "    }\n",
       "\n",
       "    .dataframe tbody tr th {\n",
       "        vertical-align: top;\n",
       "    }\n",
       "\n",
       "    .dataframe thead th {\n",
       "        text-align: right;\n",
       "    }\n",
       "</style>\n",
       "<table border=\"1\" class=\"dataframe\">\n",
       "  <thead>\n",
       "    <tr style=\"text-align: right;\">\n",
       "      <th></th>\n",
       "      <th>품종</th>\n",
       "      <th>색상</th>\n",
       "      <th>성별</th>\n",
       "      <th>체중</th>\n",
       "      <th>중성화여부</th>\n",
       "      <th>당시의나이</th>\n",
       "      <th>보호소형태</th>\n",
       "      <th>상태</th>\n",
       "    </tr>\n",
       "  </thead>\n",
       "  <tbody>\n",
       "    <tr>\n",
       "      <th>0</th>\n",
       "      <td>29</td>\n",
       "      <td>1</td>\n",
       "      <td>0</td>\n",
       "      <td>3.10</td>\n",
       "      <td>0</td>\n",
       "      <td>3</td>\n",
       "      <td>1</td>\n",
       "      <td>1</td>\n",
       "    </tr>\n",
       "    <tr>\n",
       "      <th>1</th>\n",
       "      <td>38</td>\n",
       "      <td>2</td>\n",
       "      <td>0</td>\n",
       "      <td>7.95</td>\n",
       "      <td>0</td>\n",
       "      <td>3</td>\n",
       "      <td>1</td>\n",
       "      <td>1</td>\n",
       "    </tr>\n",
       "  </tbody>\n",
       "</table>\n",
       "</div>"
      ],
      "text/plain": [
       "   품종  색상  성별    체중  중성화여부  당시의나이  보호소형태  상태\n",
       "0  29   1   0  3.10      0      3      1   1\n",
       "1  38   2   0  7.95      0      3      1   1"
      ]
     },
     "execution_count": 316,
     "metadata": {},
     "output_type": "execute_result"
    }
   ],
   "source": [
    "df_check.head(2)"
   ]
  },
  {
   "cell_type": "code",
   "execution_count": null,
   "id": "a08d25b2",
   "metadata": {},
   "outputs": [],
   "source": []
  }
 ],
 "metadata": {
  "kernelspec": {
   "display_name": "Python 3",
   "language": "python",
   "name": "python3"
  },
  "language_info": {
   "codemirror_mode": {
    "name": "ipython",
    "version": 3
   },
   "file_extension": ".py",
   "mimetype": "text/x-python",
   "name": "python",
   "nbconvert_exporter": "python",
   "pygments_lexer": "ipython3",
   "version": "3.8.8"
  }
 },
 "nbformat": 4,
 "nbformat_minor": 5
}
