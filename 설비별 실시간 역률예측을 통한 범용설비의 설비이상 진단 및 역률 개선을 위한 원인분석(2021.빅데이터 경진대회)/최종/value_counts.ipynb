{
 "cells": [
  {
   "cell_type": "code",
   "execution_count": 54,
   "id": "0839b24f",
   "metadata": {},
   "outputs": [],
   "source": [
    "import os\n",
    "import pandas as pd\n",
    "import matplotlib.pyplot as plt\n",
    "import numpy as np\n",
    "import tensorflow as tf\n",
    "import warnings\n",
    "warnings.filterwarnings(action='ignore')\n",
    "import matplotlib.font_manager as fm \n",
    "import seaborn as sns\n",
    "\n",
    "font_fname = 'C:/Windows/Fonts/Malgun.ttf' #적용할 폰트\n",
    "font_family = fm.FontProperties(fname=font_fname).get_name() #폰트 설정\n",
    "plt.rcParams[\"font.family\"] = font_family  #폰트 적용\n",
    "\n",
    "os.chdir(r\"C:\\Users\\82109\\project\\2021 빅데이터 경진대회\")"
   ]
  },
  {
   "cell_type": "code",
   "execution_count": 2,
   "id": "a8ee8931",
   "metadata": {},
   "outputs": [],
   "source": [
    "pump = pd.read_csv('펌프_선박엔진.csv')"
   ]
  },
  {
   "cell_type": "code",
   "execution_count": 78,
   "id": "bf355087",
   "metadata": {},
   "outputs": [],
   "source": [
    "gong = pd.read_csv('공작기계_선박엔진.csv')"
   ]
  },
  {
   "cell_type": "code",
   "execution_count": 79,
   "id": "fa926ccd",
   "metadata": {},
   "outputs": [
    {
     "data": {
      "text/plain": [
       "CO-295    9979200\n",
       "Name: COMPANY_NAME, dtype: int64"
      ]
     },
     "execution_count": 79,
     "metadata": {},
     "output_type": "execute_result"
    }
   ],
   "source": [
    "gong['COMPANY_NAME'].value_counts()"
   ]
  },
  {
   "cell_type": "code",
   "execution_count": 80,
   "id": "f56bbd93",
   "metadata": {
    "scrolled": true
   },
   "outputs": [
    {
     "data": {
      "text/plain": [
       "KBV_1호기    1864800\n",
       "KBV_2호기    1864800\n",
       "보명보링기      1864800\n",
       "선반1        1562400\n",
       "수직선반       1562400\n",
       "선반3        1260000\n",
       "Name: facility_name, dtype: int64"
      ]
     },
     "execution_count": 80,
     "metadata": {},
     "output_type": "execute_result"
    }
   ],
   "source": [
    "gong['facility_name'].value_counts()"
   ]
  },
  {
   "cell_type": "code",
   "execution_count": 94,
   "id": "ab6fec3b",
   "metadata": {},
   "outputs": [],
   "source": [
    "gong = gong.groupby([\"facility_name\",\"역률평균_LABEL\"]).size().unstack()"
   ]
  },
  {
   "cell_type": "code",
   "execution_count": 95,
   "id": "bfca37ab",
   "metadata": {},
   "outputs": [
    {
     "data": {
      "text/html": [
       "<div>\n",
       "<style scoped>\n",
       "    .dataframe tbody tr th:only-of-type {\n",
       "        vertical-align: middle;\n",
       "    }\n",
       "\n",
       "    .dataframe tbody tr th {\n",
       "        vertical-align: top;\n",
       "    }\n",
       "\n",
       "    .dataframe thead th {\n",
       "        text-align: right;\n",
       "    }\n",
       "</style>\n",
       "<table border=\"1\" class=\"dataframe\">\n",
       "  <thead>\n",
       "    <tr style=\"text-align: right;\">\n",
       "      <th>역률평균_LABEL</th>\n",
       "      <th>경고</th>\n",
       "      <th>정상</th>\n",
       "      <th>주의</th>\n",
       "    </tr>\n",
       "    <tr>\n",
       "      <th>facility_name</th>\n",
       "      <th></th>\n",
       "      <th></th>\n",
       "      <th></th>\n",
       "    </tr>\n",
       "  </thead>\n",
       "  <tbody>\n",
       "    <tr>\n",
       "      <th>KBV_1호기</th>\n",
       "      <td>116445.0</td>\n",
       "      <td>13300.0</td>\n",
       "      <td>1735055.0</td>\n",
       "    </tr>\n",
       "    <tr>\n",
       "      <th>KBV_2호기</th>\n",
       "      <td>504560.0</td>\n",
       "      <td>1090565.0</td>\n",
       "      <td>269675.0</td>\n",
       "    </tr>\n",
       "    <tr>\n",
       "      <th>보명보링기</th>\n",
       "      <td>1864275.0</td>\n",
       "      <td>105.0</td>\n",
       "      <td>420.0</td>\n",
       "    </tr>\n",
       "    <tr>\n",
       "      <th>선반1</th>\n",
       "      <td>1560895.0</td>\n",
       "      <td>NaN</td>\n",
       "      <td>1505.0</td>\n",
       "    </tr>\n",
       "    <tr>\n",
       "      <th>선반3</th>\n",
       "      <td>1260000.0</td>\n",
       "      <td>NaN</td>\n",
       "      <td>NaN</td>\n",
       "    </tr>\n",
       "    <tr>\n",
       "      <th>수직선반</th>\n",
       "      <td>1090775.0</td>\n",
       "      <td>35.0</td>\n",
       "      <td>471590.0</td>\n",
       "    </tr>\n",
       "  </tbody>\n",
       "</table>\n",
       "</div>"
      ],
      "text/plain": [
       "역률평균_LABEL            경고         정상         주의\n",
       "facility_name                                 \n",
       "KBV_1호기         116445.0    13300.0  1735055.0\n",
       "KBV_2호기         504560.0  1090565.0   269675.0\n",
       "보명보링기          1864275.0      105.0      420.0\n",
       "선반1            1560895.0        NaN     1505.0\n",
       "선반3            1260000.0        NaN        NaN\n",
       "수직선반           1090775.0       35.0   471590.0"
      ]
     },
     "execution_count": 95,
     "metadata": {},
     "output_type": "execute_result"
    }
   ],
   "source": [
    "gong"
   ]
  },
  {
   "cell_type": "code",
   "execution_count": 81,
   "id": "34d3c9d8",
   "metadata": {},
   "outputs": [
    {
     "data": {
      "text/plain": [
       "주의    1735055\n",
       "경고     116445\n",
       "정상      13300\n",
       "Name: 역률평균_LABEL, dtype: int64"
      ]
     },
     "execution_count": 81,
     "metadata": {},
     "output_type": "execute_result"
    }
   ],
   "source": [
    "gong[gong['facility_name']=='KBV_1호기']['역률평균_LABEL'].value_counts()"
   ]
  },
  {
   "cell_type": "code",
   "execution_count": 83,
   "id": "2d73f9f5",
   "metadata": {},
   "outputs": [],
   "source": [
    "고 = pd.DataFrame(gong[gong['facility_name']=='KBV_1호기']['역률평균_LABEL'].value_counts())"
   ]
  },
  {
   "cell_type": "code",
   "execution_count": 84,
   "id": "b34c4b77",
   "metadata": {},
   "outputs": [
    {
     "data": {
      "text/html": [
       "<div>\n",
       "<style scoped>\n",
       "    .dataframe tbody tr th:only-of-type {\n",
       "        vertical-align: middle;\n",
       "    }\n",
       "\n",
       "    .dataframe tbody tr th {\n",
       "        vertical-align: top;\n",
       "    }\n",
       "\n",
       "    .dataframe thead th {\n",
       "        text-align: right;\n",
       "    }\n",
       "</style>\n",
       "<table border=\"1\" class=\"dataframe\">\n",
       "  <thead>\n",
       "    <tr style=\"text-align: right;\">\n",
       "      <th></th>\n",
       "      <th>역률평균_LABEL</th>\n",
       "    </tr>\n",
       "  </thead>\n",
       "  <tbody>\n",
       "    <tr>\n",
       "      <th>주의</th>\n",
       "      <td>1735055</td>\n",
       "    </tr>\n",
       "    <tr>\n",
       "      <th>경고</th>\n",
       "      <td>116445</td>\n",
       "    </tr>\n",
       "    <tr>\n",
       "      <th>정상</th>\n",
       "      <td>13300</td>\n",
       "    </tr>\n",
       "  </tbody>\n",
       "</table>\n",
       "</div>"
      ],
      "text/plain": [
       "    역률평균_LABEL\n",
       "주의     1735055\n",
       "경고      116445\n",
       "정상       13300"
      ]
     },
     "execution_count": 84,
     "metadata": {},
     "output_type": "execute_result"
    }
   ],
   "source": [
    "고"
   ]
  },
  {
   "cell_type": "code",
   "execution_count": 85,
   "id": "7166a741",
   "metadata": {},
   "outputs": [],
   "source": [
    "고['KBV_2호기'] = pump[pump['facility_name']=='KBV_2호기']['역률평균_LABEL'].value_counts()"
   ]
  },
  {
   "cell_type": "code",
   "execution_count": 86,
   "id": "0a1f88fc",
   "metadata": {},
   "outputs": [],
   "source": [
    "고['보명보링기'] = pump[pump['facility_name']=='보명보링기']['역률평균_LABEL'].value_counts()"
   ]
  },
  {
   "cell_type": "code",
   "execution_count": 87,
   "id": "2965a5bb",
   "metadata": {},
   "outputs": [],
   "source": [
    "고['선반1'] = pump[pump['facility_name']=='선반1']['역률평균_LABEL'].value_counts()"
   ]
  },
  {
   "cell_type": "code",
   "execution_count": 88,
   "id": "33104bb5",
   "metadata": {},
   "outputs": [],
   "source": [
    "고['수직선반'] = pump[pump['facility_name']=='수직선반']['역률평균_LABEL'].value_counts()"
   ]
  },
  {
   "cell_type": "code",
   "execution_count": 89,
   "id": "4b2f32fe",
   "metadata": {},
   "outputs": [],
   "source": [
    "고['선반3'] = pump[pump['facility_name']=='선반3']['역률평균_LABEL'].value_counts()"
   ]
  },
  {
   "cell_type": "code",
   "execution_count": 90,
   "id": "866dd321",
   "metadata": {},
   "outputs": [],
   "source": [
    "고.columns = ['KBV_1호기','KBV_2호기','보명보링기', '선반1', '수직선반', '선반3']"
   ]
  },
  {
   "cell_type": "code",
   "execution_count": 97,
   "id": "53b776d6",
   "metadata": {},
   "outputs": [],
   "source": [
    "gong=gong.T"
   ]
  },
  {
   "cell_type": "code",
   "execution_count": 98,
   "id": "057ae081",
   "metadata": {},
   "outputs": [],
   "source": [
    "gong=gong.loc[['정상','주의','경고']]"
   ]
  },
  {
   "cell_type": "code",
   "execution_count": 99,
   "id": "1d150dbb",
   "metadata": {},
   "outputs": [
    {
     "data": {
      "text/html": [
       "<div>\n",
       "<style scoped>\n",
       "    .dataframe tbody tr th:only-of-type {\n",
       "        vertical-align: middle;\n",
       "    }\n",
       "\n",
       "    .dataframe tbody tr th {\n",
       "        vertical-align: top;\n",
       "    }\n",
       "\n",
       "    .dataframe thead th {\n",
       "        text-align: right;\n",
       "    }\n",
       "</style>\n",
       "<table border=\"1\" class=\"dataframe\">\n",
       "  <thead>\n",
       "    <tr style=\"text-align: right;\">\n",
       "      <th>facility_name</th>\n",
       "      <th>KBV_1호기</th>\n",
       "      <th>KBV_2호기</th>\n",
       "      <th>보명보링기</th>\n",
       "      <th>선반1</th>\n",
       "      <th>선반3</th>\n",
       "      <th>수직선반</th>\n",
       "    </tr>\n",
       "    <tr>\n",
       "      <th>역률평균_LABEL</th>\n",
       "      <th></th>\n",
       "      <th></th>\n",
       "      <th></th>\n",
       "      <th></th>\n",
       "      <th></th>\n",
       "      <th></th>\n",
       "    </tr>\n",
       "  </thead>\n",
       "  <tbody>\n",
       "    <tr>\n",
       "      <th>정상</th>\n",
       "      <td>13300.0</td>\n",
       "      <td>1090565.0</td>\n",
       "      <td>105.0</td>\n",
       "      <td>NaN</td>\n",
       "      <td>NaN</td>\n",
       "      <td>35.0</td>\n",
       "    </tr>\n",
       "    <tr>\n",
       "      <th>주의</th>\n",
       "      <td>1735055.0</td>\n",
       "      <td>269675.0</td>\n",
       "      <td>420.0</td>\n",
       "      <td>1505.0</td>\n",
       "      <td>NaN</td>\n",
       "      <td>471590.0</td>\n",
       "    </tr>\n",
       "    <tr>\n",
       "      <th>경고</th>\n",
       "      <td>116445.0</td>\n",
       "      <td>504560.0</td>\n",
       "      <td>1864275.0</td>\n",
       "      <td>1560895.0</td>\n",
       "      <td>1260000.0</td>\n",
       "      <td>1090775.0</td>\n",
       "    </tr>\n",
       "  </tbody>\n",
       "</table>\n",
       "</div>"
      ],
      "text/plain": [
       "facility_name    KBV_1호기    KBV_2호기      보명보링기        선반1        선반3  \\\n",
       "역률평균_LABEL                                                             \n",
       "정상               13300.0  1090565.0      105.0        NaN        NaN   \n",
       "주의             1735055.0   269675.0      420.0     1505.0        NaN   \n",
       "경고              116445.0   504560.0  1864275.0  1560895.0  1260000.0   \n",
       "\n",
       "facility_name       수직선반  \n",
       "역률평균_LABEL                \n",
       "정상                  35.0  \n",
       "주의              471590.0  \n",
       "경고             1090775.0  "
      ]
     },
     "execution_count": 99,
     "metadata": {},
     "output_type": "execute_result"
    }
   ],
   "source": [
    "gong"
   ]
  },
  {
   "cell_type": "code",
   "execution_count": 52,
   "id": "095027ee",
   "metadata": {
    "scrolled": true
   },
   "outputs": [
    {
     "data": {
      "text/plain": [
       "(array([0, 1, 2]), [Text(0, 0, '정상'), Text(1, 0, '경고'), Text(2, 0, '주의')])"
      ]
     },
     "execution_count": 52,
     "metadata": {},
     "output_type": "execute_result"
    },
    {
     "data": {
      "image/png": "[encoded data removed]",
      "text/plain": [
       "<Figure size 432x288 with 1 Axes>"
      ]
     },
     "metadata": {
      "needs_background": "light"
     },
     "output_type": "display_data"
    }
   ],
   "source": [
    "고.plot(kind = 'bar')\n",
    "plt.xticks(rotation = 0, fontsize = 13)"
   ]
  },
  {
   "cell_type": "code",
   "execution_count": 102,
   "id": "2d83b39e",
   "metadata": {},
   "outputs": [],
   "source": [
    "gong = gong.T"
   ]
  },
  {
   "cell_type": "code",
   "execution_count": 104,
   "id": "33a10bba",
   "metadata": {},
   "outputs": [
    {
     "data": {
      "image/png": "[encoded data removed]",
      "text/plain": [
       "<Figure size 432x288 with 1 Axes>"
      ]
     },
     "metadata": {
      "needs_background": "light"
     },
     "output_type": "display_data"
    }
   ],
   "source": [
    "gong.plot(kind='barh', stacked=True, color =['green','orange','red'])\n",
    "plt.xticks(rotation=0, fontsize=13)\n",
    "plt.title('공작기계 설비별 역률평균_LABEL')\n",
    "plt.show()"
   ]
  },
  {
   "cell_type": "code",
   "execution_count": null,
   "id": "967e8142",
   "metadata": {},
   "outputs": [],
   "source": []
  }
 ],
 "metadata": {
  "kernelspec": {
   "display_name": "Python 3",
   "language": "python",
   "name": "python3"
  },
  "language_info": {
   "codemirror_mode": {
    "name": "ipython",
    "version": 3
   },
   "file_extension": ".py",
   "mimetype": "text/x-python",
   "name": "python",
   "nbconvert_exporter": "python",
   "pygments_lexer": "ipython3",
   "version": "3.8.8"
  }
 },
 "nbformat": 4,
 "nbformat_minor": 5
}
