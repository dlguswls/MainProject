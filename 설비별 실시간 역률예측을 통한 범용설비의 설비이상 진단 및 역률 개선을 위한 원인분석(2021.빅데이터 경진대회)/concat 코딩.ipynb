{
 "cells": [
  {
   "cell_type": "code",
   "execution_count": null,
   "id": "65edec4d",
   "metadata": {},
   "outputs": [],
   "source": [
    "import os\n",
    "import pandas as pd\n",
    "import matplotlib.pyplot as plt\n",
    "import numpy as np\n",
    "import tensorflow as tf"
   ]
  },
  {
   "cell_type": "code",
   "execution_count": null,
   "id": "27bdd34e",
   "metadata": {},
   "outputs": [],
   "source": [
    "os.chdir(r\"C:\\Users\\82109\\project\\2021 빅데이터 경진대회\")"
   ]
  },
  {
   "cell_type": "code",
   "execution_count": null,
   "id": "234f63d3",
   "metadata": {},
   "outputs": [],
   "source": [
    "raw_data = pd.read_csv(\"펌프_선박엔진.csv\")"
   ]
  },
  {
   "cell_type": "markdown",
   "id": "e99b89a0",
   "metadata": {},
   "source": [
    "# 회사,설비명 추출하기"
   ]
  },
  {
   "cell_type": "code",
   "execution_count": null,
   "id": "93bdf4c2",
   "metadata": {},
   "outputs": [],
   "source": [
    "data_295 = raw_data[raw_data['COMPANY_NAME'] == 'CO-295']"
   ]
  },
  {
   "cell_type": "code",
   "execution_count": null,
   "id": "26ed766e",
   "metadata": {},
   "outputs": [],
   "source": [
    "comp_1 = data_295[data_295['facility_name'] == '컴프레서_1']"
   ]
  },
  {
   "cell_type": "code",
   "execution_count": null,
   "id": "82d83919",
   "metadata": {},
   "outputs": [],
   "source": [
    "col = ['전류평균', '온도', '선간전압평균', '상전압평균', '유효전력평균', '누적전력량', '역률평균', '주파수', '전압고조파평균', '무효전력평균']\n",
    "comp_clear = comp_1[comp_1['ITEM_NAME']==col[0]].iloc[:,:-6]\n",
    "for i in range(0,len(col)) : \n",
    "    values = list(comp_1[comp_1['ITEM_NAME']==col[i]]['ITEM_VALUE'])\n",
    "    comp_clear[col[i]] = values\n",
    "\n",
    "comp_clear['TIMESTAMP'] = list(comp_1[comp_1['ITEM_NAME']==col[0]].iloc[:,-4])   \n",
    "comp_clear['역률평균_LABEL'] = list(comp_1[comp_1['ITEM_NAME']==col[0]].iloc[:,-3])\n",
    "comp_clear['전압고조파평균_LABEL'] = list(comp_1[comp_1['ITEM_NAME']==col[0]].iloc[:,-1])"
   ]
  },
  {
   "cell_type": "code",
   "execution_count": null,
   "id": "c0e257fd",
   "metadata": {},
   "outputs": [],
   "source": [
    "comp_clear = comp_clear.drop(columns=['Unnamed: 0', 'Unnamed: 0.1','Unnamed: 0.1.1'], axis=1)"
   ]
  },
  {
   "cell_type": "code",
   "execution_count": null,
   "id": "ad5bddb9",
   "metadata": {},
   "outputs": [],
   "source": [
    "comp_1_one = comp_clear[['전류평균','역률평균','온도','전압고조파평균','TIMESTAMP']]"
   ]
  },
  {
   "cell_type": "code",
   "execution_count": null,
   "id": "fffb37f7",
   "metadata": {},
   "outputs": [],
   "source": [
    "comp_1_one['TIME'] = pd.to_datetime(comp_1_one['TIMESTAMP'])\n",
    "comp_1_one.drop('TIMESTAMP', axis = 1, inplace=True)\n",
    "comp_1_one.set_index('TIME', inplace=True)"
   ]
  },
  {
   "cell_type": "markdown",
   "id": "f0d5dc22",
   "metadata": {},
   "source": [
    "# csv로 저장"
   ]
  },
  {
   "cell_type": "code",
   "execution_count": null,
   "id": "e8f98f82",
   "metadata": {},
   "outputs": [],
   "source": [
    "comp_1_one.to_csv(r'C:\\Users\\USER\\csv\\comp1_train.csv')"
   ]
  },
  {
   "cell_type": "markdown",
   "id": "57996780",
   "metadata": {},
   "source": [
    "# train,val 두 파일 저장하고난 후"
   ]
  },
  {
   "cell_type": "markdown",
   "id": "3b206d52",
   "metadata": {},
   "source": [
    "# train val concat 하기"
   ]
  },
  {
   "cell_type": "code",
   "execution_count": null,
   "id": "303405b8",
   "metadata": {},
   "outputs": [],
   "source": [
    "train = pd.read_csv(\"comp1_train.csv\")\n",
    "val = pd.read_csv(\"comp1_val.csv\")"
   ]
  },
  {
   "cell_type": "code",
   "execution_count": null,
   "id": "8758cd5a",
   "metadata": {},
   "outputs": [],
   "source": [
    "train #0:43135"
   ]
  },
  {
   "cell_type": "code",
   "execution_count": null,
   "id": "a6fa6f12",
   "metadata": {},
   "outputs": [],
   "source": [
    "comp1_concat = pd.concat([train, val])"
   ]
  },
  {
   "cell_type": "code",
   "execution_count": null,
   "id": "7be82bfc",
   "metadata": {},
   "outputs": [],
   "source": [
    "comp1_concat.to_csv(r'C:\\Users\\USER\\csv\\comp1_concat.csv')"
   ]
  }
 ],
 "metadata": {
  "kernelspec": {
   "display_name": "Python 3",
   "language": "python",
   "name": "python3"
  },
  "language_info": {
   "codemirror_mode": {
    "name": "ipython",
    "version": 3
   },
   "file_extension": ".py",
   "mimetype": "text/x-python",
   "name": "python",
   "nbconvert_exporter": "python",
   "pygments_lexer": "ipython3",
   "version": "3.8.8"
  }
 },
 "nbformat": 4,
 "nbformat_minor": 5
}
