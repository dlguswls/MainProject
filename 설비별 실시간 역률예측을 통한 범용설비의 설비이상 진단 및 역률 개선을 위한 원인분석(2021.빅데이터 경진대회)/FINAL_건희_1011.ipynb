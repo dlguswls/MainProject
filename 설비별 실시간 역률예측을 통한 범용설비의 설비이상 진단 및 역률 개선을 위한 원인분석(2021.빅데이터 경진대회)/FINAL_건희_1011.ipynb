{
 "cells": [
  {
   "cell_type": "markdown",
   "id": "f952b25e",
   "metadata": {},
   "source": [
    "# 전처리_건희"
   ]
  },
  {
   "cell_type": "code",
   "execution_count": null,
   "id": "d52b88e6",
   "metadata": {},
   "outputs": [],
   "source": [
    "import pandas as pd\n",
    "import numpy as np\n",
    "import seaborn as sns\n",
    "import matplotlib.pyplot as plt"
   ]
  },
  {
   "cell_type": "code",
   "execution_count": 299,
   "id": "b447aa87",
   "metadata": {
    "scrolled": true
   },
   "outputs": [
    {
     "data": {
      "text/plain": [
       "Index(['품종', '색상', '성별', '체중', '중성화여부', '당시의나이', '상태', '접수일', '직영', '위탁'], dtype='object')"
      ]
     },
     "execution_count": 299,
     "metadata": {},
     "output_type": "execute_result"
    }
   ],
   "source": [
    "df_raw = pd.read_csv('data/#Final_Check.csv',encoding='cp949',index_col=0)\n",
    "df_raw.columns"
   ]
  },
  {
   "cell_type": "code",
   "execution_count": 307,
   "id": "d90265c1",
   "metadata": {
    "scrolled": true
   },
   "outputs": [
    {
     "data": {
      "text/html": [
       "<div>\n",
       "<style scoped>\n",
       "    .dataframe tbody tr th:only-of-type {\n",
       "        vertical-align: middle;\n",
       "    }\n",
       "\n",
       "    .dataframe tbody tr th {\n",
       "        vertical-align: top;\n",
       "    }\n",
       "\n",
       "    .dataframe thead th {\n",
       "        text-align: right;\n",
       "    }\n",
       "</style>\n",
       "<table border=\"1\" class=\"dataframe\">\n",
       "  <thead>\n",
       "    <tr style=\"text-align: right;\">\n",
       "      <th></th>\n",
       "      <th>품종</th>\n",
       "      <th>색상</th>\n",
       "      <th>성별</th>\n",
       "      <th>체중</th>\n",
       "      <th>중성화여부</th>\n",
       "      <th>당시의나이</th>\n",
       "      <th>상태</th>\n",
       "      <th>접수일</th>\n",
       "      <th>직영</th>\n",
       "      <th>위탁</th>\n",
       "    </tr>\n",
       "  </thead>\n",
       "  <tbody>\n",
       "    <tr>\n",
       "      <th>0</th>\n",
       "      <td>7</td>\n",
       "      <td>1</td>\n",
       "      <td>0</td>\n",
       "      <td>3.10</td>\n",
       "      <td>0</td>\n",
       "      <td>3</td>\n",
       "      <td>1</td>\n",
       "      <td>2017</td>\n",
       "      <td>1.0</td>\n",
       "      <td>NaN</td>\n",
       "    </tr>\n",
       "    <tr>\n",
       "      <th>1</th>\n",
       "      <td>3</td>\n",
       "      <td>2</td>\n",
       "      <td>0</td>\n",
       "      <td>7.95</td>\n",
       "      <td>0</td>\n",
       "      <td>3</td>\n",
       "      <td>1</td>\n",
       "      <td>2017</td>\n",
       "      <td>1.0</td>\n",
       "      <td>NaN</td>\n",
       "    </tr>\n",
       "    <tr>\n",
       "      <th>2</th>\n",
       "      <td>4</td>\n",
       "      <td>4</td>\n",
       "      <td>1</td>\n",
       "      <td>2.75</td>\n",
       "      <td>0</td>\n",
       "      <td>2</td>\n",
       "      <td>1</td>\n",
       "      <td>2017</td>\n",
       "      <td>1.0</td>\n",
       "      <td>NaN</td>\n",
       "    </tr>\n",
       "    <tr>\n",
       "      <th>3</th>\n",
       "      <td>4</td>\n",
       "      <td>3</td>\n",
       "      <td>0</td>\n",
       "      <td>4.00</td>\n",
       "      <td>1</td>\n",
       "      <td>1</td>\n",
       "      <td>1</td>\n",
       "      <td>2017</td>\n",
       "      <td>1.0</td>\n",
       "      <td>NaN</td>\n",
       "    </tr>\n",
       "    <tr>\n",
       "      <th>4</th>\n",
       "      <td>7</td>\n",
       "      <td>3</td>\n",
       "      <td>1</td>\n",
       "      <td>3.00</td>\n",
       "      <td>1</td>\n",
       "      <td>5</td>\n",
       "      <td>1</td>\n",
       "      <td>2017</td>\n",
       "      <td>1.0</td>\n",
       "      <td>NaN</td>\n",
       "    </tr>\n",
       "    <tr>\n",
       "      <th>...</th>\n",
       "      <td>...</td>\n",
       "      <td>...</td>\n",
       "      <td>...</td>\n",
       "      <td>...</td>\n",
       "      <td>...</td>\n",
       "      <td>...</td>\n",
       "      <td>...</td>\n",
       "      <td>...</td>\n",
       "      <td>...</td>\n",
       "      <td>...</td>\n",
       "    </tr>\n",
       "    <tr>\n",
       "      <th>337421</th>\n",
       "      <td>3</td>\n",
       "      <td>1</td>\n",
       "      <td>0</td>\n",
       "      <td>3.50</td>\n",
       "      <td>2</td>\n",
       "      <td>3</td>\n",
       "      <td>1</td>\n",
       "      <td>2021</td>\n",
       "      <td>NaN</td>\n",
       "      <td>1.0</td>\n",
       "    </tr>\n",
       "    <tr>\n",
       "      <th>337422</th>\n",
       "      <td>9</td>\n",
       "      <td>1</td>\n",
       "      <td>1</td>\n",
       "      <td>7.20</td>\n",
       "      <td>1</td>\n",
       "      <td>2</td>\n",
       "      <td>1</td>\n",
       "      <td>2021</td>\n",
       "      <td>NaN</td>\n",
       "      <td>1.0</td>\n",
       "    </tr>\n",
       "    <tr>\n",
       "      <th>337423</th>\n",
       "      <td>9</td>\n",
       "      <td>5</td>\n",
       "      <td>1</td>\n",
       "      <td>3.74</td>\n",
       "      <td>0</td>\n",
       "      <td>0</td>\n",
       "      <td>0</td>\n",
       "      <td>2021</td>\n",
       "      <td>NaN</td>\n",
       "      <td>1.0</td>\n",
       "    </tr>\n",
       "    <tr>\n",
       "      <th>337424</th>\n",
       "      <td>9</td>\n",
       "      <td>4</td>\n",
       "      <td>1</td>\n",
       "      <td>8.00</td>\n",
       "      <td>0</td>\n",
       "      <td>3</td>\n",
       "      <td>0</td>\n",
       "      <td>2021</td>\n",
       "      <td>NaN</td>\n",
       "      <td>1.0</td>\n",
       "    </tr>\n",
       "    <tr>\n",
       "      <th>337425</th>\n",
       "      <td>9</td>\n",
       "      <td>2</td>\n",
       "      <td>1</td>\n",
       "      <td>2.60</td>\n",
       "      <td>0</td>\n",
       "      <td>0</td>\n",
       "      <td>1</td>\n",
       "      <td>2021</td>\n",
       "      <td>NaN</td>\n",
       "      <td>1.0</td>\n",
       "    </tr>\n",
       "  </tbody>\n",
       "</table>\n",
       "<p>337426 rows × 10 columns</p>\n",
       "</div>"
      ],
      "text/plain": [
       "        품종  색상  성별    체중  중성화여부  당시의나이  상태   접수일   직영   위탁\n",
       "0        7   1   0  3.10      0      3   1  2017  1.0  NaN\n",
       "1        3   2   0  7.95      0      3   1  2017  1.0  NaN\n",
       "2        4   4   1  2.75      0      2   1  2017  1.0  NaN\n",
       "3        4   3   0  4.00      1      1   1  2017  1.0  NaN\n",
       "4        7   3   1  3.00      1      5   1  2017  1.0  NaN\n",
       "...     ..  ..  ..   ...    ...    ...  ..   ...  ...  ...\n",
       "337421   3   1   0  3.50      2      3   1  2021  NaN  1.0\n",
       "337422   9   1   1  7.20      1      2   1  2021  NaN  1.0\n",
       "337423   9   5   1  3.74      0      0   0  2021  NaN  1.0\n",
       "337424   9   4   1  8.00      0      3   0  2021  NaN  1.0\n",
       "337425   9   2   1  2.60      0      0   1  2021  NaN  1.0\n",
       "\n",
       "[337426 rows x 10 columns]"
      ]
     },
     "execution_count": 307,
     "metadata": {},
     "output_type": "execute_result"
    }
   ],
   "source": [
    "df_raw\n",
    "# 337426"
   ]
  },
  {
   "cell_type": "code",
   "execution_count": 312,
   "id": "deced824",
   "metadata": {},
   "outputs": [],
   "source": [
    "df_process =  df_raw.iloc[:, :-3]\n",
    "df_process = df_process[df_process[\"중성화여부\"]!=1]"
   ]
  },
  {
   "cell_type": "code",
   "execution_count": 313,
   "id": "0532e3ab",
   "metadata": {},
   "outputs": [
    {
     "data": {
      "text/html": [
       "<div>\n",
       "<style scoped>\n",
       "    .dataframe tbody tr th:only-of-type {\n",
       "        vertical-align: middle;\n",
       "    }\n",
       "\n",
       "    .dataframe tbody tr th {\n",
       "        vertical-align: top;\n",
       "    }\n",
       "\n",
       "    .dataframe thead th {\n",
       "        text-align: right;\n",
       "    }\n",
       "</style>\n",
       "<table border=\"1\" class=\"dataframe\">\n",
       "  <thead>\n",
       "    <tr style=\"text-align: right;\">\n",
       "      <th></th>\n",
       "      <th>품종</th>\n",
       "      <th>색상</th>\n",
       "      <th>성별</th>\n",
       "      <th>체중</th>\n",
       "      <th>중성화여부</th>\n",
       "      <th>당시의나이</th>\n",
       "      <th>상태</th>\n",
       "    </tr>\n",
       "  </thead>\n",
       "  <tbody>\n",
       "    <tr>\n",
       "      <th>0</th>\n",
       "      <td>7</td>\n",
       "      <td>1</td>\n",
       "      <td>0</td>\n",
       "      <td>3.10</td>\n",
       "      <td>0</td>\n",
       "      <td>3</td>\n",
       "      <td>1</td>\n",
       "    </tr>\n",
       "    <tr>\n",
       "      <th>1</th>\n",
       "      <td>3</td>\n",
       "      <td>2</td>\n",
       "      <td>0</td>\n",
       "      <td>7.95</td>\n",
       "      <td>0</td>\n",
       "      <td>3</td>\n",
       "      <td>1</td>\n",
       "    </tr>\n",
       "    <tr>\n",
       "      <th>2</th>\n",
       "      <td>4</td>\n",
       "      <td>4</td>\n",
       "      <td>1</td>\n",
       "      <td>2.75</td>\n",
       "      <td>0</td>\n",
       "      <td>2</td>\n",
       "      <td>1</td>\n",
       "    </tr>\n",
       "    <tr>\n",
       "      <th>8</th>\n",
       "      <td>3</td>\n",
       "      <td>1</td>\n",
       "      <td>1</td>\n",
       "      <td>1.20</td>\n",
       "      <td>0</td>\n",
       "      <td>1</td>\n",
       "      <td>1</td>\n",
       "    </tr>\n",
       "    <tr>\n",
       "      <th>9</th>\n",
       "      <td>3</td>\n",
       "      <td>5</td>\n",
       "      <td>0</td>\n",
       "      <td>5.40</td>\n",
       "      <td>2</td>\n",
       "      <td>1</td>\n",
       "      <td>1</td>\n",
       "    </tr>\n",
       "    <tr>\n",
       "      <th>...</th>\n",
       "      <td>...</td>\n",
       "      <td>...</td>\n",
       "      <td>...</td>\n",
       "      <td>...</td>\n",
       "      <td>...</td>\n",
       "      <td>...</td>\n",
       "      <td>...</td>\n",
       "    </tr>\n",
       "    <tr>\n",
       "      <th>337420</th>\n",
       "      <td>3</td>\n",
       "      <td>1</td>\n",
       "      <td>0</td>\n",
       "      <td>4.10</td>\n",
       "      <td>2</td>\n",
       "      <td>1</td>\n",
       "      <td>1</td>\n",
       "    </tr>\n",
       "    <tr>\n",
       "      <th>337421</th>\n",
       "      <td>3</td>\n",
       "      <td>1</td>\n",
       "      <td>0</td>\n",
       "      <td>3.50</td>\n",
       "      <td>2</td>\n",
       "      <td>3</td>\n",
       "      <td>1</td>\n",
       "    </tr>\n",
       "    <tr>\n",
       "      <th>337423</th>\n",
       "      <td>9</td>\n",
       "      <td>5</td>\n",
       "      <td>1</td>\n",
       "      <td>3.74</td>\n",
       "      <td>0</td>\n",
       "      <td>0</td>\n",
       "      <td>0</td>\n",
       "    </tr>\n",
       "    <tr>\n",
       "      <th>337424</th>\n",
       "      <td>9</td>\n",
       "      <td>4</td>\n",
       "      <td>1</td>\n",
       "      <td>8.00</td>\n",
       "      <td>0</td>\n",
       "      <td>3</td>\n",
       "      <td>0</td>\n",
       "    </tr>\n",
       "    <tr>\n",
       "      <th>337425</th>\n",
       "      <td>9</td>\n",
       "      <td>2</td>\n",
       "      <td>1</td>\n",
       "      <td>2.60</td>\n",
       "      <td>0</td>\n",
       "      <td>0</td>\n",
       "      <td>1</td>\n",
       "    </tr>\n",
       "  </tbody>\n",
       "</table>\n",
       "<p>236650 rows × 7 columns</p>\n",
       "</div>"
      ],
      "text/plain": [
       "        품종  색상  성별    체중  중성화여부  당시의나이  상태\n",
       "0        7   1   0  3.10      0      3   1\n",
       "1        3   2   0  7.95      0      3   1\n",
       "2        4   4   1  2.75      0      2   1\n",
       "8        3   1   1  1.20      0      1   1\n",
       "9        3   5   0  5.40      2      1   1\n",
       "...     ..  ..  ..   ...    ...    ...  ..\n",
       "337420   3   1   0  4.10      2      1   1\n",
       "337421   3   1   0  3.50      2      3   1\n",
       "337423   9   5   1  3.74      0      0   0\n",
       "337424   9   4   1  8.00      0      3   0\n",
       "337425   9   2   1  2.60      0      0   1\n",
       "\n",
       "[236650 rows x 7 columns]"
      ]
     },
     "execution_count": 313,
     "metadata": {},
     "output_type": "execute_result"
    }
   ],
   "source": [
    "df_process\n",
    "# 337426-> 236650"
   ]
  },
  {
   "cell_type": "code",
   "execution_count": 294,
   "id": "d790e55a",
   "metadata": {
    "scrolled": true
   },
   "outputs": [
    {
     "data": {
      "text/plain": [
       "<seaborn.axisgrid.PairGrid at 0x1a4dfa7be80>"
      ]
     },
     "execution_count": 294,
     "metadata": {},
     "output_type": "execute_result"
    },
    {
     "data": {
      "image/png": "[encoded data removed]",
      "text/plain": [
       "<Figure size 1800x1800 with 110 Axes>"
      ]
     },
     "metadata": {
      "needs_background": "light"
     },
     "output_type": "display_data"
    }
   ],
   "source": [
    "plt.rcParams['font.family'] = 'Malgun Gothic'\n",
    "plt.rcParams['axes.unicode_minus'] = False\n",
    "\n",
    "sns.pairplot(df_test)"
   ]
  },
  {
   "cell_type": "code",
   "execution_count": null,
   "id": "6e95f93c",
   "metadata": {},
   "outputs": [],
   "source": [
    "df_test"
   ]
  },
  {
   "cell_type": "code",
   "execution_count": null,
   "id": "c85ac604",
   "metadata": {},
   "outputs": [],
   "source": [
    "sns.violinplot(x=\"day\", y=\"total_bill\", data=tips)\n",
    "plt.title(\"요일 별 전체 팁의 Violin Plot\")\n",
    "plt.show()"
   ]
  },
  {
   "cell_type": "code",
   "execution_count": null,
   "id": "38ac8c34",
   "metadata": {
    "scrolled": true
   },
   "outputs": [],
   "source": [
    "plt.figure(figsize = (20, 10))\n",
    "sns.violinplot(data = df_test, x = \"품종\", y = \"체중\")"
   ]
  },
  {
   "cell_type": "code",
   "execution_count": null,
   "id": "cf97c6b2",
   "metadata": {
    "scrolled": true
   },
   "outputs": [],
   "source": [
    "sns.boxplot(data = df_test[\"체중\"])"
   ]
  },
  {
   "cell_type": "code",
   "execution_count": 314,
   "id": "c180656b",
   "metadata": {},
   "outputs": [],
   "source": [
    "import numpy as np\n",
    "\n",
    "def get_outlier(df=None, column=None, weight=1.5):\n",
    "  # target 값과 상관관계가 높은 열을 우선적으로 진행\n",
    "  quantile_25 = np.percentile(df[column].values, 25)\n",
    "  quantile_75 = np.percentile(df[column].values, 75)\n",
    "\n",
    "  IQR = quantile_75 - quantile_25\n",
    "  IQR_weight = IQR*weight\n",
    "  \n",
    "  lowest = quantile_25 - IQR_weight\n",
    "  highest = quantile_75 + IQR_weight\n",
    "  \n",
    "  outlier_idx = df[column][ (df[column] < lowest) | (df[column] > highest) ].index\n",
    "  return outlier_idx\n",
    "\n",
    "# 함수 사용해서 이상치 값 삭제\n",
    "oulier_idx = get_outlier(df=df_process, column='체중', weight=1.5)\n",
    "df_process.drop(outlier_idx, axis=0, inplace=True)"
   ]
  },
  {
   "cell_type": "code",
   "execution_count": 315,
   "id": "84f5d7b3",
   "metadata": {},
   "outputs": [
    {
     "data": {
      "text/html": [
       "<div>\n",
       "<style scoped>\n",
       "    .dataframe tbody tr th:only-of-type {\n",
       "        vertical-align: middle;\n",
       "    }\n",
       "\n",
       "    .dataframe tbody tr th {\n",
       "        vertical-align: top;\n",
       "    }\n",
       "\n",
       "    .dataframe thead th {\n",
       "        text-align: right;\n",
       "    }\n",
       "</style>\n",
       "<table border=\"1\" class=\"dataframe\">\n",
       "  <thead>\n",
       "    <tr style=\"text-align: right;\">\n",
       "      <th></th>\n",
       "      <th>품종</th>\n",
       "      <th>색상</th>\n",
       "      <th>성별</th>\n",
       "      <th>체중</th>\n",
       "      <th>중성화여부</th>\n",
       "      <th>당시의나이</th>\n",
       "      <th>상태</th>\n",
       "    </tr>\n",
       "  </thead>\n",
       "  <tbody>\n",
       "    <tr>\n",
       "      <th>0</th>\n",
       "      <td>7</td>\n",
       "      <td>1</td>\n",
       "      <td>0</td>\n",
       "      <td>3.10</td>\n",
       "      <td>0</td>\n",
       "      <td>3</td>\n",
       "      <td>1</td>\n",
       "    </tr>\n",
       "    <tr>\n",
       "      <th>1</th>\n",
       "      <td>3</td>\n",
       "      <td>2</td>\n",
       "      <td>0</td>\n",
       "      <td>7.95</td>\n",
       "      <td>0</td>\n",
       "      <td>3</td>\n",
       "      <td>1</td>\n",
       "    </tr>\n",
       "    <tr>\n",
       "      <th>2</th>\n",
       "      <td>4</td>\n",
       "      <td>4</td>\n",
       "      <td>1</td>\n",
       "      <td>2.75</td>\n",
       "      <td>0</td>\n",
       "      <td>2</td>\n",
       "      <td>1</td>\n",
       "    </tr>\n",
       "    <tr>\n",
       "      <th>8</th>\n",
       "      <td>3</td>\n",
       "      <td>1</td>\n",
       "      <td>1</td>\n",
       "      <td>1.20</td>\n",
       "      <td>0</td>\n",
       "      <td>1</td>\n",
       "      <td>1</td>\n",
       "    </tr>\n",
       "    <tr>\n",
       "      <th>9</th>\n",
       "      <td>3</td>\n",
       "      <td>5</td>\n",
       "      <td>0</td>\n",
       "      <td>5.40</td>\n",
       "      <td>2</td>\n",
       "      <td>1</td>\n",
       "      <td>1</td>\n",
       "    </tr>\n",
       "    <tr>\n",
       "      <th>...</th>\n",
       "      <td>...</td>\n",
       "      <td>...</td>\n",
       "      <td>...</td>\n",
       "      <td>...</td>\n",
       "      <td>...</td>\n",
       "      <td>...</td>\n",
       "      <td>...</td>\n",
       "    </tr>\n",
       "    <tr>\n",
       "      <th>337420</th>\n",
       "      <td>3</td>\n",
       "      <td>1</td>\n",
       "      <td>0</td>\n",
       "      <td>4.10</td>\n",
       "      <td>2</td>\n",
       "      <td>1</td>\n",
       "      <td>1</td>\n",
       "    </tr>\n",
       "    <tr>\n",
       "      <th>337421</th>\n",
       "      <td>3</td>\n",
       "      <td>1</td>\n",
       "      <td>0</td>\n",
       "      <td>3.50</td>\n",
       "      <td>2</td>\n",
       "      <td>3</td>\n",
       "      <td>1</td>\n",
       "    </tr>\n",
       "    <tr>\n",
       "      <th>337423</th>\n",
       "      <td>9</td>\n",
       "      <td>5</td>\n",
       "      <td>1</td>\n",
       "      <td>3.74</td>\n",
       "      <td>0</td>\n",
       "      <td>0</td>\n",
       "      <td>0</td>\n",
       "    </tr>\n",
       "    <tr>\n",
       "      <th>337424</th>\n",
       "      <td>9</td>\n",
       "      <td>4</td>\n",
       "      <td>1</td>\n",
       "      <td>8.00</td>\n",
       "      <td>0</td>\n",
       "      <td>3</td>\n",
       "      <td>0</td>\n",
       "    </tr>\n",
       "    <tr>\n",
       "      <th>337425</th>\n",
       "      <td>9</td>\n",
       "      <td>2</td>\n",
       "      <td>1</td>\n",
       "      <td>2.60</td>\n",
       "      <td>0</td>\n",
       "      <td>0</td>\n",
       "      <td>1</td>\n",
       "    </tr>\n",
       "  </tbody>\n",
       "</table>\n",
       "<p>223076 rows × 7 columns</p>\n",
       "</div>"
      ],
      "text/plain": [
       "        품종  색상  성별    체중  중성화여부  당시의나이  상태\n",
       "0        7   1   0  3.10      0      3   1\n",
       "1        3   2   0  7.95      0      3   1\n",
       "2        4   4   1  2.75      0      2   1\n",
       "8        3   1   1  1.20      0      1   1\n",
       "9        3   5   0  5.40      2      1   1\n",
       "...     ..  ..  ..   ...    ...    ...  ..\n",
       "337420   3   1   0  4.10      2      1   1\n",
       "337421   3   1   0  3.50      2      3   1\n",
       "337423   9   5   1  3.74      0      0   0\n",
       "337424   9   4   1  8.00      0      3   0\n",
       "337425   9   2   1  2.60      0      0   1\n",
       "\n",
       "[223076 rows x 7 columns]"
      ]
     },
     "execution_count": 315,
     "metadata": {},
     "output_type": "execute_result"
    }
   ],
   "source": [
    "df_process\n",
    "#236650 -> 223076"
   ]
  },
  {
   "cell_type": "markdown",
   "id": "3b25c54d",
   "metadata": {},
   "source": [
    "## 👀 df_test 체중 날려 , 중성화도 날림"
   ]
  },
  {
   "cell_type": "code",
   "execution_count": 141,
   "id": "37a1a65d",
   "metadata": {
    "scrolled": true
   },
   "outputs": [
    {
     "data": {
      "text/html": [
       "<div>\n",
       "<style scoped>\n",
       "    .dataframe tbody tr th:only-of-type {\n",
       "        vertical-align: middle;\n",
       "    }\n",
       "\n",
       "    .dataframe tbody tr th {\n",
       "        vertical-align: top;\n",
       "    }\n",
       "\n",
       "    .dataframe thead th {\n",
       "        text-align: right;\n",
       "    }\n",
       "</style>\n",
       "<table border=\"1\" class=\"dataframe\">\n",
       "  <thead>\n",
       "    <tr style=\"text-align: right;\">\n",
       "      <th></th>\n",
       "      <th>품종</th>\n",
       "      <th>색상</th>\n",
       "      <th>성별</th>\n",
       "      <th>체중</th>\n",
       "      <th>중성화여부</th>\n",
       "      <th>당시의나이</th>\n",
       "      <th>상태</th>\n",
       "      <th>접수일</th>\n",
       "    </tr>\n",
       "  </thead>\n",
       "  <tbody>\n",
       "    <tr>\n",
       "      <th>0</th>\n",
       "      <td>7</td>\n",
       "      <td>1</td>\n",
       "      <td>0</td>\n",
       "      <td>3.10</td>\n",
       "      <td>0</td>\n",
       "      <td>3</td>\n",
       "      <td>1</td>\n",
       "      <td>2017</td>\n",
       "    </tr>\n",
       "    <tr>\n",
       "      <th>1</th>\n",
       "      <td>3</td>\n",
       "      <td>2</td>\n",
       "      <td>0</td>\n",
       "      <td>7.95</td>\n",
       "      <td>0</td>\n",
       "      <td>3</td>\n",
       "      <td>1</td>\n",
       "      <td>2017</td>\n",
       "    </tr>\n",
       "    <tr>\n",
       "      <th>2</th>\n",
       "      <td>4</td>\n",
       "      <td>4</td>\n",
       "      <td>1</td>\n",
       "      <td>2.75</td>\n",
       "      <td>0</td>\n",
       "      <td>2</td>\n",
       "      <td>1</td>\n",
       "      <td>2017</td>\n",
       "    </tr>\n",
       "    <tr>\n",
       "      <th>8</th>\n",
       "      <td>3</td>\n",
       "      <td>1</td>\n",
       "      <td>1</td>\n",
       "      <td>1.20</td>\n",
       "      <td>0</td>\n",
       "      <td>1</td>\n",
       "      <td>1</td>\n",
       "      <td>2017</td>\n",
       "    </tr>\n",
       "    <tr>\n",
       "      <th>9</th>\n",
       "      <td>3</td>\n",
       "      <td>5</td>\n",
       "      <td>0</td>\n",
       "      <td>5.40</td>\n",
       "      <td>2</td>\n",
       "      <td>1</td>\n",
       "      <td>1</td>\n",
       "      <td>2017</td>\n",
       "    </tr>\n",
       "    <tr>\n",
       "      <th>...</th>\n",
       "      <td>...</td>\n",
       "      <td>...</td>\n",
       "      <td>...</td>\n",
       "      <td>...</td>\n",
       "      <td>...</td>\n",
       "      <td>...</td>\n",
       "      <td>...</td>\n",
       "      <td>...</td>\n",
       "    </tr>\n",
       "    <tr>\n",
       "      <th>337420</th>\n",
       "      <td>3</td>\n",
       "      <td>1</td>\n",
       "      <td>0</td>\n",
       "      <td>4.10</td>\n",
       "      <td>2</td>\n",
       "      <td>1</td>\n",
       "      <td>1</td>\n",
       "      <td>2021</td>\n",
       "    </tr>\n",
       "    <tr>\n",
       "      <th>337421</th>\n",
       "      <td>3</td>\n",
       "      <td>1</td>\n",
       "      <td>0</td>\n",
       "      <td>3.50</td>\n",
       "      <td>2</td>\n",
       "      <td>3</td>\n",
       "      <td>1</td>\n",
       "      <td>2021</td>\n",
       "    </tr>\n",
       "    <tr>\n",
       "      <th>337423</th>\n",
       "      <td>9</td>\n",
       "      <td>5</td>\n",
       "      <td>1</td>\n",
       "      <td>3.74</td>\n",
       "      <td>0</td>\n",
       "      <td>0</td>\n",
       "      <td>0</td>\n",
       "      <td>2021</td>\n",
       "    </tr>\n",
       "    <tr>\n",
       "      <th>337424</th>\n",
       "      <td>9</td>\n",
       "      <td>4</td>\n",
       "      <td>1</td>\n",
       "      <td>8.00</td>\n",
       "      <td>0</td>\n",
       "      <td>3</td>\n",
       "      <td>0</td>\n",
       "      <td>2021</td>\n",
       "    </tr>\n",
       "    <tr>\n",
       "      <th>337425</th>\n",
       "      <td>9</td>\n",
       "      <td>2</td>\n",
       "      <td>1</td>\n",
       "      <td>2.60</td>\n",
       "      <td>0</td>\n",
       "      <td>0</td>\n",
       "      <td>1</td>\n",
       "      <td>2021</td>\n",
       "    </tr>\n",
       "  </tbody>\n",
       "</table>\n",
       "<p>215466 rows × 8 columns</p>\n",
       "</div>"
      ],
      "text/plain": [
       "        품종  색상  성별    체중  중성화여부  당시의나이  상태   접수일\n",
       "0        7   1   0  3.10      0      3   1  2017\n",
       "1        3   2   0  7.95      0      3   1  2017\n",
       "2        4   4   1  2.75      0      2   1  2017\n",
       "8        3   1   1  1.20      0      1   1  2017\n",
       "9        3   5   0  5.40      2      1   1  2017\n",
       "...     ..  ..  ..   ...    ...    ...  ..   ...\n",
       "337420   3   1   0  4.10      2      1   1  2021\n",
       "337421   3   1   0  3.50      2      3   1  2021\n",
       "337423   9   5   1  3.74      0      0   0  2021\n",
       "337424   9   4   1  8.00      0      3   0  2021\n",
       "337425   9   2   1  2.60      0      0   1  2021\n",
       "\n",
       "[215466 rows x 8 columns]"
      ]
     },
     "execution_count": 141,
     "metadata": {},
     "output_type": "execute_result"
    }
   ],
   "source": [
    "df_test # 체중 아웃라이어 제거 후"
   ]
  },
  {
   "cell_type": "code",
   "execution_count": 150,
   "id": "ee292e02",
   "metadata": {},
   "outputs": [
    {
     "data": {
      "text/plain": [
       "1    62974\n",
       "0    37802\n",
       "Name: 성별, dtype: int64"
      ]
     },
     "execution_count": 150,
     "metadata": {},
     "output_type": "execute_result"
    }
   ],
   "source": [
    "df_test[df_test[\"중성화여부\"] ==1][\"성별\"].value_counts()"
   ]
  },
  {
   "cell_type": "code",
   "execution_count": 316,
   "id": "349d077e",
   "metadata": {},
   "outputs": [
    {
     "data": {
      "text/plain": [
       "0    213472\n",
       "2      9604\n",
       "Name: 중성화여부, dtype: int64"
      ]
     },
     "execution_count": 316,
     "metadata": {},
     "output_type": "execute_result"
    }
   ],
   "source": [
    "df_process[\"중성화여부\"].value_counts()"
   ]
  },
  {
   "cell_type": "code",
   "execution_count": null,
   "id": "c20bad17",
   "metadata": {
    "scrolled": true
   },
   "outputs": [],
   "source": [
    "plt.figure(figsize = (20, 5))\n",
    "\n",
    "sns.boxenplot(data = outlier, x  =\"품종\", y = \"체중\")"
   ]
  },
  {
   "cell_type": "code",
   "execution_count": null,
   "id": "eb18f71c",
   "metadata": {
    "scrolled": true
   },
   "outputs": [],
   "source": [
    "#품종별 중성화 여부\n",
    "\n",
    "df_test.groupby([\"품종\", \"성별\"]).count()"
   ]
  },
  {
   "cell_type": "code",
   "execution_count": null,
   "id": "8553c0a4",
   "metadata": {},
   "outputs": [],
   "source": [
    "plt.figure(figsize = (20, 5))\n",
    "\n",
    "sns.boxenplot(data = df_test, x  =\"품종\", y = \"체중\")"
   ]
  },
  {
   "cell_type": "code",
   "execution_count": null,
   "id": "c0bfea55",
   "metadata": {},
   "outputs": [],
   "source": [
    "sns.boxplot(x=\"\", y=\"total_bill\", hue=\"sex\", data=tips)\n",
    "plt.title(\"요일 별, 성별 전체 팁의 Box Plot\")\n",
    "plt.show()"
   ]
  },
  {
   "cell_type": "code",
   "execution_count": null,
   "id": "566561c6",
   "metadata": {
    "scrolled": true
   },
   "outputs": [],
   "source": [
    "df_test"
   ]
  },
  {
   "cell_type": "code",
   "execution_count": null,
   "id": "103cf6f3",
   "metadata": {},
   "outputs": [],
   "source": [
    "plt.figure(figsize = (20, 5))\n",
    "\n",
    "sns.violinplot(data = df_test, x=\"품종\", y=\"체중\")\n",
    "plt.title(\"요일 별, 성별 전체 팁의 Box Plot\")\n",
    "plt.show()"
   ]
  },
  {
   "cell_type": "markdown",
   "id": "4c95ef6b",
   "metadata": {},
   "source": [
    "![캡처](C:|Users|user|Desktop|캡처.png)"
   ]
  },
  {
   "cell_type": "code",
   "execution_count": null,
   "id": "690499cf",
   "metadata": {
    "scrolled": false
   },
   "outputs": [],
   "source": [
    "plt.figure(figsize = (20, 5))\n",
    "\n",
    "sns.violinplot(data = df_test, x=\"품종\", y=\"당시의나이\")\n",
    "plt.title(\"요일 별, 성별 전체 팁의 Box Plot\")\n",
    "plt.show()"
   ]
  },
  {
   "cell_type": "code",
   "execution_count": null,
   "id": "36dce234",
   "metadata": {},
   "outputs": [],
   "source": [
    "plt.figure(figsize = (20, 5))\n",
    "\n",
    "sns.boxplot(data = df_test[\"나이\"])"
   ]
  },
  {
   "cell_type": "code",
   "execution_count": 134,
   "id": "7bf823c0",
   "metadata": {
    "scrolled": false
   },
   "outputs": [
    {
     "data": {
      "text/plain": [
       "<AxesSubplot:xlabel='품종', ylabel='당시의나이'>"
      ]
     },
     "execution_count": 134,
     "metadata": {},
     "output_type": "execute_result"
    },
    {
     "data": {
      "image/png": "[encoded data removed]",
      "text/plain": [
       "<Figure size 1440x360 with 1 Axes>"
      ]
     },
     "metadata": {
      "needs_background": "light"
     },
     "output_type": "display_data"
    }
   ],
   "source": [
    "plt.figure(figsize = (20, 5))\n",
    "\n",
    "sns.boxplot(data = df_test, x = \"품종\", y = \"당시의나이\")"
   ]
  },
  {
   "cell_type": "code",
   "execution_count": 273,
   "id": "1582000c",
   "metadata": {},
   "outputs": [
    {
     "data": {
      "text/plain": [
       "0    89028\n",
       "1    56139\n",
       "Name: 상태, dtype: int64"
      ]
     },
     "execution_count": 273,
     "metadata": {},
     "output_type": "execute_result"
    }
   ],
   "source": [
    "df_test[df_test[\"당시의나이\"]== 0][\"상태\"].value_counts()"
   ]
  },
  {
   "cell_type": "code",
   "execution_count": 274,
   "id": "67bc21c6",
   "metadata": {},
   "outputs": [
    {
     "data": {
      "text/plain": [
       "<AxesSubplot:xlabel='당시의나이', ylabel='count'>"
      ]
     },
     "execution_count": 274,
     "metadata": {},
     "output_type": "execute_result"
    },
    {
     "data": {
      "image/png": "[encoded data removed]",
      "text/plain": [
       "<Figure size 1440x360 with 1 Axes>"
      ]
     },
     "metadata": {
      "needs_background": "light"
     },
     "output_type": "display_data"
    }
   ],
   "source": [
    "plt.figure(figsize = (20, 5))\n",
    "\n",
    "sns.countplot(data = df_test, x = \"당시의나이\", hue = \"상태\")"
   ]
  },
  {
   "cell_type": "code",
   "execution_count": 277,
   "id": "540a9a09",
   "metadata": {},
   "outputs": [
    {
     "data": {
      "text/plain": [
       "<AxesSubplot:xlabel='색상', ylabel='count'>"
      ]
     },
     "execution_count": 277,
     "metadata": {},
     "output_type": "execute_result"
    },
    {
     "data": {
      "image/png": "[encoded data removed]",
      "text/plain": [
       "<Figure size 432x288 with 1 Axes>"
      ]
     },
     "metadata": {
      "needs_background": "light"
     },
     "output_type": "display_data"
    }
   ],
   "source": [
    "sns.countplot(data = df_test, x = \"색상\", hue = \"상태\")"
   ]
  },
  {
   "cell_type": "code",
   "execution_count": 260,
   "id": "26419246",
   "metadata": {},
   "outputs": [
    {
     "data": {
      "text/plain": [
       "<AxesSubplot:xlabel='성별', ylabel='count'>"
      ]
     },
     "execution_count": 260,
     "metadata": {},
     "output_type": "execute_result"
    },
    {
     "data": {
      "image/png": "[encoded data removed]",
      "text/plain": [
       "<Figure size 432x288 with 1 Axes>"
      ]
     },
     "metadata": {
      "needs_background": "light"
     },
     "output_type": "display_data"
    }
   ],
   "source": [
    "sns.countplot(data = df, x = \"성별\", hue = \"상태\")"
   ]
  },
  {
   "cell_type": "code",
   "execution_count": 151,
   "id": "ee926e46",
   "metadata": {},
   "outputs": [
    {
     "data": {
      "text/plain": [
       "<AxesSubplot:>"
      ]
     },
     "execution_count": 151,
     "metadata": {},
     "output_type": "execute_result"
    },
    {
     "data": {
      "image/png": "[encoded data removed]",
      "text/plain": [
       "<Figure size 432x288 with 1 Axes>"
      ]
     },
     "metadata": {
      "needs_background": "light"
     },
     "output_type": "display_data"
    }
   ],
   "source": [
    "sns.boxplot(data = df[\"당시의나이\"])"
   ]
  },
  {
   "cell_type": "markdown",
   "id": "986b97a0",
   "metadata": {},
   "source": [
    "## 나이 날려"
   ]
  },
  {
   "cell_type": "code",
   "execution_count": 318,
   "id": "d9b2e197",
   "metadata": {},
   "outputs": [],
   "source": [
    "import numpy as np\n",
    "\n",
    "def get_outlier(df=None, column=None, weight=1.5):\n",
    "  # target 값과 상관관계가 높은 열을 우선적으로 진행\n",
    "  quantile_25 = np.percentile(df[column].values, 25)\n",
    "  quantile_75 = np.percentile(df[column].values, 75)\n",
    "\n",
    "  IQR = quantile_75 - quantile_25\n",
    "  IQR_weight = IQR*weight\n",
    "  \n",
    "  lowest = quantile_25 - IQR_weight\n",
    "  highest = quantile_75 + IQR_weight\n",
    "  \n",
    "  outlier_idx = df[column][ (df[column] < lowest) | (df[column] > highest) ].index\n",
    "  return outlier_idx\n",
    "\n",
    "# 함수 사용해서 이상치 값 삭제\n",
    "outlier_idx = get_outlier(df=df_process, column='당시의나이', weight=1.5)\n",
    "df_process.drop(outlier_idx, axis=0, inplace=True)"
   ]
  },
  {
   "cell_type": "code",
   "execution_count": 416,
   "id": "5c87c508",
   "metadata": {
    "scrolled": true
   },
   "outputs": [
    {
     "data": {
      "text/html": [
       "<div>\n",
       "<style scoped>\n",
       "    .dataframe tbody tr th:only-of-type {\n",
       "        vertical-align: middle;\n",
       "    }\n",
       "\n",
       "    .dataframe tbody tr th {\n",
       "        vertical-align: top;\n",
       "    }\n",
       "\n",
       "    .dataframe thead th {\n",
       "        text-align: right;\n",
       "    }\n",
       "</style>\n",
       "<table border=\"1\" class=\"dataframe\">\n",
       "  <thead>\n",
       "    <tr style=\"text-align: right;\">\n",
       "      <th></th>\n",
       "      <th>품종</th>\n",
       "      <th>색상</th>\n",
       "      <th>성별</th>\n",
       "      <th>체중</th>\n",
       "      <th>중성화여부</th>\n",
       "      <th>당시의나이</th>\n",
       "      <th>상태</th>\n",
       "    </tr>\n",
       "  </thead>\n",
       "  <tbody>\n",
       "    <tr>\n",
       "      <th>0</th>\n",
       "      <td>7</td>\n",
       "      <td>1</td>\n",
       "      <td>0</td>\n",
       "      <td>3.10</td>\n",
       "      <td>0</td>\n",
       "      <td>3</td>\n",
       "      <td>1</td>\n",
       "    </tr>\n",
       "    <tr>\n",
       "      <th>1</th>\n",
       "      <td>3</td>\n",
       "      <td>2</td>\n",
       "      <td>0</td>\n",
       "      <td>7.95</td>\n",
       "      <td>0</td>\n",
       "      <td>3</td>\n",
       "      <td>1</td>\n",
       "    </tr>\n",
       "    <tr>\n",
       "      <th>2</th>\n",
       "      <td>4</td>\n",
       "      <td>4</td>\n",
       "      <td>1</td>\n",
       "      <td>2.75</td>\n",
       "      <td>0</td>\n",
       "      <td>2</td>\n",
       "      <td>1</td>\n",
       "    </tr>\n",
       "    <tr>\n",
       "      <th>8</th>\n",
       "      <td>3</td>\n",
       "      <td>1</td>\n",
       "      <td>1</td>\n",
       "      <td>1.20</td>\n",
       "      <td>0</td>\n",
       "      <td>1</td>\n",
       "      <td>1</td>\n",
       "    </tr>\n",
       "    <tr>\n",
       "      <th>9</th>\n",
       "      <td>3</td>\n",
       "      <td>5</td>\n",
       "      <td>0</td>\n",
       "      <td>5.40</td>\n",
       "      <td>2</td>\n",
       "      <td>1</td>\n",
       "      <td>1</td>\n",
       "    </tr>\n",
       "    <tr>\n",
       "      <th>...</th>\n",
       "      <td>...</td>\n",
       "      <td>...</td>\n",
       "      <td>...</td>\n",
       "      <td>...</td>\n",
       "      <td>...</td>\n",
       "      <td>...</td>\n",
       "      <td>...</td>\n",
       "    </tr>\n",
       "    <tr>\n",
       "      <th>337420</th>\n",
       "      <td>3</td>\n",
       "      <td>1</td>\n",
       "      <td>0</td>\n",
       "      <td>4.10</td>\n",
       "      <td>2</td>\n",
       "      <td>1</td>\n",
       "      <td>1</td>\n",
       "    </tr>\n",
       "    <tr>\n",
       "      <th>337421</th>\n",
       "      <td>3</td>\n",
       "      <td>1</td>\n",
       "      <td>0</td>\n",
       "      <td>3.50</td>\n",
       "      <td>2</td>\n",
       "      <td>3</td>\n",
       "      <td>1</td>\n",
       "    </tr>\n",
       "    <tr>\n",
       "      <th>337423</th>\n",
       "      <td>9</td>\n",
       "      <td>5</td>\n",
       "      <td>1</td>\n",
       "      <td>3.74</td>\n",
       "      <td>0</td>\n",
       "      <td>0</td>\n",
       "      <td>0</td>\n",
       "    </tr>\n",
       "    <tr>\n",
       "      <th>337424</th>\n",
       "      <td>9</td>\n",
       "      <td>4</td>\n",
       "      <td>1</td>\n",
       "      <td>8.00</td>\n",
       "      <td>0</td>\n",
       "      <td>3</td>\n",
       "      <td>0</td>\n",
       "    </tr>\n",
       "    <tr>\n",
       "      <th>337425</th>\n",
       "      <td>9</td>\n",
       "      <td>2</td>\n",
       "      <td>1</td>\n",
       "      <td>2.60</td>\n",
       "      <td>0</td>\n",
       "      <td>0</td>\n",
       "      <td>1</td>\n",
       "    </tr>\n",
       "  </tbody>\n",
       "</table>\n",
       "<p>221522 rows × 7 columns</p>\n",
       "</div>"
      ],
      "text/plain": [
       "        품종  색상  성별    체중  중성화여부  당시의나이  상태\n",
       "0        7   1   0  3.10      0      3   1\n",
       "1        3   2   0  7.95      0      3   1\n",
       "2        4   4   1  2.75      0      2   1\n",
       "8        3   1   1  1.20      0      1   1\n",
       "9        3   5   0  5.40      2      1   1\n",
       "...     ..  ..  ..   ...    ...    ...  ..\n",
       "337420   3   1   0  4.10      2      1   1\n",
       "337421   3   1   0  3.50      2      3   1\n",
       "337423   9   5   1  3.74      0      0   0\n",
       "337424   9   4   1  8.00      0      3   0\n",
       "337425   9   2   1  2.60      0      0   1\n",
       "\n",
       "[221522 rows x 7 columns]"
      ]
     },
     "execution_count": 416,
     "metadata": {},
     "output_type": "execute_result"
    }
   ],
   "source": [
    "df_process\n",
    "#223076 -> 221522"
   ]
  },
  {
   "cell_type": "code",
   "execution_count": 321,
   "id": "d778c6b6",
   "metadata": {},
   "outputs": [
    {
     "data": {
      "text/html": [
       "<div>\n",
       "<style scoped>\n",
       "    .dataframe tbody tr th:only-of-type {\n",
       "        vertical-align: middle;\n",
       "    }\n",
       "\n",
       "    .dataframe tbody tr th {\n",
       "        vertical-align: top;\n",
       "    }\n",
       "\n",
       "    .dataframe thead th {\n",
       "        text-align: right;\n",
       "    }\n",
       "</style>\n",
       "<table border=\"1\" class=\"dataframe\">\n",
       "  <thead>\n",
       "    <tr style=\"text-align: right;\">\n",
       "      <th></th>\n",
       "      <th>품종</th>\n",
       "      <th>색상</th>\n",
       "      <th>성별</th>\n",
       "      <th>체중</th>\n",
       "      <th>중성화여부</th>\n",
       "      <th>당시의나이</th>\n",
       "      <th>상태</th>\n",
       "    </tr>\n",
       "  </thead>\n",
       "  <tbody>\n",
       "    <tr>\n",
       "      <th>count</th>\n",
       "      <td>221522.000000</td>\n",
       "      <td>221522.000000</td>\n",
       "      <td>221522.000000</td>\n",
       "      <td>221522.000000</td>\n",
       "      <td>221522.000000</td>\n",
       "      <td>221522.000000</td>\n",
       "      <td>221522.000000</td>\n",
       "    </tr>\n",
       "    <tr>\n",
       "      <th>mean</th>\n",
       "      <td>3.326564</td>\n",
       "      <td>2.898620</td>\n",
       "      <td>0.443220</td>\n",
       "      <td>6.116958</td>\n",
       "      <td>0.086195</td>\n",
       "      <td>1.180804</td>\n",
       "      <td>0.419538</td>\n",
       "    </tr>\n",
       "    <tr>\n",
       "      <th>std</th>\n",
       "      <td>1.473663</td>\n",
       "      <td>1.652636</td>\n",
       "      <td>0.496767</td>\n",
       "      <td>6.054532</td>\n",
       "      <td>0.406153</td>\n",
       "      <td>1.492802</td>\n",
       "      <td>0.493485</td>\n",
       "    </tr>\n",
       "    <tr>\n",
       "      <th>min</th>\n",
       "      <td>0.000000</td>\n",
       "      <td>1.000000</td>\n",
       "      <td>0.000000</td>\n",
       "      <td>0.000000</td>\n",
       "      <td>0.000000</td>\n",
       "      <td>0.000000</td>\n",
       "      <td>0.000000</td>\n",
       "    </tr>\n",
       "    <tr>\n",
       "      <th>25%</th>\n",
       "      <td>3.000000</td>\n",
       "      <td>1.000000</td>\n",
       "      <td>0.000000</td>\n",
       "      <td>2.100000</td>\n",
       "      <td>0.000000</td>\n",
       "      <td>0.000000</td>\n",
       "      <td>0.000000</td>\n",
       "    </tr>\n",
       "    <tr>\n",
       "      <th>50%</th>\n",
       "      <td>3.000000</td>\n",
       "      <td>3.000000</td>\n",
       "      <td>0.000000</td>\n",
       "      <td>4.000000</td>\n",
       "      <td>0.000000</td>\n",
       "      <td>0.000000</td>\n",
       "      <td>0.000000</td>\n",
       "    </tr>\n",
       "    <tr>\n",
       "      <th>75%</th>\n",
       "      <td>3.000000</td>\n",
       "      <td>5.000000</td>\n",
       "      <td>1.000000</td>\n",
       "      <td>7.400000</td>\n",
       "      <td>0.000000</td>\n",
       "      <td>2.000000</td>\n",
       "      <td>1.000000</td>\n",
       "    </tr>\n",
       "    <tr>\n",
       "      <th>max</th>\n",
       "      <td>9.000000</td>\n",
       "      <td>5.000000</td>\n",
       "      <td>1.000000</td>\n",
       "      <td>78.000000</td>\n",
       "      <td>2.000000</td>\n",
       "      <td>5.000000</td>\n",
       "      <td>1.000000</td>\n",
       "    </tr>\n",
       "  </tbody>\n",
       "</table>\n",
       "</div>"
      ],
      "text/plain": [
       "                  품종             색상             성별             체중  \\\n",
       "count  221522.000000  221522.000000  221522.000000  221522.000000   \n",
       "mean        3.326564       2.898620       0.443220       6.116958   \n",
       "std         1.473663       1.652636       0.496767       6.054532   \n",
       "min         0.000000       1.000000       0.000000       0.000000   \n",
       "25%         3.000000       1.000000       0.000000       2.100000   \n",
       "50%         3.000000       3.000000       0.000000       4.000000   \n",
       "75%         3.000000       5.000000       1.000000       7.400000   \n",
       "max         9.000000       5.000000       1.000000      78.000000   \n",
       "\n",
       "               중성화여부          당시의나이             상태  \n",
       "count  221522.000000  221522.000000  221522.000000  \n",
       "mean        0.086195       1.180804       0.419538  \n",
       "std         0.406153       1.492802       0.493485  \n",
       "min         0.000000       0.000000       0.000000  \n",
       "25%         0.000000       0.000000       0.000000  \n",
       "50%         0.000000       0.000000       0.000000  \n",
       "75%         0.000000       2.000000       1.000000  \n",
       "max         2.000000       5.000000       1.000000  "
      ]
     },
     "execution_count": 321,
     "metadata": {},
     "output_type": "execute_result"
    }
   ],
   "source": [
    "df_process.describe()"
   ]
  },
  {
   "cell_type": "code",
   "execution_count": 326,
   "id": "c2d57b1a",
   "metadata": {
    "scrolled": true
   },
   "outputs": [
    {
     "data": {
      "text/plain": [
       "<seaborn.axisgrid.PairGrid at 0x1a4f0239df0>"
      ]
     },
     "execution_count": 326,
     "metadata": {},
     "output_type": "execute_result"
    },
    {
     "data": {
      "image/png": "[encoded data removed]",
      "text/plain": [
       "<Figure size 1260x1260 with 56 Axes>"
      ]
     },
     "metadata": {
      "needs_background": "light"
     },
     "output_type": "display_data"
    }
   ],
   "source": [
    "sns.pairplot(data = df_process)"
   ]
  },
  {
   "cell_type": "code",
   "execution_count": 322,
   "id": "b491a88a",
   "metadata": {},
   "outputs": [
    {
     "data": {
      "text/plain": [
       "<AxesSubplot:xlabel='품종', ylabel='당시의나이'>"
      ]
     },
     "execution_count": 322,
     "metadata": {},
     "output_type": "execute_result"
    },
    {
     "data": {
      "image/png": "[encoded data removed]",
      "text/plain": [
       "<Figure size 1440x360 with 1 Axes>"
      ]
     },
     "metadata": {
      "needs_background": "light"
     },
     "output_type": "display_data"
    }
   ],
   "source": [
    "plt.figure(figsize = (20, 5))\n",
    "sns.violinplot(data = df_process, x = \"품종\", y = \"당시의나이\")"
   ]
  },
  {
   "cell_type": "markdown",
   "id": "0a83aeb0",
   "metadata": {},
   "source": [
    "## sklearn"
   ]
  },
  {
   "cell_type": "code",
   "execution_count": 184,
   "id": "da098fec",
   "metadata": {},
   "outputs": [],
   "source": [
    "# 필요한 Library\n",
    "import numpy as np\n",
    "import pandas as pd\n",
    "from sklearn.linear_model import LogisticRegression\n",
    "from sklearn.model_selection import train_test_split\n",
    "from sklearn.metrics import confusion_matrix\n",
    "from sklearn.metrics import accuracy_score, roc_auc_score, roc_curve\n",
    "import statsmodels.api as sm\n",
    "import matplotlib.pyplot as plt\n",
    "import time "
   ]
  },
  {
   "cell_type": "code",
   "execution_count": 327,
   "id": "174c8151",
   "metadata": {
    "scrolled": false
   },
   "outputs": [
    {
     "data": {
      "text/html": [
       "<div>\n",
       "<style scoped>\n",
       "    .dataframe tbody tr th:only-of-type {\n",
       "        vertical-align: middle;\n",
       "    }\n",
       "\n",
       "    .dataframe tbody tr th {\n",
       "        vertical-align: top;\n",
       "    }\n",
       "\n",
       "    .dataframe thead th {\n",
       "        text-align: right;\n",
       "    }\n",
       "</style>\n",
       "<table border=\"1\" class=\"dataframe\">\n",
       "  <thead>\n",
       "    <tr style=\"text-align: right;\">\n",
       "      <th></th>\n",
       "      <th>품종</th>\n",
       "      <th>색상</th>\n",
       "      <th>성별</th>\n",
       "      <th>체중</th>\n",
       "      <th>중성화여부</th>\n",
       "      <th>당시의나이</th>\n",
       "      <th>상태</th>\n",
       "    </tr>\n",
       "  </thead>\n",
       "  <tbody>\n",
       "    <tr>\n",
       "      <th>0</th>\n",
       "      <td>7</td>\n",
       "      <td>1</td>\n",
       "      <td>0</td>\n",
       "      <td>3.10</td>\n",
       "      <td>0</td>\n",
       "      <td>3</td>\n",
       "      <td>1</td>\n",
       "    </tr>\n",
       "    <tr>\n",
       "      <th>1</th>\n",
       "      <td>3</td>\n",
       "      <td>2</td>\n",
       "      <td>0</td>\n",
       "      <td>7.95</td>\n",
       "      <td>0</td>\n",
       "      <td>3</td>\n",
       "      <td>1</td>\n",
       "    </tr>\n",
       "    <tr>\n",
       "      <th>2</th>\n",
       "      <td>4</td>\n",
       "      <td>4</td>\n",
       "      <td>1</td>\n",
       "      <td>2.75</td>\n",
       "      <td>0</td>\n",
       "      <td>2</td>\n",
       "      <td>1</td>\n",
       "    </tr>\n",
       "    <tr>\n",
       "      <th>8</th>\n",
       "      <td>3</td>\n",
       "      <td>1</td>\n",
       "      <td>1</td>\n",
       "      <td>1.20</td>\n",
       "      <td>0</td>\n",
       "      <td>1</td>\n",
       "      <td>1</td>\n",
       "    </tr>\n",
       "    <tr>\n",
       "      <th>9</th>\n",
       "      <td>3</td>\n",
       "      <td>5</td>\n",
       "      <td>0</td>\n",
       "      <td>5.40</td>\n",
       "      <td>2</td>\n",
       "      <td>1</td>\n",
       "      <td>1</td>\n",
       "    </tr>\n",
       "  </tbody>\n",
       "</table>\n",
       "</div>"
      ],
      "text/plain": [
       "   품종  색상  성별    체중  중성화여부  당시의나이  상태\n",
       "0   7   1   0  3.10      0      3   1\n",
       "1   3   2   0  7.95      0      3   1\n",
       "2   4   4   1  2.75      0      2   1\n",
       "8   3   1   1  1.20      0      1   1\n",
       "9   3   5   0  5.40      2      1   1"
      ]
     },
     "execution_count": 327,
     "metadata": {},
     "output_type": "execute_result"
    }
   ],
   "source": [
    "df_process.head()"
   ]
  },
  {
   "cell_type": "code",
   "execution_count": 417,
   "id": "efef8579",
   "metadata": {
    "scrolled": true
   },
   "outputs": [
    {
     "data": {
      "text/html": [
       "<div>\n",
       "<style scoped>\n",
       "    .dataframe tbody tr th:only-of-type {\n",
       "        vertical-align: middle;\n",
       "    }\n",
       "\n",
       "    .dataframe tbody tr th {\n",
       "        vertical-align: top;\n",
       "    }\n",
       "\n",
       "    .dataframe thead th {\n",
       "        text-align: right;\n",
       "    }\n",
       "</style>\n",
       "<table border=\"1\" class=\"dataframe\">\n",
       "  <thead>\n",
       "    <tr style=\"text-align: right;\">\n",
       "      <th></th>\n",
       "      <th>품종</th>\n",
       "      <th>색상</th>\n",
       "      <th>성별</th>\n",
       "      <th>체중</th>\n",
       "      <th>중성화여부</th>\n",
       "      <th>당시의나이</th>\n",
       "      <th>상태</th>\n",
       "    </tr>\n",
       "  </thead>\n",
       "  <tbody>\n",
       "    <tr>\n",
       "      <th>0</th>\n",
       "      <td>7</td>\n",
       "      <td>1</td>\n",
       "      <td>0</td>\n",
       "      <td>3.10</td>\n",
       "      <td>0</td>\n",
       "      <td>3</td>\n",
       "      <td>1</td>\n",
       "    </tr>\n",
       "    <tr>\n",
       "      <th>2</th>\n",
       "      <td>4</td>\n",
       "      <td>4</td>\n",
       "      <td>1</td>\n",
       "      <td>2.75</td>\n",
       "      <td>0</td>\n",
       "      <td>2</td>\n",
       "      <td>1</td>\n",
       "    </tr>\n",
       "    <tr>\n",
       "      <th>12</th>\n",
       "      <td>4</td>\n",
       "      <td>1</td>\n",
       "      <td>0</td>\n",
       "      <td>2.00</td>\n",
       "      <td>0</td>\n",
       "      <td>2</td>\n",
       "      <td>1</td>\n",
       "    </tr>\n",
       "    <tr>\n",
       "      <th>22</th>\n",
       "      <td>0</td>\n",
       "      <td>1</td>\n",
       "      <td>0</td>\n",
       "      <td>23.00</td>\n",
       "      <td>0</td>\n",
       "      <td>2</td>\n",
       "      <td>0</td>\n",
       "    </tr>\n",
       "    <tr>\n",
       "      <th>23</th>\n",
       "      <td>7</td>\n",
       "      <td>1</td>\n",
       "      <td>0</td>\n",
       "      <td>2.80</td>\n",
       "      <td>2</td>\n",
       "      <td>2</td>\n",
       "      <td>1</td>\n",
       "    </tr>\n",
       "    <tr>\n",
       "      <th>...</th>\n",
       "      <td>...</td>\n",
       "      <td>...</td>\n",
       "      <td>...</td>\n",
       "      <td>...</td>\n",
       "      <td>...</td>\n",
       "      <td>...</td>\n",
       "      <td>...</td>\n",
       "    </tr>\n",
       "    <tr>\n",
       "      <th>337418</th>\n",
       "      <td>9</td>\n",
       "      <td>4</td>\n",
       "      <td>1</td>\n",
       "      <td>6.60</td>\n",
       "      <td>0</td>\n",
       "      <td>3</td>\n",
       "      <td>1</td>\n",
       "    </tr>\n",
       "    <tr>\n",
       "      <th>337419</th>\n",
       "      <td>9</td>\n",
       "      <td>4</td>\n",
       "      <td>1</td>\n",
       "      <td>2.40</td>\n",
       "      <td>0</td>\n",
       "      <td>0</td>\n",
       "      <td>1</td>\n",
       "    </tr>\n",
       "    <tr>\n",
       "      <th>337423</th>\n",
       "      <td>9</td>\n",
       "      <td>5</td>\n",
       "      <td>1</td>\n",
       "      <td>3.74</td>\n",
       "      <td>0</td>\n",
       "      <td>0</td>\n",
       "      <td>0</td>\n",
       "    </tr>\n",
       "    <tr>\n",
       "      <th>337424</th>\n",
       "      <td>9</td>\n",
       "      <td>4</td>\n",
       "      <td>1</td>\n",
       "      <td>8.00</td>\n",
       "      <td>0</td>\n",
       "      <td>3</td>\n",
       "      <td>0</td>\n",
       "    </tr>\n",
       "    <tr>\n",
       "      <th>337425</th>\n",
       "      <td>9</td>\n",
       "      <td>2</td>\n",
       "      <td>1</td>\n",
       "      <td>2.60</td>\n",
       "      <td>0</td>\n",
       "      <td>0</td>\n",
       "      <td>1</td>\n",
       "    </tr>\n",
       "  </tbody>\n",
       "</table>\n",
       "<p>52176 rows × 7 columns</p>\n",
       "</div>"
      ],
      "text/plain": [
       "        품종  색상  성별     체중  중성화여부  당시의나이  상태\n",
       "0        7   1   0   3.10      0      3   1\n",
       "2        4   4   1   2.75      0      2   1\n",
       "12       4   1   0   2.00      0      2   1\n",
       "22       0   1   0  23.00      0      2   0\n",
       "23       7   1   0   2.80      2      2   1\n",
       "...     ..  ..  ..    ...    ...    ...  ..\n",
       "337418   9   4   1   6.60      0      3   1\n",
       "337419   9   4   1   2.40      0      0   1\n",
       "337423   9   5   1   3.74      0      0   0\n",
       "337424   9   4   1   8.00      0      3   0\n",
       "337425   9   2   1   2.60      0      0   1\n",
       "\n",
       "[52176 rows x 7 columns]"
      ]
     },
     "execution_count": 417,
     "metadata": {},
     "output_type": "execute_result"
    }
   ],
   "source": [
    "df_mix = df_process[df_process[\"품종\"] != 3]\n",
    "df_mix\n",
    "# 169346\n",
    "# 믹스견 아닌거 52176 마리\n",
    "# df_mix = df_mix[df_mix[\"당시의나이\"]!= 0]"
   ]
  },
  {
   "cell_type": "code",
   "execution_count": 418,
   "id": "2a8a6366",
   "metadata": {},
   "outputs": [
    {
     "data": {
      "text/plain": [
       "7    17237\n",
       "4    13221\n",
       "0    10165\n",
       "5     3909\n",
       "2     2061\n",
       "8     1957\n",
       "1     1918\n",
       "9     1279\n",
       "6      429\n",
       "Name: 품종, dtype: int64"
      ]
     },
     "execution_count": 418,
     "metadata": {},
     "output_type": "execute_result"
    }
   ],
   "source": [
    "df_mix[\"품종\"].value_counts()"
   ]
  },
  {
   "cell_type": "code",
   "execution_count": 365,
   "id": "90800658",
   "metadata": {
    "scrolled": true
   },
   "outputs": [
    {
     "data": {
      "text/html": [
       "<div>\n",
       "<style scoped>\n",
       "    .dataframe tbody tr th:only-of-type {\n",
       "        vertical-align: middle;\n",
       "    }\n",
       "\n",
       "    .dataframe tbody tr th {\n",
       "        vertical-align: top;\n",
       "    }\n",
       "\n",
       "    .dataframe thead th {\n",
       "        text-align: right;\n",
       "    }\n",
       "</style>\n",
       "<table border=\"1\" class=\"dataframe\">\n",
       "  <thead>\n",
       "    <tr style=\"text-align: right;\">\n",
       "      <th></th>\n",
       "      <th>const</th>\n",
       "      <th>품종</th>\n",
       "      <th>색상</th>\n",
       "      <th>성별</th>\n",
       "      <th>체중</th>\n",
       "      <th>중성화여부</th>\n",
       "      <th>당시의나이</th>\n",
       "    </tr>\n",
       "  </thead>\n",
       "  <tbody>\n",
       "    <tr>\n",
       "      <th>1</th>\n",
       "      <td>1.0</td>\n",
       "      <td>3</td>\n",
       "      <td>2</td>\n",
       "      <td>0</td>\n",
       "      <td>7.95</td>\n",
       "      <td>0</td>\n",
       "      <td>3</td>\n",
       "    </tr>\n",
       "    <tr>\n",
       "      <th>8</th>\n",
       "      <td>1.0</td>\n",
       "      <td>3</td>\n",
       "      <td>1</td>\n",
       "      <td>1</td>\n",
       "      <td>1.20</td>\n",
       "      <td>0</td>\n",
       "      <td>1</td>\n",
       "    </tr>\n",
       "    <tr>\n",
       "      <th>9</th>\n",
       "      <td>1.0</td>\n",
       "      <td>3</td>\n",
       "      <td>5</td>\n",
       "      <td>0</td>\n",
       "      <td>5.40</td>\n",
       "      <td>2</td>\n",
       "      <td>1</td>\n",
       "    </tr>\n",
       "    <tr>\n",
       "      <th>13</th>\n",
       "      <td>1.0</td>\n",
       "      <td>3</td>\n",
       "      <td>1</td>\n",
       "      <td>0</td>\n",
       "      <td>3.00</td>\n",
       "      <td>0</td>\n",
       "      <td>3</td>\n",
       "    </tr>\n",
       "    <tr>\n",
       "      <th>16</th>\n",
       "      <td>1.0</td>\n",
       "      <td>3</td>\n",
       "      <td>5</td>\n",
       "      <td>0</td>\n",
       "      <td>6.00</td>\n",
       "      <td>0</td>\n",
       "      <td>2</td>\n",
       "    </tr>\n",
       "    <tr>\n",
       "      <th>...</th>\n",
       "      <td>...</td>\n",
       "      <td>...</td>\n",
       "      <td>...</td>\n",
       "      <td>...</td>\n",
       "      <td>...</td>\n",
       "      <td>...</td>\n",
       "      <td>...</td>\n",
       "    </tr>\n",
       "    <tr>\n",
       "      <th>337297</th>\n",
       "      <td>1.0</td>\n",
       "      <td>3</td>\n",
       "      <td>3</td>\n",
       "      <td>1</td>\n",
       "      <td>5.00</td>\n",
       "      <td>0</td>\n",
       "      <td>1</td>\n",
       "    </tr>\n",
       "    <tr>\n",
       "      <th>337298</th>\n",
       "      <td>1.0</td>\n",
       "      <td>3</td>\n",
       "      <td>3</td>\n",
       "      <td>0</td>\n",
       "      <td>6.00</td>\n",
       "      <td>0</td>\n",
       "      <td>1</td>\n",
       "    </tr>\n",
       "    <tr>\n",
       "      <th>337304</th>\n",
       "      <td>1.0</td>\n",
       "      <td>3</td>\n",
       "      <td>3</td>\n",
       "      <td>0</td>\n",
       "      <td>6.00</td>\n",
       "      <td>0</td>\n",
       "      <td>2</td>\n",
       "    </tr>\n",
       "    <tr>\n",
       "      <th>337420</th>\n",
       "      <td>1.0</td>\n",
       "      <td>3</td>\n",
       "      <td>1</td>\n",
       "      <td>0</td>\n",
       "      <td>4.10</td>\n",
       "      <td>2</td>\n",
       "      <td>1</td>\n",
       "    </tr>\n",
       "    <tr>\n",
       "      <th>337421</th>\n",
       "      <td>1.0</td>\n",
       "      <td>3</td>\n",
       "      <td>1</td>\n",
       "      <td>0</td>\n",
       "      <td>3.50</td>\n",
       "      <td>2</td>\n",
       "      <td>3</td>\n",
       "    </tr>\n",
       "  </tbody>\n",
       "</table>\n",
       "<p>169346 rows × 7 columns</p>\n",
       "</div>"
      ],
      "text/plain": [
       "        const  품종  색상  성별    체중  중성화여부  당시의나이\n",
       "1         1.0   3   2   0  7.95      0      3\n",
       "8         1.0   3   1   1  1.20      0      1\n",
       "9         1.0   3   5   0  5.40      2      1\n",
       "13        1.0   3   1   0  3.00      0      3\n",
       "16        1.0   3   5   0  6.00      0      2\n",
       "...       ...  ..  ..  ..   ...    ...    ...\n",
       "337297    1.0   3   3   1  5.00      0      1\n",
       "337298    1.0   3   3   0  6.00      0      1\n",
       "337304    1.0   3   3   0  6.00      0      2\n",
       "337420    1.0   3   1   0  4.10      2      1\n",
       "337421    1.0   3   1   0  3.50      2      3\n",
       "\n",
       "[169346 rows x 7 columns]"
      ]
     },
     "execution_count": 365,
     "metadata": {},
     "output_type": "execute_result"
    }
   ],
   "source": [
    "df = df.iloc[:, :-1]\n",
    "df"
   ]
  },
  {
   "cell_type": "code",
   "execution_count": null,
   "id": "abfd76f2",
   "metadata": {},
   "outputs": [],
   "source": [
    "df_p = df.dropna().drop[\"const\",\"ZIP code\"], axis=1, inplace = False)"
   ]
  },
  {
   "cell_type": "code",
   "execution_count": 419,
   "id": "d35b62fb",
   "metadata": {},
   "outputs": [
    {
     "data": {
      "text/html": [
       "<div>\n",
       "<style scoped>\n",
       "    .dataframe tbody tr th:only-of-type {\n",
       "        vertical-align: middle;\n",
       "    }\n",
       "\n",
       "    .dataframe tbody tr th {\n",
       "        vertical-align: top;\n",
       "    }\n",
       "\n",
       "    .dataframe thead th {\n",
       "        text-align: right;\n",
       "    }\n",
       "</style>\n",
       "<table border=\"1\" class=\"dataframe\">\n",
       "  <thead>\n",
       "    <tr style=\"text-align: right;\">\n",
       "      <th></th>\n",
       "      <th>const</th>\n",
       "      <th>품종</th>\n",
       "      <th>색상</th>\n",
       "      <th>성별</th>\n",
       "      <th>체중</th>\n",
       "      <th>중성화여부</th>\n",
       "      <th>당시의나이</th>\n",
       "      <th>상태</th>\n",
       "    </tr>\n",
       "  </thead>\n",
       "  <tbody>\n",
       "    <tr>\n",
       "      <th>0</th>\n",
       "      <td>1.0</td>\n",
       "      <td>7</td>\n",
       "      <td>1</td>\n",
       "      <td>0</td>\n",
       "      <td>3.10</td>\n",
       "      <td>0</td>\n",
       "      <td>3</td>\n",
       "      <td>1</td>\n",
       "    </tr>\n",
       "    <tr>\n",
       "      <th>2</th>\n",
       "      <td>1.0</td>\n",
       "      <td>4</td>\n",
       "      <td>4</td>\n",
       "      <td>1</td>\n",
       "      <td>2.75</td>\n",
       "      <td>0</td>\n",
       "      <td>2</td>\n",
       "      <td>1</td>\n",
       "    </tr>\n",
       "    <tr>\n",
       "      <th>12</th>\n",
       "      <td>1.0</td>\n",
       "      <td>4</td>\n",
       "      <td>1</td>\n",
       "      <td>0</td>\n",
       "      <td>2.00</td>\n",
       "      <td>0</td>\n",
       "      <td>2</td>\n",
       "      <td>1</td>\n",
       "    </tr>\n",
       "    <tr>\n",
       "      <th>22</th>\n",
       "      <td>1.0</td>\n",
       "      <td>0</td>\n",
       "      <td>1</td>\n",
       "      <td>0</td>\n",
       "      <td>23.00</td>\n",
       "      <td>0</td>\n",
       "      <td>2</td>\n",
       "      <td>0</td>\n",
       "    </tr>\n",
       "    <tr>\n",
       "      <th>23</th>\n",
       "      <td>1.0</td>\n",
       "      <td>7</td>\n",
       "      <td>1</td>\n",
       "      <td>0</td>\n",
       "      <td>2.80</td>\n",
       "      <td>2</td>\n",
       "      <td>2</td>\n",
       "      <td>1</td>\n",
       "    </tr>\n",
       "  </tbody>\n",
       "</table>\n",
       "</div>"
      ],
      "text/plain": [
       "    const  품종  색상  성별     체중  중성화여부  당시의나이  상태\n",
       "0     1.0   7   1   0   3.10      0      3   1\n",
       "2     1.0   4   4   1   2.75      0      2   1\n",
       "12    1.0   4   1   0   2.00      0      2   1\n",
       "22    1.0   0   1   0  23.00      0      2   0\n",
       "23    1.0   7   1   0   2.80      2      2   1"
      ]
     },
     "execution_count": 419,
     "metadata": {},
     "output_type": "execute_result"
    }
   ],
   "source": [
    "df = sm.add_constant(df_mix,has_constant = \"add\")\n",
    "df.head()"
   ]
  },
  {
   "cell_type": "code",
   "execution_count": 397,
   "id": "4fff0308",
   "metadata": {},
   "outputs": [
    {
     "data": {
      "text/plain": [
       "7    15041\n",
       "4    11264\n",
       "0     7054\n",
       "5     3051\n",
       "2     1719\n",
       "1     1631\n",
       "8     1622\n",
       "9      821\n",
       "6      336\n",
       "Name: 품종, dtype: int64"
      ]
     },
     "execution_count": 397,
     "metadata": {},
     "output_type": "execute_result"
    }
   ],
   "source": [
    "df[\"품종\"].value_counts()"
   ]
  },
  {
   "cell_type": "code",
   "execution_count": null,
   "id": "7c974b17",
   "metadata": {},
   "outputs": [],
   "source": [
    "#나이랑 체중"
   ]
  },
  {
   "cell_type": "code",
   "execution_count": 282,
   "id": "6cddcb7c",
   "metadata": {},
   "outputs": [
    {
     "data": {
      "text/plain": [
       "Index(['const', '당시의나이', '색상', '성별', '중성화여부', '체중', '품종'], dtype='object')"
      ]
     },
     "execution_count": 282,
     "metadata": {},
     "output_type": "execute_result"
    }
   ],
   "source": [
    "# feature_columns = df_mix.columns.difference([\"상태\"])\n",
    "# feature_columns"
   ]
  },
  {
   "cell_type": "code",
   "execution_count": 420,
   "id": "02ba2067",
   "metadata": {},
   "outputs": [],
   "source": [
    "# 대출여부는 1 or 0으로 결정된다. 즉 target이 1/0의 값을 갖기에\n",
    "# 로지스틱 회귀모형이 적합하다.\n",
    "\n",
    "feature_columns = df.columns.difference([\"상태\"])\n",
    "X = df[feature_columns]\n",
    "y = df[\"상태\"]"
   ]
  },
  {
   "cell_type": "code",
   "execution_count": 421,
   "id": "0b1680c3",
   "metadata": {},
   "outputs": [
    {
     "data": {
      "text/plain": [
       "Index(['const', '당시의나이', '색상', '성별', '중성화여부', '체중', '품종'], dtype='object')"
      ]
     },
     "execution_count": 421,
     "metadata": {},
     "output_type": "execute_result"
    }
   ],
   "source": [
    "feature_columns"
   ]
  },
  {
   "cell_type": "code",
   "execution_count": 422,
   "id": "508ab286",
   "metadata": {
    "scrolled": true
   },
   "outputs": [
    {
     "name": "stdout",
     "output_type": "stream",
     "text": [
      "(36523, 7) (15653, 7) (36523,) (15653,)\n"
     ]
    }
   ],
   "source": [
    "train_X, test_X ,train_y, test_y = train_test_split(X, y, stratify=y,train_size=0.7,test_size=0.3,random_state=1)\n",
    "print(train_X.shape, test_X.shape, train_y.shape, test_y.shape)"
   ]
  },
  {
   "cell_type": "code",
   "execution_count": 423,
   "id": "09f78cb0",
   "metadata": {},
   "outputs": [
    {
     "name": "stdout",
     "output_type": "stream",
     "text": [
      "Optimization terminated successfully.\n",
      "         Current function value: 0.608226\n",
      "         Iterations 5\n"
     ]
    }
   ],
   "source": [
    "model = sm.Logit(train_y, train_X)\n",
    "results = model.fit(method = \"newton\")"
   ]
  },
  {
   "cell_type": "code",
   "execution_count": 424,
   "id": "f0651827",
   "metadata": {
    "scrolled": true
   },
   "outputs": [
    {
     "data": {
      "text/html": [
       "<table class=\"simpletable\">\n",
       "<caption>Logit Regression Results</caption>\n",
       "<tr>\n",
       "  <th>Dep. Variable:</th>          <td>상태</td>        <th>  No. Observations:  </th>   <td> 36523</td>  \n",
       "</tr>\n",
       "<tr>\n",
       "  <th>Model:</th>                 <td>Logit</td>      <th>  Df Residuals:      </th>   <td> 36516</td>  \n",
       "</tr>\n",
       "<tr>\n",
       "  <th>Method:</th>                 <td>MLE</td>       <th>  Df Model:          </th>   <td>     6</td>  \n",
       "</tr>\n",
       "<tr>\n",
       "  <th>Date:</th>            <td>Mon, 11 Oct 2021</td> <th>  Pseudo R-squ.:     </th>   <td>0.02877</td> \n",
       "</tr>\n",
       "<tr>\n",
       "  <th>Time:</th>                <td>16:28:35</td>     <th>  Log-Likelihood:    </th>  <td> -22214.</td> \n",
       "</tr>\n",
       "<tr>\n",
       "  <th>converged:</th>             <td>True</td>       <th>  LL-Null:           </th>  <td> -22872.</td> \n",
       "</tr>\n",
       "<tr>\n",
       "  <th>Covariance Type:</th>     <td>nonrobust</td>    <th>  LLR p-value:       </th> <td>3.839e-281</td>\n",
       "</tr>\n",
       "</table>\n",
       "<table class=\"simpletable\">\n",
       "<tr>\n",
       "    <td></td>       <th>coef</th>     <th>std err</th>      <th>z</th>      <th>P>|z|</th>  <th>[0.025</th>    <th>0.975]</th>  \n",
       "</tr>\n",
       "<tr>\n",
       "  <th>const</th> <td>    0.7086</td> <td>    0.035</td> <td>   20.413</td> <td> 0.000</td> <td>    0.641</td> <td>    0.777</td>\n",
       "</tr>\n",
       "<tr>\n",
       "  <th>당시의나이</th> <td>   -0.1844</td> <td>    0.008</td> <td>  -24.375</td> <td> 0.000</td> <td>   -0.199</td> <td>   -0.170</td>\n",
       "</tr>\n",
       "<tr>\n",
       "  <th>색상</th>    <td>    0.0276</td> <td>    0.007</td> <td>    3.895</td> <td> 0.000</td> <td>    0.014</td> <td>    0.042</td>\n",
       "</tr>\n",
       "<tr>\n",
       "  <th>성별</th>    <td>    0.1581</td> <td>    0.026</td> <td>    6.195</td> <td> 0.000</td> <td>    0.108</td> <td>    0.208</td>\n",
       "</tr>\n",
       "<tr>\n",
       "  <th>중성화여부</th> <td>    0.1847</td> <td>    0.018</td> <td>   10.495</td> <td> 0.000</td> <td>    0.150</td> <td>    0.219</td>\n",
       "</tr>\n",
       "<tr>\n",
       "  <th>체중</th>    <td>   -0.0115</td> <td>    0.002</td> <td>   -7.482</td> <td> 0.000</td> <td>   -0.015</td> <td>   -0.009</td>\n",
       "</tr>\n",
       "<tr>\n",
       "  <th>품종</th>    <td>    0.0890</td> <td>    0.004</td> <td>   20.865</td> <td> 0.000</td> <td>    0.081</td> <td>    0.097</td>\n",
       "</tr>\n",
       "</table>"
      ],
      "text/plain": [
       "<class 'statsmodels.iolib.summary.Summary'>\n",
       "\"\"\"\n",
       "                           Logit Regression Results                           \n",
       "==============================================================================\n",
       "Dep. Variable:                     상태   No. Observations:                36523\n",
       "Model:                          Logit   Df Residuals:                    36516\n",
       "Method:                           MLE   Df Model:                            6\n",
       "Date:                Mon, 11 Oct 2021   Pseudo R-squ.:                 0.02877\n",
       "Time:                        16:28:35   Log-Likelihood:                -22214.\n",
       "converged:                       True   LL-Null:                       -22872.\n",
       "Covariance Type:            nonrobust   LLR p-value:                3.839e-281\n",
       "==============================================================================\n",
       "                 coef    std err          z      P>|z|      [0.025      0.975]\n",
       "------------------------------------------------------------------------------\n",
       "const          0.7086      0.035     20.413      0.000       0.641       0.777\n",
       "당시의나이         -0.1844      0.008    -24.375      0.000      -0.199      -0.170\n",
       "색상             0.0276      0.007      3.895      0.000       0.014       0.042\n",
       "성별             0.1581      0.026      6.195      0.000       0.108       0.208\n",
       "중성화여부          0.1847      0.018     10.495      0.000       0.150       0.219\n",
       "체중            -0.0115      0.002     -7.482      0.000      -0.015      -0.009\n",
       "품종             0.0890      0.004     20.865      0.000       0.081       0.097\n",
       "==============================================================================\n",
       "\"\"\""
      ]
     },
     "execution_count": 424,
     "metadata": {},
     "output_type": "execute_result"
    }
   ],
   "source": [
    "results.summary()"
   ]
  },
  {
   "cell_type": "code",
   "execution_count": 425,
   "id": "8362f18b",
   "metadata": {
    "scrolled": true
   },
   "outputs": [
    {
     "data": {
      "text/plain": [
       "const    0.708565\n",
       "당시의나이   -0.184407\n",
       "색상       0.027618\n",
       "성별       0.158085\n",
       "중성화여부    0.184667\n",
       "체중      -0.011519\n",
       "품종       0.089040\n",
       "dtype: float64"
      ]
     },
     "execution_count": 425,
     "metadata": {},
     "output_type": "execute_result"
    }
   ],
   "source": [
    "results.params"
   ]
  },
  {
   "cell_type": "code",
   "execution_count": 426,
   "id": "56a84d06",
   "metadata": {},
   "outputs": [
    {
     "data": {
      "text/plain": [
       "const    2.031074\n",
       "당시의나이    0.831598\n",
       "색상       1.028003\n",
       "성별       1.171266\n",
       "중성화여부    1.202817\n",
       "체중       0.988547\n",
       "품종       1.093125\n",
       "dtype: float64"
      ]
     },
     "execution_count": 426,
     "metadata": {},
     "output_type": "execute_result"
    }
   ],
   "source": [
    "np.exp(results.params)"
   ]
  },
  {
   "cell_type": "code",
   "execution_count": 427,
   "id": "2e5919dd",
   "metadata": {
    "scrolled": false
   },
   "outputs": [
    {
     "data": {
      "text/plain": [
       "97874     0.786261\n",
       "203040    0.657266\n",
       "278414    0.718174\n",
       "295275    0.553610\n",
       "67258     0.640092\n",
       "            ...   \n",
       "229049    0.817677\n",
       "11358     0.637733\n",
       "155400    0.724550\n",
       "191088    0.597718\n",
       "65269     0.737001\n",
       "Length: 15653, dtype: float64"
      ]
     },
     "execution_count": 427,
     "metadata": {},
     "output_type": "execute_result"
    }
   ],
   "source": [
    "pred_y = results.predict(test_X)\n",
    "pred_y"
   ]
  },
  {
   "cell_type": "code",
   "execution_count": 428,
   "id": "e8303851",
   "metadata": {},
   "outputs": [
    {
     "data": {
      "text/plain": [
       "97874     1\n",
       "203040    1\n",
       "278414    1\n",
       "295275    1\n",
       "67258     1\n",
       "         ..\n",
       "229049    1\n",
       "11358     1\n",
       "155400    1\n",
       "191088    1\n",
       "65269     1\n",
       "Length: 15653, dtype: int32"
      ]
     },
     "execution_count": 428,
     "metadata": {},
     "output_type": "execute_result"
    }
   ],
   "source": [
    "\n",
    "def cut_off(y, threshold) :\n",
    "    Y = y.copy()  # 대문자 Y를 새로운 변수로 하여 기존의 y값에 영향이 가지 않도록 한다.\n",
    "    Y[Y>threshold] = 1\n",
    "    Y[Y<threshold] = 0\n",
    "    return Y.astype(int)\n",
    "    \n",
    "pred_Y = cut_off(pred_y, 0.5)\n",
    "pred_Y"
   ]
  },
  {
   "cell_type": "code",
   "execution_count": 429,
   "id": "6c53e789",
   "metadata": {},
   "outputs": [
    {
     "name": "stdout",
     "output_type": "stream",
     "text": [
      "[[  349  4647]\n",
      " [  253 10404]]\n"
     ]
    }
   ],
   "source": [
    "cfmat = confusion_matrix(test_y,pred_Y)\n",
    "print(cfmat)"
   ]
  },
  {
   "cell_type": "code",
   "execution_count": 430,
   "id": "ef4b2a19",
   "metadata": {},
   "outputs": [
    {
     "data": {
      "text/plain": [
       "10404"
      ]
     },
     "execution_count": 430,
     "metadata": {},
     "output_type": "execute_result"
    }
   ],
   "source": [
    "cfmat[1,1]"
   ]
  },
  {
   "cell_type": "code",
   "execution_count": 431,
   "id": "2663d8d1",
   "metadata": {},
   "outputs": [],
   "source": [
    "# confusion matrix accuracy(정확도) 계산함수\n",
    "\n",
    "def acc(cfmat):\n",
    " return (cfmat[0,0] + cfmat[1,1])/(cfmat[0,0] + cfmat[1,1] + cfmat[0,1] + cfmat[1,0])"
   ]
  },
  {
   "cell_type": "code",
   "execution_count": 432,
   "id": "1e12214f",
   "metadata": {},
   "outputs": [
    {
     "data": {
      "text/plain": [
       "0.6869609659490193"
      ]
     },
     "execution_count": 432,
     "metadata": {},
     "output_type": "execute_result"
    }
   ],
   "source": [
    "acc(cfmat)"
   ]
  },
  {
   "cell_type": "code",
   "execution_count": 433,
   "id": "fc74255c",
   "metadata": {},
   "outputs": [
    {
     "data": {
      "text/html": [
       "<div>\n",
       "<style scoped>\n",
       "    .dataframe tbody tr th:only-of-type {\n",
       "        vertical-align: middle;\n",
       "    }\n",
       "\n",
       "    .dataframe tbody tr th {\n",
       "        vertical-align: top;\n",
       "    }\n",
       "\n",
       "    .dataframe thead th {\n",
       "        text-align: right;\n",
       "    }\n",
       "</style>\n",
       "<table border=\"1\" class=\"dataframe\">\n",
       "  <thead>\n",
       "    <tr style=\"text-align: right;\">\n",
       "      <th>performance</th>\n",
       "      <th>ACC</th>\n",
       "    </tr>\n",
       "    <tr>\n",
       "      <th>threshold</th>\n",
       "      <th></th>\n",
       "    </tr>\n",
       "  </thead>\n",
       "  <tbody>\n",
       "    <tr>\n",
       "      <th>0.0</th>\n",
       "      <td>0.680828</td>\n",
       "    </tr>\n",
       "    <tr>\n",
       "      <th>0.1</th>\n",
       "      <td>0.680828</td>\n",
       "    </tr>\n",
       "    <tr>\n",
       "      <th>0.2</th>\n",
       "      <td>0.680828</td>\n",
       "    </tr>\n",
       "    <tr>\n",
       "      <th>0.3</th>\n",
       "      <td>0.680828</td>\n",
       "    </tr>\n",
       "    <tr>\n",
       "      <th>0.4</th>\n",
       "      <td>0.681531</td>\n",
       "    </tr>\n",
       "    <tr>\n",
       "      <th>0.5</th>\n",
       "      <td>0.686961</td>\n",
       "    </tr>\n",
       "    <tr>\n",
       "      <th>0.6</th>\n",
       "      <td>0.664345</td>\n",
       "    </tr>\n",
       "    <tr>\n",
       "      <th>0.7</th>\n",
       "      <td>0.563279</td>\n",
       "    </tr>\n",
       "    <tr>\n",
       "      <th>0.8</th>\n",
       "      <td>0.356034</td>\n",
       "    </tr>\n",
       "    <tr>\n",
       "      <th>0.9</th>\n",
       "      <td>0.319172</td>\n",
       "    </tr>\n",
       "  </tbody>\n",
       "</table>\n",
       "</div>"
      ],
      "text/plain": [
       "performance       ACC\n",
       "threshold            \n",
       "0.0          0.680828\n",
       "0.1          0.680828\n",
       "0.2          0.680828\n",
       "0.3          0.680828\n",
       "0.4          0.681531\n",
       "0.5          0.686961\n",
       "0.6          0.664345\n",
       "0.7          0.563279\n",
       "0.8          0.356034\n",
       "0.9          0.319172"
      ]
     },
     "execution_count": 433,
     "metadata": {},
     "output_type": "execute_result"
    }
   ],
   "source": [
    "# 임계값 0~1에 따른 정확도 확인\n",
    "\n",
    "threshold = np.arange(0,1,0.1)\n",
    "table = pd.DataFrame(columns = ['ACC'])\n",
    "for i in threshold :\n",
    "\tpred_Y = cut_off(pred_y,i)\n",
    "\tcfmat = confusion_matrix(test_y,pred_Y)\n",
    "\ttable.loc[i] = acc(cfmat)\n",
    "table.index.name = \"threshold\"\n",
    "table.columns.name = \"performance\"\n",
    "table"
   ]
  },
  {
   "cell_type": "code",
   "execution_count": 434,
   "id": "2c45c454",
   "metadata": {},
   "outputs": [],
   "source": [
    "import sklearn.metrics as metrics"
   ]
  },
  {
   "cell_type": "code",
   "execution_count": 435,
   "id": "6031af94",
   "metadata": {
    "scrolled": false
   },
   "outputs": [
    {
     "name": "stdout",
     "output_type": "stream",
     "text": [
      "AUC: 0.6134357424947183\n"
     ]
    },
    {
     "data": {
      "image/png": "[encoded data removed]",
      "text/plain": [
       "<Figure size 432x288 with 1 Axes>"
      ]
     },
     "metadata": {
      "needs_background": "light"
     },
     "output_type": "display_data"
    }
   ],
   "source": [
    "# sklearn에서 ROC 패키지 활용\n",
    "fpr, tpr, thresholds = metrics.roc_curve(test_y,pred_y,pos_label = 1)\n",
    "\n",
    "# ROC curve\n",
    "plt.plot(fpr,tpr)\n",
    "\n",
    "# AUC\n",
    "auc = np.trapz(tpr,fpr)\n",
    "print(\"AUC:\",auc)"
   ]
  },
  {
   "cell_type": "markdown",
   "id": "20a35136",
   "metadata": {},
   "source": [
    "# 여기서부터 💔"
   ]
  },
  {
   "cell_type": "code",
   "execution_count": null,
   "id": "cef740e4",
   "metadata": {},
   "outputs": [],
   "source": [
    "RAW = pd.read_csv('FINAL_DOG_DOG.csv',encoding='euc-kr',index_col=0)"
   ]
  },
  {
   "cell_type": "code",
   "execution_count": 149,
   "id": "0443c5cd",
   "metadata": {},
   "outputs": [
    {
     "data": {
      "text/plain": [
       "Index(['품종', '색상', '성별', '체중', '중성화여부', '당시의나이', '상태', '접수일', '직영', '위탁'], dtype='object')"
      ]
     },
     "execution_count": 149,
     "metadata": {},
     "output_type": "execute_result"
    }
   ],
   "source": [
    "df_test = pd.read_csv('data/#Final_Check.csv',encoding='cp949',index_col=0)\n",
    "df_test.columns"
   ]
  },
  {
   "cell_type": "code",
   "execution_count": null,
   "id": "92da489c",
   "metadata": {
    "scrolled": true
   },
   "outputs": [],
   "source": [
    "df_test['나이'].unique()"
   ]
  },
  {
   "cell_type": "code",
   "execution_count": null,
   "id": "e79ab017",
   "metadata": {},
   "outputs": [],
   "source": [
    "df_test[]"
   ]
  },
  {
   "cell_type": "code",
   "execution_count": null,
   "id": "eaf4a4e0",
   "metadata": {},
   "outputs": [],
   "source": [
    "df_test['나이'] = df_test['나이'].apply(lambda x : x[:-4])\n",
    "df_test['나이'].unique()"
   ]
  },
  {
   "cell_type": "code",
   "execution_count": null,
   "id": "de49b26c",
   "metadata": {},
   "outputs": [],
   "source": [
    "df_test['나이'] = df_test['나이'].replace('','바보')"
   ]
  },
  {
   "cell_type": "code",
   "execution_count": null,
   "id": "b786ae6e",
   "metadata": {},
   "outputs": [],
   "source": [
    "df_test['나이'] = df_test.replace('`','바보')\n",
    "df_test['나이'] = df_test.replace('-','바보')\n"
   ]
  },
  {
   "cell_type": "code",
   "execution_count": null,
   "id": "cd31a69d",
   "metadata": {},
   "outputs": [],
   "source": [
    "df_test['나이'].unique()"
   ]
  },
  {
   "cell_type": "code",
   "execution_count": null,
   "id": "b3d28123",
   "metadata": {},
   "outputs": [],
   "source": [
    "df_age = df_test.loc[df_test['나이'] != '바보']\n",
    "df_age['나이'].unique()"
   ]
  },
  {
   "cell_type": "code",
   "execution_count": null,
   "id": "b478229f",
   "metadata": {},
   "outputs": [],
   "source": [
    "df_test = df_age"
   ]
  },
  {
   "cell_type": "code",
   "execution_count": null,
   "id": "01029a52",
   "metadata": {},
   "outputs": [],
   "source": [
    "df_test.to_csv('#1.csv',encoding='euc-kr')"
   ]
  },
  {
   "cell_type": "markdown",
   "id": "478c5bce",
   "metadata": {},
   "source": [
    "## 💟 나이말고"
   ]
  },
  {
   "cell_type": "code",
   "execution_count": null,
   "id": "152e6c08",
   "metadata": {},
   "outputs": [],
   "source": [
    "df_test = df_test[df_test['나이'].apply(lambda x : len(x) == 4)]"
   ]
  },
  {
   "cell_type": "code",
   "execution_count": null,
   "id": "f0e3a86c",
   "metadata": {},
   "outputs": [],
   "source": [
    "df_test['나이'].unique()"
   ]
  },
  {
   "cell_type": "code",
   "execution_count": null,
   "id": "13ac8f93",
   "metadata": {},
   "outputs": [],
   "source": [
    "df_test = df_test[df_test['나이'] != '1018']\n",
    "df_test['나이'].unique()"
   ]
  },
  {
   "cell_type": "code",
   "execution_count": null,
   "id": "bd401c40",
   "metadata": {},
   "outputs": [],
   "source": [
    "df_test.shape"
   ]
  },
  {
   "cell_type": "code",
   "execution_count": null,
   "id": "950c660b",
   "metadata": {},
   "outputs": [],
   "source": [
    "df_test['나이'] = df_test['나이'].astype('int')\n"
   ]
  },
  {
   "cell_type": "markdown",
   "id": "fc664742",
   "metadata": {},
   "source": [
    "### 접수일 💫"
   ]
  },
  {
   "cell_type": "code",
   "execution_count": null,
   "id": "a96d3eed",
   "metadata": {},
   "outputs": [],
   "source": [
    "df_test['접수일'] = df_test['접수일'].astype('str')"
   ]
  },
  {
   "cell_type": "code",
   "execution_count": null,
   "id": "b1c22eb2",
   "metadata": {},
   "outputs": [],
   "source": [
    "df_test['접수일']= df_test['접수일'].apply(lambda x : x[:4])\n"
   ]
  },
  {
   "cell_type": "code",
   "execution_count": null,
   "id": "abcc6a14",
   "metadata": {},
   "outputs": [],
   "source": [
    "df_test['접수일'].unique()"
   ]
  },
  {
   "cell_type": "code",
   "execution_count": null,
   "id": "f16172a2",
   "metadata": {},
   "outputs": [],
   "source": [
    "df_test['접수일'] = df_test['접수일'].astype('int')\n"
   ]
  },
  {
   "cell_type": "code",
   "execution_count": null,
   "id": "42955ec4",
   "metadata": {},
   "outputs": [],
   "source": [
    "df_test['당시의나이'] = df_test['접수일'] - df_test['나이']"
   ]
  },
  {
   "cell_type": "code",
   "execution_count": null,
   "id": "3ef40970",
   "metadata": {},
   "outputs": [],
   "source": [
    "df_test['당시의나이'].value_counts()"
   ]
  },
  {
   "cell_type": "code",
   "execution_count": null,
   "id": "5e543dcb",
   "metadata": {},
   "outputs": [],
   "source": [
    "df_test['당시의나이'] = df_test['당시의나이'].replace(-1,0)\n",
    "df_test.head(1)"
   ]
  },
  {
   "cell_type": "code",
   "execution_count": null,
   "id": "74e0f7b1",
   "metadata": {},
   "outputs": [],
   "source": [
    "df_test['당시의나이'].unique()"
   ]
  },
  {
   "cell_type": "code",
   "execution_count": null,
   "id": "9fd7b8c1",
   "metadata": {},
   "outputs": [],
   "source": [
    "import warnings\n",
    "\n",
    "warnings.filterwarnings('ignore')\n",
    "\n",
    "plt.rcParams['font.family'] ='Malgun Gothic'\n",
    "\n",
    "plt.style.use('ggplot')\n",
    "plt.figure(figsize = (18, 18))\n",
    "sns.countplot('당시의나이',data = df_test)\n",
    "plt.show()"
   ]
  },
  {
   "cell_type": "markdown",
   "id": "437664fc",
   "metadata": {},
   "source": [
    "## 중성화 🔯\n",
    "---"
   ]
  },
  {
   "cell_type": "code",
   "execution_count": null,
   "id": "e55cd957",
   "metadata": {},
   "outputs": [],
   "source": [
    "df_test.columns"
   ]
  },
  {
   "cell_type": "code",
   "execution_count": null,
   "id": "92d964d6",
   "metadata": {},
   "outputs": [],
   "source": [
    "df_test['중성화여부'].unique()"
   ]
  },
  {
   "cell_type": "code",
   "execution_count": null,
   "id": "9e56ca7e",
   "metadata": {},
   "outputs": [],
   "source": [
    "df_test['중성화여부'] = pd.Categorical(df_test['중성화여부'])\n",
    "df_test['중성화여부'] = df_test['중성화여부'].map({'N' : 0 , 'U' : 1, 'Y' : 2})"
   ]
  },
  {
   "cell_type": "code",
   "execution_count": null,
   "id": "e6d281d1",
   "metadata": {},
   "outputs": [],
   "source": [
    "df_test['중성화여부'].unique()"
   ]
  },
  {
   "cell_type": "code",
   "execution_count": null,
   "id": "cf69d8d3",
   "metadata": {},
   "outputs": [],
   "source": [
    "df_test[\"중성화여부\"].value_counts()"
   ]
  },
  {
   "cell_type": "code",
   "execution_count": null,
   "id": "26bcdb3b",
   "metadata": {},
   "outputs": [],
   "source": [
    "df_test.to_csv('#2_중성화까지.csv',encoding='euc-kr')"
   ]
  },
  {
   "cell_type": "markdown",
   "id": "55f75aaf",
   "metadata": {},
   "source": [
    "### Drop Columns 💢\n",
    "---"
   ]
  },
  {
   "cell_type": "code",
   "execution_count": null,
   "id": "a9af4243",
   "metadata": {
    "scrolled": true
   },
   "outputs": [],
   "source": [
    "df_test.columns"
   ]
  },
  {
   "cell_type": "markdown",
   "id": "f6be3005",
   "metadata": {},
   "source": [
    "## 체중 💦 --> 💥 Catch Point 💥\n",
    "---"
   ]
  },
  {
   "cell_type": "code",
   "execution_count": null,
   "id": "88e3de4b",
   "metadata": {},
   "outputs": [],
   "source": [
    "# df_prac 으로 사용하기 \n",
    "\n",
    "df_prac = df_test[['공고번호','보호소이름','품종','색상','성별','체중','중성화여부','당시의나이','상태']]\n"
   ]
  },
  {
   "cell_type": "markdown",
   "id": "150fc342",
   "metadata": {},
   "source": [
    "### 정규식으로 쉽게 💌"
   ]
  },
  {
   "cell_type": "code",
   "execution_count": null,
   "id": "63e8e57f",
   "metadata": {},
   "outputs": [],
   "source": [
    "\n",
    "df_prac['체중'] = df_test['체중'].apply(lambda x : x[:-4])\n",
    "df_prac[['체중_소수점','체중_정수']] = df_prac['체중'].str.extract(r'(\\d+\\.\\d+)|(\\d+)')\n",
    "df_prac['체중']=  df_prac['체중_소수점'].fillna(df_prac['체중_정수'])\n",
    "\n",
    "df_prac = df_prac.loc[df_prac['체중'].apply(lambda x: x is not np.NaN)]\n",
    "df_prac = df_prac.loc[df_prac['체중'].apply(lambda x: x is not None)]\n",
    "\n",
    "df_prac['체중'] = df_prac['체중'].astype('float')\n"
   ]
  },
  {
   "cell_type": "code",
   "execution_count": null,
   "id": "d58f4e49",
   "metadata": {},
   "outputs": [],
   "source": [
    "df_prac['체중'].isnull().sum()"
   ]
  },
  {
   "cell_type": "markdown",
   "id": "c3d8ae90",
   "metadata": {},
   "source": [
    "#### 체중 Outlier 처리 --- 💨\n",
    "---"
   ]
  },
  {
   "cell_type": "code",
   "execution_count": null,
   "id": "84f71e17",
   "metadata": {
    "scrolled": true
   },
   "outputs": [],
   "source": [
    "df_prac['체중'].unique()"
   ]
  },
  {
   "cell_type": "code",
   "execution_count": null,
   "id": "22902439",
   "metadata": {},
   "outputs": [],
   "source": [
    "df_prac[df_prac['체중'].apply(lambda x : x >= 100)].index"
   ]
  },
  {
   "cell_type": "code",
   "execution_count": null,
   "id": "06855766",
   "metadata": {},
   "outputs": [],
   "source": [
    "change_weight_index = df_prac[df_prac['체중'].apply(lambda x : x >= 100)].index"
   ]
  },
  {
   "cell_type": "code",
   "execution_count": null,
   "id": "527bfd69",
   "metadata": {},
   "outputs": [],
   "source": [
    "new_weight = df_prac.loc[change_weight_index, '체중'].apply(lambda x : x / 1000)"
   ]
  },
  {
   "cell_type": "code",
   "execution_count": null,
   "id": "574f6b4b",
   "metadata": {},
   "outputs": [],
   "source": [
    "df_prac.loc[change_weight_index, '체중'] = new_weight"
   ]
  },
  {
   "cell_type": "code",
   "execution_count": null,
   "id": "e64eaa76",
   "metadata": {},
   "outputs": [],
   "source": [
    "df_prac[df_prac['체중'] == 20180.323]"
   ]
  },
  {
   "cell_type": "code",
   "execution_count": null,
   "id": "8adc1339",
   "metadata": {},
   "outputs": [],
   "source": [
    "df_prac.drop(90784,axis=0, inplace=True)"
   ]
  },
  {
   "cell_type": "code",
   "execution_count": null,
   "id": "908f4291",
   "metadata": {
    "scrolled": true
   },
   "outputs": [],
   "source": [
    "sns.boxplot('체중', data=df_prac)"
   ]
  },
  {
   "cell_type": "markdown",
   "id": "559bc1c7",
   "metadata": {},
   "source": [
    "##### 체중 범주화 처리 💢\n",
    "---\n",
    "    기준을 찾기"
   ]
  },
  {
   "cell_type": "markdown",
   "id": "5afd9627",
   "metadata": {},
   "source": [
    "### 범주화 하지말자!\n",
    "---\n",
    "\n",
    "count, bin_dividers = np.histogram(df_prac['체중'], bins=5)\n",
    "\n",
    "print(bin_dividers)\n",
    "\n",
    "bin_names = ['소소','소', '중','중중', '대']\n",
    "\n",
    "df_prac['NEW_체중'] = pd.cut(x = df_prac['체중'],\n",
    "                       bins= bin_dividers,\n",
    "                       labels=bin_names,\n",
    "                       include_lowest=True)\n",
    "\n",
    "df_prac['체중'] = df_prac['NEW_체중']\n",
    "df_prac.info()\n",
    "\n",
    "df_prac.drop('NEW_체중', axis=1, inplace=True)\n",
    "\n",
    "df_prac['체중'] = df_prac['체중'].map({'소소':1,'소': 2, '중' : 3 ,'중중': 4,'대': 5})\n",
    "df_prac['체중'].unique()"
   ]
  },
  {
   "cell_type": "code",
   "execution_count": null,
   "id": "526068b3",
   "metadata": {},
   "outputs": [],
   "source": [
    "# 오예\n",
    "\n",
    "df_prac.to_csv('#3_체중까지.csv',encoding='cp949')"
   ]
  },
  {
   "cell_type": "markdown",
   "id": "449bc521",
   "metadata": {},
   "source": [
    "---\n",
    "## 성별 💤"
   ]
  },
  {
   "cell_type": "code",
   "execution_count": null,
   "id": "521d3f9d",
   "metadata": {},
   "outputs": [],
   "source": [
    "df_3 = pd.read_csv('#3_체중까지.csv',encoding='cp949',index_col=0)"
   ]
  },
  {
   "cell_type": "code",
   "execution_count": null,
   "id": "0777e2d5",
   "metadata": {},
   "outputs": [],
   "source": [
    "df_3['성별'].unique()"
   ]
  },
  {
   "cell_type": "code",
   "execution_count": null,
   "id": "88a5ddc2",
   "metadata": {},
   "outputs": [],
   "source": [
    "df_3 = df_3.loc[df_3['성별'] != 'Q']\n"
   ]
  },
  {
   "cell_type": "code",
   "execution_count": null,
   "id": "f497b6cc",
   "metadata": {},
   "outputs": [],
   "source": [
    "df_3['성별'] = pd.Categorical(df_3['성별'])\n",
    "\n",
    "df_3['성별'] = df_3['성별'].map({'M': 0, 'F': 1})"
   ]
  },
  {
   "cell_type": "code",
   "execution_count": null,
   "id": "836634da",
   "metadata": {},
   "outputs": [],
   "source": [
    "df_3['성별'].unique()"
   ]
  },
  {
   "cell_type": "code",
   "execution_count": null,
   "id": "0561c9b0",
   "metadata": {},
   "outputs": [],
   "source": [
    "df_3.to_csv('#4_성별까지.csv',encoding='cp949')"
   ]
  },
  {
   "cell_type": "markdown",
   "id": "bc185660",
   "metadata": {},
   "source": [
    "---\n",
    "## 상태 💤\n",
    "---\n",
    "입양 --> 걍 두고 |  y = 1 <br>\n",
    "반환 --> 주인한테 돌아간거 |  drop / no drop <br>\n",
    "미포획 --> 탈주의 가능성 높음 | drop <br>\n",
    "자연사 --> 사망 | y = 자연사 <br>\n",
    "기증 --> 다른 센터나 보호소로 보냄 | drop  <br>\n",
    "안락사 --> 사망 |  y = 안락사 <br>\n",
    "보호중 --> 보호중 |  drop <br>\n",
    "방사 --> 탈주 |  drop "
   ]
  },
  {
   "cell_type": "code",
   "execution_count": null,
   "id": "166d51a3",
   "metadata": {},
   "outputs": [],
   "source": [
    "df_4 = pd.read_csv('./Data/#4_성별까지.csv',encoding='cp949',index_col=0)"
   ]
  },
  {
   "cell_type": "code",
   "execution_count": null,
   "id": "9af12729",
   "metadata": {},
   "outputs": [],
   "source": [
    "df_4['상태'] = pd.Categorical(df_4['상태'])"
   ]
  },
  {
   "cell_type": "code",
   "execution_count": null,
   "id": "47a93f50",
   "metadata": {},
   "outputs": [],
   "source": [
    "df_4['상태'].unique()"
   ]
  },
  {
   "cell_type": "code",
   "execution_count": null,
   "id": "f8125244",
   "metadata": {},
   "outputs": [],
   "source": [
    "df_4['옵션'] = df_4['상태'].str.split('(',expand= True)[1]"
   ]
  },
  {
   "cell_type": "code",
   "execution_count": null,
   "id": "690ffd6d",
   "metadata": {},
   "outputs": [],
   "source": [
    "df_4['옵션'] = df_4['옵션'].str.replace(')','')"
   ]
  },
  {
   "cell_type": "code",
   "execution_count": null,
   "id": "dcd6dcc9",
   "metadata": {},
   "outputs": [],
   "source": [
    "df_4['옵션1'] = df_4['상태'].str.split('(',expand=True)[0]"
   ]
  },
  {
   "cell_type": "code",
   "execution_count": null,
   "id": "aa5f3b8f",
   "metadata": {},
   "outputs": [],
   "source": [
    "df_4['상태'] = df_4['옵션'].fillna(df_4['옵션1'])"
   ]
  },
  {
   "cell_type": "code",
   "execution_count": null,
   "id": "56d55360",
   "metadata": {},
   "outputs": [],
   "source": [
    "df_4['상태'].unique()"
   ]
  },
  {
   "cell_type": "code",
   "execution_count": null,
   "id": "0666419e",
   "metadata": {},
   "outputs": [],
   "source": [
    "df_4.drop(['체중_소수점','체중_정수','옵션','옵션1'],axis=1,inplace=True)"
   ]
  },
  {
   "cell_type": "code",
   "execution_count": null,
   "id": "93730cd8",
   "metadata": {
    "scrolled": true
   },
   "outputs": [],
   "source": [
    "df_4['상태'].unique()"
   ]
  },
  {
   "cell_type": "code",
   "execution_count": null,
   "id": "3c695849",
   "metadata": {},
   "outputs": [],
   "source": [
    "df_4[df_4['상태'] != '입양']"
   ]
  },
  {
   "cell_type": "code",
   "execution_count": null,
   "id": "29c26f2f",
   "metadata": {},
   "outputs": [],
   "source": [
    "# 쓸모없는 상태를 버리고 \n",
    "\n",
    "df_4 = df_4[(df_4['상태'] != '방사' ) & (df_4['상태'] != '미포획') & (df_4['상태'] != '반환') & (df_4['상태'] != '기증') & (df_4['상태'] != '보호중')]\n",
    "df_4['상태'].unique()\n",
    "# 상태를 두 분류로 나눈다.\n",
    "\n",
    "df_4.loc[df_4['상태'] != '입양','상태'] = '입양아님'"
   ]
  },
  {
   "cell_type": "code",
   "execution_count": null,
   "id": "6446b79b",
   "metadata": {},
   "outputs": [],
   "source": [
    "# 그리고 카테고리화 하고 / 1,0 으로 바꾸기\n",
    "df_4['상태'] = pd.Categorical(df_4['상태'])\n",
    "df_4['상태'] = df_4['상태'].map({'입양': 0, '입양아님' : 1})\n",
    "\n",
    "df_4.head(2)"
   ]
  },
  {
   "cell_type": "code",
   "execution_count": null,
   "id": "bace66c2",
   "metadata": {},
   "outputs": [],
   "source": [
    "df_4['상태'].unique()"
   ]
  },
  {
   "cell_type": "code",
   "execution_count": null,
   "id": "b4971f8c",
   "metadata": {},
   "outputs": [],
   "source": [
    "df_4.to_csv('./Data/#5_상태까지.csv',encoding='cp949')"
   ]
  },
  {
   "cell_type": "markdown",
   "id": "9fee09ea",
   "metadata": {},
   "source": [
    "---\n",
    "## 종 💤"
   ]
  },
  {
   "cell_type": "markdown",
   "id": "3a5f210a",
   "metadata": {},
   "source": [
    "## 가져온 종류와 기존의 DATASET 비교 💔\n",
    "---"
   ]
  },
  {
   "cell_type": "code",
   "execution_count": null,
   "id": "f43c57a0",
   "metadata": {},
   "outputs": [],
   "source": [
    "df_kinds = pd.read_csv('./Data/#5_상태까지.csv',encoding='cp949',index_col=0)\n",
    "\n",
    "kinds = pd.read_csv('./Data/바보.csv',encoding='cp949',index_col=0)\n"
   ]
  },
  {
   "cell_type": "code",
   "execution_count": null,
   "id": "9719f182",
   "metadata": {},
   "outputs": [],
   "source": [
    "df_kinds['품종'] = df_kinds['품종'].apply(lambda x : x[4:])"
   ]
  },
  {
   "cell_type": "code",
   "execution_count": null,
   "id": "6c7c636d",
   "metadata": {},
   "outputs": [],
   "source": [
    "kinds_list = np.array(kinds['0'].tolist())\n",
    "kinds_list = kinds_list.tolist()"
   ]
  },
  {
   "cell_type": "code",
   "execution_count": null,
   "id": "2c521e5d",
   "metadata": {},
   "outputs": [],
   "source": [
    "for i in range(len(kinds_list)):\n",
    "    kinds_list[i] = kinds_list[i].replace(' ','')"
   ]
  },
  {
   "cell_type": "code",
   "execution_count": null,
   "id": "cf828042",
   "metadata": {},
   "outputs": [],
   "source": [
    "kinds_list.append('골든리트리버')"
   ]
  },
  {
   "cell_type": "code",
   "execution_count": null,
   "id": "5dd44104",
   "metadata": {},
   "outputs": [],
   "source": [
    "'''공백을 없애자'''\n",
    "\n",
    "df_kinds['품종'] = df_kinds['품종'].str.replace(' ','')\n"
   ]
  },
  {
   "cell_type": "code",
   "execution_count": null,
   "id": "f0f46b50",
   "metadata": {},
   "outputs": [],
   "source": [
    "''' 믹스견을 처리하자 '''\n",
    "\n",
    "mixed_index = df_kinds[df_kinds['품종'].str.contains('혼합|혼종|잡종|mix|믹스|믹스견|&|잡견|혼혈')].index\n",
    "df_kinds.loc[mixed_index,'품종']='믹스견'"
   ]
  },
  {
   "cell_type": "markdown",
   "id": "2c247122",
   "metadata": {},
   "source": [
    "#### 종류_list에 안 속해있는 놈들 ❌\n",
    "---"
   ]
  },
  {
   "cell_type": "code",
   "execution_count": null,
   "id": "8b5db6f6",
   "metadata": {},
   "outputs": [],
   "source": [
    "df_kinds_error = df_kinds[df_kinds['품종'].apply(lambda x : x in kinds_list) == False]"
   ]
  },
  {
   "cell_type": "markdown",
   "id": "30233efd",
   "metadata": {},
   "source": [
    "##### 수가 10개 이상인 품종을 찾자"
   ]
  },
  {
   "cell_type": "code",
   "execution_count": null,
   "id": "8e5244db",
   "metadata": {},
   "outputs": [],
   "source": [
    "value_10_over = pd.DataFrame(df_kinds_error['품종'].value_counts() > 10)"
   ]
  },
  {
   "cell_type": "code",
   "execution_count": null,
   "id": "16209952",
   "metadata": {},
   "outputs": [],
   "source": [
    "value_true = value_10_over[value_10_over['품종']== True]"
   ]
  },
  {
   "cell_type": "code",
   "execution_count": null,
   "id": "734add55",
   "metadata": {},
   "outputs": [],
   "source": [
    "value_true"
   ]
  },
  {
   "cell_type": "markdown",
   "id": "9a94a8b3",
   "metadata": {},
   "source": [
    "##### 기존에 가지고 있는 list랑 이름을 맞춰주자"
   ]
  },
  {
   "cell_type": "code",
   "execution_count": null,
   "id": "52ff9055",
   "metadata": {},
   "outputs": [],
   "source": [
    "value_true = value_true.index.tolist()"
   ]
  },
  {
   "cell_type": "code",
   "execution_count": null,
   "id": "6ba4ab2e",
   "metadata": {},
   "outputs": [],
   "source": [
    "value_check = pd.read_excel('./Data/아아.xlsx')\n",
    "value_check = value_check[0].tolist()"
   ]
  },
  {
   "cell_type": "code",
   "execution_count": null,
   "id": "be29a9b8",
   "metadata": {},
   "outputs": [],
   "source": [
    "value_final = []\n",
    "\n",
    "for i in range(len(value_check)):\n",
    "    value_final.append(value_check[i])"
   ]
  },
  {
   "cell_type": "code",
   "execution_count": null,
   "id": "9b4462fa",
   "metadata": {},
   "outputs": [],
   "source": [
    "value_final"
   ]
  },
  {
   "cell_type": "code",
   "execution_count": null,
   "id": "62c810b9",
   "metadata": {},
   "outputs": [],
   "source": [
    "for i in range(len(value_final)):\n",
    "    if value_final[i] == 0:\n",
    "        value_final[i] = '바보'"
   ]
  },
  {
   "cell_type": "code",
   "execution_count": null,
   "id": "5abe3dc3",
   "metadata": {},
   "outputs": [],
   "source": [
    "df_kinds_error = df_kinds_error[df_kinds_error['품종'].apply(lambda x : x in value_true)]"
   ]
  },
  {
   "cell_type": "code",
   "execution_count": null,
   "id": "c15963c5",
   "metadata": {},
   "outputs": [],
   "source": [
    "df_kinds_error['품종'].value_counts()"
   ]
  },
  {
   "cell_type": "code",
   "execution_count": null,
   "id": "9bded4f5",
   "metadata": {},
   "outputs": [],
   "source": [
    "for i in range(len(value_final)):\n",
    "#     df_kinds_error['품종'] = df_kinds_error['품종'].str.replace(value_true[i],value_final[i])\n",
    "    df_kinds_error.loc[df_kinds_error['품종']==value_true[i],'품종'] = value_final[i]\n"
   ]
  },
  {
   "cell_type": "code",
   "execution_count": null,
   "id": "9bc10923",
   "metadata": {},
   "outputs": [],
   "source": [
    "df_kinds_error = df_kinds_error.loc[df_kinds_error['품종'] != '바보']"
   ]
  },
  {
   "cell_type": "code",
   "execution_count": null,
   "id": "667a9ff5",
   "metadata": {
    "scrolled": true
   },
   "outputs": [],
   "source": [
    "df_kinds_error['품종'].value_counts()"
   ]
  },
  {
   "cell_type": "markdown",
   "id": "66356380",
   "metadata": {},
   "source": [
    "#### 종류 list에 속해있는 놈들 ⭕\n",
    "---"
   ]
  },
  {
   "cell_type": "code",
   "execution_count": null,
   "id": "87d3a494",
   "metadata": {},
   "outputs": [],
   "source": [
    "df_kinds_true = df_kinds[df_kinds['품종'].apply(lambda x : x in kinds_list) == True]"
   ]
  },
  {
   "cell_type": "code",
   "execution_count": null,
   "id": "0ceeb95b",
   "metadata": {},
   "outputs": [],
   "source": [
    "len(df_kinds_true)"
   ]
  },
  {
   "cell_type": "code",
   "execution_count": null,
   "id": "7263b797",
   "metadata": {},
   "outputs": [],
   "source": [
    "df_kinds_true['품종'].value_counts().index.values"
   ]
  },
  {
   "cell_type": "markdown",
   "id": "91f59c44",
   "metadata": {},
   "source": [
    "##### 최종 종류를 합쳐보자! 💫\n",
    "---"
   ]
  },
  {
   "cell_type": "code",
   "execution_count": null,
   "id": "d733287b",
   "metadata": {},
   "outputs": [],
   "source": [
    "df_6 = pd.concat([df_kinds_true,df_kinds_error])\n",
    "# df_6['품종'] = df_6['품종'].str.replace('진도견견','진도견')"
   ]
  },
  {
   "cell_type": "code",
   "execution_count": null,
   "id": "a4d90bec",
   "metadata": {},
   "outputs": [],
   "source": [
    "len(list(df_6['품종'].value_counts().index.values))"
   ]
  },
  {
   "cell_type": "code",
   "execution_count": null,
   "id": "c5339401",
   "metadata": {
    "scrolled": true
   },
   "outputs": [],
   "source": [
    "types = pd.read_csv('./Data/종분류.csv', encoding = 'cp949', index_col = 0)\n",
    "types.head(1)"
   ]
  },
  {
   "cell_type": "code",
   "execution_count": null,
   "id": "33dd5f5d",
   "metadata": {},
   "outputs": [],
   "source": [
    "len(types)"
   ]
  },
  {
   "cell_type": "code",
   "execution_count": null,
   "id": "3f480d7e",
   "metadata": {},
   "outputs": [],
   "source": [
    "types.index[0]"
   ]
  },
  {
   "cell_type": "code",
   "execution_count": null,
   "id": "baa490e7",
   "metadata": {},
   "outputs": [],
   "source": [
    "types['분류'][0]"
   ]
  },
  {
   "cell_type": "code",
   "execution_count": null,
   "id": "0e37e085",
   "metadata": {},
   "outputs": [],
   "source": [
    "for i in range(len(types)) : \n",
    "    df_6.loc[df_6['품종'] == types.index[i],'품종'] = types['분류'][i]"
   ]
  },
  {
   "cell_type": "code",
   "execution_count": null,
   "id": "5a152842",
   "metadata": {
    "scrolled": false
   },
   "outputs": [],
   "source": [
    "df_6['품종'].unique()"
   ]
  },
  {
   "cell_type": "code",
   "execution_count": null,
   "id": "fab28718",
   "metadata": {},
   "outputs": [],
   "source": [
    "from sklearn.preprocessing import LabelEncoder\n",
    "\n",
    "encoder = LabelEncoder()\n",
    "encoder.fit(df_6['품종'].unique())\n",
    "\n",
    "labels = encoder.transform(df_6['품종'].unique())\n",
    "\n",
    "print('인코딩 변환값 : ', labels)"
   ]
  },
  {
   "cell_type": "code",
   "execution_count": null,
   "id": "727b9214",
   "metadata": {},
   "outputs": [],
   "source": [
    "labels"
   ]
  },
  {
   "cell_type": "code",
   "execution_count": null,
   "id": "a4315f52",
   "metadata": {},
   "outputs": [],
   "source": [
    "# 디코딩 변환값\n",
    "\n",
    "print('디코딩 변환 값 :' , encoder.inverse_transform([3]))"
   ]
  },
  {
   "cell_type": "code",
   "execution_count": null,
   "id": "49c1681d",
   "metadata": {},
   "outputs": [],
   "source": [
    "품종_고유값 = df_6['품종'].unique()"
   ]
  },
  {
   "cell_type": "code",
   "execution_count": null,
   "id": "60036137",
   "metadata": {},
   "outputs": [],
   "source": [
    "# category 화 \n",
    "\n",
    "df_6['품종'] = pd.Categorical(df_6['품종'])\n",
    "df_6.info()"
   ]
  },
  {
   "cell_type": "code",
   "execution_count": null,
   "id": "d0a7ba70",
   "metadata": {},
   "outputs": [],
   "source": [
    "for i in range(len(labels)):\n",
    "    df_6['품종'] = df_6['품종'].replace(품종_고유값[i], labels[i])"
   ]
  },
  {
   "cell_type": "code",
   "execution_count": null,
   "id": "afdf6ed0",
   "metadata": {},
   "outputs": [],
   "source": [
    "df_6['품종'].value_counts()"
   ]
  },
  {
   "cell_type": "code",
   "execution_count": null,
   "id": "dd7afa31",
   "metadata": {},
   "outputs": [],
   "source": [
    "df_6.to_csv('./Data/#6_품종까지.csv',encoding='cp949')"
   ]
  },
  {
   "cell_type": "markdown",
   "id": "fb18cce5",
   "metadata": {},
   "source": [
    "### 색상 💫\n",
    "---"
   ]
  },
  {
   "cell_type": "code",
   "execution_count": null,
   "id": "d7b6bc19",
   "metadata": {},
   "outputs": [],
   "source": [
    "df_6 = pd.read_csv('./data/#6_품종까지.csv',encoding='cp949', index_col=0)"
   ]
  },
  {
   "cell_type": "code",
   "execution_count": null,
   "id": "53a28aab",
   "metadata": {},
   "outputs": [],
   "source": [
    "final_color = pd.read_csv('./data/FInal_Color.csv',encoding='utf-8',index_col=0)\n",
    "final_color['색상최종'].unique()"
   ]
  },
  {
   "cell_type": "code",
   "execution_count": null,
   "id": "45f15fd6",
   "metadata": {},
   "outputs": [],
   "source": [
    "df_7 = pd.merge(df_6,final_color, how='inner', on='공고번호')\n",
    "df_7['색상'] = df_7['색상최종']"
   ]
  },
  {
   "cell_type": "code",
   "execution_count": null,
   "id": "a11443db",
   "metadata": {},
   "outputs": [],
   "source": [
    "df_7.drop('색상최종',axis=1,inplace=True)"
   ]
  },
  {
   "cell_type": "code",
   "execution_count": null,
   "id": "5961bd3b",
   "metadata": {},
   "outputs": [],
   "source": [
    "df_7['색상'] = pd.Categorical(df_7['색상'])"
   ]
  },
  {
   "cell_type": "markdown",
   "id": "80330f4b",
   "metadata": {},
   "source": [
    "#### 흰색 - 1, 검정색 - 2, 노란색 - 3, 갈색 - 4, 혼합 - 5"
   ]
  },
  {
   "cell_type": "code",
   "execution_count": null,
   "id": "cf225606",
   "metadata": {},
   "outputs": [],
   "source": [
    "df_7['색상'] = df_7['색상'].map({'흰색' : 1, '검정색' : 2, '노란색': 3,'갈색':4, '혼합' : 5})"
   ]
  },
  {
   "cell_type": "code",
   "execution_count": null,
   "id": "9138ef59",
   "metadata": {},
   "outputs": [],
   "source": [
    "df_7.to_csv('./data/#7_색상까지_FINAL.csv',encoding='cp949')"
   ]
  },
  {
   "cell_type": "markdown",
   "id": "1cab394e",
   "metadata": {},
   "source": [
    "#### 최종 DATASET 💝\n",
    "---\n",
    "    범주화 했던 자료들을 --> 데이터셋을 불러오고 나서, category 타입으로 바꿔주자\n",
    "    \n",
    "    품종\n",
    "    색상\n",
    "    성별\n",
    "    체중\n",
    "    중성화여부\n",
    "    상태\n",
    "    \n",
    "    \n",
    "    "
   ]
  },
  {
   "cell_type": "code",
   "execution_count": null,
   "id": "6b979f5d",
   "metadata": {},
   "outputs": [],
   "source": [
    "df_final = pd.read_csv('./data/#7_색상까지_FINAL.csv',encoding='cp949',index_col=0)\n",
    "df_final.head(2)\n"
   ]
  },
  {
   "cell_type": "markdown",
   "id": "9621d674",
   "metadata": {},
   "source": [
    "### 직영과 위탁을 나누자 💢\n",
    "---\n",
    "\n"
   ]
  },
  {
   "cell_type": "markdown",
   "id": "8833852c",
   "metadata": {},
   "source": [
    "##### 진규님이 변환해준 csv파일로 하기!"
   ]
  },
  {
   "cell_type": "code",
   "execution_count": null,
   "id": "7012c392",
   "metadata": {},
   "outputs": [],
   "source": [
    "df_money = pd.read_csv('./Data/위탁보호소.csv',encoding='cp949',index_col=0)\n",
    "df_service = pd.read_csv('./Data/직영보호소.csv',encoding='cp949',index_col=0)\n"
   ]
  },
  {
   "cell_type": "code",
   "execution_count": null,
   "id": "4a692f3b",
   "metadata": {},
   "outputs": [],
   "source": [
    "df_service.head(2)"
   ]
  },
  {
   "cell_type": "code",
   "execution_count": null,
   "id": "f55ab57f",
   "metadata": {},
   "outputs": [],
   "source": [
    "service_list=  list(df_service['보호소이름'].unique())"
   ]
  },
  {
   "cell_type": "code",
   "execution_count": null,
   "id": "4c0ad17a",
   "metadata": {},
   "outputs": [],
   "source": [
    "df_final"
   ]
  },
  {
   "cell_type": "code",
   "execution_count": null,
   "id": "c0667dd0",
   "metadata": {
    "scrolled": true
   },
   "outputs": [],
   "source": [
    "df_kinds_error = df_kinds_error[df_kinds_error['품종'].apply(lambda x : x in service_list)]\n",
    "df_kinds_error['품종'].value_counts()"
   ]
  },
  {
   "cell_type": "code",
   "execution_count": null,
   "id": "9ac891ee",
   "metadata": {},
   "outputs": [],
   "source": []
  },
  {
   "cell_type": "code",
   "execution_count": null,
   "id": "2c2cb37e",
   "metadata": {},
   "outputs": [],
   "source": []
  },
  {
   "cell_type": "code",
   "execution_count": null,
   "id": "01776c11",
   "metadata": {},
   "outputs": [],
   "source": []
  },
  {
   "cell_type": "code",
   "execution_count": null,
   "id": "c91cfa10",
   "metadata": {},
   "outputs": [],
   "source": [
    "df_money['보호소형태'] = '위탁'\n",
    "df_service['보호소형태'] = '직영'"
   ]
  },
  {
   "cell_type": "code",
   "execution_count": null,
   "id": "7c9bf71a",
   "metadata": {},
   "outputs": [],
   "source": [
    "df_test = pd.concat([df_service,df_money], ignore_index=True)"
   ]
  },
  {
   "cell_type": "code",
   "execution_count": null,
   "id": "28672a73",
   "metadata": {},
   "outputs": [],
   "source": [
    "df_test_final = df_test[['품종','색상','성별','체중','중성화여부','당시의나이','보호소형태','상태']]"
   ]
  },
  {
   "cell_type": "code",
   "execution_count": null,
   "id": "edc45ce0",
   "metadata": {},
   "outputs": [],
   "source": [
    "df_test_final['보호소형태'] = pd.Categorical(df_test_final['보호소형태'])\n",
    "df_test_final['보호소형태'].unique()"
   ]
  },
  {
   "cell_type": "code",
   "execution_count": null,
   "id": "d9fbaa96",
   "metadata": {},
   "outputs": [],
   "source": [
    "df_test_final['보호소형태'] = df_test_final['보호소형태'].map({'직영' : 1, '위탁' : 0})"
   ]
  },
  {
   "cell_type": "code",
   "execution_count": null,
   "id": "3e2dd328",
   "metadata": {},
   "outputs": [],
   "source": [
    "df_test_final.to_csv('./data/#8_FINAL.csv',encoding='cp949')"
   ]
  },
  {
   "cell_type": "markdown",
   "id": "2f0292e3",
   "metadata": {},
   "source": [
    "## Check\n",
    "---"
   ]
  },
  {
   "cell_type": "code",
   "execution_count": null,
   "id": "16c1957b",
   "metadata": {},
   "outputs": [],
   "source": [
    "df_check = pd.read_csv('./data/#8_FINAL.csv',encoding='cp949',index_col=0)\n",
    "df_check.columns"
   ]
  },
  {
   "cell_type": "code",
   "execution_count": null,
   "id": "3f4af08e",
   "metadata": {},
   "outputs": [],
   "source": [
    "df_check.shape"
   ]
  },
  {
   "cell_type": "code",
   "execution_count": null,
   "id": "4690e209",
   "metadata": {},
   "outputs": [],
   "source": []
  }
 ],
 "metadata": {
  "kernelspec": {
   "display_name": "Python 3",
   "language": "python",
   "name": "python3"
  },
  "language_info": {
   "codemirror_mode": {
    "name": "ipython",
    "version": 3
   },
   "file_extension": ".py",
   "mimetype": "text/x-python",
   "name": "python",
   "nbconvert_exporter": "python",
   "pygments_lexer": "ipython3",
   "version": "3.8.8"
  },
  "toc": {
   "base_numbering": 1,
   "nav_menu": {},
   "number_sections": true,
   "sideBar": true,
   "skip_h1_title": false,
   "title_cell": "Table of Contents",
   "title_sidebar": "Contents",
   "toc_cell": false,
   "toc_position": {
    "height": "calc(100% - 180px)",
    "left": "10px",
    "top": "150px",
    "width": "279.273px"
   },
   "toc_section_display": true,
   "toc_window_display": true
  },
  "varInspector": {
   "cols": {
    "lenName": 16,
    "lenType": 16,
    "lenVar": 40
   },
   "kernels_config": {
    "python": {
     "delete_cmd_postfix": "",
     "delete_cmd_prefix": "del ",
     "library": "var_list.py",
     "varRefreshCmd": "print(var_dic_list())"
    },
    "r": {
     "delete_cmd_postfix": ") ",
     "delete_cmd_prefix": "rm(",
     "library": "var_list.r",
     "varRefreshCmd": "cat(var_dic_list()) "
    }
   },
   "types_to_exclude": [
    "module",
    "function",
    "builtin_function_or_method",
    "instance",
    "_Feature"
   ],
   "window_display": false
  }
 },
 "nbformat": 4,
 "nbformat_minor": 5
}
