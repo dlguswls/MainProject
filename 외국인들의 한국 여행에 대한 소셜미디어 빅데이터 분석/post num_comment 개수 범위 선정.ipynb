{
 "cells": [
  {
   "cell_type": "code",
   "execution_count": 1,
   "metadata": {},
   "outputs": [],
   "source": [
    "import pandas as pd"
   ]
  },
  {
   "cell_type": "code",
   "execution_count": 2,
   "metadata": {},
   "outputs": [
    {
     "name": "stderr",
     "output_type": "stream",
     "text": [
      "C:\\Users\\82109\\Anaconda3\\lib\\site-packages\\IPython\\core\\interactiveshell.py:3165: DtypeWarning: Columns (18,19,28,30,31,36,44,45,46,47,48,49) have mixed types.Specify dtype option on import or set low_memory=False.\n",
      "  has_raised = await self.run_ast_nodes(code_ast.body, cell_name,\n"
     ]
    }
   ],
   "source": [
    "posts = pd.read_csv('post.csv')"
   ]
  },
  {
   "cell_type": "code",
   "execution_count": 4,
   "metadata": {},
   "outputs": [
    {
     "data": {
      "text/html": [
       "<div>\n",
       "<style scoped>\n",
       "    .dataframe tbody tr th:only-of-type {\n",
       "        vertical-align: middle;\n",
       "    }\n",
       "\n",
       "    .dataframe tbody tr th {\n",
       "        vertical-align: top;\n",
       "    }\n",
       "\n",
       "    .dataframe thead th {\n",
       "        text-align: right;\n",
       "    }\n",
       "</style>\n",
       "<table border=\"1\" class=\"dataframe\">\n",
       "  <thead>\n",
       "    <tr style=\"text-align: right;\">\n",
       "      <th></th>\n",
       "      <th>Unnamed: 0</th>\n",
       "      <th>title</th>\n",
       "      <th>score</th>\n",
       "      <th>id</th>\n",
       "      <th>url</th>\n",
       "      <th>num_comments</th>\n",
       "      <th>created_utc</th>\n",
       "      <th>selftext</th>\n",
       "      <th>link_flair_text</th>\n",
       "    </tr>\n",
       "  </thead>\n",
       "  <tbody>\n",
       "    <tr>\n",
       "      <th>0</th>\n",
       "      <td>0</td>\n",
       "      <td>Why are Korean adjumas chewing gum all the time?</td>\n",
       "      <td>5</td>\n",
       "      <td>9k2vxt</td>\n",
       "      <td>https://www.reddit.com/r/korea/comments/9k2vxt...</td>\n",
       "      <td>30</td>\n",
       "      <td>1538276294</td>\n",
       "      <td>I would guess about 75% of adjumas I see on pu...</td>\n",
       "      <td>NaN</td>\n",
       "    </tr>\n",
       "    <tr>\n",
       "      <th>1</th>\n",
       "      <td>1</td>\n",
       "      <td>First time traveling to Korea</td>\n",
       "      <td>0</td>\n",
       "      <td>9k2nmj</td>\n",
       "      <td>https://i.redd.it/dmht81rucap11.jpg</td>\n",
       "      <td>2</td>\n",
       "      <td>1538274012</td>\n",
       "      <td>NaN</td>\n",
       "      <td>NaN</td>\n",
       "    </tr>\n",
       "    <tr>\n",
       "      <th>2</th>\n",
       "      <td>2</td>\n",
       "      <td>Korean height</td>\n",
       "      <td>0</td>\n",
       "      <td>9k2n2j</td>\n",
       "      <td>https://www.reddit.com/r/korea/comments/9k2n2j...</td>\n",
       "      <td>23</td>\n",
       "      <td>1538273861</td>\n",
       "      <td>Hey guys, Chinese male from Australia.\\n\\nIm c...</td>\n",
       "      <td>NaN</td>\n",
       "    </tr>\n",
       "    <tr>\n",
       "      <th>3</th>\n",
       "      <td>3</td>\n",
       "      <td>Modern Korean history book recommendations?</td>\n",
       "      <td>64</td>\n",
       "      <td>9k0cep</td>\n",
       "      <td>https://www.reddit.com/r/korea/comments/9k0cep...</td>\n",
       "      <td>27</td>\n",
       "      <td>1538253626</td>\n",
       "      <td>I'm looking for books that cover modern Korean...</td>\n",
       "      <td>NaN</td>\n",
       "    </tr>\n",
       "    <tr>\n",
       "      <th>4</th>\n",
       "      <td>4</td>\n",
       "      <td>Female Police Officer Physical Ability Test In...</td>\n",
       "      <td>0</td>\n",
       "      <td>9jzyz0</td>\n",
       "      <td>https://www.youtube.com/watch?v=MHyBaKMErMY</td>\n",
       "      <td>23</td>\n",
       "      <td>1538250658</td>\n",
       "      <td>NaN</td>\n",
       "      <td>NaN</td>\n",
       "    </tr>\n",
       "  </tbody>\n",
       "</table>\n",
       "</div>"
      ],
      "text/plain": [
       "   Unnamed: 0                                              title  score  \\\n",
       "0           0   Why are Korean adjumas chewing gum all the time?      5   \n",
       "1           1                      First time traveling to Korea      0   \n",
       "2           2                                      Korean height      0   \n",
       "3           3        Modern Korean history book recommendations?     64   \n",
       "4           4  Female Police Officer Physical Ability Test In...      0   \n",
       "\n",
       "       id                                                url  num_comments  \\\n",
       "0  9k2vxt  https://www.reddit.com/r/korea/comments/9k2vxt...            30   \n",
       "1  9k2nmj                https://i.redd.it/dmht81rucap11.jpg             2   \n",
       "2  9k2n2j  https://www.reddit.com/r/korea/comments/9k2n2j...            23   \n",
       "3  9k0cep  https://www.reddit.com/r/korea/comments/9k0cep...            27   \n",
       "4  9jzyz0        https://www.youtube.com/watch?v=MHyBaKMErMY            23   \n",
       "\n",
       "   created_utc                                           selftext  \\\n",
       "0   1538276294  I would guess about 75% of adjumas I see on pu...   \n",
       "1   1538274012                                                NaN   \n",
       "2   1538273861  Hey guys, Chinese male from Australia.\\n\\nIm c...   \n",
       "3   1538253626  I'm looking for books that cover modern Korean...   \n",
       "4   1538250658                                                NaN   \n",
       "\n",
       "  link_flair_text  \n",
       "0             NaN  \n",
       "1             NaN  \n",
       "2             NaN  \n",
       "3             NaN  \n",
       "4             NaN  "
      ]
     },
     "execution_count": 4,
     "metadata": {},
     "output_type": "execute_result"
    }
   ],
   "source": [
    "posts.head()"
   ]
  },
  {
   "cell_type": "code",
   "execution_count": 20,
   "metadata": {},
   "outputs": [
    {
     "data": {
      "text/plain": [
       "Index(['Unnamed: 0', 'title', 'score', 'id', 'url', 'num_comments',\n",
       "       'created_utc', 'selftext', 'link_flair_text'],\n",
       "      dtype='object')"
      ]
     },
     "execution_count": 20,
     "metadata": {},
     "output_type": "execute_result"
    }
   ],
   "source": [
    "posts.columns"
   ]
  },
  {
   "cell_type": "code",
   "execution_count": 29,
   "metadata": {},
   "outputs": [
    {
     "data": {
      "text/plain": [
       "<AxesSubplot:xlabel='num_comments'>"
      ]
     },
     "execution_count": 29,
     "metadata": {},
     "output_type": "execute_result"
    },
    {
     "data": {
      "image/png": "[encoded data removed]",
      "text/plain": [
       "<Figure size 432x288 with 1 Axes>"
      ]
     },
     "metadata": {
      "needs_background": "light"
     },
     "output_type": "display_data"
    }
   ],
   "source": [
    "posts.groupby('num_comments').count()['title'].plot()"
   ]
  },
  {
   "cell_type": "code",
   "execution_count": 36,
   "metadata": {},
   "outputs": [],
   "source": [
    "a = posts.groupby('num_comments').count()"
   ]
  },
  {
   "cell_type": "code",
   "execution_count": 37,
   "metadata": {},
   "outputs": [
    {
     "data": {
      "text/html": [
       "<div>\n",
       "<style scoped>\n",
       "    .dataframe tbody tr th:only-of-type {\n",
       "        vertical-align: middle;\n",
       "    }\n",
       "\n",
       "    .dataframe tbody tr th {\n",
       "        vertical-align: top;\n",
       "    }\n",
       "\n",
       "    .dataframe thead th {\n",
       "        text-align: right;\n",
       "    }\n",
       "</style>\n",
       "<table border=\"1\" class=\"dataframe\">\n",
       "  <thead>\n",
       "    <tr style=\"text-align: right;\">\n",
       "      <th></th>\n",
       "      <th>Unnamed: 0</th>\n",
       "      <th>title</th>\n",
       "      <th>score</th>\n",
       "      <th>id</th>\n",
       "      <th>url</th>\n",
       "      <th>created_utc</th>\n",
       "      <th>selftext</th>\n",
       "      <th>link_flair_text</th>\n",
       "    </tr>\n",
       "    <tr>\n",
       "      <th>num_comments</th>\n",
       "      <th></th>\n",
       "      <th></th>\n",
       "      <th></th>\n",
       "      <th></th>\n",
       "      <th></th>\n",
       "      <th></th>\n",
       "      <th></th>\n",
       "      <th></th>\n",
       "    </tr>\n",
       "  </thead>\n",
       "  <tbody>\n",
       "    <tr>\n",
       "      <th>0</th>\n",
       "      <td>16404</td>\n",
       "      <td>16404</td>\n",
       "      <td>16404</td>\n",
       "      <td>16404</td>\n",
       "      <td>16404</td>\n",
       "      <td>16404</td>\n",
       "      <td>7733</td>\n",
       "      <td>7839</td>\n",
       "    </tr>\n",
       "    <tr>\n",
       "      <th>1</th>\n",
       "      <td>9155</td>\n",
       "      <td>9155</td>\n",
       "      <td>9155</td>\n",
       "      <td>9155</td>\n",
       "      <td>9155</td>\n",
       "      <td>9155</td>\n",
       "      <td>4826</td>\n",
       "      <td>3975</td>\n",
       "    </tr>\n",
       "    <tr>\n",
       "      <th>2</th>\n",
       "      <td>6624</td>\n",
       "      <td>6624</td>\n",
       "      <td>6624</td>\n",
       "      <td>6624</td>\n",
       "      <td>6624</td>\n",
       "      <td>6624</td>\n",
       "      <td>3710</td>\n",
       "      <td>2608</td>\n",
       "    </tr>\n",
       "    <tr>\n",
       "      <th>3</th>\n",
       "      <td>4798</td>\n",
       "      <td>4798</td>\n",
       "      <td>4798</td>\n",
       "      <td>4798</td>\n",
       "      <td>4798</td>\n",
       "      <td>4798</td>\n",
       "      <td>2766</td>\n",
       "      <td>1713</td>\n",
       "    </tr>\n",
       "    <tr>\n",
       "      <th>4</th>\n",
       "      <td>4594</td>\n",
       "      <td>4594</td>\n",
       "      <td>4594</td>\n",
       "      <td>4594</td>\n",
       "      <td>4594</td>\n",
       "      <td>4594</td>\n",
       "      <td>2842</td>\n",
       "      <td>1627</td>\n",
       "    </tr>\n",
       "    <tr>\n",
       "      <th>...</th>\n",
       "      <td>...</td>\n",
       "      <td>...</td>\n",
       "      <td>...</td>\n",
       "      <td>...</td>\n",
       "      <td>...</td>\n",
       "      <td>...</td>\n",
       "      <td>...</td>\n",
       "      <td>...</td>\n",
       "    </tr>\n",
       "    <tr>\n",
       "      <th>813</th>\n",
       "      <td>1</td>\n",
       "      <td>1</td>\n",
       "      <td>1</td>\n",
       "      <td>1</td>\n",
       "      <td>1</td>\n",
       "      <td>1</td>\n",
       "      <td>1</td>\n",
       "      <td>1</td>\n",
       "    </tr>\n",
       "    <tr>\n",
       "      <th>921</th>\n",
       "      <td>1</td>\n",
       "      <td>1</td>\n",
       "      <td>1</td>\n",
       "      <td>1</td>\n",
       "      <td>1</td>\n",
       "      <td>1</td>\n",
       "      <td>1</td>\n",
       "      <td>1</td>\n",
       "    </tr>\n",
       "    <tr>\n",
       "      <th>1016</th>\n",
       "      <td>1</td>\n",
       "      <td>1</td>\n",
       "      <td>1</td>\n",
       "      <td>1</td>\n",
       "      <td>1</td>\n",
       "      <td>1</td>\n",
       "      <td>1</td>\n",
       "      <td>0</td>\n",
       "    </tr>\n",
       "    <tr>\n",
       "      <th>1140</th>\n",
       "      <td>1</td>\n",
       "      <td>1</td>\n",
       "      <td>1</td>\n",
       "      <td>1</td>\n",
       "      <td>1</td>\n",
       "      <td>1</td>\n",
       "      <td>1</td>\n",
       "      <td>1</td>\n",
       "    </tr>\n",
       "    <tr>\n",
       "      <th>1265</th>\n",
       "      <td>1</td>\n",
       "      <td>1</td>\n",
       "      <td>1</td>\n",
       "      <td>1</td>\n",
       "      <td>1</td>\n",
       "      <td>1</td>\n",
       "      <td>1</td>\n",
       "      <td>1</td>\n",
       "    </tr>\n",
       "  </tbody>\n",
       "</table>\n",
       "<p>332 rows × 8 columns</p>\n",
       "</div>"
      ],
      "text/plain": [
       "              Unnamed: 0  title  score     id    url  created_utc  selftext  \\\n",
       "num_comments                                                                  \n",
       "0                  16404  16404  16404  16404  16404        16404      7733   \n",
       "1                   9155   9155   9155   9155   9155         9155      4826   \n",
       "2                   6624   6624   6624   6624   6624         6624      3710   \n",
       "3                   4798   4798   4798   4798   4798         4798      2766   \n",
       "4                   4594   4594   4594   4594   4594         4594      2842   \n",
       "...                  ...    ...    ...    ...    ...          ...       ...   \n",
       "813                    1      1      1      1      1            1         1   \n",
       "921                    1      1      1      1      1            1         1   \n",
       "1016                   1      1      1      1      1            1         1   \n",
       "1140                   1      1      1      1      1            1         1   \n",
       "1265                   1      1      1      1      1            1         1   \n",
       "\n",
       "              link_flair_text  \n",
       "num_comments                   \n",
       "0                        7839  \n",
       "1                        3975  \n",
       "2                        2608  \n",
       "3                        1713  \n",
       "4                        1627  \n",
       "...                       ...  \n",
       "813                         1  \n",
       "921                         1  \n",
       "1016                        0  \n",
       "1140                        1  \n",
       "1265                        1  \n",
       "\n",
       "[332 rows x 8 columns]"
      ]
     },
     "execution_count": 37,
     "metadata": {},
     "output_type": "execute_result"
    }
   ],
   "source": [
    "a"
   ]
  },
  {
   "cell_type": "code",
   "execution_count": 47,
   "metadata": {},
   "outputs": [
    {
     "data": {
      "text/plain": [
       "<AxesSubplot:xlabel='num_comments'>"
      ]
     },
     "execution_count": 47,
     "metadata": {},
     "output_type": "execute_result"
    },
    {
     "data": {
      "image/png": "[encoded data removed]",
      "text/plain": [
       "<Figure size 432x288 with 1 Axes>"
      ]
     },
     "metadata": {
      "needs_background": "light"
     },
     "output_type": "display_data"
    }
   ],
   "source": [
    "a['title'][a.index< 10].plot()"
   ]
  },
  {
   "cell_type": "code",
   "execution_count": 48,
   "metadata": {},
   "outputs": [
    {
     "data": {
      "text/plain": [
       "(51281, 9)"
      ]
     },
     "execution_count": 48,
     "metadata": {},
     "output_type": "execute_result"
    }
   ],
   "source": [
    "posts[posts['num_comments']>3].shape"
   ]
  }
 ],
 "metadata": {
  "kernelspec": {
   "display_name": "Python 3",
   "language": "python",
   "name": "python3"
  },
  "language_info": {
   "codemirror_mode": {
    "name": "ipython",
    "version": 3
   },
   "file_extension": ".py",
   "mimetype": "text/x-python",
   "name": "python",
   "nbconvert_exporter": "python",
   "pygments_lexer": "ipython3",
   "version": "3.8.5"
  }
 },
 "nbformat": 4,
 "nbformat_minor": 5
}
