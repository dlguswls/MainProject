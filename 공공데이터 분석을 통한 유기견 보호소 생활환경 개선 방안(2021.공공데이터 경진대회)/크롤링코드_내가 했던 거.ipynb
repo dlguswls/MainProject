{
 "cells": [
  {
   "cell_type": "code",
   "execution_count": 61,
   "id": "a6dacc6d",
   "metadata": {},
   "outputs": [
    {
     "ename": "IndexError",
     "evalue": "list index out of range",
     "output_type": "error",
     "traceback": [
      "\u001b[1;31m---------------------------------------------------------------------------\u001b[0m",
      "\u001b[1;31mIndexError\u001b[0m                                Traceback (most recent call last)",
      "\u001b[1;32m<ipython-input-61-4c2d8c132f9d>\u001b[0m in \u001b[0;36m<module>\u001b[1;34m\u001b[0m\n\u001b[0;32m     26\u001b[0m         \u001b[1;32mfor\u001b[0m \u001b[0mi\u001b[0m \u001b[1;32min\u001b[0m \u001b[0mrange\u001b[0m\u001b[1;33m(\u001b[0m\u001b[1;36m1\u001b[0m\u001b[1;33m,\u001b[0m\u001b[1;36m11\u001b[0m\u001b[1;33m)\u001b[0m \u001b[1;33m:\u001b[0m\u001b[1;33m\u001b[0m\u001b[1;33m\u001b[0m\u001b[0m\n\u001b[0;32m     27\u001b[0m             \u001b[0mxpa\u001b[0m \u001b[1;33m=\u001b[0m \u001b[1;34m'//*[@id=\"searchList\"]/div[4]/ul[2]/li['\u001b[0m \u001b[1;33m+\u001b[0m \u001b[0mstr\u001b[0m\u001b[1;33m(\u001b[0m\u001b[0mi\u001b[0m\u001b[1;33m)\u001b[0m \u001b[1;33m+\u001b[0m \u001b[1;34m']/div[1]/a'\u001b[0m\u001b[1;33m\u001b[0m\u001b[1;33m\u001b[0m\u001b[0m\n\u001b[1;32m---> 28\u001b[1;33m             \u001b[0mdriver\u001b[0m\u001b[1;33m.\u001b[0m\u001b[0mfind_elements_by_xpath\u001b[0m\u001b[1;33m(\u001b[0m\u001b[0mxpa\u001b[0m\u001b[1;33m)\u001b[0m\u001b[1;33m[\u001b[0m\u001b[1;36m0\u001b[0m\u001b[1;33m]\u001b[0m\u001b[1;33m.\u001b[0m\u001b[0mclick\u001b[0m\u001b[1;33m(\u001b[0m\u001b[1;33m)\u001b[0m\u001b[1;33m\u001b[0m\u001b[1;33m\u001b[0m\u001b[0m\n\u001b[0m\u001b[0;32m     29\u001b[0m             \u001b[0mcontents\u001b[0m \u001b[1;33m=\u001b[0m \u001b[1;33m[\u001b[0m\u001b[1;33m]\u001b[0m\u001b[1;33m\u001b[0m\u001b[1;33m\u001b[0m\u001b[0m\n\u001b[0;32m     30\u001b[0m             \u001b[1;32mfor\u001b[0m \u001b[0mj\u001b[0m \u001b[1;32min\u001b[0m \u001b[0mrange\u001b[0m\u001b[1;33m(\u001b[0m\u001b[1;36m23\u001b[0m\u001b[1;33m)\u001b[0m \u001b[1;33m:\u001b[0m\u001b[1;33m\u001b[0m\u001b[1;33m\u001b[0m\u001b[0m\n",
      "\u001b[1;31mIndexError\u001b[0m: list index out of range"
     ]
    }
   ],
   "source": [
    "from selenium import webdriver\n",
    "import pandas as pd\n",
    "from bs4 import BeautifulSoup\n",
    "import time\n",
    "driver = webdriver.Chrome(r'C:\\Users\\user\\project\\chromedriver')\n",
    "url = 'https://www.animal.go.kr/front/awtis/public/publicList.do?totalCount=256636&pageSize=10&boardId=&desertionNo=&menuNo=1000000055&searchSDate=2020-01-01&searchEDate=2021-09-28&searchUprCd=&searchOrgCd=&searchCareRegNo=&searchUpKindCd=417000&searchKindCd=&searchState=&&page=1'\n",
    "driver.get(url)\n",
    "time.sleep(0.01)\n",
    "values = []\n",
    "\n",
    "for k in range(2,11) : \n",
    "    for i in range(1,11) : \n",
    "        xpa = '//*[@id=\"searchList\"]/div[4]/ul[2]/li[' + str(i) + ']/div[1]/a'\n",
    "        driver.find_elements_by_xpath(xpa)[0].click()\n",
    "        contents = []\n",
    "        for j in range(23) : \n",
    "            contents.append(driver.find_elements_by_css_selector('tbody .last')[j].text)\n",
    "        values.append(contents)\n",
    "        driver.back()\n",
    "    pagex = '//*[@id=\"searchList\"]/ul/li[' + str(k) + ']/a'\n",
    "    driver.find_elements_by_xpath(pagex)[0].click()\n",
    "driver.find_elements_by_css_selector('a.next')[0].click()\n",
    "\n",
    "for q in range(2159): \n",
    "    for k in range(3,13) : \n",
    "        for i in range(1,11) : \n",
    "            xpa = '//*[@id=\"searchList\"]/div[4]/ul[2]/li[' + str(i) + ']/div[1]/a'\n",
    "            driver.find_elements_by_xpath(xpa)[0].click()\n",
    "            contents = []\n",
    "            for j in range(23) : \n",
    "                contents.append(driver.find_elements_by_css_selector('tbody .last')[j].text)\n",
    "            values.append(contents)\n",
    "            driver.back()\n",
    "        pagex = '//*[@id=\"searchList\"]/ul/li[' + str(k) + ']/a'\n",
    "        driver.find_elements_by_xpath(pagex)[0].click()\n",
    "    driver.find_elements_by_css_selector('a.next')[0].click()\n",
    "    \n",
    "for k in range(3,11) : \n",
    "    for i in range(1,11) : \n",
    "        xpa = '//*[@id=\"searchList\"]/div[4]/ul[2]/li[' + str(i) + ']/div[1]/a'\n",
    "        driver.find_elements_by_xpath(xpa)[0].click()\n",
    "        contents = []\n",
    "        for j in range(23) : \n",
    "            contents.append(driver.find_elements_by_css_selector('tbody .last')[j].text)\n",
    "        values.append(contents)\n",
    "        driver.back()\n",
    "    pagex = '//*[@id=\"searchList\"]/ul/li[' + str(k) + ']/a'\n",
    "    driver.find_elements_by_xpath(pagex)[0].click()\n",
    "\n",
    "\n",
    "driver.close()"
   ]
  },
  {
   "cell_type": "code",
   "execution_count": 62,
   "id": "9845aa97",
   "metadata": {
    "scrolled": true
   },
   "outputs": [
    {
     "data": {
      "text/plain": [
       "380"
      ]
     },
     "execution_count": 62,
     "metadata": {},
     "output_type": "execute_result"
    }
   ],
   "source": [
    "len(values)"
   ]
  },
  {
   "cell_type": "code",
   "execution_count": null,
   "id": "c6623412",
   "metadata": {},
   "outputs": [],
   "source": [
    "raw = pd.DataFrame()"
   ]
  },
  {
   "cell_type": "code",
   "execution_count": null,
   "id": "c9f14862",
   "metadata": {},
   "outputs": [],
   "source": [
    "for i in values : \n",
    "    raw = raw.append(pd.Series(i), ignore_index=True)"
   ]
  },
  {
   "cell_type": "code",
   "execution_count": null,
   "id": "314c3a53",
   "metadata": {},
   "outputs": [],
   "source": [
    "raw.columns = ['동물의 정보', '공고번호', '축종','품종','탐색','성별','중성화여부','특징','2.구조정보','접수일시','구조사유','발생장소','공고기간','연락방법', '3.동물보호센터안내','관할보호센터명','보호장소','전화번호','관할기관','연락처','특이사항','4.기타','기타내용']"
   ]
  },
  {
   "cell_type": "code",
   "execution_count": null,
   "id": "438bc336",
   "metadata": {},
   "outputs": [],
   "source": [
    "raw.tail()"
   ]
  },
  {
   "cell_type": "code",
   "execution_count": null,
   "id": "16af317d",
   "metadata": {},
   "outputs": [],
   "source": [
    "raw.to_csv('유기견_1.csv', encoding = 'cp949')"
   ]
  },
  {
   "cell_type": "code",
   "execution_count": null,
   "id": "6f5bc566",
   "metadata": {},
   "outputs": [],
   "source": []
  },
  {
   "cell_type": "markdown",
   "id": "0a6945a6",
   "metadata": {},
   "source": [
    "## 개 품종 크롤링"
   ]
  },
  {
   "cell_type": "code",
   "execution_count": 33,
   "id": "53470602",
   "metadata": {},
   "outputs": [],
   "source": [
    "from selenium import webdriver\n",
    "import pandas as pd\n",
    "from bs4 import BeautifulSoup\n",
    "import time\n",
    "driver = webdriver.Chrome(r'C:\\Users\\user\\project\\chromedriver')\n",
    "url = 'https://www.animal.go.kr/front/awtis/public/publicList.do?totalCount=256636&pageSize=10&boardId=&desertionNo=&menuNo=1000000055&searchSDate=2020-01-01&searchEDate=2021-09-28&searchUprCd=&searchOrgCd=&searchCareRegNo=&searchUpKindCd=417000&searchKindCd=&searchState=&&page=1'\n",
    "driver.get(url)\n",
    "\n",
    "\n",
    "lists = []\n",
    "\n",
    "for i in range(2,180):\n",
    "    kinds = driver.find_element_by_xpath(f\"//*[@id='searchKindCd']/option[{i}]\").text\n",
    "    lists.append(kinds)\n",
    "\n",
    "\n",
    "driver.close()"
   ]
  },
  {
   "cell_type": "code",
   "execution_count": 36,
   "id": "3179f888",
   "metadata": {},
   "outputs": [
    {
     "data": {
      "text/plain": [
       "['골든 리트리버',\n",
       " '그레이 하운드',\n",
       " '그레이트 덴',\n",
       " '그레이트 피레니즈',\n",
       " '기타',\n",
       " '꼬똥 드 뚤레아',\n",
       " '네오폴리탄 마스티프',\n",
       " '노르포크 테리어',\n",
       " '노리치 테리어',\n",
       " '뉴펀들랜드',\n",
       " '닥스훈트',\n",
       " '달마시안',\n",
       " '댄디 딘몬트 테리어',\n",
       " '도고 까니리오',\n",
       " '도고 아르젠티노',\n",
       " '도고 아르젠티노',\n",
       " '도베르만',\n",
       " '도사',\n",
       " '동경견',\n",
       " '라브라도 리트리버',\n",
       " '라사 압소',\n",
       " '라이카',\n",
       " '래빗 닥스훈드',\n",
       " '랫 테리어',\n",
       " '레이크랜드 테리어',\n",
       " '로디지안 리즈백',\n",
       " '로트와일러',\n",
       " '로트와일러',\n",
       " '마리노이즈',\n",
       " '마스티프',\n",
       " '말라뮤트',\n",
       " '말티즈',\n",
       " '맨체스터테리어',\n",
       " '미니어쳐 닥스훈트',\n",
       " '미니어쳐 불 테리어',\n",
       " '미니어쳐 슈나우저',\n",
       " '미니어쳐 푸들',\n",
       " '미니어쳐 핀셔',\n",
       " '미디엄 푸들',\n",
       " '미텔 스피츠',\n",
       " '믹스견',\n",
       " '바센지',\n",
       " '바셋 하운드',\n",
       " '버니즈 마운틴 독',\n",
       " '베들링턴 테리어',\n",
       " '벨기에 그로넨달',\n",
       " '벨기에 쉽독',\n",
       " '벨기에 테뷰런',\n",
       " '벨지안 셰퍼드 독',\n",
       " '보더 콜리',\n",
       " '보르조이',\n",
       " '보스턴 테리어',\n",
       " '복서',\n",
       " '볼로네즈',\n",
       " '부비에 데 플랑드르',\n",
       " '불 테리어',\n",
       " '불독',\n",
       " '브뤼셀그리펀',\n",
       " '브리타니 스파니엘',\n",
       " '블랙 테리어',\n",
       " '비글',\n",
       " '비숑 프리제',\n",
       " '비어디드 콜리',\n",
       " '비즐라',\n",
       " '빠삐용',\n",
       " '사모예드',\n",
       " '살루키',\n",
       " '삽살개',\n",
       " '샤페이',\n",
       " '세인트 버나드',\n",
       " '센트럴 아시안 오브차카',\n",
       " '셔틀랜드 쉽독',\n",
       " '셰퍼드',\n",
       " '슈나우져',\n",
       " '스코티쉬 테리어',\n",
       " '스코티시 디어하운드',\n",
       " '스태퍼드셔 불 테리어',\n",
       " '스탠다드 푸들',\n",
       " '스피츠',\n",
       " '시바',\n",
       " '시베리안 허스키',\n",
       " '시베리안라이카',\n",
       " '시잉프랑세즈',\n",
       " '시츄',\n",
       " '시코쿠',\n",
       " '실리햄 테리어',\n",
       " '실키테리어',\n",
       " '아나톨리안 셰퍼드',\n",
       " '아메리칸 불독',\n",
       " '아메리칸 스태퍼드셔 테리어',\n",
       " '아메리칸 아키다',\n",
       " '아메리칸 에스키모',\n",
       " '아메리칸 코카 스파니엘',\n",
       " '아메리칸 핏불 테리어',\n",
       " '아메리칸불리',\n",
       " '아이리쉬 레드 앤 화이트 세터',\n",
       " '아이리쉬 세터',\n",
       " '아이리쉬 울프 하운드',\n",
       " '아이리쉬소프트코튼휘튼테리어',\n",
       " '아키다',\n",
       " '아프간 하운드',\n",
       " '알라스칸 말라뮤트',\n",
       " '에어델 테리어',\n",
       " '오브차카',\n",
       " '오스트랄리안 셰퍼드 독',\n",
       " '오스트랄리안 캐틀 독',\n",
       " '올드 잉글리쉬 불독',\n",
       " '올드 잉글리쉬 쉽독',\n",
       " '와이마라너',\n",
       " '와이어 폭스 테리어',\n",
       " '요크셔 테리어',\n",
       " '울프독',\n",
       " '웨스트 시베리언 라이카',\n",
       " '웨스트하이랜드화이트테리어',\n",
       " '웰시 코기 카디건',\n",
       " '웰시 코기 펨브로크',\n",
       " '웰시 테리어',\n",
       " '이탈리안 그레이 하운드',\n",
       " '잉글리쉬 세터',\n",
       " '잉글리쉬 스프링거 스파니엘',\n",
       " '잉글리쉬 코카 스파니엘',\n",
       " '잉글리쉬 포인터',\n",
       " '자이언트 슈나우져',\n",
       " '재패니즈 스피츠',\n",
       " '잭 러셀 테리어',\n",
       " '저먼 셰퍼드 독',\n",
       " '저먼 와이어헤어드 포인터',\n",
       " '저먼 포인터',\n",
       " '저먼 헌팅 테리어',\n",
       " '제주개',\n",
       " '제페니즈칭',\n",
       " '진도견',\n",
       " '차우차우',\n",
       " '차이니즈 크레스티드 독',\n",
       " '치와와',\n",
       " '카레리안 베어독',\n",
       " '카이훗',\n",
       " '캐벌리어 킹 찰스 스파니엘',\n",
       " '케니스펜더',\n",
       " '케리 블루 테리어',\n",
       " '케언 테리어',\n",
       " '케인 코르소',\n",
       " '코리아 트라이 하운드',\n",
       " '코리안 마스티프',\n",
       " '코카 스파니엘',\n",
       " '코카 푸',\n",
       " '코카시안오브차카',\n",
       " '콜리',\n",
       " '클라인스피츠',\n",
       " '키슈',\n",
       " '키스 훈드',\n",
       " '토이 맨체스터 테리어',\n",
       " '토이 푸들',\n",
       " '티베탄 마스티프',\n",
       " '파라오 하운드',\n",
       " '파슨 러셀 테리어',\n",
       " '팔렌',\n",
       " '퍼그',\n",
       " '페키니즈',\n",
       " '페터데일테리어',\n",
       " '포메라니안',\n",
       " '포인터',\n",
       " '폭스테리어',\n",
       " '푸들',\n",
       " '풀리',\n",
       " '풍산견',\n",
       " '프레사까나리오',\n",
       " '프렌치 불독',\n",
       " '프렌치 브리타니',\n",
       " '플랫 코티드 리트리버',\n",
       " '플롯하운드',\n",
       " '피레니안 마운틴 독',\n",
       " '필라 브라질레이로',\n",
       " '핏불테리어',\n",
       " '허배너스',\n",
       " '화이트리트리버',\n",
       " '화이트테리어',\n",
       " '휘펫']"
      ]
     },
     "execution_count": 36,
     "metadata": {},
     "output_type": "execute_result"
    }
   ],
   "source": [
    "lists"
   ]
  },
  {
   "cell_type": "code",
   "execution_count": 37,
   "id": "a7f79e8e",
   "metadata": {},
   "outputs": [],
   "source": [
    "품종 = pd.DataFrame(lists)"
   ]
  },
  {
   "cell_type": "code",
   "execution_count": 38,
   "id": "04f54ba1",
   "metadata": {},
   "outputs": [],
   "source": [
    "품종.to_csv('개 품종.csv', encoding = 'cp949')"
   ]
  },
  {
   "cell_type": "code",
   "execution_count": null,
   "id": "e8928a49",
   "metadata": {},
   "outputs": [],
   "source": []
  }
 ],
 "metadata": {
  "kernelspec": {
   "display_name": "Python 3",
   "language": "python",
   "name": "python3"
  },
  "language_info": {
   "codemirror_mode": {
    "name": "ipython",
    "version": 3
   },
   "file_extension": ".py",
   "mimetype": "text/x-python",
   "name": "python",
   "nbconvert_exporter": "python",
   "pygments_lexer": "ipython3",
   "version": "3.8.8"
  }
 },
 "nbformat": 4,
 "nbformat_minor": 5
}
