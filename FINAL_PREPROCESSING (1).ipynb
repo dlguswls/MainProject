{
 "cells": [
  {
   "cell_type": "code",
   "execution_count": 2,
   "id": "027e2adc",
   "metadata": {},
   "outputs": [
    {
     "name": "stdout",
     "output_type": "stream",
     "text": [
      "importing Jupyter notebook from use_function.ipynb\n"
     ]
    }
   ],
   "source": [
    "import pandas as pd\n",
    "import numpy as np\n",
    "import seaborn as sns\n",
    "import matplotlib.pyplot as plt\n",
    "\n",
    "import warnings\n",
    "\n",
    "warnings.filterwarnings('ignore')\n",
    "\n",
    "import import_ipynb\n",
    "\n",
    "from use_function import *"
   ]
  },
  {
   "cell_type": "markdown",
   "id": "551c4eab",
   "metadata": {},
   "source": [
    "## 여기서부터 💔\n",
    "### 1️⃣ 나이\n",
    "---\n",
    "    최종 DATASET 에서 \n",
    "    1. 나이를 IQR Range로 이상치처리\n",
    "    2. np.log1p 스케일 적용!    "
   ]
  },
  {
   "cell_type": "code",
   "execution_count": 267,
   "id": "5987e06e",
   "metadata": {},
   "outputs": [],
   "source": [
    "RAW = pd.read_csv('Data/FINAL_DOG_DOG.csv',encoding='euc-kr',index_col=0)"
   ]
  },
  {
   "cell_type": "code",
   "execution_count": 268,
   "id": "4fb66280",
   "metadata": {},
   "outputs": [
    {
     "data": {
      "text/html": [
       "<div>\n",
       "<style scoped>\n",
       "    .dataframe tbody tr th:only-of-type {\n",
       "        vertical-align: middle;\n",
       "    }\n",
       "\n",
       "    .dataframe tbody tr th {\n",
       "        vertical-align: top;\n",
       "    }\n",
       "\n",
       "    .dataframe thead th {\n",
       "        text-align: right;\n",
       "    }\n",
       "</style>\n",
       "<table border=\"1\" class=\"dataframe\">\n",
       "  <thead>\n",
       "    <tr style=\"text-align: right;\">\n",
       "      <th></th>\n",
       "      <th>나이</th>\n",
       "      <th>보호장소</th>\n",
       "      <th>보호소이름</th>\n",
       "      <th>보호소전화번호</th>\n",
       "      <th>담당자</th>\n",
       "      <th>색상</th>\n",
       "      <th>유기번호</th>\n",
       "      <th>썸네일사진</th>\n",
       "      <th>접수일</th>\n",
       "      <th>발견장소</th>\n",
       "      <th>...</th>\n",
       "      <th>공고번호</th>\n",
       "      <th>공고시작일</th>\n",
       "      <th>담당자연락처</th>\n",
       "      <th>관할기관</th>\n",
       "      <th>사진</th>\n",
       "      <th>상태</th>\n",
       "      <th>성별</th>\n",
       "      <th>특징</th>\n",
       "      <th>체중</th>\n",
       "      <th>특이사항</th>\n",
       "    </tr>\n",
       "  </thead>\n",
       "  <tbody>\n",
       "    <tr>\n",
       "      <th>0</th>\n",
       "      <td>2012(년생)</td>\n",
       "      <td>서울특별시 양천구 등촌로 160 (목동) 1층</td>\n",
       "      <td>강현림동물병원</td>\n",
       "      <td>02-2642-9159</td>\n",
       "      <td>양천구청</td>\n",
       "      <td>갈색</td>\n",
       "      <td>4.113140e+14</td>\n",
       "      <td>http://www.animal.go.kr/files/shelter/2016/10/...</td>\n",
       "      <td>20170101</td>\n",
       "      <td>신정동신정119안전센터 (다음1-1)</td>\n",
       "      <td>...</td>\n",
       "      <td>서울-양천-2017-00001</td>\n",
       "      <td>20170101</td>\n",
       "      <td>02-2620-4918</td>\n",
       "      <td>서울특별시 양천구</td>\n",
       "      <td>http://www.animal.go.kr/files/shelter/2016/10/...</td>\n",
       "      <td>종료(입양)</td>\n",
       "      <td>M</td>\n",
       "      <td>치석ㅇ&amp;#47552;으며온순하고잘따르나천방지축임</td>\n",
       "      <td>38(Kg)</td>\n",
       "      <td>NaN</td>\n",
       "    </tr>\n",
       "  </tbody>\n",
       "</table>\n",
       "<p>1 rows × 23 columns</p>\n",
       "</div>"
      ],
      "text/plain": [
       "         나이                       보호장소    보호소이름       보호소전화번호   담당자  색상  \\\n",
       "0  2012(년생)  서울특별시 양천구 등촌로 160 (목동) 1층  강현림동물병원  02-2642-9159  양천구청  갈색   \n",
       "\n",
       "           유기번호                                              썸네일사진       접수일  \\\n",
       "0  4.113140e+14  http://www.animal.go.kr/files/shelter/2016/10/...  20170101   \n",
       "\n",
       "                   발견장소  ...              공고번호     공고시작일        담당자연락처  \\\n",
       "0  신정동신정119안전센터 (다음1-1)  ...  서울-양천-2017-00001  20170101  02-2620-4918   \n",
       "\n",
       "        관할기관                                                 사진      상태 성별  \\\n",
       "0  서울특별시 양천구  http://www.animal.go.kr/files/shelter/2016/10/...  종료(입양)  M   \n",
       "\n",
       "                           특징      체중 특이사항  \n",
       "0  치석ㅇ&#47552;으며온순하고잘따르나천방지축임  38(Kg)  NaN  \n",
       "\n",
       "[1 rows x 23 columns]"
      ]
     },
     "execution_count": 268,
     "metadata": {},
     "output_type": "execute_result"
    }
   ],
   "source": [
    "df_test = pd.read_csv('Data/FINAL_DOG_DOG.csv',encoding='euc-kr',index_col=0)\n",
    "df_test.head(1)"
   ]
  },
  {
   "cell_type": "code",
   "execution_count": 269,
   "id": "3015cc68",
   "metadata": {},
   "outputs": [
    {
     "data": {
      "text/plain": [
       "array(['2012(년생)', '2013(년생)', '2016(년생)', '2014(년생)', '2015(년생)',\n",
       "       '2017(년생)', '2007(년생)', '2011(년생)', '2010(년생)', '2006(년생)',\n",
       "       '2004(년생)', '2009(년생)', '2002(년생)', '2008(년생)', '1(년생)',\n",
       "       '2005(년생)', '2003(년생)', '5(년생)', '1999(년생)', '1988(년생)',\n",
       "       '2000(년생)', '10(년생)', '1997(년생)', '2001(년생)', '2015 (년생)', '2(년생)',\n",
       "       '3(년생)', '0(년생)', '1998(년생)', '`(년생)', '2018(년생)', '2019(년생)',\n",
       "       '1992(년생)', '-(년생)', '(년생)', '4(년생)', '1993(년생)', '20118(년생)',\n",
       "       '208(년생)', '201(년생)', '1018(년생)', '7(년생)', '2020(년생)', '17(년생)',\n",
       "       '1991(년생)', '1995(년생)', '219(년생)', '1996(년생)', '20200407(년생)',\n",
       "       '20200110(년생)', '20160409(년생)', '2021(년생)', '2020_1(년생)',\n",
       "       '20200409(년생)', '12(년생)', '2020.(년생)'], dtype=object)"
      ]
     },
     "execution_count": 269,
     "metadata": {},
     "output_type": "execute_result"
    }
   ],
   "source": [
    "df_test['나이'].unique()"
   ]
  },
  {
   "cell_type": "code",
   "execution_count": 270,
   "id": "ab5109d8",
   "metadata": {},
   "outputs": [
    {
     "data": {
      "text/plain": [
       "array(['2012', '2013', '2016', '2014', '2015', '2017', '2007', '2011',\n",
       "       '2010', '2006', '2004', '2009', '2002', '2008', '1', '2005',\n",
       "       '2003', '5', '1999', '1988', '2000', '10', '1997', '2001', '2015 ',\n",
       "       '2', '3', '0', '1998', '`', '2018', '2019', '1992', '-', '', '4',\n",
       "       '1993', '20118', '208', '201', '1018', '7', '2020', '17', '1991',\n",
       "       '1995', '219', '1996', '20200407', '20200110', '20160409', '2021',\n",
       "       '2020_1', '20200409', '12', '2020.'], dtype=object)"
      ]
     },
     "execution_count": 270,
     "metadata": {},
     "output_type": "execute_result"
    }
   ],
   "source": [
    "df_test['나이'] = df_test['나이'].apply(lambda x : x[:-4])\n",
    "df_test['나이'].unique()"
   ]
  },
  {
   "cell_type": "code",
   "execution_count": 271,
   "id": "82021a58",
   "metadata": {},
   "outputs": [],
   "source": [
    "df_test['나이'] = df_test['나이'].replace('','바보')"
   ]
  },
  {
   "cell_type": "code",
   "execution_count": 272,
   "id": "61ef12c4",
   "metadata": {},
   "outputs": [],
   "source": [
    "df_test['나이'] = df_test.replace('`','바보')\n",
    "df_test['나이'] = df_test.replace('-','바보')\n"
   ]
  },
  {
   "cell_type": "code",
   "execution_count": 273,
   "id": "0b7a7162",
   "metadata": {},
   "outputs": [
    {
     "data": {
      "text/plain": [
       "array(['2012', '2013', '2016', '2014', '2015', '2017', '2007', '2011',\n",
       "       '2010', '2006', '2004', '2009', '2002', '2008', '1', '2005',\n",
       "       '2003', '5', '1999', '1988', '2000', '10', '1997', '2001', '2015 ',\n",
       "       '2', '3', '0', '1998', '바보', '2018', '2019', '1992', '4', '1993',\n",
       "       '20118', '208', '201', '1018', '7', '2020', '17', '1991', '1995',\n",
       "       '219', '1996', '20200407', '20200110', '20160409', '2021',\n",
       "       '2020_1', '20200409', '12', '2020.'], dtype=object)"
      ]
     },
     "execution_count": 273,
     "metadata": {},
     "output_type": "execute_result"
    }
   ],
   "source": [
    "df_test['나이'].unique()"
   ]
  },
  {
   "cell_type": "code",
   "execution_count": 274,
   "id": "c840aadb",
   "metadata": {},
   "outputs": [
    {
     "data": {
      "text/plain": [
       "array(['2012', '2013', '2016', '2014', '2015', '2017', '2007', '2011',\n",
       "       '2010', '2006', '2004', '2009', '2002', '2008', '1', '2005',\n",
       "       '2003', '5', '1999', '1988', '2000', '10', '1997', '2001', '2015 ',\n",
       "       '2', '3', '0', '1998', '2018', '2019', '1992', '4', '1993',\n",
       "       '20118', '208', '201', '1018', '7', '2020', '17', '1991', '1995',\n",
       "       '219', '1996', '20200407', '20200110', '20160409', '2021',\n",
       "       '2020_1', '20200409', '12', '2020.'], dtype=object)"
      ]
     },
     "execution_count": 274,
     "metadata": {},
     "output_type": "execute_result"
    }
   ],
   "source": [
    "df_age = df_test.loc[df_test['나이'] != '바보']\n",
    "df_age['나이'].unique()"
   ]
  },
  {
   "cell_type": "code",
   "execution_count": 275,
   "id": "04345d03",
   "metadata": {},
   "outputs": [],
   "source": [
    "df_test = df_age"
   ]
  },
  {
   "cell_type": "code",
   "execution_count": 276,
   "id": "0f952073",
   "metadata": {},
   "outputs": [],
   "source": [
    "df_test = df_test[df_test['나이'].apply(lambda x : len(x) == 4)]"
   ]
  },
  {
   "cell_type": "code",
   "execution_count": 277,
   "id": "9dc4a7fc",
   "metadata": {},
   "outputs": [
    {
     "data": {
      "text/plain": [
       "array(['2012', '2013', '2016', '2014', '2015', '2017', '2007', '2011',\n",
       "       '2010', '2006', '2004', '2009', '2002', '2008', '2005', '2003',\n",
       "       '1999', '1988', '2000', '1997', '2001', '1998', '2018', '2019',\n",
       "       '1992', '1993', '1018', '2020', '1991', '1995', '1996', '2021'],\n",
       "      dtype=object)"
      ]
     },
     "execution_count": 277,
     "metadata": {},
     "output_type": "execute_result"
    }
   ],
   "source": [
    "df_test['나이'].unique()"
   ]
  },
  {
   "cell_type": "code",
   "execution_count": 278,
   "id": "eb9789e8",
   "metadata": {},
   "outputs": [
    {
     "data": {
      "text/plain": [
       "array(['2012', '2013', '2016', '2014', '2015', '2017', '2007', '2011',\n",
       "       '2010', '2006', '2004', '2009', '2002', '2008', '2005', '2003',\n",
       "       '1999', '1988', '2000', '1997', '2001', '1998', '2018', '2019',\n",
       "       '1992', '1993', '2020', '1991', '1995', '1996', '2021'],\n",
       "      dtype=object)"
      ]
     },
     "execution_count": 278,
     "metadata": {},
     "output_type": "execute_result"
    }
   ],
   "source": [
    "df_test = df_test[df_test['나이'] != '1018']\n",
    "df_test['나이'].unique()"
   ]
  },
  {
   "cell_type": "code",
   "execution_count": 279,
   "id": "1c06f0a5",
   "metadata": {},
   "outputs": [
    {
     "data": {
      "text/plain": [
       "(428727, 23)"
      ]
     },
     "execution_count": 279,
     "metadata": {},
     "output_type": "execute_result"
    }
   ],
   "source": [
    "df_test.shape"
   ]
  },
  {
   "cell_type": "code",
   "execution_count": 280,
   "id": "ae5f8cc6",
   "metadata": {},
   "outputs": [],
   "source": [
    "df_test['나이'] = df_test['나이'].astype('int')\n"
   ]
  },
  {
   "cell_type": "markdown",
   "id": "cfc6b71c",
   "metadata": {},
   "source": [
    "### 2️⃣ 접수일 💫"
   ]
  },
  {
   "cell_type": "code",
   "execution_count": 281,
   "id": "6f606625",
   "metadata": {},
   "outputs": [],
   "source": [
    "df_test['접수일'] = df_test['접수일'].astype('str')"
   ]
  },
  {
   "cell_type": "code",
   "execution_count": 282,
   "id": "a645bb22",
   "metadata": {},
   "outputs": [],
   "source": [
    "df_test['접수일']= df_test['접수일'].apply(lambda x : x[:4])\n"
   ]
  },
  {
   "cell_type": "code",
   "execution_count": 283,
   "id": "6073c533",
   "metadata": {},
   "outputs": [
    {
     "data": {
      "text/plain": [
       "array(['2017', '2018', '2019', '2020', '2021'], dtype=object)"
      ]
     },
     "execution_count": 283,
     "metadata": {},
     "output_type": "execute_result"
    }
   ],
   "source": [
    "df_test['접수일'].unique()"
   ]
  },
  {
   "cell_type": "code",
   "execution_count": 284,
   "id": "113fd1bd",
   "metadata": {},
   "outputs": [],
   "source": [
    "df_test['접수일'] = df_test['접수일'].astype('int')\n"
   ]
  },
  {
   "cell_type": "code",
   "execution_count": 285,
   "id": "cee4b1ed",
   "metadata": {},
   "outputs": [],
   "source": [
    "df_test['당시의나이'] = df_test['접수일'] - df_test['나이']"
   ]
  },
  {
   "cell_type": "code",
   "execution_count": 286,
   "id": "1f04063d",
   "metadata": {
    "scrolled": true
   },
   "outputs": [
    {
     "data": {
      "text/plain": [
       " 0     159569\n",
       " 1      64394\n",
       " 2      62715\n",
       " 3      52435\n",
       " 4      24380\n",
       " 5      24252\n",
       " 6      10571\n",
       " 10      8304\n",
       " 7       8036\n",
       " 8       7316\n",
       " 9       1830\n",
       " 12      1693\n",
       " 15       920\n",
       " 13       885\n",
       " 11       629\n",
       " 14       379\n",
       "-1        183\n",
       " 17        88\n",
       " 16        82\n",
       " 18        31\n",
       " 20        13\n",
       " 19        11\n",
       " 21         2\n",
       " 22         2\n",
       " 24         2\n",
       " 29         2\n",
       " 25         1\n",
       " 26         1\n",
       " 28         1\n",
       "Name: 당시의나이, dtype: int64"
      ]
     },
     "execution_count": 286,
     "metadata": {},
     "output_type": "execute_result"
    }
   ],
   "source": [
    "df_test['당시의나이'].value_counts()"
   ]
  },
  {
   "cell_type": "code",
   "execution_count": 287,
   "id": "0113bdee",
   "metadata": {
    "collapsed": true
   },
   "outputs": [
    {
     "data": {
      "text/html": [
       "<div>\n",
       "<style scoped>\n",
       "    .dataframe tbody tr th:only-of-type {\n",
       "        vertical-align: middle;\n",
       "    }\n",
       "\n",
       "    .dataframe tbody tr th {\n",
       "        vertical-align: top;\n",
       "    }\n",
       "\n",
       "    .dataframe thead th {\n",
       "        text-align: right;\n",
       "    }\n",
       "</style>\n",
       "<table border=\"1\" class=\"dataframe\">\n",
       "  <thead>\n",
       "    <tr style=\"text-align: right;\">\n",
       "      <th></th>\n",
       "      <th>나이</th>\n",
       "      <th>보호장소</th>\n",
       "      <th>보호소이름</th>\n",
       "      <th>보호소전화번호</th>\n",
       "      <th>담당자</th>\n",
       "      <th>색상</th>\n",
       "      <th>유기번호</th>\n",
       "      <th>썸네일사진</th>\n",
       "      <th>접수일</th>\n",
       "      <th>발견장소</th>\n",
       "      <th>...</th>\n",
       "      <th>공고시작일</th>\n",
       "      <th>담당자연락처</th>\n",
       "      <th>관할기관</th>\n",
       "      <th>사진</th>\n",
       "      <th>상태</th>\n",
       "      <th>성별</th>\n",
       "      <th>특징</th>\n",
       "      <th>체중</th>\n",
       "      <th>특이사항</th>\n",
       "      <th>당시의나이</th>\n",
       "    </tr>\n",
       "  </thead>\n",
       "  <tbody>\n",
       "    <tr>\n",
       "      <th>0</th>\n",
       "      <td>2012</td>\n",
       "      <td>서울특별시 양천구 등촌로 160 (목동) 1층</td>\n",
       "      <td>강현림동물병원</td>\n",
       "      <td>02-2642-9159</td>\n",
       "      <td>양천구청</td>\n",
       "      <td>갈색</td>\n",
       "      <td>4.113140e+14</td>\n",
       "      <td>http://www.animal.go.kr/files/shelter/2016/10/...</td>\n",
       "      <td>2017</td>\n",
       "      <td>신정동신정119안전센터 (다음1-1)</td>\n",
       "      <td>...</td>\n",
       "      <td>20170101</td>\n",
       "      <td>02-2620-4918</td>\n",
       "      <td>서울특별시 양천구</td>\n",
       "      <td>http://www.animal.go.kr/files/shelter/2016/10/...</td>\n",
       "      <td>종료(입양)</td>\n",
       "      <td>M</td>\n",
       "      <td>치석ㅇ&amp;#47552;으며온순하고잘따르나천방지축임</td>\n",
       "      <td>38(Kg)</td>\n",
       "      <td>NaN</td>\n",
       "      <td>5</td>\n",
       "    </tr>\n",
       "  </tbody>\n",
       "</table>\n",
       "<p>1 rows × 24 columns</p>\n",
       "</div>"
      ],
      "text/plain": [
       "     나이                       보호장소    보호소이름       보호소전화번호   담당자  색상  \\\n",
       "0  2012  서울특별시 양천구 등촌로 160 (목동) 1층  강현림동물병원  02-2642-9159  양천구청  갈색   \n",
       "\n",
       "           유기번호                                              썸네일사진   접수일  \\\n",
       "0  4.113140e+14  http://www.animal.go.kr/files/shelter/2016/10/...  2017   \n",
       "\n",
       "                   발견장소  ...     공고시작일        담당자연락처       관할기관  \\\n",
       "0  신정동신정119안전센터 (다음1-1)  ...  20170101  02-2620-4918  서울특별시 양천구   \n",
       "\n",
       "                                                  사진      상태 성별  \\\n",
       "0  http://www.animal.go.kr/files/shelter/2016/10/...  종료(입양)  M   \n",
       "\n",
       "                           특징      체중 특이사항 당시의나이  \n",
       "0  치석ㅇ&#47552;으며온순하고잘따르나천방지축임  38(Kg)  NaN     5  \n",
       "\n",
       "[1 rows x 24 columns]"
      ]
     },
     "execution_count": 287,
     "metadata": {},
     "output_type": "execute_result"
    }
   ],
   "source": [
    "df_test['당시의나이'] = df_test['당시의나이'].replace(-1,0)\n",
    "df_test.head(1)"
   ]
  },
  {
   "cell_type": "code",
   "execution_count": 288,
   "id": "34dad9ca",
   "metadata": {
    "collapsed": true
   },
   "outputs": [
    {
     "data": {
      "text/plain": [
       "array([ 5,  4,  1,  3,  2,  0, 10,  6,  7, 11, 13,  8, 15,  9, 12, 14, 18,\n",
       "       29, 17, 20, 16, 19, 26, 25, 28, 24, 22, 21], dtype=int32)"
      ]
     },
     "execution_count": 288,
     "metadata": {},
     "output_type": "execute_result"
    }
   ],
   "source": [
    "df_test['당시의나이'].unique()"
   ]
  },
  {
   "cell_type": "code",
   "execution_count": 289,
   "id": "611b7036",
   "metadata": {},
   "outputs": [],
   "source": [
    "df_test.to_csv(\"Data/#1_나이까지.csv\",encoding='cp949')"
   ]
  },
  {
   "cell_type": "markdown",
   "id": "5ff287a2",
   "metadata": {},
   "source": [
    "## 2️⃣ 중성화 🔯\n",
    "---\n",
    "    N --> 0\n",
    "    U --> 1\n",
    "    Y --> 2\n",
    "    \n",
    "    후에 U (UnKnown) 데이터를 cleansing (날림)"
   ]
  },
  {
   "cell_type": "code",
   "execution_count": 290,
   "id": "45acef96",
   "metadata": {},
   "outputs": [],
   "source": [
    "df_test = pd.read_csv('Data/#1_나이까지.csv',encoding='cp949',index_col=0)\n"
   ]
  },
  {
   "cell_type": "code",
   "execution_count": 291,
   "id": "75142971",
   "metadata": {},
   "outputs": [
    {
     "data": {
      "text/plain": [
       "Index(['나이', '보호장소', '보호소이름', '보호소전화번호', '담당자', '색상', '유기번호', '썸네일사진', '접수일',\n",
       "       '발견장소', '품종', '중성화여부', '공고종료일', '공고번호', '공고시작일', '담당자연락처', '관할기관', '사진',\n",
       "       '상태', '성별', '특징', '체중', '특이사항', '당시의나이'],\n",
       "      dtype='object')"
      ]
     },
     "execution_count": 291,
     "metadata": {},
     "output_type": "execute_result"
    }
   ],
   "source": [
    "df_test.columns"
   ]
  },
  {
   "cell_type": "code",
   "execution_count": 292,
   "id": "2c9f8348",
   "metadata": {},
   "outputs": [
    {
     "data": {
      "text/plain": [
       "array(['N', 'Y', 'U'], dtype=object)"
      ]
     },
     "execution_count": 292,
     "metadata": {},
     "output_type": "execute_result"
    }
   ],
   "source": [
    "df_test['중성화여부'].unique()"
   ]
  },
  {
   "cell_type": "code",
   "execution_count": 293,
   "id": "28992332",
   "metadata": {},
   "outputs": [],
   "source": [
    "df_test['중성화여부'] = pd.Categorical(df_test['중성화여부'])\n",
    "df_test['중성화여부'] = df_test['중성화여부'].map({'N' : 0 , 'U' : 1, 'Y' : 2})"
   ]
  },
  {
   "cell_type": "code",
   "execution_count": 294,
   "id": "9cbc4274",
   "metadata": {},
   "outputs": [
    {
     "data": {
      "text/plain": [
       "[0, 2, 1]\n",
       "Categories (3, int64): [0, 2, 1]"
      ]
     },
     "execution_count": 294,
     "metadata": {},
     "output_type": "execute_result"
    }
   ],
   "source": [
    "df_test['중성화여부'].unique()"
   ]
  },
  {
   "cell_type": "code",
   "execution_count": 295,
   "id": "59f826bf",
   "metadata": {},
   "outputs": [],
   "source": [
    "df_test.to_csv('Data/#2_중성화까지.csv',encoding='euc-kr')"
   ]
  },
  {
   "cell_type": "markdown",
   "id": "1ed9b812",
   "metadata": {},
   "source": [
    "### Drop Columns 💢\n",
    "---"
   ]
  },
  {
   "cell_type": "code",
   "execution_count": 296,
   "id": "f651c937",
   "metadata": {},
   "outputs": [
    {
     "data": {
      "text/plain": [
       "Index(['나이', '보호장소', '보호소이름', '보호소전화번호', '담당자', '색상', '유기번호', '썸네일사진', '접수일',\n",
       "       '발견장소', '품종', '중성화여부', '공고종료일', '공고번호', '공고시작일', '담당자연락처', '관할기관', '사진',\n",
       "       '상태', '성별', '특징', '체중', '특이사항', '당시의나이'],\n",
       "      dtype='object')"
      ]
     },
     "execution_count": 296,
     "metadata": {},
     "output_type": "execute_result"
    }
   ],
   "source": [
    "df_test.columns"
   ]
  },
  {
   "cell_type": "markdown",
   "id": "4d030b3b",
   "metadata": {},
   "source": [
    "## 3️⃣ 체중 💦 --> 💥 Catch Point 💥\n",
    "---\n",
    "    1. outlier 를 제거한후 ( IQRange )\n",
    "    2. np.log1p --> 를 이용하여 scale \n",
    "    "
   ]
  },
  {
   "cell_type": "code",
   "execution_count": 297,
   "id": "59948a17",
   "metadata": {},
   "outputs": [],
   "source": [
    "# df_prac 으로 사용하기 \n",
    "\n",
    "df_prac = df_test[['공고번호','보호소이름','품종','색상','성별','체중','중성화여부','당시의나이','상태','접수일']]\n"
   ]
  },
  {
   "cell_type": "markdown",
   "id": "fdd8f9e3",
   "metadata": {},
   "source": [
    "### 정규식으로 쉽게 💌"
   ]
  },
  {
   "cell_type": "code",
   "execution_count": 298,
   "id": "31830169",
   "metadata": {},
   "outputs": [],
   "source": [
    "\n",
    "df_prac['체중'] = df_test['체중'].apply(lambda x : x[:-4])\n",
    "df_prac[['체중_소수점','체중_정수']] = df_prac['체중'].str.extract(r'(\\d+\\.\\d+)|(\\d+)')\n",
    "df_prac['체중']=  df_prac['체중_소수점'].fillna(df_prac['체중_정수'])\n",
    "\n",
    "df_prac = df_prac.loc[df_prac['체중'].apply(lambda x: x is not np.NaN)]\n",
    "df_prac = df_prac.loc[df_prac['체중'].apply(lambda x: x is not None)]\n",
    "\n",
    "df_prac['체중'] = df_prac['체중'].astype('float')\n"
   ]
  },
  {
   "cell_type": "code",
   "execution_count": 299,
   "id": "78a15ae7",
   "metadata": {},
   "outputs": [
    {
     "data": {
      "text/plain": [
       "0"
      ]
     },
     "execution_count": 299,
     "metadata": {},
     "output_type": "execute_result"
    }
   ],
   "source": [
    "df_prac['체중'].isnull().sum()"
   ]
  },
  {
   "cell_type": "markdown",
   "id": "f8eee223",
   "metadata": {},
   "source": [
    "#### 체중 Outlier 처리 --- 💨\n",
    "---"
   ]
  },
  {
   "cell_type": "code",
   "execution_count": 300,
   "id": "94b7a5ec",
   "metadata": {
    "scrolled": true
   },
   "outputs": [
    {
     "data": {
      "text/plain": [
       "array([ 38.  ,   3.1 ,   5.  , ..., 310.  , 230.  ,  27.66])"
      ]
     },
     "execution_count": 300,
     "metadata": {},
     "output_type": "execute_result"
    }
   ],
   "source": [
    "df_prac['체중'].unique()"
   ]
  },
  {
   "cell_type": "code",
   "execution_count": 301,
   "id": "6e69411e",
   "metadata": {},
   "outputs": [
    {
     "data": {
      "text/plain": [
       "Int64Index([  3559,  12929,  14164,  14527,  15865,  23510,  24615,  31106,\n",
       "             33483,  39176,\n",
       "            ...\n",
       "            425942, 425943, 426063, 426064, 426083, 426303, 426304, 426308,\n",
       "            426330, 426331],\n",
       "           dtype='int64', length=162)"
      ]
     },
     "execution_count": 301,
     "metadata": {},
     "output_type": "execute_result"
    }
   ],
   "source": [
    "df_prac[df_prac['체중'].apply(lambda x : x >= 100)].index"
   ]
  },
  {
   "cell_type": "code",
   "execution_count": 302,
   "id": "8c815ac2",
   "metadata": {},
   "outputs": [],
   "source": [
    "change_weight_index = df_prac[df_prac['체중'].apply(lambda x : x >= 100)].index"
   ]
  },
  {
   "cell_type": "code",
   "execution_count": 303,
   "id": "3124065e",
   "metadata": {},
   "outputs": [],
   "source": [
    "new_weight = df_prac.loc[change_weight_index, '체중'].apply(lambda x : x / 1000)"
   ]
  },
  {
   "cell_type": "code",
   "execution_count": 304,
   "id": "1a24b64f",
   "metadata": {},
   "outputs": [],
   "source": [
    "df_prac.loc[change_weight_index, '체중'] = new_weight"
   ]
  },
  {
   "cell_type": "code",
   "execution_count": 305,
   "id": "a4ab513a",
   "metadata": {},
   "outputs": [
    {
     "data": {
      "text/html": [
       "<div>\n",
       "<style scoped>\n",
       "    .dataframe tbody tr th:only-of-type {\n",
       "        vertical-align: middle;\n",
       "    }\n",
       "\n",
       "    .dataframe tbody tr th {\n",
       "        vertical-align: top;\n",
       "    }\n",
       "\n",
       "    .dataframe thead th {\n",
       "        text-align: right;\n",
       "    }\n",
       "</style>\n",
       "<table border=\"1\" class=\"dataframe\">\n",
       "  <thead>\n",
       "    <tr style=\"text-align: right;\">\n",
       "      <th></th>\n",
       "      <th>공고번호</th>\n",
       "      <th>보호소이름</th>\n",
       "      <th>품종</th>\n",
       "      <th>색상</th>\n",
       "      <th>성별</th>\n",
       "      <th>체중</th>\n",
       "      <th>중성화여부</th>\n",
       "      <th>당시의나이</th>\n",
       "      <th>상태</th>\n",
       "      <th>접수일</th>\n",
       "      <th>체중_소수점</th>\n",
       "      <th>체중_정수</th>\n",
       "    </tr>\n",
       "  </thead>\n",
       "  <tbody>\n",
       "    <tr>\n",
       "      <th>90784</th>\n",
       "      <td>경기-평택-2018-00509</td>\n",
       "      <td>평택시유기동물보호소</td>\n",
       "      <td>[개] 믹스견</td>\n",
       "      <td>기타</td>\n",
       "      <td>F</td>\n",
       "      <td>20180.323</td>\n",
       "      <td>0</td>\n",
       "      <td>0</td>\n",
       "      <td>종료(입양)</td>\n",
       "      <td>2018</td>\n",
       "      <td>NaN</td>\n",
       "      <td>20180323</td>\n",
       "    </tr>\n",
       "  </tbody>\n",
       "</table>\n",
       "</div>"
      ],
      "text/plain": [
       "                   공고번호       보호소이름       품종  색상 성별         체중 중성화여부  당시의나이  \\\n",
       "90784  경기-평택-2018-00509  평택시유기동물보호소  [개] 믹스견  기타  F  20180.323     0      0   \n",
       "\n",
       "           상태   접수일 체중_소수점     체중_정수  \n",
       "90784  종료(입양)  2018    NaN  20180323  "
      ]
     },
     "execution_count": 305,
     "metadata": {},
     "output_type": "execute_result"
    }
   ],
   "source": [
    "df_prac[df_prac['체중'] == 20180.323]"
   ]
  },
  {
   "cell_type": "code",
   "execution_count": 306,
   "id": "60f78a81",
   "metadata": {},
   "outputs": [],
   "source": [
    "df_prac.drop(90784,axis=0, inplace=True)"
   ]
  },
  {
   "cell_type": "code",
   "execution_count": 307,
   "id": "1b155857",
   "metadata": {
    "scrolled": true
   },
   "outputs": [
    {
     "data": {
      "text/plain": [
       "<AxesSubplot:xlabel='체중'>"
      ]
     },
     "execution_count": 307,
     "metadata": {},
     "output_type": "execute_result"
    },
    {
     "data": {
      "image/png": "[encoded data removed]",
      "text/plain": [
       "<Figure size 432x288 with 1 Axes>"
      ]
     },
     "metadata": {
      "needs_background": "light"
     },
     "output_type": "display_data"
    }
   ],
   "source": [
    "sns.boxplot('체중', data=df_prac)"
   ]
  },
  {
   "cell_type": "code",
   "execution_count": 308,
   "id": "c39e87eb",
   "metadata": {},
   "outputs": [],
   "source": [
    "# 오예\n",
    "\n",
    "df_prac.to_csv('Data/#3_체중까지.csv',encoding='cp949')"
   ]
  },
  {
   "cell_type": "markdown",
   "id": "d5da5a98",
   "metadata": {},
   "source": [
    "---\n",
    "## 성별 💤"
   ]
  },
  {
   "cell_type": "code",
   "execution_count": 309,
   "id": "9de338f5",
   "metadata": {},
   "outputs": [],
   "source": [
    "df_3 = pd.read_csv('Data/#3_체중까지.csv',encoding='cp949',index_col=0)"
   ]
  },
  {
   "cell_type": "code",
   "execution_count": 310,
   "id": "ad74d61b",
   "metadata": {},
   "outputs": [
    {
     "data": {
      "text/plain": [
       "array(['M', 'F', 'Q'], dtype=object)"
      ]
     },
     "execution_count": 310,
     "metadata": {},
     "output_type": "execute_result"
    }
   ],
   "source": [
    "df_3['성별'].unique()"
   ]
  },
  {
   "cell_type": "code",
   "execution_count": 311,
   "id": "c1731e78",
   "metadata": {},
   "outputs": [],
   "source": [
    "df_3 = df_3.loc[df_3['성별'] != 'Q']\n"
   ]
  },
  {
   "cell_type": "code",
   "execution_count": 312,
   "id": "a32ee175",
   "metadata": {},
   "outputs": [],
   "source": [
    "df_3['성별'] = pd.Categorical(df_3['성별'])\n",
    "\n",
    "df_3['성별'] = df_3['성별'].map({'M': 0, 'F': 1})"
   ]
  },
  {
   "cell_type": "code",
   "execution_count": 313,
   "id": "25bbdcf1",
   "metadata": {},
   "outputs": [
    {
     "data": {
      "text/plain": [
       "[0, 1]\n",
       "Categories (2, int64): [0, 1]"
      ]
     },
     "execution_count": 313,
     "metadata": {},
     "output_type": "execute_result"
    }
   ],
   "source": [
    "df_3['성별'].unique()"
   ]
  },
  {
   "cell_type": "code",
   "execution_count": 314,
   "id": "b80963a8",
   "metadata": {},
   "outputs": [],
   "source": [
    "df_3.to_csv('Data/#4_성별까지.csv',encoding='cp949')"
   ]
  },
  {
   "cell_type": "markdown",
   "id": "dcac0b50",
   "metadata": {},
   "source": [
    "---\n",
    "## 4️⃣ 상태 💤\n",
    "---\n",
    "입양 --> 걍 두고 |  y = 1 <br>\n",
    "\n",
    "반환 --> 주인한테 돌아간거 |  drop <br>\n",
    "미포획 --> 탈주의 가능성 높음 | drop <br>\n",
    "기증 --> 다른 센터나 보호소로 보냄 | drop <br>\n",
    "보호중 --> 보호중 |  drop <br>\n",
    "방사 --> 탈주 |  drop \n",
    "\n",
    "자연사 --> 사망 | y = 자연사 <br>\n",
    "안락사 --> 사망 | y = 안락사 <br>"
   ]
  },
  {
   "cell_type": "code",
   "execution_count": 315,
   "id": "a6823446",
   "metadata": {},
   "outputs": [],
   "source": [
    "df_4 = pd.read_csv('Data/#4_성별까지.csv',encoding='cp949',index_col=0)"
   ]
  },
  {
   "cell_type": "code",
   "execution_count": 316,
   "id": "c28081a3",
   "metadata": {},
   "outputs": [],
   "source": [
    "df_4['상태'] = pd.Categorical(df_4['상태'])"
   ]
  },
  {
   "cell_type": "code",
   "execution_count": 317,
   "id": "faa03195",
   "metadata": {},
   "outputs": [
    {
     "data": {
      "text/plain": [
       "['종료(입양)', '종료(반환)', '종료(미포획)', '종료(자연사)', '종료(기증)', '종료(안락사)', '보호중', '종료(방사)']\n",
       "Categories (8, object): ['종료(입양)', '종료(반환)', '종료(미포획)', '종료(자연사)', '종료(기증)', '종료(안락사)', '보호중', '종료(방사)']"
      ]
     },
     "execution_count": 317,
     "metadata": {},
     "output_type": "execute_result"
    }
   ],
   "source": [
    "df_4['상태'].unique()"
   ]
  },
  {
   "cell_type": "code",
   "execution_count": 318,
   "id": "10e0b98b",
   "metadata": {},
   "outputs": [],
   "source": [
    "df_4['옵션'] = df_4['상태'].str.split('(',expand= True)[1]"
   ]
  },
  {
   "cell_type": "code",
   "execution_count": 319,
   "id": "05abd8c5",
   "metadata": {},
   "outputs": [],
   "source": [
    "df_4['옵션'] = df_4['옵션'].str.replace(')','')"
   ]
  },
  {
   "cell_type": "code",
   "execution_count": 320,
   "id": "093f0927",
   "metadata": {},
   "outputs": [],
   "source": [
    "df_4['옵션1'] = df_4['상태'].str.split('(',expand=True)[0]"
   ]
  },
  {
   "cell_type": "code",
   "execution_count": 321,
   "id": "019616db",
   "metadata": {},
   "outputs": [],
   "source": [
    "df_4['상태'] = df_4['옵션'].fillna(df_4['옵션1'])"
   ]
  },
  {
   "cell_type": "code",
   "execution_count": 322,
   "id": "7f6823d1",
   "metadata": {},
   "outputs": [
    {
     "data": {
      "text/plain": [
       "array(['입양', '반환', '미포획', '자연사', '기증', '안락사', '보호중', '방사'], dtype=object)"
      ]
     },
     "execution_count": 322,
     "metadata": {},
     "output_type": "execute_result"
    }
   ],
   "source": [
    "df_4['상태'].unique()"
   ]
  },
  {
   "cell_type": "code",
   "execution_count": 323,
   "id": "505edd6a",
   "metadata": {},
   "outputs": [],
   "source": [
    "df_4.drop(['체중_소수점','체중_정수','옵션','옵션1'],axis=1,inplace=True)"
   ]
  },
  {
   "cell_type": "code",
   "execution_count": 324,
   "id": "28ed5f74",
   "metadata": {
    "scrolled": true
   },
   "outputs": [
    {
     "data": {
      "text/plain": [
       "array(['입양', '반환', '미포획', '자연사', '기증', '안락사', '보호중', '방사'], dtype=object)"
      ]
     },
     "execution_count": 324,
     "metadata": {},
     "output_type": "execute_result"
    }
   ],
   "source": [
    "df_4['상태'].unique()"
   ]
  },
  {
   "cell_type": "code",
   "execution_count": 325,
   "id": "a782729a",
   "metadata": {},
   "outputs": [
    {
     "data": {
      "text/html": [
       "<div>\n",
       "<style scoped>\n",
       "    .dataframe tbody tr th:only-of-type {\n",
       "        vertical-align: middle;\n",
       "    }\n",
       "\n",
       "    .dataframe tbody tr th {\n",
       "        vertical-align: top;\n",
       "    }\n",
       "\n",
       "    .dataframe thead th {\n",
       "        text-align: right;\n",
       "    }\n",
       "</style>\n",
       "<table border=\"1\" class=\"dataframe\">\n",
       "  <thead>\n",
       "    <tr style=\"text-align: right;\">\n",
       "      <th></th>\n",
       "      <th>공고번호</th>\n",
       "      <th>보호소이름</th>\n",
       "      <th>품종</th>\n",
       "      <th>색상</th>\n",
       "      <th>성별</th>\n",
       "      <th>체중</th>\n",
       "      <th>중성화여부</th>\n",
       "      <th>당시의나이</th>\n",
       "      <th>상태</th>\n",
       "      <th>접수일</th>\n",
       "    </tr>\n",
       "  </thead>\n",
       "  <tbody>\n",
       "    <tr>\n",
       "      <th>4</th>\n",
       "      <td>전남-여수-2017-00002</td>\n",
       "      <td>유기동물보호소</td>\n",
       "      <td>[개] 말티즈</td>\n",
       "      <td>흰색</td>\n",
       "      <td>0</td>\n",
       "      <td>1.4</td>\n",
       "      <td>0</td>\n",
       "      <td>2</td>\n",
       "      <td>반환</td>\n",
       "      <td>2017</td>\n",
       "    </tr>\n",
       "    <tr>\n",
       "      <th>6</th>\n",
       "      <td>충남-천안-2017-00028</td>\n",
       "      <td>천안시유기동물보호소</td>\n",
       "      <td>[개] 포메라니안</td>\n",
       "      <td>블랙탄</td>\n",
       "      <td>0</td>\n",
       "      <td>3.0</td>\n",
       "      <td>0</td>\n",
       "      <td>4</td>\n",
       "      <td>미포획</td>\n",
       "      <td>2017</td>\n",
       "    </tr>\n",
       "    <tr>\n",
       "      <th>7</th>\n",
       "      <td>충남-천안-2017-00027</td>\n",
       "      <td>천안시유기동물보호소</td>\n",
       "      <td>[개] 시츄</td>\n",
       "      <td>브라운</td>\n",
       "      <td>1</td>\n",
       "      <td>4.0</td>\n",
       "      <td>0</td>\n",
       "      <td>1</td>\n",
       "      <td>미포획</td>\n",
       "      <td>2017</td>\n",
       "    </tr>\n",
       "    <tr>\n",
       "      <th>9</th>\n",
       "      <td>충남-천안-2017-00025</td>\n",
       "      <td>천안시유기동물보호소</td>\n",
       "      <td>[개] 골든 리트리버</td>\n",
       "      <td>골든색</td>\n",
       "      <td>0</td>\n",
       "      <td>40.0</td>\n",
       "      <td>0</td>\n",
       "      <td>1</td>\n",
       "      <td>반환</td>\n",
       "      <td>2017</td>\n",
       "    </tr>\n",
       "    <tr>\n",
       "      <th>11</th>\n",
       "      <td>충남-천안-2017-00023</td>\n",
       "      <td>천안시유기동물보호소</td>\n",
       "      <td>[개] 믹스견</td>\n",
       "      <td>흰베이지</td>\n",
       "      <td>1</td>\n",
       "      <td>0.5</td>\n",
       "      <td>0</td>\n",
       "      <td>0</td>\n",
       "      <td>미포획</td>\n",
       "      <td>2017</td>\n",
       "    </tr>\n",
       "    <tr>\n",
       "      <th>...</th>\n",
       "      <td>...</td>\n",
       "      <td>...</td>\n",
       "      <td>...</td>\n",
       "      <td>...</td>\n",
       "      <td>...</td>\n",
       "      <td>...</td>\n",
       "      <td>...</td>\n",
       "      <td>...</td>\n",
       "      <td>...</td>\n",
       "      <td>...</td>\n",
       "    </tr>\n",
       "    <tr>\n",
       "      <th>428797</th>\n",
       "      <td>경북-포항-2021-01148</td>\n",
       "      <td>영일동물플러스</td>\n",
       "      <td>[개] 믹스견</td>\n",
       "      <td>흑황백</td>\n",
       "      <td>1</td>\n",
       "      <td>1.3</td>\n",
       "      <td>0</td>\n",
       "      <td>0</td>\n",
       "      <td>보호중</td>\n",
       "      <td>2021</td>\n",
       "    </tr>\n",
       "    <tr>\n",
       "      <th>428798</th>\n",
       "      <td>충남-청양-2021-00096</td>\n",
       "      <td>청양보호소</td>\n",
       "      <td>[개] 푸들</td>\n",
       "      <td>회색</td>\n",
       "      <td>0</td>\n",
       "      <td>3.0</td>\n",
       "      <td>0</td>\n",
       "      <td>1</td>\n",
       "      <td>보호중</td>\n",
       "      <td>2021</td>\n",
       "    </tr>\n",
       "    <tr>\n",
       "      <th>428799</th>\n",
       "      <td>경기-화성-2021-01373</td>\n",
       "      <td>남양유기견보호센터</td>\n",
       "      <td>[개] 말티즈</td>\n",
       "      <td>흰색</td>\n",
       "      <td>1</td>\n",
       "      <td>5.0</td>\n",
       "      <td>1</td>\n",
       "      <td>4</td>\n",
       "      <td>보호중</td>\n",
       "      <td>2021</td>\n",
       "    </tr>\n",
       "    <tr>\n",
       "      <th>428800</th>\n",
       "      <td>경북-상주-2021-00513</td>\n",
       "      <td>상주유기동물보호센터</td>\n",
       "      <td>[개] 믹스견</td>\n",
       "      <td>흰</td>\n",
       "      <td>1</td>\n",
       "      <td>8.0</td>\n",
       "      <td>1</td>\n",
       "      <td>0</td>\n",
       "      <td>보호중</td>\n",
       "      <td>2021</td>\n",
       "    </tr>\n",
       "    <tr>\n",
       "      <th>428801</th>\n",
       "      <td>경북-울릉-2021-00007</td>\n",
       "      <td>울릉군농업기술센터</td>\n",
       "      <td>[개] 믹스견</td>\n",
       "      <td>황색</td>\n",
       "      <td>1</td>\n",
       "      <td>4.5</td>\n",
       "      <td>0</td>\n",
       "      <td>2</td>\n",
       "      <td>보호중</td>\n",
       "      <td>2021</td>\n",
       "    </tr>\n",
       "  </tbody>\n",
       "</table>\n",
       "<p>290319 rows × 10 columns</p>\n",
       "</div>"
      ],
      "text/plain": [
       "                    공고번호       보호소이름           품종    색상  성별    체중  중성화여부  \\\n",
       "4       전남-여수-2017-00002     유기동물보호소      [개] 말티즈    흰색   0   1.4      0   \n",
       "6       충남-천안-2017-00028  천안시유기동물보호소    [개] 포메라니안   블랙탄   0   3.0      0   \n",
       "7       충남-천안-2017-00027  천안시유기동물보호소       [개] 시츄   브라운   1   4.0      0   \n",
       "9       충남-천안-2017-00025  천안시유기동물보호소  [개] 골든 리트리버   골든색   0  40.0      0   \n",
       "11      충남-천안-2017-00023  천안시유기동물보호소      [개] 믹스견  흰베이지   1   0.5      0   \n",
       "...                  ...         ...          ...   ...  ..   ...    ...   \n",
       "428797  경북-포항-2021-01148     영일동물플러스      [개] 믹스견   흑황백   1   1.3      0   \n",
       "428798  충남-청양-2021-00096       청양보호소       [개] 푸들    회색   0   3.0      0   \n",
       "428799  경기-화성-2021-01373   남양유기견보호센터      [개] 말티즈    흰색   1   5.0      1   \n",
       "428800  경북-상주-2021-00513  상주유기동물보호센터      [개] 믹스견     흰   1   8.0      1   \n",
       "428801  경북-울릉-2021-00007   울릉군농업기술센터      [개] 믹스견    황색   1   4.5      0   \n",
       "\n",
       "        당시의나이   상태   접수일  \n",
       "4           2   반환  2017  \n",
       "6           4  미포획  2017  \n",
       "7           1  미포획  2017  \n",
       "9           1   반환  2017  \n",
       "11          0  미포획  2017  \n",
       "...       ...  ...   ...  \n",
       "428797      0  보호중  2021  \n",
       "428798      1  보호중  2021  \n",
       "428799      4  보호중  2021  \n",
       "428800      0  보호중  2021  \n",
       "428801      2  보호중  2021  \n",
       "\n",
       "[290319 rows x 10 columns]"
      ]
     },
     "execution_count": 325,
     "metadata": {},
     "output_type": "execute_result"
    }
   ],
   "source": [
    "df_4[df_4['상태'] != '입양']"
   ]
  },
  {
   "cell_type": "code",
   "execution_count": 326,
   "id": "414bcd33",
   "metadata": {},
   "outputs": [
    {
     "data": {
      "text/html": [
       "<div>\n",
       "<style scoped>\n",
       "    .dataframe tbody tr th:only-of-type {\n",
       "        vertical-align: middle;\n",
       "    }\n",
       "\n",
       "    .dataframe tbody tr th {\n",
       "        vertical-align: top;\n",
       "    }\n",
       "\n",
       "    .dataframe thead th {\n",
       "        text-align: right;\n",
       "    }\n",
       "</style>\n",
       "<table border=\"1\" class=\"dataframe\">\n",
       "  <thead>\n",
       "    <tr style=\"text-align: right;\">\n",
       "      <th></th>\n",
       "      <th>공고번호</th>\n",
       "      <th>보호소이름</th>\n",
       "      <th>품종</th>\n",
       "      <th>색상</th>\n",
       "      <th>성별</th>\n",
       "      <th>체중</th>\n",
       "      <th>중성화여부</th>\n",
       "      <th>당시의나이</th>\n",
       "      <th>상태</th>\n",
       "      <th>접수일</th>\n",
       "    </tr>\n",
       "  </thead>\n",
       "  <tbody>\n",
       "    <tr>\n",
       "      <th>0</th>\n",
       "      <td>서울-양천-2017-00001</td>\n",
       "      <td>강현림동물병원</td>\n",
       "      <td>[개] 골든 리트리버</td>\n",
       "      <td>갈색</td>\n",
       "      <td>0</td>\n",
       "      <td>38.0</td>\n",
       "      <td>0</td>\n",
       "      <td>5</td>\n",
       "      <td>1</td>\n",
       "      <td>2017</td>\n",
       "    </tr>\n",
       "    <tr>\n",
       "      <th>1</th>\n",
       "      <td>서울-중랑-2017-00003</td>\n",
       "      <td>한국동물구조관리협회</td>\n",
       "      <td>[개] 푸들</td>\n",
       "      <td>갈</td>\n",
       "      <td>0</td>\n",
       "      <td>3.1</td>\n",
       "      <td>0</td>\n",
       "      <td>4</td>\n",
       "      <td>1</td>\n",
       "      <td>2017</td>\n",
       "    </tr>\n",
       "  </tbody>\n",
       "</table>\n",
       "</div>"
      ],
      "text/plain": [
       "               공고번호       보호소이름           품종  색상  성별    체중  중성화여부  당시의나이 상태  \\\n",
       "0  서울-양천-2017-00001     강현림동물병원  [개] 골든 리트리버  갈색   0  38.0      0      5  1   \n",
       "1  서울-중랑-2017-00003  한국동물구조관리협회       [개] 푸들   갈   0   3.1      0      4  1   \n",
       "\n",
       "    접수일  \n",
       "0  2017  \n",
       "1  2017  "
      ]
     },
     "execution_count": 326,
     "metadata": {},
     "output_type": "execute_result"
    }
   ],
   "source": [
    "# 쓸모없는 상태를 버리고 \n",
    "\n",
    "df_4 = df_4[(df_4['상태'] != '방사' ) & (df_4['상태'] != '미포획') & (df_4['상태'] != '반환') & (df_4['상태'] != '기증') & (df_4['상태'] != '보호중')  ]\n",
    "df_4['상태'].unique()\n",
    "# 상태를 두 분류로 나눈다.\n",
    "\n",
    "df_4.loc[df_4['상태'] != '입양','상태'] = '입양아님'\n",
    "\n",
    "# 그리고 카테고리화 하고 / 1,0 으로 바꾸기\n",
    "df_4['상태'] = pd.Categorical(df_4['상태'])\n",
    "df_4['상태'] = df_4['상태'].map({'입양': 1, '입양아님' : 0})\n",
    "\n",
    "df_4.head(2)"
   ]
  },
  {
   "cell_type": "code",
   "execution_count": 327,
   "id": "da63f708",
   "metadata": {},
   "outputs": [
    {
     "data": {
      "text/plain": [
       "[1, 0]\n",
       "Categories (2, int64): [1, 0]"
      ]
     },
     "execution_count": 327,
     "metadata": {},
     "output_type": "execute_result"
    }
   ],
   "source": [
    "df_4['상태'].unique()"
   ]
  },
  {
   "cell_type": "code",
   "execution_count": 328,
   "id": "74c3125b",
   "metadata": {},
   "outputs": [],
   "source": [
    "df_4.to_csv('Data/#5_상태까지.csv',encoding='cp949')"
   ]
  },
  {
   "cell_type": "markdown",
   "id": "b88bdf68",
   "metadata": {},
   "source": [
    "---\n",
    "## 6️⃣ 종 💤\n",
    "    1. animal.go.kr 에 존재하는 리스트에 종류와 존재하지 않는 종류를 추려낸다.\n",
    "    2. 존재하지 않는 종류 --> 10개이상인 value 들만 추려낸다.\n",
    "    3. 존재하지 않느 종류에 naming 을 // 우리가 존재하는 리스트에 naming 으로 바꿔준다.\n",
    "    4. 그리고 최종으로 합친다.\n",
    "    5. 그 후 https://www.akc.org/dog-breeds/foundation-stock-service/ (American Kernel Club) 에서 제공해주는 종류로 종을 분류하였다.\n",
    "---"
   ]
  },
  {
   "cell_type": "markdown",
   "id": "0b405880",
   "metadata": {},
   "source": [
    "## 가져온 종류와 기존의 DATASET 비교 💔\n",
    "---\n",
    "\n",
    "   \n",
    "\n"
   ]
  },
  {
   "cell_type": "code",
   "execution_count": 3,
   "id": "e28998a4",
   "metadata": {},
   "outputs": [],
   "source": [
    "df_kinds = pd.read_csv('Data/#5_상태까지.csv',encoding='cp949',index_col=0)\n",
    "\n",
    "kinds = pd.read_csv('Data/바보.csv',encoding='cp949',index_col=0)\n"
   ]
  },
  {
   "cell_type": "code",
   "execution_count": 4,
   "id": "0cd4f7df",
   "metadata": {},
   "outputs": [],
   "source": [
    "df_kinds['품종'] = df_kinds['품종'].apply(lambda x : x[4:])"
   ]
  },
  {
   "cell_type": "code",
   "execution_count": 5,
   "id": "5374d121",
   "metadata": {},
   "outputs": [],
   "source": [
    "kinds_list = np.array(kinds['0'].tolist())\n",
    "kinds_list = kinds_list.tolist()"
   ]
  },
  {
   "cell_type": "code",
   "execution_count": 6,
   "id": "ac360f4a",
   "metadata": {},
   "outputs": [],
   "source": [
    "for i in range(len(kinds_list)):\n",
    "    kinds_list[i] = kinds_list[i].replace(' ','')"
   ]
  },
  {
   "cell_type": "code",
   "execution_count": 7,
   "id": "08105e87",
   "metadata": {},
   "outputs": [],
   "source": [
    "kinds_list.append('골든리트리버')"
   ]
  },
  {
   "cell_type": "code",
   "execution_count": 8,
   "id": "8c029c20",
   "metadata": {},
   "outputs": [],
   "source": [
    "'''공백을 없애자'''\n",
    "\n",
    "df_kinds['품종'] = df_kinds['품종'].str.replace(' ','')\n"
   ]
  },
  {
   "cell_type": "code",
   "execution_count": 9,
   "id": "557a071d",
   "metadata": {},
   "outputs": [],
   "source": [
    "''' 믹스견을 처리하자 '''\n",
    "\n",
    "mixed_index = df_kinds[df_kinds['품종'].str.contains('혼합|혼종|잡종|mix|믹스|믹스견|&|잡견|혼혈')].index\n",
    "df_kinds.loc[mixed_index,'품종']='믹스견'"
   ]
  },
  {
   "cell_type": "markdown",
   "id": "6af2b332",
   "metadata": {},
   "source": [
    "#### 종류_list에 안 속해있는 놈들 ❌\n",
    "---"
   ]
  },
  {
   "cell_type": "code",
   "execution_count": 10,
   "id": "823fa205",
   "metadata": {},
   "outputs": [],
   "source": [
    "df_kinds_error = df_kinds[df_kinds['품종'].apply(lambda x : x in kinds_list) == False]"
   ]
  },
  {
   "cell_type": "markdown",
   "id": "7468eea8",
   "metadata": {},
   "source": [
    "##### 수가 10개 이상인 품종을 찾자"
   ]
  },
  {
   "cell_type": "code",
   "execution_count": 11,
   "id": "f49b8a2a",
   "metadata": {},
   "outputs": [],
   "source": [
    "value_10_over = pd.DataFrame(df_kinds_error['품종'].value_counts() > 10)"
   ]
  },
  {
   "cell_type": "code",
   "execution_count": 12,
   "id": "151be232",
   "metadata": {},
   "outputs": [],
   "source": [
    "value_true = value_10_over[value_10_over['품종'] == True]"
   ]
  },
  {
   "cell_type": "markdown",
   "id": "79e70e2d",
   "metadata": {},
   "source": [
    "##### 기존에 가지고 있는 list랑 이름을 맞춰주자"
   ]
  },
  {
   "cell_type": "code",
   "execution_count": 13,
   "id": "b9ff2cb0",
   "metadata": {},
   "outputs": [],
   "source": [
    "value_true = value_true.index.tolist()"
   ]
  },
  {
   "cell_type": "code",
   "execution_count": 14,
   "id": "fbc52bdd",
   "metadata": {},
   "outputs": [
    {
     "data": {
      "text/plain": [
       "['발바리',\n",
       " '폼피츠',\n",
       " '발발이',\n",
       " '래브라도리트리버',\n",
       " '미니핀',\n",
       " '들개',\n",
       " '허스키',\n",
       " '진도',\n",
       " '비숑',\n",
       " '풍산개',\n",
       " '말티푸',\n",
       " '재래종',\n",
       " '리트리버',\n",
       " '사냥개',\n",
       " '잉글리쉬쉽독',\n",
       " '레브라도리트리버']"
      ]
     },
     "execution_count": 14,
     "metadata": {},
     "output_type": "execute_result"
    }
   ],
   "source": [
    "value_true"
   ]
  },
  {
   "cell_type": "code",
   "execution_count": 15,
   "id": "9b157784",
   "metadata": {},
   "outputs": [],
   "source": [
    "value_check = pd.read_excel('Data/아아.xlsx')\n",
    "value_check = value_check[0].tolist()"
   ]
  },
  {
   "cell_type": "code",
   "execution_count": 16,
   "id": "8a9f6fac",
   "metadata": {},
   "outputs": [],
   "source": [
    "value_final = []\n",
    "\n",
    "for i in range(len(value_check)):\n",
    "    value_final.append(value_check[i])"
   ]
  },
  {
   "cell_type": "code",
   "execution_count": 17,
   "id": "07752feb",
   "metadata": {},
   "outputs": [],
   "source": [
    "for i in range(len(value_final)):\n",
    "    if value_final[i] == 0:\n",
    "        value_final[i] = '바보'"
   ]
  },
  {
   "cell_type": "code",
   "execution_count": 18,
   "id": "9cdb41b0",
   "metadata": {},
   "outputs": [
    {
     "data": {
      "text/plain": [
       "발바리         696\n",
       "폼피츠          42\n",
       "발발이          39\n",
       "래브라도리트리버     29\n",
       "미니핀          26\n",
       "들개           24\n",
       "허스키          20\n",
       "진도           16\n",
       "비숑           14\n",
       "풍산개          13\n",
       "말티푸          13\n",
       "재래종          13\n",
       "리트리버         12\n",
       "레브라도리트리버     11\n",
       "사냥개          11\n",
       "잉글리쉬쉽독       11\n",
       "Name: 품종, dtype: int64"
      ]
     },
     "execution_count": 18,
     "metadata": {},
     "output_type": "execute_result"
    }
   ],
   "source": [
    "df_kinds_error = df_kinds_error[df_kinds_error['품종'].apply(lambda x : x in value_true)]\n",
    "df_kinds_error['품종'].value_counts()"
   ]
  },
  {
   "cell_type": "code",
   "execution_count": 19,
   "id": "f28b816a",
   "metadata": {},
   "outputs": [],
   "source": [
    "for i in range(len(value_final)):\n",
    "    df_kinds_error.loc[df_kinds_error['품종']== value_true[i],'품종'] = value_final[i]\n",
    "    \n"
   ]
  },
  {
   "cell_type": "code",
   "execution_count": 20,
   "id": "afe1fc14",
   "metadata": {},
   "outputs": [],
   "source": [
    "df_kinds_error = df_kinds_error.loc[df_kinds_error['품종'] != '바보']"
   ]
  },
  {
   "cell_type": "code",
   "execution_count": 21,
   "id": "e179ebb0",
   "metadata": {},
   "outputs": [
    {
     "data": {
      "text/plain": [
       "발바리         735\n",
       "폼피츠          42\n",
       "라브라도리트리버     40\n",
       "미니어처핀셔       26\n",
       "들개           24\n",
       "시베리안허스키      20\n",
       "진도견          16\n",
       "비숑프리제        14\n",
       "믹스견          13\n",
       "레브라도리트리버     11\n",
       "사냥개          11\n",
       "Name: 품종, dtype: int64"
      ]
     },
     "execution_count": 21,
     "metadata": {},
     "output_type": "execute_result"
    }
   ],
   "source": [
    "df_kinds_error['품종'].value_counts()"
   ]
  },
  {
   "cell_type": "markdown",
   "id": "4352165d",
   "metadata": {},
   "source": [
    "#### 종류 list에 속해있는 놈들 ⭕\n",
    "---"
   ]
  },
  {
   "cell_type": "code",
   "execution_count": 22,
   "id": "350aa515",
   "metadata": {},
   "outputs": [],
   "source": [
    "df_kinds_true = df_kinds[df_kinds['품종'].apply(lambda x : x in kinds_list) == True]"
   ]
  },
  {
   "cell_type": "code",
   "execution_count": 23,
   "id": "aa958f75",
   "metadata": {},
   "outputs": [
    {
     "data": {
      "text/plain": [
       "349924"
      ]
     },
     "execution_count": 23,
     "metadata": {},
     "output_type": "execute_result"
    }
   ],
   "source": [
    "len(df_kinds_true)"
   ]
  },
  {
   "cell_type": "markdown",
   "id": "fbe68227",
   "metadata": {},
   "source": [
    "##### 최종 종류를 합쳐보자! 💫\n",
    "---"
   ]
  },
  {
   "cell_type": "code",
   "execution_count": 24,
   "id": "89cc24eb",
   "metadata": {},
   "outputs": [],
   "source": [
    "df_6 = pd.concat([df_kinds_true,df_kinds_error])\n",
    "df_6['품종'] = df_6['품종'].str.replace('진도견견','진도견')"
   ]
  },
  {
   "cell_type": "code",
   "execution_count": 25,
   "id": "37172986",
   "metadata": {},
   "outputs": [
    {
     "data": {
      "text/plain": [
       "(160, 1)"
      ]
     },
     "execution_count": 25,
     "metadata": {},
     "output_type": "execute_result"
    }
   ],
   "source": [
    "types = pd.read_csv('./Data/종분류.csv', encoding = 'cp949', index_col = 0)\n",
    "types.shape"
   ]
  },
  {
   "cell_type": "code",
   "execution_count": 26,
   "id": "d708c1f6",
   "metadata": {},
   "outputs": [
    {
     "data": {
      "text/html": [
       "<div>\n",
       "<style scoped>\n",
       "    .dataframe tbody tr th:only-of-type {\n",
       "        vertical-align: middle;\n",
       "    }\n",
       "\n",
       "    .dataframe tbody tr th {\n",
       "        vertical-align: top;\n",
       "    }\n",
       "\n",
       "    .dataframe thead th {\n",
       "        text-align: right;\n",
       "    }\n",
       "</style>\n",
       "<table border=\"1\" class=\"dataframe\">\n",
       "  <thead>\n",
       "    <tr style=\"text-align: right;\">\n",
       "      <th></th>\n",
       "      <th>분류</th>\n",
       "    </tr>\n",
       "  </thead>\n",
       "  <tbody>\n",
       "    <tr>\n",
       "      <th>골든리트리버</th>\n",
       "      <td>sporting</td>\n",
       "    </tr>\n",
       "  </tbody>\n",
       "</table>\n",
       "</div>"
      ],
      "text/plain": [
       "              분류\n",
       "골든리트리버  sporting"
      ]
     },
     "execution_count": 26,
     "metadata": {},
     "output_type": "execute_result"
    }
   ],
   "source": [
    "types = pd.read_csv('./Data/종분류.csv', encoding = 'cp949', index_col = 0)\n",
    "types.head(1)"
   ]
  },
  {
   "cell_type": "code",
   "execution_count": 27,
   "id": "99696338",
   "metadata": {},
   "outputs": [],
   "source": [
    "for i in range(len(types)) : \n",
    "    df_6.loc[df_6['품종'] == types.index[i],'품종'] = types['분류'][i]"
   ]
  },
  {
   "cell_type": "code",
   "execution_count": 28,
   "id": "01f5125d",
   "metadata": {},
   "outputs": [
    {
     "name": "stdout",
     "output_type": "stream",
     "text": [
      "인코딩 변환값 :  [ 5  4  3  7  6  0  8  2  1  9 12 13 10 11]\n"
     ]
    }
   ],
   "source": [
    "from sklearn.preprocessing import LabelEncoder\n",
    "\n",
    "encoder = LabelEncoder()\n",
    "encoder.fit(df_6['품종'].unique())\n",
    "\n",
    "labels = encoder.transform(df_6['품종'].unique())\n",
    "\n",
    "print('인코딩 변환값 : ', labels)"
   ]
  },
  {
   "cell_type": "code",
   "execution_count": 29,
   "id": "1836c80d",
   "metadata": {},
   "outputs": [
    {
     "data": {
      "text/plain": [
       "array([ 5,  4,  3,  7,  6,  0,  8,  2,  1,  9, 12, 13, 10, 11])"
      ]
     },
     "execution_count": 29,
     "metadata": {},
     "output_type": "execute_result"
    }
   ],
   "source": [
    "labels"
   ]
  },
  {
   "cell_type": "code",
   "execution_count": 34,
   "id": "0ab19c06",
   "metadata": {},
   "outputs": [
    {
     "name": "stdout",
     "output_type": "stream",
     "text": [
      "디코딩 변환 값 : ['기타']\n"
     ]
    }
   ],
   "source": [
    "# 디코딩 변환 값\n",
    "\n",
    "print('디코딩 변환 값 :', encoder.inverse_transform([9]))"
   ]
  },
  {
   "cell_type": "code",
   "execution_count": 357,
   "id": "0eff5cfe",
   "metadata": {},
   "outputs": [],
   "source": [
    "품종_고유값 = df_6['품종'].unique()"
   ]
  },
  {
   "cell_type": "code",
   "execution_count": 358,
   "id": "0a247125",
   "metadata": {},
   "outputs": [
    {
     "name": "stdout",
     "output_type": "stream",
     "text": [
      "<class 'pandas.core.frame.DataFrame'>\n",
      "Int64Index: 327469 entries, 0 to 418381\n",
      "Data columns (total 10 columns):\n",
      " #   Column  Non-Null Count   Dtype   \n",
      "---  ------  --------------   -----   \n",
      " 0   공고번호    327469 non-null  object  \n",
      " 1   보호소이름   327469 non-null  object  \n",
      " 2   품종      327469 non-null  category\n",
      " 3   색상      327460 non-null  object  \n",
      " 4   성별      327469 non-null  int64   \n",
      " 5   체중      327469 non-null  float64 \n",
      " 6   중성화여부   327469 non-null  int64   \n",
      " 7   당시의나이   327469 non-null  int64   \n",
      " 8   상태      327469 non-null  int64   \n",
      " 9   접수일     327469 non-null  int64   \n",
      "dtypes: category(1), float64(1), int64(5), object(3)\n",
      "memory usage: 25.3+ MB\n"
     ]
    }
   ],
   "source": [
    "# category 화 \n",
    "\n",
    "df_6['품종'] = pd.Categorical(df_6['품종'])\n",
    "df_6.info()"
   ]
  },
  {
   "cell_type": "code",
   "execution_count": 359,
   "id": "d6e24ea2",
   "metadata": {},
   "outputs": [],
   "source": [
    "for i in range(len(labels)):\n",
    "    df_6['품종'] = df_6['품종'].replace(품종_고유값[i], labels[i])"
   ]
  },
  {
   "cell_type": "code",
   "execution_count": 360,
   "id": "3c999f56",
   "metadata": {},
   "outputs": [
    {
     "data": {
      "text/plain": [
       "3    235289\n",
       "7     35701\n",
       "4     22412\n",
       "0     15016\n",
       "5      6453\n",
       "8      3533\n",
       "2      3481\n",
       "1      3093\n",
       "9      1877\n",
       "6       614\n",
       "Name: 품종, dtype: int64"
      ]
     },
     "execution_count": 360,
     "metadata": {},
     "output_type": "execute_result"
    }
   ],
   "source": [
    "df_6['품종'].value_counts()"
   ]
  },
  {
   "cell_type": "code",
   "execution_count": 361,
   "id": "4ed3e20e",
   "metadata": {},
   "outputs": [],
   "source": [
    "df_6.to_csv('Data/#6_품종까지.csv',encoding='cp949')"
   ]
  },
  {
   "cell_type": "markdown",
   "id": "b5e65636",
   "metadata": {},
   "source": [
    "### 7️⃣ 색상 💫\n",
    "---\n",
    "    How To ?\n",
    "    색상을 5가지 종류로 모두 전처리하였다. "
   ]
  },
  {
   "cell_type": "code",
   "execution_count": 362,
   "id": "814d1d4d",
   "metadata": {},
   "outputs": [],
   "source": [
    "df_6 = pd.read_csv('Data/#6_품종까지.csv',encoding='cp949', index_col=0)"
   ]
  },
  {
   "cell_type": "code",
   "execution_count": 363,
   "id": "7c86d3eb",
   "metadata": {},
   "outputs": [
    {
     "data": {
      "text/plain": [
       "array(['혼합', '흰색', '갈색', '검정색', '노란색'], dtype=object)"
      ]
     },
     "execution_count": 363,
     "metadata": {},
     "output_type": "execute_result"
    }
   ],
   "source": [
    "final_color = pd.read_csv('Data/FInal_Color.csv',encoding='utf-8',index_col=0)\n",
    "final_color['색상최종'].unique()"
   ]
  },
  {
   "cell_type": "code",
   "execution_count": 364,
   "id": "1a2801c6",
   "metadata": {},
   "outputs": [],
   "source": [
    "df_7 = pd.merge(df_6,final_color, how='inner', on='공고번호')\n",
    "df_7['색상'] = df_7['색상최종']"
   ]
  },
  {
   "cell_type": "code",
   "execution_count": 365,
   "id": "7aedda05",
   "metadata": {},
   "outputs": [],
   "source": [
    "df_7.drop('색상최종',axis=1,inplace=True)"
   ]
  },
  {
   "cell_type": "code",
   "execution_count": 366,
   "id": "71bf641f",
   "metadata": {},
   "outputs": [],
   "source": [
    "df_7['색상'] = pd.Categorical(df_7['색상'])"
   ]
  },
  {
   "cell_type": "markdown",
   "id": "afca70df",
   "metadata": {},
   "source": [
    "#### 흰색 - 1, 검정색 - 2, 노란색 - 3, 갈색 - 4, 혼합 - 5"
   ]
  },
  {
   "cell_type": "code",
   "execution_count": 367,
   "id": "38d8d683",
   "metadata": {},
   "outputs": [],
   "source": [
    "df_7['색상'] = df_7['색상'].map({'흰색' : 1, '검정색' : 2, '노란색': 3,'갈색': 4, '혼합' : 5})"
   ]
  },
  {
   "cell_type": "code",
   "execution_count": 368,
   "id": "a2fcf18a",
   "metadata": {},
   "outputs": [],
   "source": [
    "df_7.to_csv('Data/#7_색상까지_FINAL.csv',encoding='cp949')"
   ]
  },
  {
   "cell_type": "markdown",
   "id": "82785339",
   "metadata": {},
   "source": [
    "#### 최종 DATASET 💝\n",
    "---\n",
    "    범주화 했던 자료들을 --> 데이터셋을 불러오고 나서, category 타입으로 바꿔주자\n",
    "    \n",
    "    품종\n",
    "    색상\n",
    "    성별\n",
    "    체중\n",
    "    중성화여부\n",
    "    상태\n",
    "    \n",
    "    \n",
    "    "
   ]
  },
  {
   "cell_type": "code",
   "execution_count": 369,
   "id": "7e7eb7ba",
   "metadata": {
    "scrolled": true
   },
   "outputs": [
    {
     "data": {
      "text/html": [
       "<div>\n",
       "<style scoped>\n",
       "    .dataframe tbody tr th:only-of-type {\n",
       "        vertical-align: middle;\n",
       "    }\n",
       "\n",
       "    .dataframe tbody tr th {\n",
       "        vertical-align: top;\n",
       "    }\n",
       "\n",
       "    .dataframe thead th {\n",
       "        text-align: right;\n",
       "    }\n",
       "</style>\n",
       "<table border=\"1\" class=\"dataframe\">\n",
       "  <thead>\n",
       "    <tr style=\"text-align: right;\">\n",
       "      <th></th>\n",
       "      <th>공고번호</th>\n",
       "      <th>보호소이름</th>\n",
       "      <th>품종</th>\n",
       "      <th>색상</th>\n",
       "      <th>성별</th>\n",
       "      <th>체중</th>\n",
       "      <th>중성화여부</th>\n",
       "      <th>당시의나이</th>\n",
       "      <th>상태</th>\n",
       "      <th>접수일</th>\n",
       "    </tr>\n",
       "  </thead>\n",
       "  <tbody>\n",
       "    <tr>\n",
       "      <th>0</th>\n",
       "      <td>서울-양천-2017-00001</td>\n",
       "      <td>강현림동물병원</td>\n",
       "      <td>5</td>\n",
       "      <td>4</td>\n",
       "      <td>0</td>\n",
       "      <td>38.0</td>\n",
       "      <td>0</td>\n",
       "      <td>5</td>\n",
       "      <td>1</td>\n",
       "      <td>2017</td>\n",
       "    </tr>\n",
       "    <tr>\n",
       "      <th>1</th>\n",
       "      <td>서울-중랑-2017-00003</td>\n",
       "      <td>한국동물구조관리협회</td>\n",
       "      <td>4</td>\n",
       "      <td>4</td>\n",
       "      <td>0</td>\n",
       "      <td>3.1</td>\n",
       "      <td>0</td>\n",
       "      <td>4</td>\n",
       "      <td>1</td>\n",
       "      <td>2017</td>\n",
       "    </tr>\n",
       "  </tbody>\n",
       "</table>\n",
       "</div>"
      ],
      "text/plain": [
       "               공고번호       보호소이름  품종  색상  성별    체중  중성화여부  당시의나이  상태   접수일\n",
       "0  서울-양천-2017-00001     강현림동물병원   5   4   0  38.0      0      5   1  2017\n",
       "1  서울-중랑-2017-00003  한국동물구조관리협회   4   4   0   3.1      0      4   1  2017"
      ]
     },
     "execution_count": 369,
     "metadata": {},
     "output_type": "execute_result"
    }
   ],
   "source": [
    "df_final = pd.read_csv('Data/#7_색상까지_FINAL.csv',encoding='cp949',index_col=0)\n",
    "df_final.head(2)\n"
   ]
  },
  {
   "cell_type": "markdown",
   "id": "378e22ee",
   "metadata": {},
   "source": [
    "### 8️⃣ 직영과 위탁을 나누자 💢\n",
    "---\n",
    "    직영보호소 list ()\n",
    "    \n",
    "    직영보호소 list에 포함하지 않는 곳을 위탁으로 지정하여\n",
    "    \n",
    "    직영과 위탁을 나눴다. \n",
    "\n"
   ]
  },
  {
   "cell_type": "code",
   "execution_count": 373,
   "id": "92c5c80a",
   "metadata": {},
   "outputs": [],
   "source": [
    "df_money = pd.read_csv('./Data/위탁보호소.csv',encoding='cp949',index_col=0)\n",
    "df_service = pd.read_csv('./Data/직영보호소.csv',encoding='cp949',index_col=0)\n",
    "\n",
    "service_list=  list(df_service['보호소이름'].unique())\n",
    "money_list = list(df_money['보호소이름'].unique())\n",
    "\n",
    "직영 = df_final[df_final['보호소이름'].apply(lambda x : x in service_list)]\n",
    "위탁 = df_final[df_final['보호소이름'].apply(lambda x : x in money_list)]\n",
    "\n",
    "직영 = 직영[['품종','색상','성별','체중','중성화여부','당시의나이', '상태','접수일']]\n",
    "위탁 = 위탁[['품종','색상','성별','체중','중성화여부','당시의나이', '상태','접수일']]\n",
    "\n",
    "직영.to_csv('Data/직영.csv',encoding='cp949')\n",
    "위탁.to_csv('Data/위탁.csv',encoding='cp949')"
   ]
  },
  {
   "cell_type": "markdown",
   "id": "6d907a27",
   "metadata": {},
   "source": [
    "## Final_Process\n",
    "---"
   ]
  },
  {
   "cell_type": "code",
   "execution_count": 4,
   "id": "fd58d261",
   "metadata": {},
   "outputs": [
    {
     "data": {
      "text/html": [
       "<div>\n",
       "<style scoped>\n",
       "    .dataframe tbody tr th:only-of-type {\n",
       "        vertical-align: middle;\n",
       "    }\n",
       "\n",
       "    .dataframe tbody tr th {\n",
       "        vertical-align: top;\n",
       "    }\n",
       "\n",
       "    .dataframe thead th {\n",
       "        text-align: right;\n",
       "    }\n",
       "</style>\n",
       "<table border=\"1\" class=\"dataframe\">\n",
       "  <thead>\n",
       "    <tr style=\"text-align: right;\">\n",
       "      <th></th>\n",
       "      <th>품종</th>\n",
       "      <th>색상</th>\n",
       "      <th>성별</th>\n",
       "      <th>체중</th>\n",
       "      <th>중성화여부</th>\n",
       "      <th>당시의나이</th>\n",
       "      <th>상태</th>\n",
       "    </tr>\n",
       "  </thead>\n",
       "  <tbody>\n",
       "    <tr>\n",
       "      <th>0</th>\n",
       "      <td>7</td>\n",
       "      <td>1</td>\n",
       "      <td>0</td>\n",
       "      <td>3.1</td>\n",
       "      <td>0</td>\n",
       "      <td>3</td>\n",
       "      <td>1</td>\n",
       "    </tr>\n",
       "  </tbody>\n",
       "</table>\n",
       "</div>"
      ],
      "text/plain": [
       "   품종  색상  성별   체중  중성화여부  당시의나이  상태\n",
       "0   7   1   0  3.1      0      3   1"
      ]
     },
     "execution_count": 4,
     "metadata": {},
     "output_type": "execute_result"
    }
   ],
   "source": [
    "dataset = pd.read_csv('Data/#9_Final_Check_품종안바꾼거.csv',encoding='cp949',index_col=0)\n",
    "dataset.head(1)"
   ]
  },
  {
   "cell_type": "code",
   "execution_count": 5,
   "id": "08964520",
   "metadata": {},
   "outputs": [],
   "source": [
    "dataset.to_csv('Data/9_Final_Check_품종안바꾼거.csv',encoding='cp949')"
   ]
  },
  {
   "cell_type": "markdown",
   "id": "a8748100",
   "metadata": {},
   "source": [
    "### Mix 와 No_Mix 로 나누기\n",
    "---"
   ]
  },
  {
   "cell_type": "code",
   "execution_count": 9,
   "id": "093221df",
   "metadata": {},
   "outputs": [],
   "source": [
    "\n",
    "\n",
    "df_no_mix = divide_mix(dataset)[0]\n",
    "\n",
    "df_no_mix = df_no_mix.reset_index()\n",
    "\n",
    "df_no_mix.drop('index',axis=1,inplace=True)"
   ]
  },
  {
   "cell_type": "markdown",
   "id": "bae21069",
   "metadata": {},
   "source": [
    "#### Outlier 제거\n",
    "---\n",
    "    IQR Range 제거법 사용"
   ]
  },
  {
   "cell_type": "code",
   "execution_count": 10,
   "id": "d2bbf49d",
   "metadata": {},
   "outputs": [],
   "source": [
    "def get_outlier(df=None, column=None, weight=1.5):\n",
    "  # target 값과 상관관계가 높은 열을 우선적으로 진행\n",
    "    quantile_25 = np.percentile(df[column].values, 25)\n",
    "    quantile_75 = np.percentile(df[column].values, 75)\n",
    "\n",
    "    IQR = quantile_75 - quantile_25\n",
    "    IQR_weight = IQR*weight\n",
    "\n",
    "    lowest = quantile_25 - IQR_weight\n",
    "    highest = quantile_75 + IQR_weight\n",
    "\n",
    "    outlier_idx = df[column][ (df[column] < lowest) | (df[column] > highest)].index\n",
    "    return outlier_idx\n",
    "\n",
    "# 함수 사용해서 이상치 값 삭제\n",
    "outlier_idx = get_outlier(df=df_no_mix, column='체중', weight=1.5)\n",
    "df_no_mix.drop(outlier_idx, axis=0, inplace=True)"
   ]
  },
  {
   "cell_type": "code",
   "execution_count": 11,
   "id": "bbdb7e06",
   "metadata": {},
   "outputs": [],
   "source": [
    "# 함수 사용해서 이상치(당시의나이) 삭제 \n",
    "outlier_idx = get_outlier(df=df_no_mix, column='당시의나이', weight=1.5)\n",
    "df_no_mix.drop(outlier_idx, axis=0, inplace=True)"
   ]
  },
  {
   "cell_type": "markdown",
   "id": "b9c97ad5",
   "metadata": {},
   "source": [
    "#### Scale 조정\n",
    "---\n",
    "    np.log1p 사용"
   ]
  },
  {
   "cell_type": "code",
   "execution_count": 12,
   "id": "fd34447d",
   "metadata": {},
   "outputs": [],
   "source": [
    "df_no_mix['체중'] = np.log1p(df_no_mix['체중'])"
   ]
  },
  {
   "cell_type": "code",
   "execution_count": 13,
   "id": "29710f83",
   "metadata": {},
   "outputs": [],
   "source": [
    "df_no_mix['당시의나이'] = np.log1p(df_no_mix['당시의나이'])"
   ]
  },
  {
   "cell_type": "code",
   "execution_count": 16,
   "id": "706e0edb",
   "metadata": {},
   "outputs": [],
   "source": [
    "df_no_mix= df_no_mix.reset_index()\n",
    "df_no_mix.drop('index',axis=1,inplace=True)"
   ]
  },
  {
   "cell_type": "code",
   "execution_count": 17,
   "id": "22796256",
   "metadata": {},
   "outputs": [],
   "source": [
    "df_no_mix.to_csv('Data/#12_최최종.csv',encoding='cp949')"
   ]
  },
  {
   "cell_type": "code",
   "execution_count": null,
   "id": "22b4638e",
   "metadata": {},
   "outputs": [],
   "source": []
  }
 ],
 "metadata": {
  "kernelspec": {
   "display_name": "Python 3",
   "language": "python",
   "name": "python3"
  },
  "language_info": {
   "codemirror_mode": {
    "name": "ipython",
    "version": 3
   },
   "file_extension": ".py",
   "mimetype": "text/x-python",
   "name": "python",
   "nbconvert_exporter": "python",
   "pygments_lexer": "ipython3",
   "version": "3.8.8"
  }
 },
 "nbformat": 4,
 "nbformat_minor": 5
}
