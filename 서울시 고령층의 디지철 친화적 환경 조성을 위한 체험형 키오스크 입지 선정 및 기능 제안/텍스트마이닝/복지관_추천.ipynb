{
  "nbformat": 4,
  "nbformat_minor": 0,
  "metadata": {
    "colab": {
      "name": "복지관 추천.ipynb",
      "provenance": [],
      "collapsed_sections": []
    },
    "kernelspec": {
      "display_name": "Python 3",
      "name": "python3"
    },
    "language_info": {
      "name": "python"
    }
  },
  "cells": [
    {
      "cell_type": "code",
      "metadata": {
        "colab": {
          "base_uri": "https://localhost:8080/"
        },
        "id": "6Iv9PRzKTtvd",
        "outputId": "a5fcdc5b-cf96-471d-c076-bf6cf5e858c5"
      },
      "source": [
        "!pip install konlpy"
      ],
      "execution_count": 1,
      "outputs": [
        {
          "output_type": "stream",
          "text": [
            "Collecting konlpy\n",
            "  Downloading konlpy-0.5.2-py2.py3-none-any.whl (19.4 MB)\n",
            "\u001b[K     |████████████████████████████████| 19.4 MB 1.2 MB/s \n",
            "\u001b[?25hCollecting JPype1>=0.7.0\n",
            "  Downloading JPype1-1.3.0-cp37-cp37m-manylinux_2_5_x86_64.manylinux1_x86_64.whl (448 kB)\n",
            "\u001b[K     |████████████████████████████████| 448 kB 60.1 MB/s \n",
            "\u001b[?25hRequirement already satisfied: lxml>=4.1.0 in /usr/local/lib/python3.7/dist-packages (from konlpy) (4.2.6)\n",
            "Collecting beautifulsoup4==4.6.0\n",
            "  Downloading beautifulsoup4-4.6.0-py3-none-any.whl (86 kB)\n",
            "\u001b[K     |████████████████████████████████| 86 kB 4.5 MB/s \n",
            "\u001b[?25hRequirement already satisfied: tweepy>=3.7.0 in /usr/local/lib/python3.7/dist-packages (from konlpy) (3.10.0)\n",
            "Requirement already satisfied: numpy>=1.6 in /usr/local/lib/python3.7/dist-packages (from konlpy) (1.19.5)\n",
            "Collecting colorama\n",
            "  Downloading colorama-0.4.4-py2.py3-none-any.whl (16 kB)\n",
            "Requirement already satisfied: typing-extensions in /usr/local/lib/python3.7/dist-packages (from JPype1>=0.7.0->konlpy) (3.7.4.3)\n",
            "Requirement already satisfied: requests-oauthlib>=0.7.0 in /usr/local/lib/python3.7/dist-packages (from tweepy>=3.7.0->konlpy) (1.3.0)\n",
            "Requirement already satisfied: six>=1.10.0 in /usr/local/lib/python3.7/dist-packages (from tweepy>=3.7.0->konlpy) (1.15.0)\n",
            "Requirement already satisfied: requests[socks]>=2.11.1 in /usr/local/lib/python3.7/dist-packages (from tweepy>=3.7.0->konlpy) (2.23.0)\n",
            "Requirement already satisfied: oauthlib>=3.0.0 in /usr/local/lib/python3.7/dist-packages (from requests-oauthlib>=0.7.0->tweepy>=3.7.0->konlpy) (3.1.1)\n",
            "Requirement already satisfied: certifi>=2017.4.17 in /usr/local/lib/python3.7/dist-packages (from requests[socks]>=2.11.1->tweepy>=3.7.0->konlpy) (2021.5.30)\n",
            "Requirement already satisfied: urllib3!=1.25.0,!=1.25.1,<1.26,>=1.21.1 in /usr/local/lib/python3.7/dist-packages (from requests[socks]>=2.11.1->tweepy>=3.7.0->konlpy) (1.24.3)\n",
            "Requirement already satisfied: chardet<4,>=3.0.2 in /usr/local/lib/python3.7/dist-packages (from requests[socks]>=2.11.1->tweepy>=3.7.0->konlpy) (3.0.4)\n",
            "Requirement already satisfied: idna<3,>=2.5 in /usr/local/lib/python3.7/dist-packages (from requests[socks]>=2.11.1->tweepy>=3.7.0->konlpy) (2.10)\n",
            "Requirement already satisfied: PySocks!=1.5.7,>=1.5.6 in /usr/local/lib/python3.7/dist-packages (from requests[socks]>=2.11.1->tweepy>=3.7.0->konlpy) (1.7.1)\n",
            "Installing collected packages: JPype1, colorama, beautifulsoup4, konlpy\n",
            "  Attempting uninstall: beautifulsoup4\n",
            "    Found existing installation: beautifulsoup4 4.6.3\n",
            "    Uninstalling beautifulsoup4-4.6.3:\n",
            "      Successfully uninstalled beautifulsoup4-4.6.3\n",
            "Successfully installed JPype1-1.3.0 beautifulsoup4-4.6.0 colorama-0.4.4 konlpy-0.5.2\n"
          ],
          "name": "stdout"
        }
      ]
    },
    {
      "cell_type": "code",
      "metadata": {
        "colab": {
          "base_uri": "https://localhost:8080/"
        },
        "id": "O8IkafvIS-kW",
        "outputId": "5bb2ef52-72f8-4f4e-a784-d465da93b7a0"
      },
      "source": [
        "!pip install haversine"
      ],
      "execution_count": 76,
      "outputs": [
        {
          "output_type": "stream",
          "text": [
            "Collecting haversine\n",
            "  Downloading haversine-2.3.1-py2.py3-none-any.whl (5.5 kB)\n",
            "Installing collected packages: haversine\n",
            "Successfully installed haversine-2.3.1\n"
          ],
          "name": "stdout"
        }
      ]
    },
    {
      "cell_type": "code",
      "metadata": {
        "id": "bPHdTbCjFDPn"
      },
      "source": [
        "import pandas as pd\n",
        "import numpy as np\n",
        "import matplotlib.pyplot as plt\n",
        "import seaborn as sns\n",
        "import requests\n",
        "import warnings\n",
        "from PIL import Image\n",
        "import re\n",
        "from haversine import haversine\n",
        "warnings.filterwarnings('ignore')\n",
        "%matplotlib inline"
      ],
      "execution_count": 445,
      "outputs": []
    },
    {
      "cell_type": "code",
      "metadata": {
        "colab": {
          "base_uri": "https://localhost:8080/",
          "height": 302
        },
        "id": "LTkeL8coBnxQ",
        "outputId": "397bb983-0e45-467e-dfb2-3e19049a0fb6"
      },
      "source": [
        "df = pd.read_csv('program_keyword.csv', encoding = 'cp949')\n",
        "df.head()"
      ],
      "execution_count": 317,
      "outputs": [
        {
          "output_type": "execute_result",
          "data": {
            "text/html": [
              "<div>\n",
              "<style scoped>\n",
              "    .dataframe tbody tr th:only-of-type {\n",
              "        vertical-align: middle;\n",
              "    }\n",
              "\n",
              "    .dataframe tbody tr th {\n",
              "        vertical-align: top;\n",
              "    }\n",
              "\n",
              "    .dataframe thead th {\n",
              "        text-align: right;\n",
              "    }\n",
              "</style>\n",
              "<table border=\"1\" class=\"dataframe\">\n",
              "  <thead>\n",
              "    <tr style=\"text-align: right;\">\n",
              "      <th></th>\n",
              "      <th>시설명</th>\n",
              "      <th>위도</th>\n",
              "      <th>경도</th>\n",
              "      <th>주소</th>\n",
              "      <th>전화번호</th>\n",
              "      <th>과정구분</th>\n",
              "      <th>과정명</th>\n",
              "      <th>인원</th>\n",
              "      <th>요일</th>\n",
              "      <th>시간</th>\n",
              "      <th>키워드리스트</th>\n",
              "    </tr>\n",
              "  </thead>\n",
              "  <tbody>\n",
              "    <tr>\n",
              "      <th>0</th>\n",
              "      <td>구립 곰달래어르신복지센터</td>\n",
              "      <td>37.529057</td>\n",
              "      <td>126.839750</td>\n",
              "      <td>강서구 강서로5길50 (화곡동)</td>\n",
              "      <td>2699-8264</td>\n",
              "      <td>교육</td>\n",
              "      <td>세계사</td>\n",
              "      <td>9</td>\n",
              "      <td>금</td>\n",
              "      <td>10:00~10:50</td>\n",
              "      <td>교육,역사,세계사,세계,공부</td>\n",
              "    </tr>\n",
              "    <tr>\n",
              "      <th>1</th>\n",
              "      <td>시립 강서어르신종합복지관</td>\n",
              "      <td>37.558089</td>\n",
              "      <td>126.838555</td>\n",
              "      <td>강서구 화곡로61길85(등촌동)</td>\n",
              "      <td>3664-0322~4</td>\n",
              "      <td>교육</td>\n",
              "      <td>인권교육(반딧불)</td>\n",
              "      <td>센터문의바람</td>\n",
              "      <td>화</td>\n",
              "      <td>10:00~12:00</td>\n",
              "      <td>교육,인권,반딧불,사람,권리,인권교육,공부</td>\n",
              "    </tr>\n",
              "    <tr>\n",
              "      <th>2</th>\n",
              "      <td>시립 강서어르신종합복지관</td>\n",
              "      <td>37.558089</td>\n",
              "      <td>126.838555</td>\n",
              "      <td>강서구 화곡로61길85(등촌동)</td>\n",
              "      <td>3664-0322~4</td>\n",
              "      <td>교육</td>\n",
              "      <td>빨간모자 스토리(이야기꾼 양성교육)</td>\n",
              "      <td>센터문의바람</td>\n",
              "      <td>금</td>\n",
              "      <td>10:00~12:00</td>\n",
              "      <td>교육,이야기,이야기꾼,빨간모자,스토리,빨간모자스토리,공부</td>\n",
              "    </tr>\n",
              "    <tr>\n",
              "      <th>3</th>\n",
              "      <td>시립 강서어르신종합복지관</td>\n",
              "      <td>37.558089</td>\n",
              "      <td>126.838555</td>\n",
              "      <td>강서구 화곡로61길85(등촌동)</td>\n",
              "      <td>3664-0322~4</td>\n",
              "      <td>교육</td>\n",
              "      <td>슬기로운 노인생활 (생활정보)</td>\n",
              "      <td>온라인-자율</td>\n",
              "      <td>금</td>\n",
              "      <td>센터문의바람</td>\n",
              "      <td>교육,슬기로운,생활정보,생활,정보,노인,생활,공부</td>\n",
              "    </tr>\n",
              "    <tr>\n",
              "      <th>4</th>\n",
              "      <td>구립 곰달래어르신복지센터</td>\n",
              "      <td>37.529057</td>\n",
              "      <td>126.839750</td>\n",
              "      <td>강서구 강서로5길50 (화곡동)</td>\n",
              "      <td>2699-8264</td>\n",
              "      <td>디지털</td>\n",
              "      <td>컴퓨터 기초</td>\n",
              "      <td>5</td>\n",
              "      <td>월~금</td>\n",
              "      <td>10:00~11:50</td>\n",
              "      <td>디지털,디지털교육,컴퓨터</td>\n",
              "    </tr>\n",
              "  </tbody>\n",
              "</table>\n",
              "</div>"
            ],
            "text/plain": [
              "             시설명         위도  ...           시간                           키워드리스트\n",
              "0  구립 곰달래어르신복지센터  37.529057  ...  10:00~10:50                  교육,역사,세계사,세계,공부\n",
              "1  시립 강서어르신종합복지관  37.558089  ...  10:00~12:00          교육,인권,반딧불,사람,권리,인권교육,공부\n",
              "2  시립 강서어르신종합복지관  37.558089  ...  10:00~12:00  교육,이야기,이야기꾼,빨간모자,스토리,빨간모자스토리,공부\n",
              "3  시립 강서어르신종합복지관  37.558089  ...       센터문의바람      교육,슬기로운,생활정보,생활,정보,노인,생활,공부\n",
              "4  구립 곰달래어르신복지센터  37.529057  ...  10:00~11:50                    디지털,디지털교육,컴퓨터\n",
              "\n",
              "[5 rows x 11 columns]"
            ]
          },
          "metadata": {
            "tags": []
          },
          "execution_count": 317
        }
      ]
    },
    {
      "cell_type": "code",
      "metadata": {
        "colab": {
          "base_uri": "https://localhost:8080/",
          "height": 202
        },
        "id": "BwdYJaYIQg96",
        "outputId": "bca4f2e1-61fa-417f-ae0e-8c6d9f840d44"
      },
      "source": [
        "gang = pd.read_csv('강서구마지막.csv', encoding = 'cp949')\n",
        "gang.head()"
      ],
      "execution_count": 318,
      "outputs": [
        {
          "output_type": "execute_result",
          "data": {
            "text/html": [
              "<div>\n",
              "<style scoped>\n",
              "    .dataframe tbody tr th:only-of-type {\n",
              "        vertical-align: middle;\n",
              "    }\n",
              "\n",
              "    .dataframe tbody tr th {\n",
              "        vertical-align: top;\n",
              "    }\n",
              "\n",
              "    .dataframe thead th {\n",
              "        text-align: right;\n",
              "    }\n",
              "</style>\n",
              "<table border=\"1\" class=\"dataframe\">\n",
              "  <thead>\n",
              "    <tr style=\"text-align: right;\">\n",
              "      <th></th>\n",
              "      <th>공원이름</th>\n",
              "      <th>위도</th>\n",
              "      <th>경도</th>\n",
              "    </tr>\n",
              "  </thead>\n",
              "  <tbody>\n",
              "    <tr>\n",
              "      <th>0</th>\n",
              "      <td>모태</td>\n",
              "      <td>37.529458</td>\n",
              "      <td>126.849515</td>\n",
              "    </tr>\n",
              "    <tr>\n",
              "      <th>1</th>\n",
              "      <td>까치</td>\n",
              "      <td>37.533388</td>\n",
              "      <td>126.841895</td>\n",
              "    </tr>\n",
              "    <tr>\n",
              "      <th>2</th>\n",
              "      <td>새나라</td>\n",
              "      <td>37.561528</td>\n",
              "      <td>126.852025</td>\n",
              "    </tr>\n",
              "    <tr>\n",
              "      <th>3</th>\n",
              "      <td>다운</td>\n",
              "      <td>37.532059</td>\n",
              "      <td>126.844653</td>\n",
              "    </tr>\n",
              "    <tr>\n",
              "      <th>4</th>\n",
              "      <td>배다리</td>\n",
              "      <td>37.532073</td>\n",
              "      <td>126.848303</td>\n",
              "    </tr>\n",
              "  </tbody>\n",
              "</table>\n",
              "</div>"
            ],
            "text/plain": [
              "  공원이름          위도          경도\n",
              "0    모태  37.529458  126.849515\n",
              "1    까치  37.533388  126.841895\n",
              "2   새나라  37.561528  126.852025\n",
              "3    다운  37.532059  126.844653\n",
              "4   배다리  37.532073  126.848303"
            ]
          },
          "metadata": {
            "tags": []
          },
          "execution_count": 318
        }
      ]
    },
    {
      "cell_type": "code",
      "metadata": {
        "id": "hb1LviSR2qKG"
      },
      "source": [
        "df = df.dropna()"
      ],
      "execution_count": 319,
      "outputs": []
    },
    {
      "cell_type": "code",
      "metadata": {
        "id": "bQI0mFRbipa6"
      },
      "source": [
        "df['키워드리스트'] = df['키워드리스트'].apply(lambda x : x.split(','))"
      ],
      "execution_count": 320,
      "outputs": []
    },
    {
      "cell_type": "code",
      "metadata": {
        "colab": {
          "base_uri": "https://localhost:8080/",
          "height": 599
        },
        "id": "1yfNdDSwzyN9",
        "outputId": "b07a026c-8326-49c6-c13c-ee190ca626da"
      },
      "source": [
        "df"
      ],
      "execution_count": 414,
      "outputs": [
        {
          "output_type": "execute_result",
          "data": {
            "text/html": [
              "<div>\n",
              "<style scoped>\n",
              "    .dataframe tbody tr th:only-of-type {\n",
              "        vertical-align: middle;\n",
              "    }\n",
              "\n",
              "    .dataframe tbody tr th {\n",
              "        vertical-align: top;\n",
              "    }\n",
              "\n",
              "    .dataframe thead th {\n",
              "        text-align: right;\n",
              "    }\n",
              "</style>\n",
              "<table border=\"1\" class=\"dataframe\">\n",
              "  <thead>\n",
              "    <tr style=\"text-align: right;\">\n",
              "      <th></th>\n",
              "      <th>시설명</th>\n",
              "      <th>위도</th>\n",
              "      <th>경도</th>\n",
              "      <th>주소</th>\n",
              "      <th>전화번호</th>\n",
              "      <th>과정구분</th>\n",
              "      <th>과정명</th>\n",
              "      <th>인원</th>\n",
              "      <th>요일</th>\n",
              "      <th>시간</th>\n",
              "      <th>키워드리스트</th>\n",
              "    </tr>\n",
              "  </thead>\n",
              "  <tbody>\n",
              "    <tr>\n",
              "      <th>0</th>\n",
              "      <td>구립 곰달래어르신복지센터</td>\n",
              "      <td>37.529057</td>\n",
              "      <td>126.839750</td>\n",
              "      <td>강서구 강서로5길50 (화곡동)</td>\n",
              "      <td>2699-8264</td>\n",
              "      <td>교육</td>\n",
              "      <td>세계사</td>\n",
              "      <td>9</td>\n",
              "      <td>금</td>\n",
              "      <td>10:00~10:50</td>\n",
              "      <td>[교육, 역사, 세계사, 세계, 공부]</td>\n",
              "    </tr>\n",
              "    <tr>\n",
              "      <th>1</th>\n",
              "      <td>시립 강서어르신종합복지관</td>\n",
              "      <td>37.558089</td>\n",
              "      <td>126.838555</td>\n",
              "      <td>강서구 화곡로61길85(등촌동)</td>\n",
              "      <td>3664-0322~4</td>\n",
              "      <td>교육</td>\n",
              "      <td>인권교육(반딧불)</td>\n",
              "      <td>센터문의바람</td>\n",
              "      <td>화</td>\n",
              "      <td>10:00~12:00</td>\n",
              "      <td>[교육, 인권, 반딧불, 사람, 권리, 인권교육, 공부]</td>\n",
              "    </tr>\n",
              "    <tr>\n",
              "      <th>2</th>\n",
              "      <td>시립 강서어르신종합복지관</td>\n",
              "      <td>37.558089</td>\n",
              "      <td>126.838555</td>\n",
              "      <td>강서구 화곡로61길85(등촌동)</td>\n",
              "      <td>3664-0322~4</td>\n",
              "      <td>교육</td>\n",
              "      <td>빨간모자 스토리(이야기꾼 양성교육)</td>\n",
              "      <td>센터문의바람</td>\n",
              "      <td>금</td>\n",
              "      <td>10:00~12:00</td>\n",
              "      <td>[교육, 이야기, 이야기꾼, 빨간모자, 스토리, 빨간모자스토리, 공부]</td>\n",
              "    </tr>\n",
              "    <tr>\n",
              "      <th>3</th>\n",
              "      <td>시립 강서어르신종합복지관</td>\n",
              "      <td>37.558089</td>\n",
              "      <td>126.838555</td>\n",
              "      <td>강서구 화곡로61길85(등촌동)</td>\n",
              "      <td>3664-0322~4</td>\n",
              "      <td>교육</td>\n",
              "      <td>슬기로운 노인생활 (생활정보)</td>\n",
              "      <td>온라인-자율</td>\n",
              "      <td>금</td>\n",
              "      <td>센터문의바람</td>\n",
              "      <td>[교육, 슬기로운, 생활정보, 생활, 정보, 노인, 생활, 공부]</td>\n",
              "    </tr>\n",
              "    <tr>\n",
              "      <th>4</th>\n",
              "      <td>구립 곰달래어르신복지센터</td>\n",
              "      <td>37.529057</td>\n",
              "      <td>126.839750</td>\n",
              "      <td>강서구 강서로5길50 (화곡동)</td>\n",
              "      <td>2699-8264</td>\n",
              "      <td>디지털</td>\n",
              "      <td>컴퓨터 기초</td>\n",
              "      <td>5</td>\n",
              "      <td>월~금</td>\n",
              "      <td>10:00~11:50</td>\n",
              "      <td>[디지털, 디지털교육, 컴퓨터]</td>\n",
              "    </tr>\n",
              "    <tr>\n",
              "      <th>...</th>\n",
              "      <td>...</td>\n",
              "      <td>...</td>\n",
              "      <td>...</td>\n",
              "      <td>...</td>\n",
              "      <td>...</td>\n",
              "      <td>...</td>\n",
              "      <td>...</td>\n",
              "      <td>...</td>\n",
              "      <td>...</td>\n",
              "      <td>...</td>\n",
              "      <td>...</td>\n",
              "    </tr>\n",
              "    <tr>\n",
              "      <th>154</th>\n",
              "      <td>구립 화곡어르신복지센터</td>\n",
              "      <td>37.535453</td>\n",
              "      <td>126.832312</td>\n",
              "      <td>강서구 월정로30길96 (화곡동)</td>\n",
              "      <td>2605-6900</td>\n",
              "      <td>체육</td>\n",
              "      <td>기필라테스</td>\n",
              "      <td>15</td>\n",
              "      <td>금</td>\n",
              "      <td>16:10~17:10</td>\n",
              "      <td>[체육, 운동, 건강, 춤, 댄스, 라인댄스, 라인]</td>\n",
              "    </tr>\n",
              "    <tr>\n",
              "      <th>155</th>\n",
              "      <td>시립 강서어르신종합복지관</td>\n",
              "      <td>37.558089</td>\n",
              "      <td>126.838555</td>\n",
              "      <td>강서구 화곡로61길85(등촌동)</td>\n",
              "      <td>3664-0322~4</td>\n",
              "      <td>체육</td>\n",
              "      <td>영상수업(체조)</td>\n",
              "      <td>온라인-자율</td>\n",
              "      <td>수</td>\n",
              "      <td>유튜브</td>\n",
              "      <td>[체육, 운동, 건강, 춤, 댄스]</td>\n",
              "    </tr>\n",
              "    <tr>\n",
              "      <th>156</th>\n",
              "      <td>시립 강서어르신종합복지관</td>\n",
              "      <td>37.558089</td>\n",
              "      <td>126.838555</td>\n",
              "      <td>강서구 화곡로61길85(등촌동)</td>\n",
              "      <td>3664-0322~4</td>\n",
              "      <td>체육</td>\n",
              "      <td>슬기로운 집콕생활 (체조)</td>\n",
              "      <td>온라인-자율</td>\n",
              "      <td>목</td>\n",
              "      <td>센터문의바람</td>\n",
              "      <td>[체육, 운동, 건강, 춤, 댄스]</td>\n",
              "    </tr>\n",
              "    <tr>\n",
              "      <th>157</th>\n",
              "      <td>시립 강서어르신종합복지관</td>\n",
              "      <td>37.558089</td>\n",
              "      <td>126.838555</td>\n",
              "      <td>강서구 화곡로61길85(등촌동)</td>\n",
              "      <td>3664-0322~4</td>\n",
              "      <td>체육</td>\n",
              "      <td>라이브방송 - 선배시민아카데미</td>\n",
              "      <td>온라인-자율</td>\n",
              "      <td>목</td>\n",
              "      <td>10:30~11:30</td>\n",
              "      <td>[체육, 운동, 건강, 춤, 댄스, 줌바, 줌바댄스]</td>\n",
              "    </tr>\n",
              "    <tr>\n",
              "      <th>158</th>\n",
              "      <td>시립 강서어르신종합복지관</td>\n",
              "      <td>37.558089</td>\n",
              "      <td>126.838555</td>\n",
              "      <td>강서구 화곡로61길85(등촌동)</td>\n",
              "      <td>3664-0322~4</td>\n",
              "      <td>체육</td>\n",
              "      <td>웰다잉  프로그램</td>\n",
              "      <td>온라인-신청</td>\n",
              "      <td>목</td>\n",
              "      <td>10:00~12:00</td>\n",
              "      <td>[체육, 운동, 건강, 탁구, 공]</td>\n",
              "    </tr>\n",
              "  </tbody>\n",
              "</table>\n",
              "<p>159 rows × 11 columns</p>\n",
              "</div>"
            ],
            "text/plain": [
              "               시설명  ...                                   키워드리스트\n",
              "0    구립 곰달래어르신복지센터  ...                    [교육, 역사, 세계사, 세계, 공부]\n",
              "1    시립 강서어르신종합복지관  ...          [교육, 인권, 반딧불, 사람, 권리, 인권교육, 공부]\n",
              "2    시립 강서어르신종합복지관  ...  [교육, 이야기, 이야기꾼, 빨간모자, 스토리, 빨간모자스토리, 공부]\n",
              "3    시립 강서어르신종합복지관  ...     [교육, 슬기로운, 생활정보, 생활, 정보, 노인, 생활, 공부]\n",
              "4    구립 곰달래어르신복지센터  ...                        [디지털, 디지털교육, 컴퓨터]\n",
              "..             ...  ...                                      ...\n",
              "154   구립 화곡어르신복지센터  ...            [체육, 운동, 건강, 춤, 댄스, 라인댄스, 라인]\n",
              "155  시립 강서어르신종합복지관  ...                      [체육, 운동, 건강, 춤, 댄스]\n",
              "156  시립 강서어르신종합복지관  ...                      [체육, 운동, 건강, 춤, 댄스]\n",
              "157  시립 강서어르신종합복지관  ...            [체육, 운동, 건강, 춤, 댄스, 줌바, 줌바댄스]\n",
              "158  시립 강서어르신종합복지관  ...                      [체육, 운동, 건강, 탁구, 공]\n",
              "\n",
              "[159 rows x 11 columns]"
            ]
          },
          "metadata": {
            "tags": []
          },
          "execution_count": 414
        }
      ]
    },
    {
      "cell_type": "code",
      "metadata": {
        "id": "eHRX9wjMF219"
      },
      "source": [
        "from gensim.models.word2vec import Word2Vec\n",
        "\n",
        "def model(keyword) :\n",
        "    model=Word2Vec(df['키워드리스트'],sg=1, window=15, min_count=1)\n",
        "    model.init_sims(replace=True)\n",
        "    result = model.wv.most_similar(keyword)\n",
        "    return result"
      ],
      "execution_count": 323,
      "outputs": []
    },
    {
      "cell_type": "code",
      "metadata": {
        "id": "YwAKi5bqAyLB"
      },
      "source": [
        "def distance(df1, df2):\n",
        "    df_new = []\n",
        "    for i in range(len(df2)):\n",
        "        start = (float(df1['위도'].values), float(df1['경도'].values))\n",
        "        end = (float(df2['위도'][i]), float(df2['위도'][i]))\n",
        "        dist = haversine(start, end, unit='m')\n",
        "        df_new.append(dist)\n",
        "    return(df_new)"
      ],
      "execution_count": null,
      "outputs": []
    },
    {
      "cell_type": "code",
      "metadata": {
        "id": "sIxR8ocHAZLd"
      },
      "source": [
        "def recommend(word, park) : \n",
        "  target = model(word)\n",
        "\n",
        "  keyword = []\n",
        "  for i in target[:1] : \n",
        "    keyword.append(i[0])\n",
        "    keyword.append(word)\n",
        "\n",
        "  indexes = []\n",
        "  for i in range(len(df)) : \n",
        "      for j in range(len(df.loc[i, '키워드리스트'])) : \n",
        "          if df['키워드리스트'][i][j] in keyword : \n",
        "              indexes.append(i)\n",
        "              break\n",
        "\n",
        "  후보 = df.iloc[indexes,]\n",
        "\n",
        "  후보시설  = 후보['시설명'].unique()\n",
        "  후보위도 = 후보['위도'].unique()\n",
        "  후보경도 = 후보['경도'].unique()\n",
        "\n",
        "  data = pd.DataFrame({'시설명' : list(후보시설), '위도' : list(후보위도), '경도' : list(후보경도)})\n",
        "\n",
        "  dist = distance(gang[gang['공원이름 ']==park], data)\n",
        "\n",
        "  복지관 = data.iloc[dist.index(min(dist))]['시설명']\n",
        "\n",
        "  add_num = df[df['시설명']==복지관][['주소','전화번호', '위도', '경도']]\n",
        "  address = add_num.iloc[0,0]\n",
        "  phone = add_num.iloc[0,1]\n",
        "  lat = add_num.iloc[0,2]\n",
        "  lng = add_num.iloc[0,3]\n",
        "\n",
        "  programs = 후보[후보['시설명'] == 복지관]['과정명']\n",
        "\n",
        "  return 복지관, address, phone, programs, lat, lng"
      ],
      "execution_count": 430,
      "outputs": []
    },
    {
      "cell_type": "code",
      "metadata": {
        "id": "eI3Edx4yBRw1"
      },
      "source": [
        "복지관, 주소, 전화번호, 프로그램, 위도, 경도 = recommend('디지털', '모태')"
      ],
      "execution_count": 431,
      "outputs": []
    },
    {
      "cell_type": "code",
      "metadata": {
        "colab": {
          "base_uri": "https://localhost:8080/"
        },
        "id": "avoURPJiGAIw",
        "outputId": "d46ca4f2-62bd-4768-f0e5-9b4724bd8a0e"
      },
      "source": [
        "import folium\n",
        "\n",
        "a = folium.Map(location = [37.5580891, 126.8450994], zoom_start = 17)\n",
        "folium.Marker([위도, 경도], popup='The Waterfront').add_to(a)\n",
        "folium.CircleMarker([위도, 경도], radius=50, popup = 'Laurelasdf', color = '#3186cc', fill_color = '#3186cc').add_to(a)"
      ],
      "execution_count": 467,
      "outputs": [
        {
          "output_type": "execute_result",
          "data": {
            "text/plain": [
              "<folium.vector_layers.CircleMarker at 0x7f252c6be7d0>"
            ]
          },
          "metadata": {
            "tags": []
          },
          "execution_count": 467
        }
      ]
    },
    {
      "cell_type": "code",
      "metadata": {
        "colab": {
          "base_uri": "https://localhost:8080/",
          "height": 592
        },
        "id": "cvLw3oZZCr2z",
        "outputId": "57d0f515-5261-4170-cb25-70ca58018250"
      },
      "source": [
        "print('인근 복지관 이름 : ', 복지관)\n",
        "print('복지관 주소 : ', 주소)\n",
        "print('복지관 전화번호 : ', 전화번호)\n",
        "print()\n",
        "a"
      ],
      "execution_count": 465,
      "outputs": [
        {
          "output_type": "stream",
          "text": [
            "인근 복지관 이름 :  시립 강서어르신종합복지관\n",
            "복지관 주소 :  강서구 화곡로61길85(등촌동)\n",
            "복지관 전화번호 :  3664-0322~4\n",
            "\n"
          ],
          "name": "stdout"
        },
        {
          "output_type": "execute_result",
          "data": {
            "text/html": [
              "<div style=\"width:100%;\"><div style=\"position:relative;width:100%;height:0;padding-bottom:60%;\"><span style=\"color:#565656\">Make this Notebook Trusted to load map: File -> Trust Notebook</span><iframe src=\"about:blank\" style=\"position:absolute;width:100%;height:100%;left:0;top:0;border:none !important;\" data-html=%3C%21DOCTYPE%20html%3E%0A%3Chead%3E%20%20%20%20%0A%20%20%20%20%3Cmeta%20http-equiv%3D%22content-type%22%20content%3D%22text/html%3B%20charset%3DUTF-8%22%20/%3E%0A%20%20%20%20%3Cscript%3EL_PREFER_CANVAS%3Dfalse%3B%20L_NO_TOUCH%3Dfalse%3B%20L_DISABLE_3D%3Dfalse%3B%3C/script%3E%0A%20%20%20%20%3Cscript%20src%3D%22https%3A//cdn.jsdelivr.net/npm/leaflet%401.4.0/dist/leaflet.js%22%3E%3C/script%3E%0A%20%20%20%20%3Cscript%20src%3D%22https%3A//code.jquery.com/jquery-1.12.4.min.js%22%3E%3C/script%3E%0A%20%20%20%20%3Cscript%20src%3D%22https%3A//maxcdn.bootstrapcdn.com/bootstrap/3.2.0/js/bootstrap.min.js%22%3E%3C/script%3E%0A%20%20%20%20%3Cscript%20src%3D%22https%3A//cdnjs.cloudflare.com/ajax/libs/Leaflet.awesome-markers/2.0.2/leaflet.awesome-markers.js%22%3E%3C/script%3E%0A%20%20%20%20%3Clink%20rel%3D%22stylesheet%22%20href%3D%22https%3A//cdn.jsdelivr.net/npm/leaflet%401.4.0/dist/leaflet.css%22/%3E%0A%20%20%20%20%3Clink%20rel%3D%22stylesheet%22%20href%3D%22https%3A//maxcdn.bootstrapcdn.com/bootstrap/3.2.0/css/bootstrap.min.css%22/%3E%0A%20%20%20%20%3Clink%20rel%3D%22stylesheet%22%20href%3D%22https%3A//maxcdn.bootstrapcdn.com/bootstrap/3.2.0/css/bootstrap-theme.min.css%22/%3E%0A%20%20%20%20%3Clink%20rel%3D%22stylesheet%22%20href%3D%22https%3A//maxcdn.bootstrapcdn.com/font-awesome/4.6.3/css/font-awesome.min.css%22/%3E%0A%20%20%20%20%3Clink%20rel%3D%22stylesheet%22%20href%3D%22https%3A//cdnjs.cloudflare.com/ajax/libs/Leaflet.awesome-markers/2.0.2/leaflet.awesome-markers.css%22/%3E%0A%20%20%20%20%3Clink%20rel%3D%22stylesheet%22%20href%3D%22https%3A//rawcdn.githack.com/python-visualization/folium/master/folium/templates/leaflet.awesome.rotate.css%22/%3E%0A%20%20%20%20%3Cstyle%3Ehtml%2C%20body%20%7Bwidth%3A%20100%25%3Bheight%3A%20100%25%3Bmargin%3A%200%3Bpadding%3A%200%3B%7D%3C/style%3E%0A%20%20%20%20%3Cstyle%3E%23map%20%7Bposition%3Aabsolute%3Btop%3A0%3Bbottom%3A0%3Bright%3A0%3Bleft%3A0%3B%7D%3C/style%3E%0A%20%20%20%20%0A%20%20%20%20%3Cmeta%20name%3D%22viewport%22%20content%3D%22width%3Ddevice-width%2C%0A%20%20%20%20%20%20%20%20initial-scale%3D1.0%2C%20maximum-scale%3D1.0%2C%20user-scalable%3Dno%22%20/%3E%0A%20%20%20%20%3Cstyle%3E%23map_9d25b889be324bb9aa9e1cd878e11bfd%20%7B%0A%20%20%20%20%20%20%20%20position%3A%20relative%3B%0A%20%20%20%20%20%20%20%20width%3A%20100.0%25%3B%0A%20%20%20%20%20%20%20%20height%3A%20100.0%25%3B%0A%20%20%20%20%20%20%20%20left%3A%200.0%25%3B%0A%20%20%20%20%20%20%20%20top%3A%200.0%25%3B%0A%20%20%20%20%20%20%20%20%7D%0A%20%20%20%20%3C/style%3E%0A%3C/head%3E%0A%3Cbody%3E%20%20%20%20%0A%20%20%20%20%0A%20%20%20%20%3Cdiv%20class%3D%22folium-map%22%20id%3D%22map_9d25b889be324bb9aa9e1cd878e11bfd%22%20%3E%3C/div%3E%0A%3C/body%3E%0A%3Cscript%3E%20%20%20%20%0A%20%20%20%20%0A%20%20%20%20%0A%20%20%20%20%20%20%20%20var%20bounds%20%3D%20null%3B%0A%20%20%20%20%0A%0A%20%20%20%20var%20map_9d25b889be324bb9aa9e1cd878e11bfd%20%3D%20L.map%28%0A%20%20%20%20%20%20%20%20%27map_9d25b889be324bb9aa9e1cd878e11bfd%27%2C%20%7B%0A%20%20%20%20%20%20%20%20center%3A%20%5B37.5580891%2C%20126.8450994%5D%2C%0A%20%20%20%20%20%20%20%20zoom%3A%2017%2C%0A%20%20%20%20%20%20%20%20maxBounds%3A%20bounds%2C%0A%20%20%20%20%20%20%20%20layers%3A%20%5B%5D%2C%0A%20%20%20%20%20%20%20%20worldCopyJump%3A%20false%2C%0A%20%20%20%20%20%20%20%20crs%3A%20L.CRS.EPSG3857%2C%0A%20%20%20%20%20%20%20%20zoomControl%3A%20true%2C%0A%20%20%20%20%20%20%20%20%7D%29%3B%0A%0A%0A%20%20%20%20%0A%20%20%20%20var%20tile_layer_1758c8d86d7945038a2534133370de80%20%3D%20L.tileLayer%28%0A%20%20%20%20%20%20%20%20%27https%3A//%7Bs%7D.tile.openstreetmap.org/%7Bz%7D/%7Bx%7D/%7By%7D.png%27%2C%0A%20%20%20%20%20%20%20%20%7B%0A%20%20%20%20%20%20%20%20%22attribution%22%3A%20null%2C%0A%20%20%20%20%20%20%20%20%22detectRetina%22%3A%20false%2C%0A%20%20%20%20%20%20%20%20%22maxNativeZoom%22%3A%2018%2C%0A%20%20%20%20%20%20%20%20%22maxZoom%22%3A%2018%2C%0A%20%20%20%20%20%20%20%20%22minZoom%22%3A%200%2C%0A%20%20%20%20%20%20%20%20%22noWrap%22%3A%20false%2C%0A%20%20%20%20%20%20%20%20%22opacity%22%3A%201%2C%0A%20%20%20%20%20%20%20%20%22subdomains%22%3A%20%22abc%22%2C%0A%20%20%20%20%20%20%20%20%22tms%22%3A%20false%0A%7D%29.addTo%28map_9d25b889be324bb9aa9e1cd878e11bfd%29%3B%0A%20%20%20%20%0A%20%20%20%20%20%20%20%20var%20marker_6a8654b26b6f4424bfc45b3134da574b%20%3D%20L.marker%28%0A%20%20%20%20%20%20%20%20%20%20%20%20%5B37.5580888%2C%20126.8385548%5D%2C%0A%20%20%20%20%20%20%20%20%20%20%20%20%7B%0A%20%20%20%20%20%20%20%20%20%20%20%20%20%20%20%20icon%3A%20new%20L.Icon.Default%28%29%2C%0A%20%20%20%20%20%20%20%20%20%20%20%20%20%20%20%20%7D%0A%20%20%20%20%20%20%20%20%20%20%20%20%29.addTo%28map_9d25b889be324bb9aa9e1cd878e11bfd%29%3B%0A%20%20%20%20%20%20%20%20%0A%20%20%20%20%0A%20%20%20%20%20%20%20%20%20%20%20%20var%20popup_d6a2ec013e724d5782c7357d608414aa%20%3D%20L.popup%28%7BmaxWidth%3A%20%27100%25%27%0A%20%20%20%20%20%20%20%20%20%20%20%20%0A%20%20%20%20%20%20%20%20%20%20%20%20%7D%29%3B%0A%0A%20%20%20%20%20%20%20%20%20%20%20%20%0A%20%20%20%20%20%20%20%20%20%20%20%20%20%20%20%20var%20html_7937d7a1b7b44891a4b011e6c5e37862%20%3D%20%24%28%60%3Cdiv%20id%3D%22html_7937d7a1b7b44891a4b011e6c5e37862%22%20style%3D%22width%3A%20100.0%25%3B%20height%3A%20100.0%25%3B%22%3EThe%20Waterfront%3C/div%3E%60%29%5B0%5D%3B%0A%20%20%20%20%20%20%20%20%20%20%20%20%20%20%20%20popup_d6a2ec013e724d5782c7357d608414aa.setContent%28html_7937d7a1b7b44891a4b011e6c5e37862%29%3B%0A%20%20%20%20%20%20%20%20%20%20%20%20%0A%0A%20%20%20%20%20%20%20%20%20%20%20%20marker_6a8654b26b6f4424bfc45b3134da574b.bindPopup%28popup_d6a2ec013e724d5782c7357d608414aa%29%0A%20%20%20%20%20%20%20%20%20%20%20%20%3B%0A%0A%20%20%20%20%20%20%20%20%20%20%20%20%0A%20%20%20%20%20%20%20%20%0A%20%20%20%20%0A%20%20%20%20%20%20%20%20%20%20%20%20var%20circle_marker_7982903fcfc448cdb118659106f1e001%20%3D%20L.circleMarker%28%0A%20%20%20%20%20%20%20%20%20%20%20%20%20%20%20%20%5B37.5580888%2C%20126.8385548%5D%2C%0A%20%20%20%20%20%20%20%20%20%20%20%20%20%20%20%20%7B%0A%20%20%22bubblingMouseEvents%22%3A%20true%2C%0A%20%20%22color%22%3A%20%22%233186cc%22%2C%0A%20%20%22dashArray%22%3A%20null%2C%0A%20%20%22dashOffset%22%3A%20null%2C%0A%20%20%22fill%22%3A%20true%2C%0A%20%20%22fillColor%22%3A%20%22%233186cc%22%2C%0A%20%20%22fillOpacity%22%3A%200.2%2C%0A%20%20%22fillRule%22%3A%20%22evenodd%22%2C%0A%20%20%22lineCap%22%3A%20%22round%22%2C%0A%20%20%22lineJoin%22%3A%20%22round%22%2C%0A%20%20%22opacity%22%3A%201.0%2C%0A%20%20%22radius%22%3A%2050%2C%0A%20%20%22stroke%22%3A%20true%2C%0A%20%20%22weight%22%3A%203%0A%7D%0A%20%20%20%20%20%20%20%20%20%20%20%20%20%20%20%20%29%0A%20%20%20%20%20%20%20%20%20%20%20%20%20%20%20%20.addTo%28map_9d25b889be324bb9aa9e1cd878e11bfd%29%3B%0A%20%20%20%20%20%20%20%20%20%20%20%20%0A%20%20%20%20%0A%20%20%20%20%20%20%20%20%20%20%20%20var%20popup_6f95e3764ed94209953c4b4953573e9e%20%3D%20L.popup%28%7BmaxWidth%3A%20%27100%25%27%0A%20%20%20%20%20%20%20%20%20%20%20%20%0A%20%20%20%20%20%20%20%20%20%20%20%20%7D%29%3B%0A%0A%20%20%20%20%20%20%20%20%20%20%20%20%0A%20%20%20%20%20%20%20%20%20%20%20%20%20%20%20%20var%20html_a077e72e651a498f810fa417672a7d1b%20%3D%20%24%28%60%3Cdiv%20id%3D%22html_a077e72e651a498f810fa417672a7d1b%22%20style%3D%22width%3A%20100.0%25%3B%20height%3A%20100.0%25%3B%22%3ELaurelasdf%3C/div%3E%60%29%5B0%5D%3B%0A%20%20%20%20%20%20%20%20%20%20%20%20%20%20%20%20popup_6f95e3764ed94209953c4b4953573e9e.setContent%28html_a077e72e651a498f810fa417672a7d1b%29%3B%0A%20%20%20%20%20%20%20%20%20%20%20%20%0A%0A%20%20%20%20%20%20%20%20%20%20%20%20circle_marker_7982903fcfc448cdb118659106f1e001.bindPopup%28popup_6f95e3764ed94209953c4b4953573e9e%29%0A%20%20%20%20%20%20%20%20%20%20%20%20%3B%0A%0A%20%20%20%20%20%20%20%20%20%20%20%20%0A%20%20%20%20%20%20%20%20%0A%3C/script%3E onload=\"this.contentDocument.open();this.contentDocument.write(    decodeURIComponent(this.getAttribute('data-html')));this.contentDocument.close();\" allowfullscreen webkitallowfullscreen mozallowfullscreen></iframe></div></div>"
            ],
            "text/plain": [
              "<folium.folium.Map at 0x7f251ab24850>"
            ]
          },
          "metadata": {
            "tags": []
          },
          "execution_count": 465
        }
      ]
    },
    {
      "cell_type": "code",
      "metadata": {
        "colab": {
          "base_uri": "https://localhost:8080/"
        },
        "id": "OIEqhKqwFFYf",
        "outputId": "d33fadc5-5668-492b-a86a-18737fc6ae03"
      },
      "source": [
        "print('[추천 프로그램]')\n",
        "print()\n",
        "for i in 프로그램 :\n",
        "  print(i)"
      ],
      "execution_count": 469,
      "outputs": [
        {
          "output_type": "stream",
          "text": [
            "[추천 프로그램]\n",
            "\n",
            "인권교육(반딧불)\n",
            "빨간모자 스토리(이야기꾼 양성교육)\n",
            "슬기로운 노인생활 (생활정보)\n",
            "스마트폰1\n",
            "스마트폰2\n",
            "디지털컨설턴트\n",
            "컴퓨터기초반1\n",
            "컴퓨터기초반2\n",
            "인터넷기초반1\n",
            "인터넷기초반2\n",
            "인터넷검색반1\n",
            "인터넷검색반2\n",
            "인터넷카페반1\n",
            "인터넷카페반2\n",
            "zoom 교육반\n",
            "문서작성반\n"
          ],
          "name": "stdout"
        }
      ]
    },
    {
      "cell_type": "code",
      "metadata": {
        "id": "hmn5JInmMDxb"
      },
      "source": [
        ""
      ],
      "execution_count": null,
      "outputs": []
    }
  ]
}