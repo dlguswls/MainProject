{
 "cells": [
  {
   "cell_type": "code",
   "execution_count": 2,
   "id": "016a3dee",
   "metadata": {},
   "outputs": [
    {
     "name": "stdout",
     "output_type": "stream",
     "text": [
      "Collecting missingno\n",
      "  Downloading missingno-0.5.0-py3-none-any.whl (8.8 kB)\n",
      "Requirement already satisfied: seaborn in c:\\users\\user\\anaconda3\\lib\\site-packages (from missingno) (0.11.1)\n",
      "Requirement already satisfied: numpy in c:\\users\\user\\anaconda3\\lib\\site-packages (from missingno) (1.20.1)\n",
      "Requirement already satisfied: scipy in c:\\users\\user\\anaconda3\\lib\\site-packages (from missingno) (1.6.2)\n",
      "Requirement already satisfied: matplotlib in c:\\users\\user\\anaconda3\\lib\\site-packages (from missingno) (3.3.4)\n",
      "Requirement already satisfied: pillow>=6.2.0 in c:\\users\\user\\anaconda3\\lib\\site-packages (from matplotlib->missingno) (8.2.0)\n",
      "Requirement already satisfied: python-dateutil>=2.1 in c:\\users\\user\\anaconda3\\lib\\site-packages (from matplotlib->missingno) (2.8.1)\n",
      "Requirement already satisfied: kiwisolver>=1.0.1 in c:\\users\\user\\anaconda3\\lib\\site-packages (from matplotlib->missingno) (1.3.1)\n",
      "Requirement already satisfied: cycler>=0.10 in c:\\users\\user\\anaconda3\\lib\\site-packages (from matplotlib->missingno) (0.10.0)\n",
      "Requirement already satisfied: pyparsing!=2.0.4,!=2.1.2,!=2.1.6,>=2.0.3 in c:\\users\\user\\anaconda3\\lib\\site-packages (from matplotlib->missingno) (2.4.7)\n",
      "Requirement already satisfied: six in c:\\users\\user\\anaconda3\\lib\\site-packages (from cycler>=0.10->matplotlib->missingno) (1.15.0)\n",
      "Requirement already satisfied: pandas>=0.23 in c:\\users\\user\\anaconda3\\lib\\site-packages (from seaborn->missingno) (1.2.4)\n",
      "Requirement already satisfied: pytz>=2017.3 in c:\\users\\user\\anaconda3\\lib\\site-packages (from pandas>=0.23->seaborn->missingno) (2021.1)\n",
      "Installing collected packages: missingno\n",
      "Successfully installed missingno-0.5.0\n"
     ]
    }
   ],
   "source": [
    "!pip install missingno"
   ]
  },
  {
   "cell_type": "code",
   "execution_count": 52,
   "id": "d170fb47",
   "metadata": {},
   "outputs": [],
   "source": [
    "import pandas as pd\n",
    "import matplotlib.pyplot as plt"
   ]
  },
  {
   "cell_type": "code",
   "execution_count": 117,
   "id": "647ec540",
   "metadata": {},
   "outputs": [],
   "source": [
    "df_gs = pd.read_csv('C:/gong_test/송파구.csv', encoding='euc-kr')"
   ]
  },
  {
   "cell_type": "code",
   "execution_count": 118,
   "id": "653d23fa",
   "metadata": {},
   "outputs": [
    {
     "data": {
      "text/html": [
       "<div>\n",
       "<style scoped>\n",
       "    .dataframe tbody tr th:only-of-type {\n",
       "        vertical-align: middle;\n",
       "    }\n",
       "\n",
       "    .dataframe tbody tr th {\n",
       "        vertical-align: top;\n",
       "    }\n",
       "\n",
       "    .dataframe thead th {\n",
       "        text-align: right;\n",
       "    }\n",
       "</style>\n",
       "<table border=\"1\" class=\"dataframe\">\n",
       "  <thead>\n",
       "    <tr style=\"text-align: right;\">\n",
       "      <th></th>\n",
       "      <th>Unnamed: 0</th>\n",
       "      <th>지하철역수</th>\n",
       "      <th>버스정류장수</th>\n",
       "      <th>유동인구비율</th>\n",
       "      <th>복지시설</th>\n",
       "      <th>의료기관</th>\n",
       "      <th>도서관</th>\n",
       "      <th>공원이름</th>\n",
       "    </tr>\n",
       "  </thead>\n",
       "  <tbody>\n",
       "    <tr>\n",
       "      <th>0</th>\n",
       "      <td>0</td>\n",
       "      <td>0.000000</td>\n",
       "      <td>0.000000</td>\n",
       "      <td>0.588901</td>\n",
       "      <td>0.000000</td>\n",
       "      <td>0.000000</td>\n",
       "      <td>0.0</td>\n",
       "      <td>송파나루</td>\n",
       "    </tr>\n",
       "    <tr>\n",
       "      <th>1</th>\n",
       "      <td>1</td>\n",
       "      <td>0.000000</td>\n",
       "      <td>0.428571</td>\n",
       "      <td>1.000000</td>\n",
       "      <td>0.235294</td>\n",
       "      <td>0.238095</td>\n",
       "      <td>0.5</td>\n",
       "      <td>잠 실</td>\n",
       "    </tr>\n",
       "    <tr>\n",
       "      <th>2</th>\n",
       "      <td>2</td>\n",
       "      <td>0.000000</td>\n",
       "      <td>0.464286</td>\n",
       "      <td>0.017245</td>\n",
       "      <td>0.117647</td>\n",
       "      <td>0.357143</td>\n",
       "      <td>0.0</td>\n",
       "      <td>삼 전1</td>\n",
       "    </tr>\n",
       "    <tr>\n",
       "      <th>3</th>\n",
       "      <td>3</td>\n",
       "      <td>0.666667</td>\n",
       "      <td>0.392857</td>\n",
       "      <td>0.588901</td>\n",
       "      <td>0.117647</td>\n",
       "      <td>0.345238</td>\n",
       "      <td>0.0</td>\n",
       "      <td>송 파</td>\n",
       "    </tr>\n",
       "    <tr>\n",
       "      <th>4</th>\n",
       "      <td>4</td>\n",
       "      <td>0.333333</td>\n",
       "      <td>0.500000</td>\n",
       "      <td>0.521730</td>\n",
       "      <td>0.117647</td>\n",
       "      <td>0.297619</td>\n",
       "      <td>0.0</td>\n",
       "      <td>방 이</td>\n",
       "    </tr>\n",
       "  </tbody>\n",
       "</table>\n",
       "</div>"
      ],
      "text/plain": [
       "   Unnamed: 0     지하철역수    버스정류장수    유동인구비율      복지시설      의료기관  도서관  공원이름\n",
       "0           0  0.000000  0.000000  0.588901  0.000000  0.000000  0.0  송파나루\n",
       "1           1  0.000000  0.428571  1.000000  0.235294  0.238095  0.5   잠 실\n",
       "2           2  0.000000  0.464286  0.017245  0.117647  0.357143  0.0  삼 전1\n",
       "3           3  0.666667  0.392857  0.588901  0.117647  0.345238  0.0   송 파\n",
       "4           4  0.333333  0.500000  0.521730  0.117647  0.297619  0.0   방 이"
      ]
     },
     "execution_count": 118,
     "metadata": {},
     "output_type": "execute_result"
    }
   ],
   "source": [
    "df_gs.head()"
   ]
  },
  {
   "cell_type": "code",
   "execution_count": 119,
   "id": "bfc0296b",
   "metadata": {},
   "outputs": [],
   "source": [
    "df_gs.drop(['Unnamed: 0'], axis=1, inplace=True)"
   ]
  },
  {
   "cell_type": "code",
   "execution_count": 120,
   "id": "8275dd80",
   "metadata": {},
   "outputs": [
    {
     "data": {
      "text/html": [
       "<div>\n",
       "<style scoped>\n",
       "    .dataframe tbody tr th:only-of-type {\n",
       "        vertical-align: middle;\n",
       "    }\n",
       "\n",
       "    .dataframe tbody tr th {\n",
       "        vertical-align: top;\n",
       "    }\n",
       "\n",
       "    .dataframe thead th {\n",
       "        text-align: right;\n",
       "    }\n",
       "</style>\n",
       "<table border=\"1\" class=\"dataframe\">\n",
       "  <thead>\n",
       "    <tr style=\"text-align: right;\">\n",
       "      <th></th>\n",
       "      <th>지하철역수</th>\n",
       "      <th>버스정류장수</th>\n",
       "      <th>유동인구비율</th>\n",
       "      <th>복지시설</th>\n",
       "      <th>의료기관</th>\n",
       "      <th>도서관</th>\n",
       "      <th>공원이름</th>\n",
       "    </tr>\n",
       "  </thead>\n",
       "  <tbody>\n",
       "    <tr>\n",
       "      <th>0</th>\n",
       "      <td>0.000000</td>\n",
       "      <td>0.000000</td>\n",
       "      <td>0.588901</td>\n",
       "      <td>0.000000</td>\n",
       "      <td>0.000000</td>\n",
       "      <td>0.0</td>\n",
       "      <td>송파나루</td>\n",
       "    </tr>\n",
       "    <tr>\n",
       "      <th>1</th>\n",
       "      <td>0.000000</td>\n",
       "      <td>0.428571</td>\n",
       "      <td>1.000000</td>\n",
       "      <td>0.235294</td>\n",
       "      <td>0.238095</td>\n",
       "      <td>0.5</td>\n",
       "      <td>잠 실</td>\n",
       "    </tr>\n",
       "    <tr>\n",
       "      <th>2</th>\n",
       "      <td>0.000000</td>\n",
       "      <td>0.464286</td>\n",
       "      <td>0.017245</td>\n",
       "      <td>0.117647</td>\n",
       "      <td>0.357143</td>\n",
       "      <td>0.0</td>\n",
       "      <td>삼 전1</td>\n",
       "    </tr>\n",
       "    <tr>\n",
       "      <th>3</th>\n",
       "      <td>0.666667</td>\n",
       "      <td>0.392857</td>\n",
       "      <td>0.588901</td>\n",
       "      <td>0.117647</td>\n",
       "      <td>0.345238</td>\n",
       "      <td>0.0</td>\n",
       "      <td>송 파</td>\n",
       "    </tr>\n",
       "    <tr>\n",
       "      <th>4</th>\n",
       "      <td>0.333333</td>\n",
       "      <td>0.500000</td>\n",
       "      <td>0.521730</td>\n",
       "      <td>0.117647</td>\n",
       "      <td>0.297619</td>\n",
       "      <td>0.0</td>\n",
       "      <td>방 이</td>\n",
       "    </tr>\n",
       "  </tbody>\n",
       "</table>\n",
       "</div>"
      ],
      "text/plain": [
       "      지하철역수    버스정류장수    유동인구비율      복지시설      의료기관  도서관  공원이름\n",
       "0  0.000000  0.000000  0.588901  0.000000  0.000000  0.0  송파나루\n",
       "1  0.000000  0.428571  1.000000  0.235294  0.238095  0.5   잠 실\n",
       "2  0.000000  0.464286  0.017245  0.117647  0.357143  0.0  삼 전1\n",
       "3  0.666667  0.392857  0.588901  0.117647  0.345238  0.0   송 파\n",
       "4  0.333333  0.500000  0.521730  0.117647  0.297619  0.0   방 이"
      ]
     },
     "execution_count": 120,
     "metadata": {},
     "output_type": "execute_result"
    }
   ],
   "source": [
    "df_gs.head()"
   ]
  },
  {
   "cell_type": "code",
   "execution_count": 121,
   "id": "5474375f",
   "metadata": {},
   "outputs": [],
   "source": [
    "from sklearn.decomposition import PCA"
   ]
  },
  {
   "cell_type": "code",
   "execution_count": 122,
   "id": "65e9d64a",
   "metadata": {},
   "outputs": [
    {
     "data": {
      "text/html": [
       "<div>\n",
       "<style scoped>\n",
       "    .dataframe tbody tr th:only-of-type {\n",
       "        vertical-align: middle;\n",
       "    }\n",
       "\n",
       "    .dataframe tbody tr th {\n",
       "        vertical-align: top;\n",
       "    }\n",
       "\n",
       "    .dataframe thead th {\n",
       "        text-align: right;\n",
       "    }\n",
       "</style>\n",
       "<table border=\"1\" class=\"dataframe\">\n",
       "  <thead>\n",
       "    <tr style=\"text-align: right;\">\n",
       "      <th></th>\n",
       "      <th>지하철역수</th>\n",
       "      <th>버스정류장수</th>\n",
       "      <th>유동인구비율</th>\n",
       "      <th>복지시설</th>\n",
       "      <th>의료기관</th>\n",
       "      <th>도서관</th>\n",
       "    </tr>\n",
       "  </thead>\n",
       "  <tbody>\n",
       "    <tr>\n",
       "      <th>0</th>\n",
       "      <td>-0.998541</td>\n",
       "      <td>-2.710471</td>\n",
       "      <td>0.770598</td>\n",
       "      <td>-1.593912</td>\n",
       "      <td>-1.593990</td>\n",
       "      <td>-0.645942</td>\n",
       "    </tr>\n",
       "    <tr>\n",
       "      <th>1</th>\n",
       "      <td>-0.998541</td>\n",
       "      <td>-0.313476</td>\n",
       "      <td>2.248912</td>\n",
       "      <td>-0.166684</td>\n",
       "      <td>0.036295</td>\n",
       "      <td>1.365287</td>\n",
       "    </tr>\n",
       "    <tr>\n",
       "      <th>2</th>\n",
       "      <td>-0.998541</td>\n",
       "      <td>-0.113726</td>\n",
       "      <td>-1.285084</td>\n",
       "      <td>-0.880298</td>\n",
       "      <td>0.851437</td>\n",
       "      <td>-0.645942</td>\n",
       "    </tr>\n",
       "    <tr>\n",
       "      <th>3</th>\n",
       "      <td>1.401461</td>\n",
       "      <td>-0.513225</td>\n",
       "      <td>0.770598</td>\n",
       "      <td>-0.880298</td>\n",
       "      <td>0.769923</td>\n",
       "      <td>-0.645942</td>\n",
       "    </tr>\n",
       "    <tr>\n",
       "      <th>4</th>\n",
       "      <td>0.201460</td>\n",
       "      <td>0.086024</td>\n",
       "      <td>0.529047</td>\n",
       "      <td>-0.880298</td>\n",
       "      <td>0.443866</td>\n",
       "      <td>-0.645942</td>\n",
       "    </tr>\n",
       "  </tbody>\n",
       "</table>\n",
       "</div>"
      ],
      "text/plain": [
       "      지하철역수    버스정류장수    유동인구비율      복지시설      의료기관       도서관\n",
       "0 -0.998541 -2.710471  0.770598 -1.593912 -1.593990 -0.645942\n",
       "1 -0.998541 -0.313476  2.248912 -0.166684  0.036295  1.365287\n",
       "2 -0.998541 -0.113726 -1.285084 -0.880298  0.851437 -0.645942\n",
       "3  1.401461 -0.513225  0.770598 -0.880298  0.769923 -0.645942\n",
       "4  0.201460  0.086024  0.529047 -0.880298  0.443866 -0.645942"
      ]
     },
     "execution_count": 122,
     "metadata": {},
     "output_type": "execute_result"
    }
   ],
   "source": [
    "from sklearn.preprocessing import StandardScaler  # 표준화 패키지 라이브러리 \n",
    "x = df_gs.drop(['공원이름'], axis=1).values# 독립변인들의 value값만 추출\n",
    "y = df_gs['공원이름'].values # 종속변인 추출\n",
    "x = StandardScaler().fit_transform(x)\n",
    "features=['지하철역수','버스정류장수','유동인구비율','복지시설','의료기관','도서관']\n",
    "pd.DataFrame(x, columns=features).head()"
   ]
  },
  {
   "cell_type": "code",
   "execution_count": 123,
   "id": "bdc297ab",
   "metadata": {},
   "outputs": [],
   "source": [
    "pca = PCA(n_components=2) # 주성분을 몇개로 할지 결정\n",
    "printcipalComponents = pca.fit_transform(x)\n",
    "principalDf = pd.DataFrame(data=printcipalComponents, columns = ['principal component1', 'principal component2'])\n",
    "# 주성분으로 이루어진 데이터 프레임 구성"
   ]
  },
  {
   "cell_type": "code",
   "execution_count": 124,
   "id": "31f9a2be",
   "metadata": {},
   "outputs": [
    {
     "data": {
      "text/html": [
       "<div>\n",
       "<style scoped>\n",
       "    .dataframe tbody tr th:only-of-type {\n",
       "        vertical-align: middle;\n",
       "    }\n",
       "\n",
       "    .dataframe tbody tr th {\n",
       "        vertical-align: top;\n",
       "    }\n",
       "\n",
       "    .dataframe thead th {\n",
       "        text-align: right;\n",
       "    }\n",
       "</style>\n",
       "<table border=\"1\" class=\"dataframe\">\n",
       "  <thead>\n",
       "    <tr style=\"text-align: right;\">\n",
       "      <th></th>\n",
       "      <th>principal component1</th>\n",
       "      <th>principal component2</th>\n",
       "    </tr>\n",
       "  </thead>\n",
       "  <tbody>\n",
       "    <tr>\n",
       "      <th>0</th>\n",
       "      <td>-2.269807</td>\n",
       "      <td>-2.831028</td>\n",
       "    </tr>\n",
       "    <tr>\n",
       "      <th>1</th>\n",
       "      <td>-0.334891</td>\n",
       "      <td>0.061898</td>\n",
       "    </tr>\n",
       "    <tr>\n",
       "      <th>2</th>\n",
       "      <td>-0.179939</td>\n",
       "      <td>-0.554573</td>\n",
       "    </tr>\n",
       "    <tr>\n",
       "      <th>3</th>\n",
       "      <td>-1.830461</td>\n",
       "      <td>1.020858</td>\n",
       "    </tr>\n",
       "    <tr>\n",
       "      <th>4</th>\n",
       "      <td>-1.071722</td>\n",
       "      <td>0.319729</td>\n",
       "    </tr>\n",
       "  </tbody>\n",
       "</table>\n",
       "</div>"
      ],
      "text/plain": [
       "   principal component1  principal component2\n",
       "0             -2.269807             -2.831028\n",
       "1             -0.334891              0.061898\n",
       "2             -0.179939             -0.554573\n",
       "3             -1.830461              1.020858\n",
       "4             -1.071722              0.319729"
      ]
     },
     "execution_count": 124,
     "metadata": {},
     "output_type": "execute_result"
    }
   ],
   "source": [
    "principalDf.head()"
   ]
  },
  {
   "cell_type": "code",
   "execution_count": 125,
   "id": "d892f4e1",
   "metadata": {},
   "outputs": [
    {
     "data": {
      "text/plain": [
       "array([0.29922506, 0.25352573])"
      ]
     },
     "execution_count": 125,
     "metadata": {},
     "output_type": "execute_result"
    }
   ],
   "source": [
    "pca.explained_variance_ratio_"
   ]
  },
  {
   "cell_type": "code",
   "execution_count": 126,
   "id": "b28b1012",
   "metadata": {},
   "outputs": [
    {
     "data": {
      "text/plain": [
       "0.5527507823218012"
      ]
     },
     "execution_count": 126,
     "metadata": {},
     "output_type": "execute_result"
    }
   ],
   "source": [
    "sum(pca.explained_variance_ratio_)"
   ]
  },
  {
   "cell_type": "code",
   "execution_count": 127,
   "id": "bbf46784",
   "metadata": {},
   "outputs": [
    {
     "data": {
      "text/plain": [
       "<matplotlib.collections.PathCollection at 0x2cd32fde910>"
      ]
     },
     "execution_count": 127,
     "metadata": {},
     "output_type": "execute_result"
    },
    {
     "data": {
      "image/png": "[encoded data removed]",
      "text/plain": [
       "<Figure size 432x288 with 1 Axes>"
      ]
     },
     "metadata": {
      "needs_background": "light"
     },
     "output_type": "display_data"
    }
   ],
   "source": [
    "plt.scatter(principalDf[\"principal component1\"],principalDf[\"principal component2\"])"
   ]
  },
  {
   "cell_type": "code",
   "execution_count": 128,
   "id": "6ba13b5a",
   "metadata": {},
   "outputs": [],
   "source": [
    "from sklearn.datasets import load_iris\n",
    "from sklearn.cluster import KMeans\n",
    "\n",
    "import matplotlib.pyplot as plt\n",
    "import numpy as np\n",
    "import pandas as pd"
   ]
  },
  {
   "cell_type": "code",
   "execution_count": 129,
   "id": "a4f58149",
   "metadata": {},
   "outputs": [],
   "source": [
    "%matplotlib inline"
   ]
  },
  {
   "cell_type": "code",
   "execution_count": 131,
   "id": "56a9a30d",
   "metadata": {},
   "outputs": [],
   "source": [
    "from sklearn.mixture import GaussianMixture"
   ]
  },
  {
   "cell_type": "code",
   "execution_count": 132,
   "id": "5f8c7b55",
   "metadata": {},
   "outputs": [],
   "source": [
    "gmm = GaussianMixture(n_components=3, random_state=42)\n",
    "gmm_labels = gmm.fit_predict(x)"
   ]
  },
  {
   "cell_type": "code",
   "execution_count": 136,
   "id": "72ac3787",
   "metadata": {},
   "outputs": [],
   "source": [
    "principalDf['gmm_cluster'] = gmm_labels"
   ]
  },
  {
   "cell_type": "code",
   "execution_count": 137,
   "id": "8491e2a0",
   "metadata": {},
   "outputs": [
    {
     "data": {
      "text/html": [
       "<div>\n",
       "<style scoped>\n",
       "    .dataframe tbody tr th:only-of-type {\n",
       "        vertical-align: middle;\n",
       "    }\n",
       "\n",
       "    .dataframe tbody tr th {\n",
       "        vertical-align: top;\n",
       "    }\n",
       "\n",
       "    .dataframe thead th {\n",
       "        text-align: right;\n",
       "    }\n",
       "</style>\n",
       "<table border=\"1\" class=\"dataframe\">\n",
       "  <thead>\n",
       "    <tr style=\"text-align: right;\">\n",
       "      <th></th>\n",
       "      <th>principal component1</th>\n",
       "      <th>principal component2</th>\n",
       "      <th>gmm_cluster</th>\n",
       "    </tr>\n",
       "  </thead>\n",
       "  <tbody>\n",
       "    <tr>\n",
       "      <th>0</th>\n",
       "      <td>-2.269807</td>\n",
       "      <td>-2.831028</td>\n",
       "      <td>2</td>\n",
       "    </tr>\n",
       "    <tr>\n",
       "      <th>1</th>\n",
       "      <td>-0.334891</td>\n",
       "      <td>0.061898</td>\n",
       "      <td>1</td>\n",
       "    </tr>\n",
       "    <tr>\n",
       "      <th>2</th>\n",
       "      <td>-0.179939</td>\n",
       "      <td>-0.554573</td>\n",
       "      <td>2</td>\n",
       "    </tr>\n",
       "    <tr>\n",
       "      <th>3</th>\n",
       "      <td>-1.830461</td>\n",
       "      <td>1.020858</td>\n",
       "      <td>1</td>\n",
       "    </tr>\n",
       "    <tr>\n",
       "      <th>4</th>\n",
       "      <td>-1.071722</td>\n",
       "      <td>0.319729</td>\n",
       "      <td>1</td>\n",
       "    </tr>\n",
       "    <tr>\n",
       "      <th>...</th>\n",
       "      <td>...</td>\n",
       "      <td>...</td>\n",
       "      <td>...</td>\n",
       "    </tr>\n",
       "    <tr>\n",
       "      <th>132</th>\n",
       "      <td>1.219703</td>\n",
       "      <td>1.818238</td>\n",
       "      <td>2</td>\n",
       "    </tr>\n",
       "    <tr>\n",
       "      <th>133</th>\n",
       "      <td>0.385544</td>\n",
       "      <td>-0.928807</td>\n",
       "      <td>2</td>\n",
       "    </tr>\n",
       "    <tr>\n",
       "      <th>134</th>\n",
       "      <td>-0.025779</td>\n",
       "      <td>-0.599105</td>\n",
       "      <td>1</td>\n",
       "    </tr>\n",
       "    <tr>\n",
       "      <th>135</th>\n",
       "      <td>2.406357</td>\n",
       "      <td>-0.056300</td>\n",
       "      <td>0</td>\n",
       "    </tr>\n",
       "    <tr>\n",
       "      <th>136</th>\n",
       "      <td>-1.212767</td>\n",
       "      <td>-1.998071</td>\n",
       "      <td>2</td>\n",
       "    </tr>\n",
       "  </tbody>\n",
       "</table>\n",
       "<p>137 rows × 3 columns</p>\n",
       "</div>"
      ],
      "text/plain": [
       "     principal component1  principal component2  gmm_cluster\n",
       "0               -2.269807             -2.831028            2\n",
       "1               -0.334891              0.061898            1\n",
       "2               -0.179939             -0.554573            2\n",
       "3               -1.830461              1.020858            1\n",
       "4               -1.071722              0.319729            1\n",
       "..                    ...                   ...          ...\n",
       "132              1.219703              1.818238            2\n",
       "133              0.385544             -0.928807            2\n",
       "134             -0.025779             -0.599105            1\n",
       "135              2.406357             -0.056300            0\n",
       "136             -1.212767             -1.998071            2\n",
       "\n",
       "[137 rows x 3 columns]"
      ]
     },
     "execution_count": 137,
     "metadata": {},
     "output_type": "execute_result"
    }
   ],
   "source": [
    "principalDf"
   ]
  },
  {
   "cell_type": "code",
   "execution_count": 138,
   "id": "da86c220",
   "metadata": {},
   "outputs": [
    {
     "data": {
      "text/plain": [
       "<matplotlib.collections.PathCollection at 0x2cd340772b0>"
      ]
     },
     "execution_count": 138,
     "metadata": {},
     "output_type": "execute_result"
    },
    {
     "data": {
      "image/png": "[encoded data removed]",
      "text/plain": [
       "<Figure size 432x288 with 1 Axes>"
      ]
     },
     "metadata": {
      "needs_background": "light"
     },
     "output_type": "display_data"
    }
   ],
   "source": [
    "plt.scatter(principalDf[\"principal component1\"],principalDf[\"principal component2\"],c=gmm_labels)"
   ]
  },
  {
   "cell_type": "code",
   "execution_count": 139,
   "id": "1f808586",
   "metadata": {},
   "outputs": [],
   "source": [
    "principalDf.to_csv('C:/gong_test/gmm_sp.csv',encoding='euc-kr')"
   ]
  },
  {
   "cell_type": "code",
   "execution_count": null,
   "id": "fed8089c",
   "metadata": {},
   "outputs": [],
   "source": []
  },
  {
   "cell_type": "code",
   "execution_count": null,
   "id": "df8e6e2c",
   "metadata": {},
   "outputs": [],
   "source": []
  },
  {
   "cell_type": "code",
   "execution_count": null,
   "id": "739d87f7",
   "metadata": {},
   "outputs": [],
   "source": []
  },
  {
   "cell_type": "code",
   "execution_count": null,
   "id": "5090ad4a",
   "metadata": {},
   "outputs": [],
   "source": []
  },
  {
   "cell_type": "code",
   "execution_count": null,
   "id": "e2445c48",
   "metadata": {},
   "outputs": [],
   "source": []
  },
  {
   "cell_type": "code",
   "execution_count": null,
   "id": "c10a48b2",
   "metadata": {},
   "outputs": [],
   "source": []
  },
  {
   "cell_type": "code",
   "execution_count": null,
   "id": "77426663",
   "metadata": {},
   "outputs": [],
   "source": []
  },
  {
   "cell_type": "code",
   "execution_count": null,
   "id": "633f3b9f",
   "metadata": {},
   "outputs": [],
   "source": []
  }
 ],
 "metadata": {
  "kernelspec": {
   "display_name": "Python 3",
   "language": "python",
   "name": "python3"
  },
  "language_info": {
   "codemirror_mode": {
    "name": "ipython",
    "version": 3
   },
   "file_extension": ".py",
   "mimetype": "text/x-python",
   "name": "python",
   "nbconvert_exporter": "python",
   "pygments_lexer": "ipython3",
   "version": "3.8.8"
  }
 },
 "nbformat": 4,
 "nbformat_minor": 5
}
