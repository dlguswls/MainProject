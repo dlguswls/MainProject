{
 "cells": [
  {
   "cell_type": "code",
   "execution_count": 2,
   "id": "df924e28",
   "metadata": {},
   "outputs": [
    {
     "name": "stdout",
     "output_type": "stream",
     "text": [
      "Collecting missingno\n",
      "  Downloading missingno-0.5.0-py3-none-any.whl (8.8 kB)\n",
      "Requirement already satisfied: seaborn in c:\\users\\user\\anaconda3\\lib\\site-packages (from missingno) (0.11.1)\n",
      "Requirement already satisfied: numpy in c:\\users\\user\\anaconda3\\lib\\site-packages (from missingno) (1.20.1)\n",
      "Requirement already satisfied: scipy in c:\\users\\user\\anaconda3\\lib\\site-packages (from missingno) (1.6.2)\n",
      "Requirement already satisfied: matplotlib in c:\\users\\user\\anaconda3\\lib\\site-packages (from missingno) (3.3.4)\n",
      "Requirement already satisfied: pillow>=6.2.0 in c:\\users\\user\\anaconda3\\lib\\site-packages (from matplotlib->missingno) (8.2.0)\n",
      "Requirement already satisfied: python-dateutil>=2.1 in c:\\users\\user\\anaconda3\\lib\\site-packages (from matplotlib->missingno) (2.8.1)\n",
      "Requirement already satisfied: kiwisolver>=1.0.1 in c:\\users\\user\\anaconda3\\lib\\site-packages (from matplotlib->missingno) (1.3.1)\n",
      "Requirement already satisfied: cycler>=0.10 in c:\\users\\user\\anaconda3\\lib\\site-packages (from matplotlib->missingno) (0.10.0)\n",
      "Requirement already satisfied: pyparsing!=2.0.4,!=2.1.2,!=2.1.6,>=2.0.3 in c:\\users\\user\\anaconda3\\lib\\site-packages (from matplotlib->missingno) (2.4.7)\n",
      "Requirement already satisfied: six in c:\\users\\user\\anaconda3\\lib\\site-packages (from cycler>=0.10->matplotlib->missingno) (1.15.0)\n",
      "Requirement already satisfied: pandas>=0.23 in c:\\users\\user\\anaconda3\\lib\\site-packages (from seaborn->missingno) (1.2.4)\n",
      "Requirement already satisfied: pytz>=2017.3 in c:\\users\\user\\anaconda3\\lib\\site-packages (from pandas>=0.23->seaborn->missingno) (2021.1)\n",
      "Installing collected packages: missingno\n",
      "Successfully installed missingno-0.5.0\n"
     ]
    }
   ],
   "source": [
    "!pip install missingno"
   ]
  },
  {
   "cell_type": "code",
   "execution_count": 52,
   "id": "a0a13621",
   "metadata": {},
   "outputs": [],
   "source": [
    "import pandas as pd\n",
    "import matplotlib.pyplot as plt"
   ]
  },
  {
   "cell_type": "code",
   "execution_count": 63,
   "id": "436cc172",
   "metadata": {},
   "outputs": [],
   "source": [
    "df_gs = pd.read_csv('C:/gong_test/강서구.csv', encoding='euc-kr')"
   ]
  },
  {
   "cell_type": "code",
   "execution_count": 64,
   "id": "ec560493",
   "metadata": {},
   "outputs": [
    {
     "data": {
      "text/html": [
       "<div>\n",
       "<style scoped>\n",
       "    .dataframe tbody tr th:only-of-type {\n",
       "        vertical-align: middle;\n",
       "    }\n",
       "\n",
       "    .dataframe tbody tr th {\n",
       "        vertical-align: top;\n",
       "    }\n",
       "\n",
       "    .dataframe thead th {\n",
       "        text-align: right;\n",
       "    }\n",
       "</style>\n",
       "<table border=\"1\" class=\"dataframe\">\n",
       "  <thead>\n",
       "    <tr style=\"text-align: right;\">\n",
       "      <th></th>\n",
       "      <th>Unnamed: 0</th>\n",
       "      <th>지하철역수</th>\n",
       "      <th>버스정류장수</th>\n",
       "      <th>유동인구비율</th>\n",
       "      <th>복지시설</th>\n",
       "      <th>의료기관</th>\n",
       "      <th>도서관</th>\n",
       "      <th>입지지수</th>\n",
       "      <th>공원이름</th>\n",
       "    </tr>\n",
       "  </thead>\n",
       "  <tbody>\n",
       "    <tr>\n",
       "      <th>0</th>\n",
       "      <td>0</td>\n",
       "      <td>0.5</td>\n",
       "      <td>0.20</td>\n",
       "      <td>0.186977</td>\n",
       "      <td>0.25</td>\n",
       "      <td>0.202020</td>\n",
       "      <td>0.5</td>\n",
       "      <td>0.284688</td>\n",
       "      <td>이 수</td>\n",
       "    </tr>\n",
       "    <tr>\n",
       "      <th>1</th>\n",
       "      <td>1</td>\n",
       "      <td>0.0</td>\n",
       "      <td>0.28</td>\n",
       "      <td>0.186977</td>\n",
       "      <td>0.00</td>\n",
       "      <td>0.323232</td>\n",
       "      <td>1.0</td>\n",
       "      <td>0.136673</td>\n",
       "      <td>백 합1</td>\n",
       "    </tr>\n",
       "    <tr>\n",
       "      <th>2</th>\n",
       "      <td>2</td>\n",
       "      <td>0.0</td>\n",
       "      <td>0.34</td>\n",
       "      <td>0.186977</td>\n",
       "      <td>0.00</td>\n",
       "      <td>0.333333</td>\n",
       "      <td>0.5</td>\n",
       "      <td>0.134380</td>\n",
       "      <td>아리수</td>\n",
       "    </tr>\n",
       "    <tr>\n",
       "      <th>3</th>\n",
       "      <td>3</td>\n",
       "      <td>0.5</td>\n",
       "      <td>0.46</td>\n",
       "      <td>0.425843</td>\n",
       "      <td>0.50</td>\n",
       "      <td>0.454545</td>\n",
       "      <td>0.5</td>\n",
       "      <td>0.477695</td>\n",
       "      <td>등 서</td>\n",
       "    </tr>\n",
       "    <tr>\n",
       "      <th>4</th>\n",
       "      <td>4</td>\n",
       "      <td>0.0</td>\n",
       "      <td>0.22</td>\n",
       "      <td>0.425843</td>\n",
       "      <td>0.00</td>\n",
       "      <td>0.121212</td>\n",
       "      <td>0.5</td>\n",
       "      <td>0.131361</td>\n",
       "      <td>백 석</td>\n",
       "    </tr>\n",
       "  </tbody>\n",
       "</table>\n",
       "</div>"
      ],
      "text/plain": [
       "   Unnamed: 0  지하철역수  버스정류장수    유동인구비율  복지시설      의료기관  도서관      입지지수  공원이름\n",
       "0           0    0.5    0.20  0.186977  0.25  0.202020  0.5  0.284688   이 수\n",
       "1           1    0.0    0.28  0.186977  0.00  0.323232  1.0  0.136673  백 합1\n",
       "2           2    0.0    0.34  0.186977  0.00  0.333333  0.5  0.134380   아리수\n",
       "3           3    0.5    0.46  0.425843  0.50  0.454545  0.5  0.477695   등 서\n",
       "4           4    0.0    0.22  0.425843  0.00  0.121212  0.5  0.131361   백 석"
      ]
     },
     "execution_count": 64,
     "metadata": {},
     "output_type": "execute_result"
    }
   ],
   "source": [
    "df_gs.head()"
   ]
  },
  {
   "cell_type": "code",
   "execution_count": 65,
   "id": "9ef9e51c",
   "metadata": {},
   "outputs": [],
   "source": [
    "df_gs.drop(['Unnamed: 0'], axis=1, inplace=True)"
   ]
  },
  {
   "cell_type": "code",
   "execution_count": 66,
   "id": "e4664ff9",
   "metadata": {},
   "outputs": [
    {
     "data": {
      "text/html": [
       "<div>\n",
       "<style scoped>\n",
       "    .dataframe tbody tr th:only-of-type {\n",
       "        vertical-align: middle;\n",
       "    }\n",
       "\n",
       "    .dataframe tbody tr th {\n",
       "        vertical-align: top;\n",
       "    }\n",
       "\n",
       "    .dataframe thead th {\n",
       "        text-align: right;\n",
       "    }\n",
       "</style>\n",
       "<table border=\"1\" class=\"dataframe\">\n",
       "  <thead>\n",
       "    <tr style=\"text-align: right;\">\n",
       "      <th></th>\n",
       "      <th>지하철역수</th>\n",
       "      <th>버스정류장수</th>\n",
       "      <th>유동인구비율</th>\n",
       "      <th>복지시설</th>\n",
       "      <th>의료기관</th>\n",
       "      <th>도서관</th>\n",
       "      <th>입지지수</th>\n",
       "      <th>공원이름</th>\n",
       "    </tr>\n",
       "  </thead>\n",
       "  <tbody>\n",
       "    <tr>\n",
       "      <th>0</th>\n",
       "      <td>0.5</td>\n",
       "      <td>0.20</td>\n",
       "      <td>0.186977</td>\n",
       "      <td>0.25</td>\n",
       "      <td>0.202020</td>\n",
       "      <td>0.5</td>\n",
       "      <td>0.284688</td>\n",
       "      <td>이 수</td>\n",
       "    </tr>\n",
       "    <tr>\n",
       "      <th>1</th>\n",
       "      <td>0.0</td>\n",
       "      <td>0.28</td>\n",
       "      <td>0.186977</td>\n",
       "      <td>0.00</td>\n",
       "      <td>0.323232</td>\n",
       "      <td>1.0</td>\n",
       "      <td>0.136673</td>\n",
       "      <td>백 합1</td>\n",
       "    </tr>\n",
       "    <tr>\n",
       "      <th>2</th>\n",
       "      <td>0.0</td>\n",
       "      <td>0.34</td>\n",
       "      <td>0.186977</td>\n",
       "      <td>0.00</td>\n",
       "      <td>0.333333</td>\n",
       "      <td>0.5</td>\n",
       "      <td>0.134380</td>\n",
       "      <td>아리수</td>\n",
       "    </tr>\n",
       "    <tr>\n",
       "      <th>3</th>\n",
       "      <td>0.5</td>\n",
       "      <td>0.46</td>\n",
       "      <td>0.425843</td>\n",
       "      <td>0.50</td>\n",
       "      <td>0.454545</td>\n",
       "      <td>0.5</td>\n",
       "      <td>0.477695</td>\n",
       "      <td>등 서</td>\n",
       "    </tr>\n",
       "    <tr>\n",
       "      <th>4</th>\n",
       "      <td>0.0</td>\n",
       "      <td>0.22</td>\n",
       "      <td>0.425843</td>\n",
       "      <td>0.00</td>\n",
       "      <td>0.121212</td>\n",
       "      <td>0.5</td>\n",
       "      <td>0.131361</td>\n",
       "      <td>백 석</td>\n",
       "    </tr>\n",
       "  </tbody>\n",
       "</table>\n",
       "</div>"
      ],
      "text/plain": [
       "   지하철역수  버스정류장수    유동인구비율  복지시설      의료기관  도서관      입지지수  공원이름\n",
       "0    0.5    0.20  0.186977  0.25  0.202020  0.5  0.284688   이 수\n",
       "1    0.0    0.28  0.186977  0.00  0.323232  1.0  0.136673  백 합1\n",
       "2    0.0    0.34  0.186977  0.00  0.333333  0.5  0.134380   아리수\n",
       "3    0.5    0.46  0.425843  0.50  0.454545  0.5  0.477695   등 서\n",
       "4    0.0    0.22  0.425843  0.00  0.121212  0.5  0.131361   백 석"
      ]
     },
     "execution_count": 66,
     "metadata": {},
     "output_type": "execute_result"
    }
   ],
   "source": [
    "df_gs.head()"
   ]
  },
  {
   "cell_type": "code",
   "execution_count": 67,
   "id": "a98c715c",
   "metadata": {},
   "outputs": [],
   "source": [
    "from sklearn.decomposition import PCA"
   ]
  },
  {
   "cell_type": "code",
   "execution_count": 68,
   "id": "64b92b41",
   "metadata": {},
   "outputs": [
    {
     "data": {
      "text/html": [
       "<div>\n",
       "<style scoped>\n",
       "    .dataframe tbody tr th:only-of-type {\n",
       "        vertical-align: middle;\n",
       "    }\n",
       "\n",
       "    .dataframe tbody tr th {\n",
       "        vertical-align: top;\n",
       "    }\n",
       "\n",
       "    .dataframe thead th {\n",
       "        text-align: right;\n",
       "    }\n",
       "</style>\n",
       "<table border=\"1\" class=\"dataframe\">\n",
       "  <thead>\n",
       "    <tr style=\"text-align: right;\">\n",
       "      <th></th>\n",
       "      <th>지하철역수</th>\n",
       "      <th>버스정류장수</th>\n",
       "      <th>유동인구비율</th>\n",
       "      <th>복지시설</th>\n",
       "      <th>의료기관</th>\n",
       "      <th>도서관</th>\n",
       "      <th>입지지수</th>\n",
       "    </tr>\n",
       "  </thead>\n",
       "  <tbody>\n",
       "    <tr>\n",
       "      <th>0</th>\n",
       "      <td>0.857749</td>\n",
       "      <td>-0.908543</td>\n",
       "      <td>-1.231381</td>\n",
       "      <td>0.438931</td>\n",
       "      <td>-0.373476</td>\n",
       "      <td>-0.136590</td>\n",
       "      <td>-0.103036</td>\n",
       "    </tr>\n",
       "    <tr>\n",
       "      <th>1</th>\n",
       "      <td>-0.722315</td>\n",
       "      <td>-0.473932</td>\n",
       "      <td>-1.231381</td>\n",
       "      <td>-0.658397</td>\n",
       "      <td>0.147653</td>\n",
       "      <td>1.297601</td>\n",
       "      <td>-0.984310</td>\n",
       "    </tr>\n",
       "    <tr>\n",
       "      <th>2</th>\n",
       "      <td>-0.722315</td>\n",
       "      <td>-0.147974</td>\n",
       "      <td>-1.231381</td>\n",
       "      <td>-0.658397</td>\n",
       "      <td>0.191081</td>\n",
       "      <td>-0.136590</td>\n",
       "      <td>-0.997962</td>\n",
       "    </tr>\n",
       "    <tr>\n",
       "      <th>3</th>\n",
       "      <td>0.857749</td>\n",
       "      <td>0.503941</td>\n",
       "      <td>-0.559167</td>\n",
       "      <td>1.536259</td>\n",
       "      <td>0.712209</td>\n",
       "      <td>-0.136590</td>\n",
       "      <td>1.046115</td>\n",
       "    </tr>\n",
       "    <tr>\n",
       "      <th>4</th>\n",
       "      <td>-0.722315</td>\n",
       "      <td>-0.799890</td>\n",
       "      <td>-0.559167</td>\n",
       "      <td>-0.658397</td>\n",
       "      <td>-0.720895</td>\n",
       "      <td>-0.136590</td>\n",
       "      <td>-1.015935</td>\n",
       "    </tr>\n",
       "  </tbody>\n",
       "</table>\n",
       "</div>"
      ],
      "text/plain": [
       "      지하철역수    버스정류장수    유동인구비율      복지시설      의료기관       도서관      입지지수\n",
       "0  0.857749 -0.908543 -1.231381  0.438931 -0.373476 -0.136590 -0.103036\n",
       "1 -0.722315 -0.473932 -1.231381 -0.658397  0.147653  1.297601 -0.984310\n",
       "2 -0.722315 -0.147974 -1.231381 -0.658397  0.191081 -0.136590 -0.997962\n",
       "3  0.857749  0.503941 -0.559167  1.536259  0.712209 -0.136590  1.046115\n",
       "4 -0.722315 -0.799890 -0.559167 -0.658397 -0.720895 -0.136590 -1.015935"
      ]
     },
     "execution_count": 68,
     "metadata": {},
     "output_type": "execute_result"
    }
   ],
   "source": [
    "from sklearn.preprocessing import StandardScaler  # 표준화 패키지 라이브러리 \n",
    "x = df_gs.drop(['공원이름'], axis=1).values # 독립변인들의 value값만 추출\n",
    "y = df_gs['공원이름'].values # 종속변인 추출\n",
    "x = StandardScaler().fit_transform(x)\n",
    "features=['지하철역수','버스정류장수','유동인구비율','복지시설','의료기관','도서관','입지지수']\n",
    "pd.DataFrame(x, columns=features).head()"
   ]
  },
  {
   "cell_type": "code",
   "execution_count": 74,
   "id": "33de919c",
   "metadata": {},
   "outputs": [],
   "source": [
    "pca = PCA(n_components=2) # 주성분을 몇개로 할지 결정\n",
    "printcipalComponents = pca.fit_transform(x)\n",
    "principalDf = pd.DataFrame(data=printcipalComponents, columns = ['principal component1', 'principal component2'])\n",
    "# 주성분으로 이루어진 데이터 프레임 구성"
   ]
  },
  {
   "cell_type": "code",
   "execution_count": 70,
   "id": "5b38463a",
   "metadata": {},
   "outputs": [
    {
     "data": {
      "text/html": [
       "<div>\n",
       "<style scoped>\n",
       "    .dataframe tbody tr th:only-of-type {\n",
       "        vertical-align: middle;\n",
       "    }\n",
       "\n",
       "    .dataframe tbody tr th {\n",
       "        vertical-align: top;\n",
       "    }\n",
       "\n",
       "    .dataframe thead th {\n",
       "        text-align: right;\n",
       "    }\n",
       "</style>\n",
       "<table border=\"1\" class=\"dataframe\">\n",
       "  <thead>\n",
       "    <tr style=\"text-align: right;\">\n",
       "      <th></th>\n",
       "      <th>principal component1</th>\n",
       "      <th>principal component2</th>\n",
       "    </tr>\n",
       "  </thead>\n",
       "  <tbody>\n",
       "    <tr>\n",
       "      <th>0</th>\n",
       "      <td>-0.362911</td>\n",
       "      <td>-1.430749</td>\n",
       "    </tr>\n",
       "    <tr>\n",
       "      <th>1</th>\n",
       "      <td>-1.149867</td>\n",
       "      <td>0.092947</td>\n",
       "    </tr>\n",
       "    <tr>\n",
       "      <th>2</th>\n",
       "      <td>-1.520588</td>\n",
       "      <td>-0.066625</td>\n",
       "    </tr>\n",
       "    <tr>\n",
       "      <th>3</th>\n",
       "      <td>1.566216</td>\n",
       "      <td>-0.393625</td>\n",
       "    </tr>\n",
       "    <tr>\n",
       "      <th>4</th>\n",
       "      <td>-1.709936</td>\n",
       "      <td>-0.262469</td>\n",
       "    </tr>\n",
       "  </tbody>\n",
       "</table>\n",
       "</div>"
      ],
      "text/plain": [
       "   principal component1  principal component2\n",
       "0             -0.362911             -1.430749\n",
       "1             -1.149867              0.092947\n",
       "2             -1.520588             -0.066625\n",
       "3              1.566216             -0.393625\n",
       "4             -1.709936             -0.262469"
      ]
     },
     "execution_count": 70,
     "metadata": {},
     "output_type": "execute_result"
    }
   ],
   "source": [
    "principalDf.head()"
   ]
  },
  {
   "cell_type": "code",
   "execution_count": 71,
   "id": "af19b071",
   "metadata": {},
   "outputs": [
    {
     "data": {
      "text/plain": [
       "array([0.48211924, 0.17407086])"
      ]
     },
     "execution_count": 71,
     "metadata": {},
     "output_type": "execute_result"
    }
   ],
   "source": [
    "pca.explained_variance_ratio_"
   ]
  },
  {
   "cell_type": "code",
   "execution_count": 72,
   "id": "59f0bad6",
   "metadata": {},
   "outputs": [
    {
     "data": {
      "text/plain": [
       "0.6561900989482701"
      ]
     },
     "execution_count": 72,
     "metadata": {},
     "output_type": "execute_result"
    }
   ],
   "source": [
    "sum(pca.explained_variance_ratio_)"
   ]
  },
  {
   "cell_type": "code",
   "execution_count": 75,
   "id": "c45ed328",
   "metadata": {},
   "outputs": [
    {
     "data": {
      "text/plain": [
       "<matplotlib.collections.PathCollection at 0x2cd320b5490>"
      ]
     },
     "execution_count": 75,
     "metadata": {},
     "output_type": "execute_result"
    },
    {
     "data": {
      "image/png": "[encoded data removed]",
      "text/plain": [
       "<Figure size 432x288 with 1 Axes>"
      ]
     },
     "metadata": {
      "needs_background": "light"
     },
     "output_type": "display_data"
    }
   ],
   "source": [
    "plt.scatter(principalDf[\"principal component1\"],principalDf[\"principal component2\"])"
   ]
  }
 ],
 "metadata": {
  "kernelspec": {
   "display_name": "Python 3",
   "language": "python",
   "name": "python3"
  },
  "language_info": {
   "codemirror_mode": {
    "name": "ipython",
    "version": 3
   },
   "file_extension": ".py",
   "mimetype": "text/x-python",
   "name": "python",
   "nbconvert_exporter": "python",
   "pygments_lexer": "ipython3",
   "version": "3.8.8"
  }
 },
 "nbformat": 4,
 "nbformat_minor": 5
}
