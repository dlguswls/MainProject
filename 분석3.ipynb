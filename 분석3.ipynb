{
 "cells": [
  {
   "cell_type": "markdown",
   "id": "improved-pacific",
   "metadata": {},
   "source": [
    "## 기본 라이브러리 임포트 💫\n",
    "---"
   ]
  },
  {
   "cell_type": "code",
   "execution_count": 284,
   "id": "b11b33dd",
   "metadata": {},
   "outputs": [],
   "source": [
    "import pandas as pd\n",
    "import numpy as np\n",
    "import seaborn as sns\n",
    "import matplotlib.pyplot as plt\n",
    "import warnings\n",
    "warnings.filterwarnings('ignore')\n",
    "\n",
    "%matplotlib inline\n",
    "from matplotlib import font_manager, rc\n",
    "\n",
    "font_path = 'C:/Windows/Fonts/Malgun.ttf'\n",
    "font = font_manager.FontProperties(fname = font_path).get_name()\n",
    "rc('font', family=font)"
   ]
  },
  {
   "cell_type": "markdown",
   "id": "trained-library",
   "metadata": {},
   "source": [
    "#### DATASET 넣기 💫\n",
    "---"
   ]
  },
  {
   "cell_type": "code",
   "execution_count": 345,
   "id": "c16ac2d9",
   "metadata": {},
   "outputs": [],
   "source": [
    "# # df = pd.read_csv('./Data/Data.csv',encoding='utf-8')\n",
    "# 직영= pd.read_csv('./Data/직영.csv',encoding='cp949', index_col = 0)\n",
    "# 위탁 = pd.read_csv('./Data/위탁.csv',encoding='cp949', index_col = 0)\n",
    "# df = pd.concat([직영, 위탁])"
   ]
  },
  {
   "cell_type": "code",
   "execution_count": null,
   "id": "a3c35e54",
   "metadata": {},
   "outputs": [],
   "source": []
  },
  {
   "cell_type": "code",
   "execution_count": 251,
   "id": "553b7205",
   "metadata": {},
   "outputs": [],
   "source": [
    "dataset = pd.read_csv('Data/#Final_Check.csv',encoding='cp949',index_col=0)"
   ]
  },
  {
   "cell_type": "code",
   "execution_count": 252,
   "id": "a154674e",
   "metadata": {},
   "outputs": [],
   "source": [
    "dataset.drop('접수일',axis=1,inplace=True)"
   ]
  },
  {
   "cell_type": "code",
   "execution_count": 253,
   "id": "a49c7fd6",
   "metadata": {},
   "outputs": [],
   "source": [
    "dataset = dataset.fillna(0)\n",
    "\n",
    "dataset.drop('위탁',axis=1,inplace=True)"
   ]
  },
  {
   "cell_type": "code",
   "execution_count": 254,
   "id": "09ec17f5",
   "metadata": {},
   "outputs": [],
   "source": [
    "dataset['직영'] = pd.Categorical(dataset['직영'])"
   ]
  },
  {
   "cell_type": "code",
   "execution_count": 256,
   "id": "fb3f964e",
   "metadata": {},
   "outputs": [],
   "source": [
    "dataset = dataset[dataset['직영']==1]"
   ]
  },
  {
   "cell_type": "code",
   "execution_count": 257,
   "id": "ba377a9a",
   "metadata": {},
   "outputs": [],
   "source": [
    "dataset = dataset[['품종','체중','색상','성별','중성화여부','당시의나이','상태']]"
   ]
  },
  {
   "cell_type": "code",
   "execution_count": 258,
   "id": "c25e1818",
   "metadata": {},
   "outputs": [
    {
     "data": {
      "text/html": [
       "<div>\n",
       "<style scoped>\n",
       "    .dataframe tbody tr th:only-of-type {\n",
       "        vertical-align: middle;\n",
       "    }\n",
       "\n",
       "    .dataframe tbody tr th {\n",
       "        vertical-align: top;\n",
       "    }\n",
       "\n",
       "    .dataframe thead th {\n",
       "        text-align: right;\n",
       "    }\n",
       "</style>\n",
       "<table border=\"1\" class=\"dataframe\">\n",
       "  <thead>\n",
       "    <tr style=\"text-align: right;\">\n",
       "      <th></th>\n",
       "      <th>품종</th>\n",
       "      <th>체중</th>\n",
       "      <th>색상</th>\n",
       "      <th>성별</th>\n",
       "      <th>중성화여부</th>\n",
       "      <th>당시의나이</th>\n",
       "      <th>상태</th>\n",
       "    </tr>\n",
       "  </thead>\n",
       "  <tbody>\n",
       "    <tr>\n",
       "      <th>0</th>\n",
       "      <td>7</td>\n",
       "      <td>3.10</td>\n",
       "      <td>1</td>\n",
       "      <td>0</td>\n",
       "      <td>0</td>\n",
       "      <td>3</td>\n",
       "      <td>1</td>\n",
       "    </tr>\n",
       "    <tr>\n",
       "      <th>1</th>\n",
       "      <td>3</td>\n",
       "      <td>7.95</td>\n",
       "      <td>2</td>\n",
       "      <td>0</td>\n",
       "      <td>0</td>\n",
       "      <td>3</td>\n",
       "      <td>1</td>\n",
       "    </tr>\n",
       "    <tr>\n",
       "      <th>2</th>\n",
       "      <td>4</td>\n",
       "      <td>2.75</td>\n",
       "      <td>4</td>\n",
       "      <td>1</td>\n",
       "      <td>0</td>\n",
       "      <td>2</td>\n",
       "      <td>1</td>\n",
       "    </tr>\n",
       "    <tr>\n",
       "      <th>3</th>\n",
       "      <td>4</td>\n",
       "      <td>4.00</td>\n",
       "      <td>3</td>\n",
       "      <td>0</td>\n",
       "      <td>1</td>\n",
       "      <td>1</td>\n",
       "      <td>1</td>\n",
       "    </tr>\n",
       "    <tr>\n",
       "      <th>4</th>\n",
       "      <td>7</td>\n",
       "      <td>3.00</td>\n",
       "      <td>3</td>\n",
       "      <td>1</td>\n",
       "      <td>1</td>\n",
       "      <td>5</td>\n",
       "      <td>1</td>\n",
       "    </tr>\n",
       "    <tr>\n",
       "      <th>...</th>\n",
       "      <td>...</td>\n",
       "      <td>...</td>\n",
       "      <td>...</td>\n",
       "      <td>...</td>\n",
       "      <td>...</td>\n",
       "      <td>...</td>\n",
       "      <td>...</td>\n",
       "    </tr>\n",
       "    <tr>\n",
       "      <th>54250</th>\n",
       "      <td>3</td>\n",
       "      <td>4.20</td>\n",
       "      <td>1</td>\n",
       "      <td>0</td>\n",
       "      <td>0</td>\n",
       "      <td>3</td>\n",
       "      <td>1</td>\n",
       "    </tr>\n",
       "    <tr>\n",
       "      <th>54251</th>\n",
       "      <td>9</td>\n",
       "      <td>2.00</td>\n",
       "      <td>3</td>\n",
       "      <td>1</td>\n",
       "      <td>1</td>\n",
       "      <td>1</td>\n",
       "      <td>1</td>\n",
       "    </tr>\n",
       "    <tr>\n",
       "      <th>54252</th>\n",
       "      <td>8</td>\n",
       "      <td>20.00</td>\n",
       "      <td>2</td>\n",
       "      <td>1</td>\n",
       "      <td>0</td>\n",
       "      <td>5</td>\n",
       "      <td>1</td>\n",
       "    </tr>\n",
       "    <tr>\n",
       "      <th>54253</th>\n",
       "      <td>8</td>\n",
       "      <td>28.50</td>\n",
       "      <td>2</td>\n",
       "      <td>0</td>\n",
       "      <td>0</td>\n",
       "      <td>4</td>\n",
       "      <td>1</td>\n",
       "    </tr>\n",
       "    <tr>\n",
       "      <th>54254</th>\n",
       "      <td>3</td>\n",
       "      <td>2.30</td>\n",
       "      <td>1</td>\n",
       "      <td>1</td>\n",
       "      <td>1</td>\n",
       "      <td>6</td>\n",
       "      <td>1</td>\n",
       "    </tr>\n",
       "  </tbody>\n",
       "</table>\n",
       "<p>54255 rows × 7 columns</p>\n",
       "</div>"
      ],
      "text/plain": [
       "       품종     체중  색상  성별  중성화여부  당시의나이  상태\n",
       "0       7   3.10   1   0      0      3   1\n",
       "1       3   7.95   2   0      0      3   1\n",
       "2       4   2.75   4   1      0      2   1\n",
       "3       4   4.00   3   0      1      1   1\n",
       "4       7   3.00   3   1      1      5   1\n",
       "...    ..    ...  ..  ..    ...    ...  ..\n",
       "54250   3   4.20   1   0      0      3   1\n",
       "54251   9   2.00   3   1      1      1   1\n",
       "54252   8  20.00   2   1      0      5   1\n",
       "54253   8  28.50   2   0      0      4   1\n",
       "54254   3   2.30   1   1      1      6   1\n",
       "\n",
       "[54255 rows x 7 columns]"
      ]
     },
     "execution_count": 258,
     "metadata": {},
     "output_type": "execute_result"
    }
   ],
   "source": [
    "dataset"
   ]
  },
  {
   "cell_type": "code",
   "execution_count": 259,
   "id": "9713c3cc",
   "metadata": {},
   "outputs": [],
   "source": [
    "dataset = dataset[dataset['중성화여부']!=1]"
   ]
  },
  {
   "cell_type": "code",
   "execution_count": 260,
   "id": "84b8bb07",
   "metadata": {},
   "outputs": [],
   "source": [
    "nomix = dataset[dataset['품종']!=3]"
   ]
  },
  {
   "cell_type": "code",
   "execution_count": 261,
   "id": "54d46cf5",
   "metadata": {},
   "outputs": [
    {
     "data": {
      "text/html": [
       "<div>\n",
       "<style scoped>\n",
       "    .dataframe tbody tr th:only-of-type {\n",
       "        vertical-align: middle;\n",
       "    }\n",
       "\n",
       "    .dataframe tbody tr th {\n",
       "        vertical-align: top;\n",
       "    }\n",
       "\n",
       "    .dataframe thead th {\n",
       "        text-align: right;\n",
       "    }\n",
       "</style>\n",
       "<table border=\"1\" class=\"dataframe\">\n",
       "  <thead>\n",
       "    <tr style=\"text-align: right;\">\n",
       "      <th></th>\n",
       "      <th>품종</th>\n",
       "      <th>체중</th>\n",
       "      <th>색상</th>\n",
       "      <th>성별</th>\n",
       "      <th>중성화여부</th>\n",
       "      <th>당시의나이</th>\n",
       "      <th>상태</th>\n",
       "    </tr>\n",
       "  </thead>\n",
       "  <tbody>\n",
       "    <tr>\n",
       "      <th>0</th>\n",
       "      <td>7</td>\n",
       "      <td>3.10</td>\n",
       "      <td>1</td>\n",
       "      <td>0</td>\n",
       "      <td>0</td>\n",
       "      <td>3</td>\n",
       "      <td>1</td>\n",
       "    </tr>\n",
       "    <tr>\n",
       "      <th>2</th>\n",
       "      <td>4</td>\n",
       "      <td>2.75</td>\n",
       "      <td>4</td>\n",
       "      <td>1</td>\n",
       "      <td>0</td>\n",
       "      <td>2</td>\n",
       "      <td>1</td>\n",
       "    </tr>\n",
       "    <tr>\n",
       "      <th>12</th>\n",
       "      <td>4</td>\n",
       "      <td>2.00</td>\n",
       "      <td>1</td>\n",
       "      <td>0</td>\n",
       "      <td>0</td>\n",
       "      <td>2</td>\n",
       "      <td>1</td>\n",
       "    </tr>\n",
       "    <tr>\n",
       "      <th>22</th>\n",
       "      <td>0</td>\n",
       "      <td>23.00</td>\n",
       "      <td>1</td>\n",
       "      <td>0</td>\n",
       "      <td>0</td>\n",
       "      <td>2</td>\n",
       "      <td>0</td>\n",
       "    </tr>\n",
       "    <tr>\n",
       "      <th>23</th>\n",
       "      <td>7</td>\n",
       "      <td>2.80</td>\n",
       "      <td>1</td>\n",
       "      <td>0</td>\n",
       "      <td>2</td>\n",
       "      <td>2</td>\n",
       "      <td>1</td>\n",
       "    </tr>\n",
       "    <tr>\n",
       "      <th>...</th>\n",
       "      <td>...</td>\n",
       "      <td>...</td>\n",
       "      <td>...</td>\n",
       "      <td>...</td>\n",
       "      <td>...</td>\n",
       "      <td>...</td>\n",
       "      <td>...</td>\n",
       "    </tr>\n",
       "    <tr>\n",
       "      <th>54243</th>\n",
       "      <td>5</td>\n",
       "      <td>35.00</td>\n",
       "      <td>3</td>\n",
       "      <td>0</td>\n",
       "      <td>0</td>\n",
       "      <td>3</td>\n",
       "      <td>1</td>\n",
       "    </tr>\n",
       "    <tr>\n",
       "      <th>54246</th>\n",
       "      <td>5</td>\n",
       "      <td>25.00</td>\n",
       "      <td>2</td>\n",
       "      <td>0</td>\n",
       "      <td>0</td>\n",
       "      <td>4</td>\n",
       "      <td>0</td>\n",
       "    </tr>\n",
       "    <tr>\n",
       "      <th>54249</th>\n",
       "      <td>9</td>\n",
       "      <td>4.50</td>\n",
       "      <td>1</td>\n",
       "      <td>0</td>\n",
       "      <td>0</td>\n",
       "      <td>4</td>\n",
       "      <td>1</td>\n",
       "    </tr>\n",
       "    <tr>\n",
       "      <th>54252</th>\n",
       "      <td>8</td>\n",
       "      <td>20.00</td>\n",
       "      <td>2</td>\n",
       "      <td>1</td>\n",
       "      <td>0</td>\n",
       "      <td>5</td>\n",
       "      <td>1</td>\n",
       "    </tr>\n",
       "    <tr>\n",
       "      <th>54253</th>\n",
       "      <td>8</td>\n",
       "      <td>28.50</td>\n",
       "      <td>2</td>\n",
       "      <td>0</td>\n",
       "      <td>0</td>\n",
       "      <td>4</td>\n",
       "      <td>1</td>\n",
       "    </tr>\n",
       "  </tbody>\n",
       "</table>\n",
       "<p>8343 rows × 7 columns</p>\n",
       "</div>"
      ],
      "text/plain": [
       "       품종     체중  색상  성별  중성화여부  당시의나이  상태\n",
       "0       7   3.10   1   0      0      3   1\n",
       "2       4   2.75   4   1      0      2   1\n",
       "12      4   2.00   1   0      0      2   1\n",
       "22      0  23.00   1   0      0      2   0\n",
       "23      7   2.80   1   0      2      2   1\n",
       "...    ..    ...  ..  ..    ...    ...  ..\n",
       "54243   5  35.00   3   0      0      3   1\n",
       "54246   5  25.00   2   0      0      4   0\n",
       "54249   9   4.50   1   0      0      4   1\n",
       "54252   8  20.00   2   1      0      5   1\n",
       "54253   8  28.50   2   0      0      4   1\n",
       "\n",
       "[8343 rows x 7 columns]"
      ]
     },
     "execution_count": 261,
     "metadata": {},
     "output_type": "execute_result"
    }
   ],
   "source": [
    "nomix"
   ]
  },
  {
   "cell_type": "markdown",
   "id": "3d0eefd0",
   "metadata": {},
   "source": [
    "### 체중 이상치 제거 및 정규화"
   ]
  },
  {
   "cell_type": "code",
   "execution_count": 262,
   "id": "f5899994",
   "metadata": {},
   "outputs": [],
   "source": [
    "import numpy as np\n",
    "\n",
    "def get_outlier(df=None, column=None, weight=1.5):\n",
    "  # target 값과 상관관계가 높은 열을 우선적으로 진행\n",
    "  quantile_25 = np.percentile(df[column].values, 25)\n",
    "  quantile_75 = np.percentile(df[column].values, 75)\n",
    "\n",
    "  IQR = quantile_75 - quantile_25\n",
    "  IQR_weight = IQR*weight\n",
    "  \n",
    "  lowest = quantile_25 - IQR_weight\n",
    "  highest = quantile_75 + IQR_weight\n",
    "  \n",
    "  outlier_idx = df[column][ (df[column] < lowest) | (df[column] > highest) ].index\n",
    "  return outlier_idx"
   ]
  },
  {
   "cell_type": "code",
   "execution_count": 91,
   "id": "0a0e2673",
   "metadata": {},
   "outputs": [],
   "source": [
    "# 함수 사용해서 이상치 값 삭제\n",
    "# outlier_idx = get_outlier(df=dataset, column='체중', weight=1.5)\n",
    "# dataset.drop(outlier_idx, axis=0, inplace=True)\n",
    "# outlier_idx = get_outlier(df=dataset, column='당시의나이', weight=1.5)\n",
    "# dataset.drop(outlier_idx, axis=0, inplace=True)"
   ]
  },
  {
   "cell_type": "code",
   "execution_count": 263,
   "id": "db50e273",
   "metadata": {},
   "outputs": [],
   "source": [
    "outlier_idx = get_outlier(df=nomix, column='체중', weight=1.5)\n",
    "nomix.drop(outlier_idx, axis=0, inplace=True)\n",
    "outlier_idx = get_outlier(df=nomix, column='당시의나이', weight=1.5)\n",
    "nomix.drop(outlier_idx, axis=0, inplace=True)"
   ]
  },
  {
   "cell_type": "code",
   "execution_count": 264,
   "id": "b7f4fb73",
   "metadata": {},
   "outputs": [
    {
     "data": {
      "text/plain": [
       "1    5431\n",
       "0    2060\n",
       "Name: 상태, dtype: int64"
      ]
     },
     "execution_count": 264,
     "metadata": {},
     "output_type": "execute_result"
    }
   ],
   "source": [
    "nomix['상태'].value_counts()"
   ]
  },
  {
   "cell_type": "code",
   "execution_count": 265,
   "id": "cda39238",
   "metadata": {},
   "outputs": [],
   "source": [
    "nomix['체중'] = np.log1p(nomix['체중'])\n",
    "nomix['당시의나이'] = np.log1p(nomix['당시의나이'])"
   ]
  },
  {
   "cell_type": "code",
   "execution_count": 266,
   "id": "453f6bbe",
   "metadata": {
    "scrolled": true
   },
   "outputs": [
    {
     "data": {
      "text/plain": [
       "1.098612    1633\n",
       "1.386294    1433\n",
       "0.000000    1405\n",
       "0.693147    1309\n",
       "1.609438     602\n",
       "1.791759     563\n",
       "2.079442     210\n",
       "1.945910     201\n",
       "2.197225     135\n",
       "Name: 당시의나이, dtype: int64"
      ]
     },
     "execution_count": 266,
     "metadata": {},
     "output_type": "execute_result"
    }
   ],
   "source": [
    "nomix['당시의나이'].value_counts()"
   ]
  },
  {
   "cell_type": "code",
   "execution_count": null,
   "id": "9bb68f78",
   "metadata": {},
   "outputs": [],
   "source": [
    "x_trans, optimal_lambda = stats.boxcox(dataset['당시의나이'])\n",
    "fig = plt.figure()\n",
    "ax1 = fig.add_subplot(121)\n",
    "ax2 = fig.add_subplot(122)\n",
    "\n",
    "prob = stats.probplot(x_trans, dist = stats.norm, plot = ax2)\n",
    "plt.show()"
   ]
  },
  {
   "cell_type": "code",
   "execution_count": 219,
   "id": "6e0e3463",
   "metadata": {},
   "outputs": [
    {
     "data": {
      "text/plain": [
       "<AxesSubplot:xlabel='체중', ylabel='Density'>"
      ]
     },
     "execution_count": 219,
     "metadata": {},
     "output_type": "execute_result"
    },
    {
     "data": {
      "image/png": "[encoded data removed]",
      "text/plain": [
       "<Figure size 432x288 with 1 Axes>"
      ]
     },
     "metadata": {
      "needs_background": "light"
     },
     "output_type": "display_data"
    }
   ],
   "source": [
    "sns.distplot(nomix['체중'])"
   ]
  },
  {
   "cell_type": "code",
   "execution_count": 267,
   "id": "0e5526d8",
   "metadata": {},
   "outputs": [],
   "source": [
    "nomix['품종'] = nomix['품종'].astype('category')\n",
    "nomix['색상'] = nomix['색상'].astype('category')\n",
    "nomix['성별'] = nomix['성별'].astype('category')\n",
    "nomix['중성화여부'] = nomix['중성화여부'].astype('category')\n",
    "nomix['상태'] = nomix['상태'].astype('category')"
   ]
  },
  {
   "cell_type": "code",
   "execution_count": 268,
   "id": "0a9efe59",
   "metadata": {},
   "outputs": [
    {
     "name": "stdout",
     "output_type": "stream",
     "text": [
      "<class 'pandas.core.frame.DataFrame'>\n",
      "Int64Index: 7491 entries, 0 to 54252\n",
      "Data columns (total 7 columns):\n",
      " #   Column  Non-Null Count  Dtype   \n",
      "---  ------  --------------  -----   \n",
      " 0   품종      7491 non-null   category\n",
      " 1   체중      7491 non-null   float64 \n",
      " 2   색상      7491 non-null   category\n",
      " 3   성별      7491 non-null   category\n",
      " 4   중성화여부   7491 non-null   category\n",
      " 5   당시의나이   7491 non-null   float64 \n",
      " 6   상태      7491 non-null   category\n",
      "dtypes: category(5), float64(2)\n",
      "memory usage: 213.1 KB\n"
     ]
    }
   ],
   "source": [
    "nomix.info()"
   ]
  },
  {
   "cell_type": "code",
   "execution_count": 48,
   "id": "94330374",
   "metadata": {},
   "outputs": [],
   "source": [
    "# def divide_age(x):\n",
    "#     if x < 1:\n",
    "#         return 1\n",
    "#     elif x <= 3:\n",
    "#         return 2\n",
    "#     elif x <=10:\n",
    "#         return 3\n",
    "#     else:\n",
    "#         return 4"
   ]
  },
  {
   "cell_type": "code",
   "execution_count": 49,
   "id": "16295db2",
   "metadata": {},
   "outputs": [],
   "source": [
    "# dataset['당시의나이'] = dataset['당시의나이'].apply(divide_age)"
   ]
  },
  {
   "cell_type": "code",
   "execution_count": null,
   "id": "73c601c2",
   "metadata": {},
   "outputs": [],
   "source": [
    "# import scipy.stats as ss \n",
    "\n",
    "# data_ss=ss.zscore(data)\n",
    "# print(data_ss)"
   ]
  },
  {
   "cell_type": "markdown",
   "id": "b8ee58e1",
   "metadata": {},
   "source": [
    "### boxcox"
   ]
  },
  {
   "cell_type": "code",
   "execution_count": 34,
   "id": "e6233eef",
   "metadata": {},
   "outputs": [],
   "source": [
    "from scipy import stats"
   ]
  },
  {
   "cell_type": "code",
   "execution_count": 16,
   "id": "ecb9041e",
   "metadata": {
    "collapsed": true
   },
   "outputs": [
    {
     "data": {
      "text/plain": [
       "0         3\n",
       "1         3\n",
       "2         2\n",
       "3         1\n",
       "4         5\n",
       "         ..\n",
       "337421    3\n",
       "337422    2\n",
       "337423    0\n",
       "337424    3\n",
       "337425    0\n",
       "Name: 당시의나이, Length: 337426, dtype: int64"
      ]
     },
     "execution_count": 16,
     "metadata": {},
     "output_type": "execute_result"
    }
   ],
   "source": [
    "dataset['당시의나이']"
   ]
  },
  {
   "cell_type": "code",
   "execution_count": 18,
   "id": "6a1fe256",
   "metadata": {},
   "outputs": [],
   "source": [
    "dataset['당시의나이'] = dataset['당시의나이']+1"
   ]
  },
  {
   "cell_type": "code",
   "execution_count": 29,
   "id": "288e6a27",
   "metadata": {
    "collapsed": true
   },
   "outputs": [
    {
     "data": {
      "image/png": "[encoded data removed]",
      "text/plain": [
       "<Figure size 432x288 with 2 Axes>"
      ]
     },
     "metadata": {
      "needs_background": "light"
     },
     "output_type": "display_data"
    }
   ],
   "source": [
    "fig = plt.figure()\n",
    "ax1 = fig.add_subplot(121)\n",
    "ax2 = fig.add_subplot(122)\n",
    "prob = stats.probplot(dataset['당시의나이'], dist = stats.norm, plot = ax2)\n",
    "plt.show()"
   ]
  },
  {
   "cell_type": "code",
   "execution_count": 21,
   "id": "3121f4d8",
   "metadata": {
    "collapsed": true
   },
   "outputs": [
    {
     "data": {
      "image/png": "[encoded data removed]",
      "text/plain": [
       "<Figure size 432x288 with 2 Axes>"
      ]
     },
     "metadata": {
      "needs_background": "light"
     },
     "output_type": "display_data"
    }
   ],
   "source": [
    "x_trans, optimal_lambda = stats.boxcox(dataset['당시의나이'])\n",
    "fig = plt.figure()\n",
    "ax1 = fig.add_subplot(121)\n",
    "ax2 = fig.add_subplot(122)\n",
    "\n",
    "prob = stats.probplot(x_trans, dist = stats.norm, plot = ax2)\n",
    "plt.show()"
   ]
  },
  {
   "cell_type": "markdown",
   "id": "c9c94179",
   "metadata": {},
   "source": [
    "### mean_encoding"
   ]
  },
  {
   "cell_type": "code",
   "execution_count": 153,
   "id": "88a6a9dd",
   "metadata": {
    "collapsed": true
   },
   "outputs": [
    {
     "data": {
      "text/plain": [
       "품종\n",
       "0    0.480385\n",
       "1    0.836748\n",
       "2    0.706363\n",
       "3    0.321097\n",
       "4    0.637855\n",
       "5    0.683084\n",
       "6    0.586583\n",
       "7    0.624514\n",
       "8    0.623217\n",
       "9    0.421328\n",
       "Name: 상태, dtype: float64"
      ]
     },
     "execution_count": 153,
     "metadata": {},
     "output_type": "execute_result"
    }
   ],
   "source": [
    "target = '상태'\n",
    "sex_mean = dataset.groupby('품종')[target].mean()\n",
    "sex_mean"
   ]
  },
  {
   "cell_type": "code",
   "execution_count": 154,
   "id": "0ad7d48b",
   "metadata": {
    "collapsed": true
   },
   "outputs": [
    {
     "data": {
      "text/html": [
       "<div>\n",
       "<style scoped>\n",
       "    .dataframe tbody tr th:only-of-type {\n",
       "        vertical-align: middle;\n",
       "    }\n",
       "\n",
       "    .dataframe tbody tr th {\n",
       "        vertical-align: top;\n",
       "    }\n",
       "\n",
       "    .dataframe thead th {\n",
       "        text-align: right;\n",
       "    }\n",
       "</style>\n",
       "<table border=\"1\" class=\"dataframe\">\n",
       "  <thead>\n",
       "    <tr style=\"text-align: right;\">\n",
       "      <th></th>\n",
       "      <th>품종</th>\n",
       "      <th>품종_mean</th>\n",
       "    </tr>\n",
       "  </thead>\n",
       "  <tbody>\n",
       "    <tr>\n",
       "      <th>0</th>\n",
       "      <td>7</td>\n",
       "      <td>0.624514</td>\n",
       "    </tr>\n",
       "    <tr>\n",
       "      <th>1</th>\n",
       "      <td>3</td>\n",
       "      <td>0.321097</td>\n",
       "    </tr>\n",
       "    <tr>\n",
       "      <th>2</th>\n",
       "      <td>4</td>\n",
       "      <td>0.637855</td>\n",
       "    </tr>\n",
       "    <tr>\n",
       "      <th>3</th>\n",
       "      <td>4</td>\n",
       "      <td>0.637855</td>\n",
       "    </tr>\n",
       "    <tr>\n",
       "      <th>4</th>\n",
       "      <td>7</td>\n",
       "      <td>0.624514</td>\n",
       "    </tr>\n",
       "  </tbody>\n",
       "</table>\n",
       "</div>"
      ],
      "text/plain": [
       "   품종   품종_mean\n",
       "0   7  0.624514\n",
       "1   3  0.321097\n",
       "2   4  0.637855\n",
       "3   4  0.637855\n",
       "4   7  0.624514"
      ]
     },
     "execution_count": 154,
     "metadata": {},
     "output_type": "execute_result"
    }
   ],
   "source": [
    "dataset['품종_mean'] = dataset['품종'].map(sex_mean)\n",
    "dataset[['품종', '품종_mean']].head()"
   ]
  },
  {
   "cell_type": "code",
   "execution_count": 64,
   "id": "3c9de4c7",
   "metadata": {},
   "outputs": [],
   "source": [
    "dataset['품종'] = dataset['품종'].astype('category')\n",
    "dataset['색상'] = dataset['색상'].astype('category')\n",
    "dataset['성별'] = dataset['성별'].astype('category')\n",
    "dataset['중성화여부'] = dataset['중성화여부'].astype('category')\n",
    "dataset['당시의나이'] = dataset['당시의나이'].astype('category')\n",
    "dataset['상태'] = dataset['상태'].astype('category')"
   ]
  },
  {
   "cell_type": "code",
   "execution_count": 65,
   "id": "027b5e40",
   "metadata": {},
   "outputs": [
    {
     "name": "stdout",
     "output_type": "stream",
     "text": [
      "<class 'pandas.core.frame.DataFrame'>\n",
      "Int64Index: 215386 entries, 0 to 337425\n",
      "Data columns (total 7 columns):\n",
      " #   Column  Non-Null Count   Dtype   \n",
      "---  ------  --------------   -----   \n",
      " 0   품종      215386 non-null  category\n",
      " 1   체중      215386 non-null  float64 \n",
      " 2   색상      215386 non-null  category\n",
      " 3   성별      215386 non-null  category\n",
      " 4   중성화여부   215386 non-null  category\n",
      " 5   당시의나이   215386 non-null  category\n",
      " 6   상태      215386 non-null  category\n",
      "dtypes: category(6), float64(1)\n",
      "memory usage: 12.6 MB\n"
     ]
    }
   ],
   "source": [
    "dataset.info()"
   ]
  },
  {
   "cell_type": "code",
   "execution_count": 156,
   "id": "98a38cd9",
   "metadata": {},
   "outputs": [],
   "source": [
    "dataset.drop('품종', axis = 1, inplace = True)"
   ]
  },
  {
   "cell_type": "code",
   "execution_count": 157,
   "id": "8f4a45cb",
   "metadata": {},
   "outputs": [],
   "source": [
    "df = dataset"
   ]
  },
  {
   "cell_type": "code",
   "execution_count": 158,
   "id": "aa4a7906",
   "metadata": {
    "scrolled": true
   },
   "outputs": [
    {
     "data": {
      "text/plain": [
       "0    201345\n",
       "1    136081\n",
       "Name: 상태, dtype: int64"
      ]
     },
     "execution_count": 158,
     "metadata": {},
     "output_type": "execute_result"
    }
   ],
   "source": [
    "df['상태'].value_counts()"
   ]
  },
  {
   "cell_type": "code",
   "execution_count": 159,
   "id": "10cb1773",
   "metadata": {
    "scrolled": true
   },
   "outputs": [
    {
     "name": "stdout",
     "output_type": "stream",
     "text": [
      "<class 'pandas.core.frame.DataFrame'>\n",
      "Int64Index: 337426 entries, 0 to 337425\n",
      "Data columns (total 8 columns):\n",
      " #   Column   Non-Null Count   Dtype   \n",
      "---  ------   --------------   -----   \n",
      " 0   체중       337426 non-null  float64 \n",
      " 1   색상       337426 non-null  category\n",
      " 2   성별       337426 non-null  category\n",
      " 3   중성화여부    337426 non-null  category\n",
      " 4   당시의나이    337426 non-null  int64   \n",
      " 5   직영       337426 non-null  category\n",
      " 6   상태       337426 non-null  category\n",
      " 7   품종_mean  337426 non-null  category\n",
      "dtypes: category(6), float64(1), int64(1)\n",
      "memory usage: 9.7 MB\n"
     ]
    }
   ],
   "source": [
    "df.info()"
   ]
  },
  {
   "cell_type": "code",
   "execution_count": 160,
   "id": "cd50921c",
   "metadata": {},
   "outputs": [
    {
     "data": {
      "text/plain": [
       "체중         0\n",
       "색상         0\n",
       "성별         0\n",
       "중성화여부      0\n",
       "당시의나이      0\n",
       "직영         0\n",
       "상태         0\n",
       "품종_mean    0\n",
       "dtype: int64"
      ]
     },
     "execution_count": 160,
     "metadata": {},
     "output_type": "execute_result"
    }
   ],
   "source": [
    "df.isna().sum()"
   ]
  },
  {
   "cell_type": "code",
   "execution_count": null,
   "id": "74742a80",
   "metadata": {},
   "outputs": [],
   "source": []
  },
  {
   "cell_type": "code",
   "execution_count": null,
   "id": "f19d3b0e",
   "metadata": {},
   "outputs": [],
   "source": []
  },
  {
   "cell_type": "code",
   "execution_count": 167,
   "id": "ab6ede38",
   "metadata": {},
   "outputs": [
    {
     "data": {
      "text/html": [
       "<div>\n",
       "<style scoped>\n",
       "    .dataframe tbody tr th:only-of-type {\n",
       "        vertical-align: middle;\n",
       "    }\n",
       "\n",
       "    .dataframe tbody tr th {\n",
       "        vertical-align: top;\n",
       "    }\n",
       "\n",
       "    .dataframe thead th {\n",
       "        text-align: right;\n",
       "    }\n",
       "</style>\n",
       "<table border=\"1\" class=\"dataframe\">\n",
       "  <thead>\n",
       "    <tr style=\"text-align: right;\">\n",
       "      <th></th>\n",
       "      <th>품종</th>\n",
       "      <th>체중</th>\n",
       "      <th>색상</th>\n",
       "      <th>성별</th>\n",
       "      <th>중성화여부</th>\n",
       "      <th>당시의나이</th>\n",
       "      <th>상태</th>\n",
       "    </tr>\n",
       "  </thead>\n",
       "  <tbody>\n",
       "    <tr>\n",
       "      <th>1</th>\n",
       "      <td>3</td>\n",
       "      <td>2.191654</td>\n",
       "      <td>2</td>\n",
       "      <td>0</td>\n",
       "      <td>0</td>\n",
       "      <td>3</td>\n",
       "      <td>1</td>\n",
       "    </tr>\n",
       "    <tr>\n",
       "      <th>8</th>\n",
       "      <td>3</td>\n",
       "      <td>0.788457</td>\n",
       "      <td>1</td>\n",
       "      <td>1</td>\n",
       "      <td>0</td>\n",
       "      <td>1</td>\n",
       "      <td>1</td>\n",
       "    </tr>\n",
       "    <tr>\n",
       "      <th>9</th>\n",
       "      <td>3</td>\n",
       "      <td>1.856298</td>\n",
       "      <td>5</td>\n",
       "      <td>0</td>\n",
       "      <td>2</td>\n",
       "      <td>1</td>\n",
       "      <td>1</td>\n",
       "    </tr>\n",
       "    <tr>\n",
       "      <th>10</th>\n",
       "      <td>3</td>\n",
       "      <td>1.902108</td>\n",
       "      <td>5</td>\n",
       "      <td>1</td>\n",
       "      <td>0</td>\n",
       "      <td>9</td>\n",
       "      <td>1</td>\n",
       "    </tr>\n",
       "    <tr>\n",
       "      <th>13</th>\n",
       "      <td>3</td>\n",
       "      <td>1.386294</td>\n",
       "      <td>1</td>\n",
       "      <td>0</td>\n",
       "      <td>0</td>\n",
       "      <td>3</td>\n",
       "      <td>1</td>\n",
       "    </tr>\n",
       "    <tr>\n",
       "      <th>...</th>\n",
       "      <td>...</td>\n",
       "      <td>...</td>\n",
       "      <td>...</td>\n",
       "      <td>...</td>\n",
       "      <td>...</td>\n",
       "      <td>...</td>\n",
       "      <td>...</td>\n",
       "    </tr>\n",
       "    <tr>\n",
       "      <th>337297</th>\n",
       "      <td>3</td>\n",
       "      <td>1.791759</td>\n",
       "      <td>3</td>\n",
       "      <td>1</td>\n",
       "      <td>0</td>\n",
       "      <td>1</td>\n",
       "      <td>1</td>\n",
       "    </tr>\n",
       "    <tr>\n",
       "      <th>337298</th>\n",
       "      <td>3</td>\n",
       "      <td>1.945910</td>\n",
       "      <td>3</td>\n",
       "      <td>0</td>\n",
       "      <td>0</td>\n",
       "      <td>1</td>\n",
       "      <td>1</td>\n",
       "    </tr>\n",
       "    <tr>\n",
       "      <th>337304</th>\n",
       "      <td>3</td>\n",
       "      <td>1.945910</td>\n",
       "      <td>3</td>\n",
       "      <td>0</td>\n",
       "      <td>0</td>\n",
       "      <td>2</td>\n",
       "      <td>1</td>\n",
       "    </tr>\n",
       "    <tr>\n",
       "      <th>337420</th>\n",
       "      <td>3</td>\n",
       "      <td>1.629241</td>\n",
       "      <td>1</td>\n",
       "      <td>0</td>\n",
       "      <td>2</td>\n",
       "      <td>1</td>\n",
       "      <td>1</td>\n",
       "    </tr>\n",
       "    <tr>\n",
       "      <th>337421</th>\n",
       "      <td>3</td>\n",
       "      <td>1.504077</td>\n",
       "      <td>1</td>\n",
       "      <td>0</td>\n",
       "      <td>2</td>\n",
       "      <td>3</td>\n",
       "      <td>1</td>\n",
       "    </tr>\n",
       "  </tbody>\n",
       "</table>\n",
       "<p>157777 rows × 7 columns</p>\n",
       "</div>"
      ],
      "text/plain": [
       "        품종        체중  색상  성별  중성화여부  당시의나이  상태\n",
       "1        3  2.191654   2   0      0      3   1\n",
       "8        3  0.788457   1   1      0      1   1\n",
       "9        3  1.856298   5   0      2      1   1\n",
       "10       3  1.902108   5   1      0      9   1\n",
       "13       3  1.386294   1   0      0      3   1\n",
       "...     ..       ...  ..  ..    ...    ...  ..\n",
       "337297   3  1.791759   3   1      0      1   1\n",
       "337298   3  1.945910   3   0      0      1   1\n",
       "337304   3  1.945910   3   0      0      2   1\n",
       "337420   3  1.629241   1   0      2      1   1\n",
       "337421   3  1.504077   1   0      2      3   1\n",
       "\n",
       "[157777 rows x 7 columns]"
      ]
     },
     "execution_count": 167,
     "metadata": {},
     "output_type": "execute_result"
    }
   ],
   "source": [
    "mix"
   ]
  },
  {
   "cell_type": "code",
   "execution_count": 168,
   "id": "99e6dad9",
   "metadata": {},
   "outputs": [],
   "source": [
    "mix['품종'] = mix['품종'].astype('category')\n",
    "mix['색상'] = mix['색상'].astype('category')\n",
    "mix['성별'] = mix['성별'].astype('category')\n",
    "mix['중성화여부'] = mix['중성화여부'].astype('category')\n",
    "mix['상태'] = mix['상태'].astype('category')"
   ]
  },
  {
   "cell_type": "code",
   "execution_count": 247,
   "id": "146f41c4",
   "metadata": {},
   "outputs": [],
   "source": [
    "df_2020.drop('접수일',axis = 1, inplace = True)"
   ]
  },
  {
   "cell_type": "code",
   "execution_count": 250,
   "id": "458e6f63",
   "metadata": {
    "scrolled": true
   },
   "outputs": [
    {
     "name": "stdout",
     "output_type": "stream",
     "text": [
      "<class 'pandas.core.frame.DataFrame'>\n",
      "Int64Index: 18760 entries, 222604 to 337357\n",
      "Data columns (total 7 columns):\n",
      " #   Column  Non-Null Count  Dtype   \n",
      "---  ------  --------------  -----   \n",
      " 0   품종      18760 non-null  category\n",
      " 1   색상      18760 non-null  category\n",
      " 2   성별      18760 non-null  category\n",
      " 3   체중      18760 non-null  float64 \n",
      " 4   중성화여부   18760 non-null  category\n",
      " 5   당시의나이   18760 non-null  int64   \n",
      " 6   상태      18760 non-null  category\n",
      "dtypes: category(5), float64(1), int64(1)\n",
      "memory usage: 532.2 KB\n"
     ]
    }
   ],
   "source": [
    "df_2020.info()"
   ]
  },
  {
   "cell_type": "code",
   "execution_count": 326,
   "id": "e30ce652",
   "metadata": {},
   "outputs": [],
   "source": [
    "df_mix = df[df['품종'] == 3]\n",
    "df_no_mix = df[df['품종'] != 3]"
   ]
  },
  {
   "cell_type": "code",
   "execution_count": 329,
   "id": "3665d00b",
   "metadata": {},
   "outputs": [
    {
     "data": {
      "text/plain": [
       "17151"
      ]
     },
     "execution_count": 329,
     "metadata": {},
     "output_type": "execute_result"
    }
   ],
   "source": [
    "df_no_mix.shape[0]"
   ]
  },
  {
   "cell_type": "code",
   "execution_count": 330,
   "id": "0d761cda",
   "metadata": {},
   "outputs": [
    {
     "data": {
      "text/plain": [
       "37107"
      ]
     },
     "execution_count": 330,
     "metadata": {},
     "output_type": "execute_result"
    }
   ],
   "source": [
    "df_mix.shape[0]"
   ]
  },
  {
   "cell_type": "code",
   "execution_count": 337,
   "id": "42d44e31",
   "metadata": {},
   "outputs": [],
   "source": [
    "select_count = int((df_no_mix.shape[0]/(df_mix.shape[0] + df_no_mix.shape[0])) * df_mix.shape[0])"
   ]
  },
  {
   "cell_type": "code",
   "execution_count": 303,
   "id": "d4d0b848",
   "metadata": {},
   "outputs": [],
   "source": [
    "import random\n",
    "random_mix_index = random.sample(list(df_mix.index),select_count)"
   ]
  },
  {
   "cell_type": "code",
   "execution_count": 306,
   "id": "b997665e",
   "metadata": {},
   "outputs": [
    {
     "data": {
      "text/plain": [
       "9088"
      ]
     },
     "execution_count": 306,
     "metadata": {},
     "output_type": "execute_result"
    }
   ],
   "source": [
    "len(random_mix_index)"
   ]
  },
  {
   "cell_type": "code",
   "execution_count": 305,
   "id": "c7925913",
   "metadata": {},
   "outputs": [],
   "source": [
    "for i in range(len(list(df_2020_no_mix.index))) : \n",
    "    random_mix_index.append(list(df_2020_no_mix.index)[i])"
   ]
  },
  {
   "cell_type": "code",
   "execution_count": 308,
   "id": "cf8c0bbf",
   "metadata": {},
   "outputs": [],
   "source": [
    "df_down = df.loc[random_mix_index, :]"
   ]
  },
  {
   "cell_type": "code",
   "execution_count": 278,
   "id": "b3eba349",
   "metadata": {},
   "outputs": [
    {
     "data": {
      "text/plain": [
       "(14672, 7)"
      ]
     },
     "execution_count": 278,
     "metadata": {},
     "output_type": "execute_result"
    }
   ],
   "source": [
    "df_2020_mix.shape"
   ]
  },
  {
   "cell_type": "code",
   "execution_count": 279,
   "id": "1c4897f8",
   "metadata": {},
   "outputs": [
    {
     "data": {
      "text/plain": [
       "(4088, 7)"
      ]
     },
     "execution_count": 279,
     "metadata": {},
     "output_type": "execute_result"
    }
   ],
   "source": [
    "df_2020_no_mix.shape"
   ]
  },
  {
   "cell_type": "markdown",
   "id": "amended-corporation",
   "metadata": {},
   "source": [
    "#### 타입 category로 바꾸자 💫\n",
    "---"
   ]
  },
  {
   "cell_type": "code",
   "execution_count": 323,
   "id": "0f742c16",
   "metadata": {},
   "outputs": [],
   "source": [
    "df['품종'] = df['품종'].astype('category')\n",
    "df['색상'] = df['색상'].astype('category')\n",
    "df['성별'] = df['성별'].astype('category')\n",
    "df['중성화여부'] = df['중성화여부'].astype('category')\n",
    "# df['보호소형태'] = df['보호소형태'].astype('category')\n",
    "df['상태'] = df['상태'].astype('category')"
   ]
  },
  {
   "cell_type": "code",
   "execution_count": 324,
   "id": "909a779a",
   "metadata": {},
   "outputs": [
    {
     "data": {
      "text/plain": [
       "1    27602\n",
       "0    26656\n",
       "Name: 상태, dtype: int64"
      ]
     },
     "execution_count": 324,
     "metadata": {},
     "output_type": "execute_result"
    }
   ],
   "source": [
    "df['상태'].value_counts()"
   ]
  },
  {
   "cell_type": "code",
   "execution_count": 325,
   "id": "59c8c249",
   "metadata": {
    "scrolled": true
   },
   "outputs": [
    {
     "name": "stdout",
     "output_type": "stream",
     "text": [
      "<class 'pandas.core.frame.DataFrame'>\n",
      "Int64Index: 54258 entries, 3 to 337357\n",
      "Data columns (total 8 columns):\n",
      " #   Column  Non-Null Count  Dtype   \n",
      "---  ------  --------------  -----   \n",
      " 0   품종      54258 non-null  category\n",
      " 1   색상      54258 non-null  category\n",
      " 2   성별      54258 non-null  category\n",
      " 3   체중      54258 non-null  float64 \n",
      " 4   중성화여부   54258 non-null  category\n",
      " 5   당시의나이   54258 non-null  int64   \n",
      " 6   상태      54258 non-null  category\n",
      " 7   접수일     54258 non-null  int64   \n",
      "dtypes: category(5), float64(1), int64(2)\n",
      "memory usage: 1.9 MB\n"
     ]
    }
   ],
   "source": [
    "df.info()"
   ]
  },
  {
   "cell_type": "markdown",
   "id": "8b75d65b",
   "metadata": {},
   "source": [
    "### train, test 나누기"
   ]
  },
  {
   "cell_type": "code",
   "execution_count": 54,
   "id": "833eac8a",
   "metadata": {},
   "outputs": [
    {
     "data": {
      "text/html": [
       "<div>\n",
       "<style scoped>\n",
       "    .dataframe tbody tr th:only-of-type {\n",
       "        vertical-align: middle;\n",
       "    }\n",
       "\n",
       "    .dataframe tbody tr th {\n",
       "        vertical-align: top;\n",
       "    }\n",
       "\n",
       "    .dataframe thead th {\n",
       "        text-align: right;\n",
       "    }\n",
       "</style>\n",
       "<table border=\"1\" class=\"dataframe\">\n",
       "  <thead>\n",
       "    <tr style=\"text-align: right;\">\n",
       "      <th></th>\n",
       "      <th>품종</th>\n",
       "      <th>체중</th>\n",
       "      <th>색상</th>\n",
       "      <th>성별</th>\n",
       "      <th>중성화여부</th>\n",
       "      <th>당시의나이</th>\n",
       "      <th>상태</th>\n",
       "    </tr>\n",
       "  </thead>\n",
       "  <tbody>\n",
       "    <tr>\n",
       "      <th>0</th>\n",
       "      <td>7</td>\n",
       "      <td>1.410987</td>\n",
       "      <td>1</td>\n",
       "      <td>0</td>\n",
       "      <td>0</td>\n",
       "      <td>2</td>\n",
       "      <td>1</td>\n",
       "    </tr>\n",
       "    <tr>\n",
       "      <th>1</th>\n",
       "      <td>3</td>\n",
       "      <td>2.191654</td>\n",
       "      <td>2</td>\n",
       "      <td>0</td>\n",
       "      <td>0</td>\n",
       "      <td>2</td>\n",
       "      <td>1</td>\n",
       "    </tr>\n",
       "    <tr>\n",
       "      <th>2</th>\n",
       "      <td>4</td>\n",
       "      <td>1.321756</td>\n",
       "      <td>4</td>\n",
       "      <td>1</td>\n",
       "      <td>0</td>\n",
       "      <td>2</td>\n",
       "      <td>1</td>\n",
       "    </tr>\n",
       "    <tr>\n",
       "      <th>8</th>\n",
       "      <td>3</td>\n",
       "      <td>0.788457</td>\n",
       "      <td>1</td>\n",
       "      <td>1</td>\n",
       "      <td>0</td>\n",
       "      <td>2</td>\n",
       "      <td>1</td>\n",
       "    </tr>\n",
       "    <tr>\n",
       "      <th>9</th>\n",
       "      <td>3</td>\n",
       "      <td>1.856298</td>\n",
       "      <td>5</td>\n",
       "      <td>0</td>\n",
       "      <td>2</td>\n",
       "      <td>2</td>\n",
       "      <td>1</td>\n",
       "    </tr>\n",
       "    <tr>\n",
       "      <th>...</th>\n",
       "      <td>...</td>\n",
       "      <td>...</td>\n",
       "      <td>...</td>\n",
       "      <td>...</td>\n",
       "      <td>...</td>\n",
       "      <td>...</td>\n",
       "      <td>...</td>\n",
       "    </tr>\n",
       "    <tr>\n",
       "      <th>337420</th>\n",
       "      <td>3</td>\n",
       "      <td>1.629241</td>\n",
       "      <td>1</td>\n",
       "      <td>0</td>\n",
       "      <td>2</td>\n",
       "      <td>2</td>\n",
       "      <td>1</td>\n",
       "    </tr>\n",
       "    <tr>\n",
       "      <th>337421</th>\n",
       "      <td>3</td>\n",
       "      <td>1.504077</td>\n",
       "      <td>1</td>\n",
       "      <td>0</td>\n",
       "      <td>2</td>\n",
       "      <td>2</td>\n",
       "      <td>1</td>\n",
       "    </tr>\n",
       "    <tr>\n",
       "      <th>337423</th>\n",
       "      <td>9</td>\n",
       "      <td>1.556037</td>\n",
       "      <td>5</td>\n",
       "      <td>1</td>\n",
       "      <td>0</td>\n",
       "      <td>1</td>\n",
       "      <td>0</td>\n",
       "    </tr>\n",
       "    <tr>\n",
       "      <th>337424</th>\n",
       "      <td>9</td>\n",
       "      <td>2.197225</td>\n",
       "      <td>4</td>\n",
       "      <td>1</td>\n",
       "      <td>0</td>\n",
       "      <td>2</td>\n",
       "      <td>0</td>\n",
       "    </tr>\n",
       "    <tr>\n",
       "      <th>337425</th>\n",
       "      <td>9</td>\n",
       "      <td>1.280934</td>\n",
       "      <td>2</td>\n",
       "      <td>1</td>\n",
       "      <td>0</td>\n",
       "      <td>1</td>\n",
       "      <td>1</td>\n",
       "    </tr>\n",
       "  </tbody>\n",
       "</table>\n",
       "<p>215386 rows × 7 columns</p>\n",
       "</div>"
      ],
      "text/plain": [
       "       품종        체중 색상 성별 중성화여부  당시의나이 상태\n",
       "0       7  1.410987  1  0     0      2  1\n",
       "1       3  2.191654  2  0     0      2  1\n",
       "2       4  1.321756  4  1     0      2  1\n",
       "8       3  0.788457  1  1     0      2  1\n",
       "9       3  1.856298  5  0     2      2  1\n",
       "...    ..       ... .. ..   ...    ... ..\n",
       "337420  3  1.629241  1  0     2      2  1\n",
       "337421  3  1.504077  1  0     2      2  1\n",
       "337423  9  1.556037  5  1     0      1  0\n",
       "337424  9  2.197225  4  1     0      2  0\n",
       "337425  9  1.280934  2  1     0      1  1\n",
       "\n",
       "[215386 rows x 7 columns]"
      ]
     },
     "execution_count": 54,
     "metadata": {},
     "output_type": "execute_result"
    }
   ],
   "source": [
    "dataset"
   ]
  },
  {
   "cell_type": "code",
   "execution_count": 269,
   "id": "2f6943c9",
   "metadata": {},
   "outputs": [],
   "source": [
    "from sklearn.model_selection import train_test_split\n",
    "\n",
    "X_data = nomix[['품종', '색상', '성별', '체중', '중성화여부', '당시의나이']]\n",
    "\n",
    "y_label = nomix['상태']\n",
    "\n",
    "X_train, X_test, y_train, y_test = train_test_split(X_data, y_label, test_size = 0.20, random_state = 0, stratify=y_label)"
   ]
  },
  {
   "cell_type": "code",
   "execution_count": 223,
   "id": "8a2b7f62",
   "metadata": {},
   "outputs": [
    {
     "data": {
      "text/plain": [
       "1    27828\n",
       "0    15284\n",
       "Name: 상태, dtype: int64"
      ]
     },
     "execution_count": 223,
     "metadata": {},
     "output_type": "execute_result"
    }
   ],
   "source": [
    "y_train.value_counts()"
   ]
  },
  {
   "cell_type": "code",
   "execution_count": 118,
   "id": "872b50ef",
   "metadata": {},
   "outputs": [
    {
     "data": {
      "text/plain": [
       "0    40269\n",
       "1    27217\n",
       "Name: 상태, dtype: int64"
      ]
     },
     "execution_count": 118,
     "metadata": {},
     "output_type": "execute_result"
    }
   ],
   "source": [
    "y_test.value_counts()"
   ]
  },
  {
   "cell_type": "code",
   "execution_count": 119,
   "id": "58b367bb",
   "metadata": {},
   "outputs": [
    {
     "data": {
      "text/plain": [
       "품종_mean    0\n",
       "색상         0\n",
       "성별         0\n",
       "체중         0\n",
       "중성화여부      0\n",
       "당시의나이      0\n",
       "dtype: int64"
      ]
     },
     "execution_count": 119,
     "metadata": {},
     "output_type": "execute_result"
    }
   ],
   "source": [
    "X_train.isna().sum()"
   ]
  },
  {
   "cell_type": "code",
   "execution_count": 120,
   "id": "7c966e05",
   "metadata": {},
   "outputs": [
    {
     "data": {
      "text/plain": [
       "0"
      ]
     },
     "execution_count": 120,
     "metadata": {},
     "output_type": "execute_result"
    }
   ],
   "source": [
    "y_train.isna().sum()"
   ]
  },
  {
   "cell_type": "code",
   "execution_count": 271,
   "id": "d97d6b39",
   "metadata": {},
   "outputs": [],
   "source": [
    "from sklearn.model_selection import train_test_split\n",
    "\n",
    "X_data = df_2020_no_mix[['색상', '성별', '체중', '중성화여부', '당시의나이']]\n",
    "\n",
    "y_label = df_2020_no_mix['상태']\n",
    "\n",
    "X_train, X_test, y_train, y_test = train_test_split(X_data, y_label, test_size = 0.20, random_state = 0, stratify=y_label)"
   ]
  },
  {
   "cell_type": "code",
   "execution_count": 270,
   "id": "10402ed2",
   "metadata": {},
   "outputs": [
    {
     "name": "stdout",
     "output_type": "stream",
     "text": [
      "SMOTE 적용 전 학습용 피처/레이블 데이터 세트 :  (5992, 6) (5992,)\n",
      "SMOTE 적용 후 학습용 피처/레이블 데이터 세트 :  (8688, 6) (8688,)\n",
      "SMOTE 적용 전 레이블 값 분포 : \n",
      " 1    4344\n",
      "0    1648\n",
      "Name: 상태, dtype: int64\n",
      "SMOTE 적용 후 레이블 값 분포 : \n",
      " 0    4344\n",
      "1    4344\n",
      "Name: 상태, dtype: int64\n"
     ]
    }
   ],
   "source": [
    "from imblearn.over_sampling import SMOTENC\n",
    "\n",
    "smotenc = SMOTENC([0, 1, 2, 4],random_state = 101)\n",
    "X_train_over, y_train_over = smotenc.fit_resample(X_train, y_train)\n",
    "print('SMOTE 적용 전 학습용 피처/레이블 데이터 세트 : ', X_train.shape, y_train.shape)\n",
    "print('SMOTE 적용 후 학습용 피처/레이블 데이터 세트 : ', X_train_over.shape, y_train_over.shape)\n",
    "print('SMOTE 적용 전 레이블 값 분포 : \\n', pd.Series(y_train).value_counts())\n",
    "print('SMOTE 적용 후 레이블 값 분포 : \\n', pd.Series(y_train_over).value_counts())"
   ]
  },
  {
   "cell_type": "markdown",
   "id": "af640a2c",
   "metadata": {},
   "source": [
    "## LightGBM\n",
    "---\n",
    "    lightgbm 은 \n",
    "    !pip install lightgbm 해줘야해"
   ]
  },
  {
   "cell_type": "code",
   "execution_count": 22,
   "id": "behavioral-microwave",
   "metadata": {
    "collapsed": true
   },
   "outputs": [
    {
     "name": "stdout",
     "output_type": "stream",
     "text": [
      "Collecting lightgbm\n",
      "  Downloading lightgbm-3.2.1-py3-none-win_amd64.whl (1.0 MB)\n",
      "Requirement already satisfied: numpy in c:\\users\\gidtn\\appdata\\local\\programs\\python\\python39\\lib\\site-packages (from lightgbm) (1.19.5)\n",
      "Requirement already satisfied: scikit-learn!=0.22.0 in c:\\users\\gidtn\\appdata\\local\\programs\\python\\python39\\lib\\site-packages (from lightgbm) (0.24.2)\n",
      "Requirement already satisfied: scipy in c:\\users\\gidtn\\appdata\\local\\programs\\python\\python39\\lib\\site-packages (from lightgbm) (1.6.3)\n",
      "Requirement already satisfied: wheel in c:\\users\\gidtn\\appdata\\local\\programs\\python\\python39\\lib\\site-packages (from lightgbm) (0.36.2)\n",
      "Requirement already satisfied: joblib>=0.11 in c:\\users\\gidtn\\appdata\\local\\programs\\python\\python39\\lib\\site-packages (from scikit-learn!=0.22.0->lightgbm) (1.0.1)\n",
      "Requirement already satisfied: threadpoolctl>=2.0.0 in c:\\users\\gidtn\\appdata\\local\\programs\\python\\python39\\lib\\site-packages (from scikit-learn!=0.22.0->lightgbm) (2.2.0)\n",
      "Installing collected packages: lightgbm\n",
      "Successfully installed lightgbm-3.2.1\n"
     ]
    }
   ],
   "source": [
    "!pip install lightgbm"
   ]
  },
  {
   "cell_type": "code",
   "execution_count": 60,
   "id": "b26f71b8",
   "metadata": {
    "collapsed": true
   },
   "outputs": [
    {
     "name": "stdout",
     "output_type": "stream",
     "text": [
      "[1]\tvalid_0's binary_logloss: 0.66808\n",
      "Training until validation scores don't improve for 30 rounds\n",
      "[2]\tvalid_0's binary_logloss: 0.65944\n",
      "[3]\tvalid_0's binary_logloss: 0.652402\n",
      "[4]\tvalid_0's binary_logloss: 0.646647\n",
      "[5]\tvalid_0's binary_logloss: 0.641913\n",
      "[6]\tvalid_0's binary_logloss: 0.638021\n",
      "[7]\tvalid_0's binary_logloss: 0.634824\n",
      "[8]\tvalid_0's binary_logloss: 0.632134\n",
      "[9]\tvalid_0's binary_logloss: 0.629898\n",
      "[10]\tvalid_0's binary_logloss: 0.62801\n",
      "[11]\tvalid_0's binary_logloss: 0.626425\n",
      "[12]\tvalid_0's binary_logloss: 0.625113\n",
      "[13]\tvalid_0's binary_logloss: 0.623956\n",
      "[14]\tvalid_0's binary_logloss: 0.623045\n",
      "[15]\tvalid_0's binary_logloss: 0.622228\n",
      "[16]\tvalid_0's binary_logloss: 0.621571\n",
      "[17]\tvalid_0's binary_logloss: 0.620994\n",
      "[18]\tvalid_0's binary_logloss: 0.62054\n",
      "[19]\tvalid_0's binary_logloss: 0.62008\n",
      "[20]\tvalid_0's binary_logloss: 0.619712\n",
      "[21]\tvalid_0's binary_logloss: 0.619406\n",
      "[22]\tvalid_0's binary_logloss: 0.619108\n",
      "[23]\tvalid_0's binary_logloss: 0.618869\n",
      "[24]\tvalid_0's binary_logloss: 0.618668\n",
      "[25]\tvalid_0's binary_logloss: 0.618441\n",
      "[26]\tvalid_0's binary_logloss: 0.618293\n",
      "[27]\tvalid_0's binary_logloss: 0.618153\n",
      "[28]\tvalid_0's binary_logloss: 0.61804\n",
      "[29]\tvalid_0's binary_logloss: 0.617894\n",
      "[30]\tvalid_0's binary_logloss: 0.617784\n",
      "[31]\tvalid_0's binary_logloss: 0.61767\n",
      "[32]\tvalid_0's binary_logloss: 0.617587\n",
      "[33]\tvalid_0's binary_logloss: 0.617527\n",
      "[34]\tvalid_0's binary_logloss: 0.61745\n",
      "[35]\tvalid_0's binary_logloss: 0.617374\n",
      "[36]\tvalid_0's binary_logloss: 0.617306\n",
      "[37]\tvalid_0's binary_logloss: 0.617228\n",
      "[38]\tvalid_0's binary_logloss: 0.617182\n",
      "[39]\tvalid_0's binary_logloss: 0.617101\n",
      "[40]\tvalid_0's binary_logloss: 0.617045\n",
      "[41]\tvalid_0's binary_logloss: 0.616994\n",
      "[42]\tvalid_0's binary_logloss: 0.616933\n",
      "[43]\tvalid_0's binary_logloss: 0.616855\n",
      "[44]\tvalid_0's binary_logloss: 0.616847\n",
      "[45]\tvalid_0's binary_logloss: 0.61681\n",
      "[46]\tvalid_0's binary_logloss: 0.616768\n",
      "[47]\tvalid_0's binary_logloss: 0.616762\n",
      "[48]\tvalid_0's binary_logloss: 0.616764\n",
      "[49]\tvalid_0's binary_logloss: 0.61676\n",
      "[50]\tvalid_0's binary_logloss: 0.616699\n",
      "[51]\tvalid_0's binary_logloss: 0.616684\n",
      "[52]\tvalid_0's binary_logloss: 0.616673\n",
      "[53]\tvalid_0's binary_logloss: 0.616644\n",
      "[54]\tvalid_0's binary_logloss: 0.6166\n",
      "[55]\tvalid_0's binary_logloss: 0.616592\n",
      "[56]\tvalid_0's binary_logloss: 0.616581\n",
      "[57]\tvalid_0's binary_logloss: 0.61658\n",
      "[58]\tvalid_0's binary_logloss: 0.616573\n",
      "[59]\tvalid_0's binary_logloss: 0.616558\n",
      "[60]\tvalid_0's binary_logloss: 0.616551\n",
      "[61]\tvalid_0's binary_logloss: 0.616505\n",
      "[62]\tvalid_0's binary_logloss: 0.616493\n",
      "[63]\tvalid_0's binary_logloss: 0.61649\n",
      "[64]\tvalid_0's binary_logloss: 0.616506\n",
      "[65]\tvalid_0's binary_logloss: 0.616499\n",
      "[66]\tvalid_0's binary_logloss: 0.616458\n",
      "[67]\tvalid_0's binary_logloss: 0.616415\n",
      "[68]\tvalid_0's binary_logloss: 0.616399\n",
      "[69]\tvalid_0's binary_logloss: 0.616401\n",
      "[70]\tvalid_0's binary_logloss: 0.616399\n",
      "[71]\tvalid_0's binary_logloss: 0.616392\n",
      "[72]\tvalid_0's binary_logloss: 0.616405\n",
      "[73]\tvalid_0's binary_logloss: 0.616403\n",
      "[74]\tvalid_0's binary_logloss: 0.616403\n",
      "[75]\tvalid_0's binary_logloss: 0.616388\n",
      "[76]\tvalid_0's binary_logloss: 0.616377\n",
      "[77]\tvalid_0's binary_logloss: 0.616348\n",
      "[78]\tvalid_0's binary_logloss: 0.616335\n",
      "[79]\tvalid_0's binary_logloss: 0.616322\n",
      "[80]\tvalid_0's binary_logloss: 0.61632\n",
      "[81]\tvalid_0's binary_logloss: 0.61631\n",
      "[82]\tvalid_0's binary_logloss: 0.616323\n",
      "[83]\tvalid_0's binary_logloss: 0.616298\n",
      "[84]\tvalid_0's binary_logloss: 0.616287\n",
      "[85]\tvalid_0's binary_logloss: 0.616289\n",
      "[86]\tvalid_0's binary_logloss: 0.616279\n",
      "[87]\tvalid_0's binary_logloss: 0.61627\n",
      "[88]\tvalid_0's binary_logloss: 0.616272\n",
      "[89]\tvalid_0's binary_logloss: 0.616283\n",
      "[90]\tvalid_0's binary_logloss: 0.616272\n",
      "[91]\tvalid_0's binary_logloss: 0.616283\n",
      "[92]\tvalid_0's binary_logloss: 0.616275\n",
      "[93]\tvalid_0's binary_logloss: 0.61627\n",
      "[94]\tvalid_0's binary_logloss: 0.616273\n",
      "[95]\tvalid_0's binary_logloss: 0.616275\n",
      "[96]\tvalid_0's binary_logloss: 0.616243\n",
      "[97]\tvalid_0's binary_logloss: 0.616227\n",
      "[98]\tvalid_0's binary_logloss: 0.616227\n",
      "[99]\tvalid_0's binary_logloss: 0.616222\n",
      "[100]\tvalid_0's binary_logloss: 0.616206\n",
      "[101]\tvalid_0's binary_logloss: 0.616219\n",
      "[102]\tvalid_0's binary_logloss: 0.616208\n",
      "[103]\tvalid_0's binary_logloss: 0.616209\n",
      "[104]\tvalid_0's binary_logloss: 0.6162\n",
      "[105]\tvalid_0's binary_logloss: 0.616196\n",
      "[106]\tvalid_0's binary_logloss: 0.616193\n",
      "[107]\tvalid_0's binary_logloss: 0.616194\n",
      "[108]\tvalid_0's binary_logloss: 0.616162\n",
      "[109]\tvalid_0's binary_logloss: 0.616171\n",
      "[110]\tvalid_0's binary_logloss: 0.616149\n",
      "[111]\tvalid_0's binary_logloss: 0.616151\n",
      "[112]\tvalid_0's binary_logloss: 0.616152\n",
      "[113]\tvalid_0's binary_logloss: 0.616144\n",
      "[114]\tvalid_0's binary_logloss: 0.616126\n",
      "[115]\tvalid_0's binary_logloss: 0.616107\n",
      "[116]\tvalid_0's binary_logloss: 0.616118\n",
      "[117]\tvalid_0's binary_logloss: 0.616127\n",
      "[118]\tvalid_0's binary_logloss: 0.616127\n",
      "[119]\tvalid_0's binary_logloss: 0.616108\n",
      "[120]\tvalid_0's binary_logloss: 0.616101\n",
      "[121]\tvalid_0's binary_logloss: 0.616099\n",
      "[122]\tvalid_0's binary_logloss: 0.616107\n",
      "[123]\tvalid_0's binary_logloss: 0.616121\n",
      "[124]\tvalid_0's binary_logloss: 0.616116\n",
      "[125]\tvalid_0's binary_logloss: 0.616121\n",
      "[126]\tvalid_0's binary_logloss: 0.616125\n",
      "[127]\tvalid_0's binary_logloss: 0.61612\n",
      "[128]\tvalid_0's binary_logloss: 0.616124\n",
      "[129]\tvalid_0's binary_logloss: 0.616124\n",
      "[130]\tvalid_0's binary_logloss: 0.616091\n",
      "[131]\tvalid_0's binary_logloss: 0.616074\n",
      "[132]\tvalid_0's binary_logloss: 0.616079\n",
      "[133]\tvalid_0's binary_logloss: 0.616086\n",
      "[134]\tvalid_0's binary_logloss: 0.616087\n",
      "[135]\tvalid_0's binary_logloss: 0.616097\n",
      "[136]\tvalid_0's binary_logloss: 0.616104\n",
      "[137]\tvalid_0's binary_logloss: 0.616099\n",
      "[138]\tvalid_0's binary_logloss: 0.616104\n",
      "[139]\tvalid_0's binary_logloss: 0.616092\n",
      "[140]\tvalid_0's binary_logloss: 0.616103\n",
      "[141]\tvalid_0's binary_logloss: 0.616098\n",
      "[142]\tvalid_0's binary_logloss: 0.616113\n",
      "[143]\tvalid_0's binary_logloss: 0.616117\n",
      "[144]\tvalid_0's binary_logloss: 0.616121\n",
      "[145]\tvalid_0's binary_logloss: 0.616136\n",
      "[146]\tvalid_0's binary_logloss: 0.616136\n",
      "[147]\tvalid_0's binary_logloss: 0.616139\n",
      "[148]\tvalid_0's binary_logloss: 0.616134\n",
      "[149]\tvalid_0's binary_logloss: 0.616142\n",
      "[150]\tvalid_0's binary_logloss: 0.616139\n",
      "[151]\tvalid_0's binary_logloss: 0.616128\n",
      "[152]\tvalid_0's binary_logloss: 0.616118\n",
      "[153]\tvalid_0's binary_logloss: 0.61612\n",
      "[154]\tvalid_0's binary_logloss: 0.616113\n",
      "[155]\tvalid_0's binary_logloss: 0.616109\n",
      "[156]\tvalid_0's binary_logloss: 0.616118\n",
      "[157]\tvalid_0's binary_logloss: 0.616122\n",
      "[158]\tvalid_0's binary_logloss: 0.616109\n",
      "[159]\tvalid_0's binary_logloss: 0.616097\n",
      "[160]\tvalid_0's binary_logloss: 0.616104\n",
      "[161]\tvalid_0's binary_logloss: 0.616107\n",
      "Early stopping, best iteration is:\n",
      "[131]\tvalid_0's binary_logloss: 0.616074\n"
     ]
    }
   ],
   "source": [
    "from lightgbm import LGBMClassifier\n",
    "from lightgbm import plot_importance, plot_metric, plot_tree\n",
    "from sklearn.model_selection import train_test_split, cross_validate\n",
    "\n",
    "lgbm_wrapper_classifier = LGBMClassifier(n_estimators = 200)\n",
    "evals = [(X_test, y_test)]\n",
    "lgbm_wrapper_classifier.fit(X_train, y_train, early_stopping_rounds = 30, \n",
    "                            eval_metric = 'logloss', eval_set = evals, verbose = True)\n",
    "\n",
    "preds = lgbm_wrapper_classifier.predict(X_test)\n",
    "pred_proba = lgbm_wrapper_classifier.predict_proba(X_test)[:,1]"
   ]
  },
  {
   "cell_type": "code",
   "execution_count": 158,
   "id": "8ce370ae",
   "metadata": {
    "collapsed": true
   },
   "outputs": [
    {
     "name": "stdout",
     "output_type": "stream",
     "text": [
      "[0.60239965 0.63419219 0.61417671]\n",
      "avg test score : 0.6169 (+/-0.0131)\n"
     ]
    }
   ],
   "source": [
    "cross_val = cross_validate(estimator = lgbm_wrapper_classifier, X = X_data, y = y_label, cv = 3)\n",
    "print(cross_val['test_score'])\n",
    "print('avg test score : {:.4f} (+/-{:.4f})'.format(cross_val['test_score'].mean(), cross_val['test_score'].std()))"
   ]
  },
  {
   "cell_type": "code",
   "execution_count": 159,
   "id": "12dde507",
   "metadata": {
    "collapsed": true
   },
   "outputs": [
    {
     "data": {
      "text/plain": [
       "{'fit_time': array([0.19996119, 0.19953752, 0.17897272]),\n",
       " 'score_time': array([0.04129744, 0.04349613, 0.04486322]),\n",
       " 'test_score': array([0.60239965, 0.63419219, 0.61417671])}"
      ]
     },
     "execution_count": 159,
     "metadata": {},
     "output_type": "execute_result"
    }
   ],
   "source": [
    "cross_val"
   ]
  },
  {
   "cell_type": "code",
   "execution_count": 160,
   "id": "2681de1b",
   "metadata": {
    "collapsed": true
   },
   "outputs": [
    {
     "data": {
      "text/plain": [
       "<AxesSubplot:title={'center':'Metric during training'}, xlabel='Iterations', ylabel='binary_logloss'>"
      ]
     },
     "execution_count": 160,
     "metadata": {},
     "output_type": "execute_result"
    },
    {
     "data": {
      "image/png": "[encoded data removed]",
      "text/plain": [
       "<Figure size 432x288 with 1 Axes>"
      ]
     },
     "metadata": {
      "needs_background": "light"
     },
     "output_type": "display_data"
    }
   ],
   "source": [
    "plot_metric(lgbm_wrapper_classifier)"
   ]
  },
  {
   "cell_type": "code",
   "execution_count": 161,
   "id": "5541ede1",
   "metadata": {
    "collapsed": true
   },
   "outputs": [
    {
     "data": {
      "text/plain": [
       "<AxesSubplot:title={'center':'Feature importance'}, xlabel='Feature importance', ylabel='Features'>"
      ]
     },
     "execution_count": 161,
     "metadata": {},
     "output_type": "execute_result"
    },
    {
     "data": {
      "image/png": "[encoded data removed]",
      "text/plain": [
       "<Figure size 720x864 with 1 Axes>"
      ]
     },
     "metadata": {
      "needs_background": "light"
     },
     "output_type": "display_data"
    }
   ],
   "source": [
    "from lightgbm import plot_importance\n",
    "fig, ax = plt.subplots(figsize = (10, 12))\n",
    "plot_importance(lgbm_wrapper_classifier, ax = ax)"
   ]
  },
  {
   "cell_type": "markdown",
   "id": "98b57368",
   "metadata": {},
   "source": [
    "### Stacking 💫\n",
    "    Model 들을 쌓아서, 정확도를 올리자\n",
    "   ----"
   ]
  },
  {
   "cell_type": "code",
   "execution_count": 271,
   "id": "c70886ff",
   "metadata": {},
   "outputs": [],
   "source": [
    "# Model import \n",
    "\n",
    "from sklearn.neighbors import KNeighborsClassifier\n",
    "from sklearn.ensemble import RandomForestClassifier, AdaBoostClassifier, GradientBoostingClassifier\n",
    "from sklearn.tree import DecisionTreeClassifier, ExtraTreeClassifier\n",
    "from sklearn.linear_model import LogisticRegression\n",
    "from sklearn.neural_network import MLPClassifier\n",
    "from sklearn.naive_bayes import GaussianNB\n",
    "from lightgbm import LGBMClassifier\n",
    "\n",
    "from sklearn.metrics import accuracy_score"
   ]
  },
  {
   "cell_type": "code",
   "execution_count": 272,
   "id": "a75e34ad",
   "metadata": {},
   "outputs": [],
   "source": [
    "# Model import \n",
    "\n",
    "knn_clf = KNeighborsClassifier(n_neighbors = 9)\n",
    "\n",
    "rf_clf = RandomForestClassifier(bootstrap = True,\n",
    " max_depth = 90,\n",
    " max_features = 2,\n",
    " min_samples_leaf = 5,\n",
    " min_samples_split = 12,\n",
    " n_estimators = 1000)\n",
    "\n",
    "dt_clf = DecisionTreeClassifier()\n",
    "\n",
    "ada_clf = AdaBoostClassifier(n_estimators = 100) \n",
    "\n",
    "mlp_clf = MLPClassifier(solver='lbfgs', random_state = 10,\n",
    "                      hidden_layer_sizes=[100,100]) # hideen_layer_sizes Tunnig \n",
    "\n",
    "grd_clf = GradientBoostingClassifier()\n",
    "\n",
    "gb_clf = GaussianNB() # Tunning 어려움\n",
    "\n",
    "ex_clf = ExtraTreeClassifier() # Tunning 딱히 불필요 \n",
    "\n",
    "lgbm_wrapper_classifier = LGBMClassifier(n_estimators = 200)\n",
    "\n",
    "lr_final = LogisticRegression(C = 0.5)"
   ]
  },
  {
   "cell_type": "code",
   "execution_count": 243,
   "id": "4f94438d",
   "metadata": {},
   "outputs": [
    {
     "data": {
      "text/plain": [
       "AdaBoostClassifier(n_estimators=100)"
      ]
     },
     "execution_count": 243,
     "metadata": {},
     "output_type": "execute_result"
    }
   ],
   "source": [
    "# Model Training \n",
    "\n",
    "# knn_clf.fit(X_train, y_train) \n",
    "# rf_clf.fit(X_train, y_train) \n",
    "# dt_clf.fit(X_train, y_train)\n",
    "# ada_clf.fit(X_train, y_train) "
   ]
  },
  {
   "cell_type": "code",
   "execution_count": 273,
   "id": "399a58d4",
   "metadata": {
    "scrolled": true
   },
   "outputs": [
    {
     "name": "stdout",
     "output_type": "stream",
     "text": [
      "[1]\tvalid_0's binary_logloss: 0.676861\n",
      "Training until validation scores don't improve for 30 rounds\n",
      "[2]\tvalid_0's binary_logloss: 0.663315\n",
      "[3]\tvalid_0's binary_logloss: 0.652684\n",
      "[4]\tvalid_0's binary_logloss: 0.643972\n",
      "[5]\tvalid_0's binary_logloss: 0.637099\n",
      "[6]\tvalid_0's binary_logloss: 0.630318\n",
      "[7]\tvalid_0's binary_logloss: 0.625193\n",
      "[8]\tvalid_0's binary_logloss: 0.620918\n",
      "[9]\tvalid_0's binary_logloss: 0.61694\n",
      "[10]\tvalid_0's binary_logloss: 0.613831\n",
      "[11]\tvalid_0's binary_logloss: 0.611345\n",
      "[12]\tvalid_0's binary_logloss: 0.609273\n",
      "[13]\tvalid_0's binary_logloss: 0.607201\n",
      "[14]\tvalid_0's binary_logloss: 0.605174\n",
      "[15]\tvalid_0's binary_logloss: 0.60261\n",
      "[16]\tvalid_0's binary_logloss: 0.601761\n",
      "[17]\tvalid_0's binary_logloss: 0.60013\n",
      "[18]\tvalid_0's binary_logloss: 0.598789\n",
      "[19]\tvalid_0's binary_logloss: 0.597654\n",
      "[20]\tvalid_0's binary_logloss: 0.59669\n",
      "[21]\tvalid_0's binary_logloss: 0.595229\n",
      "[22]\tvalid_0's binary_logloss: 0.594221\n",
      "[23]\tvalid_0's binary_logloss: 0.593063\n",
      "[24]\tvalid_0's binary_logloss: 0.592623\n",
      "[25]\tvalid_0's binary_logloss: 0.592143\n",
      "[26]\tvalid_0's binary_logloss: 0.591495\n",
      "[27]\tvalid_0's binary_logloss: 0.590739\n",
      "[28]\tvalid_0's binary_logloss: 0.590021\n",
      "[29]\tvalid_0's binary_logloss: 0.590503\n",
      "[30]\tvalid_0's binary_logloss: 0.590003\n",
      "[31]\tvalid_0's binary_logloss: 0.589855\n",
      "[32]\tvalid_0's binary_logloss: 0.589168\n",
      "[33]\tvalid_0's binary_logloss: 0.588401\n",
      "[34]\tvalid_0's binary_logloss: 0.587539\n",
      "[35]\tvalid_0's binary_logloss: 0.58702\n",
      "[36]\tvalid_0's binary_logloss: 0.587092\n",
      "[37]\tvalid_0's binary_logloss: 0.586691\n",
      "[38]\tvalid_0's binary_logloss: 0.586242\n",
      "[39]\tvalid_0's binary_logloss: 0.586367\n",
      "[40]\tvalid_0's binary_logloss: 0.585598\n",
      "[41]\tvalid_0's binary_logloss: 0.58502\n",
      "[42]\tvalid_0's binary_logloss: 0.585021\n",
      "[43]\tvalid_0's binary_logloss: 0.584141\n",
      "[44]\tvalid_0's binary_logloss: 0.584045\n",
      "[45]\tvalid_0's binary_logloss: 0.583608\n",
      "[46]\tvalid_0's binary_logloss: 0.583264\n",
      "[47]\tvalid_0's binary_logloss: 0.58324\n",
      "[48]\tvalid_0's binary_logloss: 0.582723\n",
      "[49]\tvalid_0's binary_logloss: 0.582326\n",
      "[50]\tvalid_0's binary_logloss: 0.581743\n",
      "[51]\tvalid_0's binary_logloss: 0.58162\n",
      "[52]\tvalid_0's binary_logloss: 0.581293\n",
      "[53]\tvalid_0's binary_logloss: 0.581097\n",
      "[54]\tvalid_0's binary_logloss: 0.581244\n",
      "[55]\tvalid_0's binary_logloss: 0.581314\n",
      "[56]\tvalid_0's binary_logloss: 0.581363\n",
      "[57]\tvalid_0's binary_logloss: 0.581337\n",
      "[58]\tvalid_0's binary_logloss: 0.580897\n",
      "[59]\tvalid_0's binary_logloss: 0.58054\n",
      "[60]\tvalid_0's binary_logloss: 0.580347\n",
      "[61]\tvalid_0's binary_logloss: 0.580523\n",
      "[62]\tvalid_0's binary_logloss: 0.580687\n",
      "[63]\tvalid_0's binary_logloss: 0.580501\n",
      "[64]\tvalid_0's binary_logloss: 0.580485\n",
      "[65]\tvalid_0's binary_logloss: 0.579946\n",
      "[66]\tvalid_0's binary_logloss: 0.580153\n",
      "[67]\tvalid_0's binary_logloss: 0.580028\n",
      "[68]\tvalid_0's binary_logloss: 0.57998\n",
      "[69]\tvalid_0's binary_logloss: 0.579825\n",
      "[70]\tvalid_0's binary_logloss: 0.579826\n",
      "[71]\tvalid_0's binary_logloss: 0.579652\n",
      "[72]\tvalid_0's binary_logloss: 0.579613\n",
      "[73]\tvalid_0's binary_logloss: 0.579552\n",
      "[74]\tvalid_0's binary_logloss: 0.579537\n",
      "[75]\tvalid_0's binary_logloss: 0.57948\n",
      "[76]\tvalid_0's binary_logloss: 0.579252\n",
      "[77]\tvalid_0's binary_logloss: 0.578919\n",
      "[78]\tvalid_0's binary_logloss: 0.579321\n",
      "[79]\tvalid_0's binary_logloss: 0.579258\n",
      "[80]\tvalid_0's binary_logloss: 0.579137\n",
      "[81]\tvalid_0's binary_logloss: 0.579008\n",
      "[82]\tvalid_0's binary_logloss: 0.578947\n",
      "[83]\tvalid_0's binary_logloss: 0.578898\n",
      "[84]\tvalid_0's binary_logloss: 0.578647\n",
      "[85]\tvalid_0's binary_logloss: 0.578758\n",
      "[86]\tvalid_0's binary_logloss: 0.578797\n",
      "[87]\tvalid_0's binary_logloss: 0.57863\n",
      "[88]\tvalid_0's binary_logloss: 0.578731\n",
      "[89]\tvalid_0's binary_logloss: 0.578693\n",
      "[90]\tvalid_0's binary_logloss: 0.579\n",
      "[91]\tvalid_0's binary_logloss: 0.579432\n",
      "[92]\tvalid_0's binary_logloss: 0.578945\n",
      "[93]\tvalid_0's binary_logloss: 0.578685\n",
      "[94]\tvalid_0's binary_logloss: 0.578898\n",
      "[95]\tvalid_0's binary_logloss: 0.578264\n",
      "[96]\tvalid_0's binary_logloss: 0.578529\n",
      "[97]\tvalid_0's binary_logloss: 0.578018\n",
      "[98]\tvalid_0's binary_logloss: 0.578272\n",
      "[99]\tvalid_0's binary_logloss: 0.578395\n",
      "[100]\tvalid_0's binary_logloss: 0.578569\n",
      "[101]\tvalid_0's binary_logloss: 0.578828\n",
      "[102]\tvalid_0's binary_logloss: 0.578982\n",
      "[103]\tvalid_0's binary_logloss: 0.578708\n",
      "[104]\tvalid_0's binary_logloss: 0.578761\n",
      "[105]\tvalid_0's binary_logloss: 0.578537\n",
      "[106]\tvalid_0's binary_logloss: 0.578803\n",
      "[107]\tvalid_0's binary_logloss: 0.578957\n",
      "[108]\tvalid_0's binary_logloss: 0.579045\n",
      "[109]\tvalid_0's binary_logloss: 0.579453\n",
      "[110]\tvalid_0's binary_logloss: 0.579169\n",
      "[111]\tvalid_0's binary_logloss: 0.579368\n",
      "[112]\tvalid_0's binary_logloss: 0.579679\n",
      "[113]\tvalid_0's binary_logloss: 0.579532\n",
      "[114]\tvalid_0's binary_logloss: 0.579876\n",
      "[115]\tvalid_0's binary_logloss: 0.579829\n",
      "[116]\tvalid_0's binary_logloss: 0.579343\n",
      "[117]\tvalid_0's binary_logloss: 0.579123\n",
      "[118]\tvalid_0's binary_logloss: 0.579125\n",
      "[119]\tvalid_0's binary_logloss: 0.579231\n",
      "[120]\tvalid_0's binary_logloss: 0.579125\n",
      "[121]\tvalid_0's binary_logloss: 0.579039\n",
      "[122]\tvalid_0's binary_logloss: 0.578955\n",
      "[123]\tvalid_0's binary_logloss: 0.578824\n",
      "[124]\tvalid_0's binary_logloss: 0.578684\n",
      "[125]\tvalid_0's binary_logloss: 0.578812\n",
      "[126]\tvalid_0's binary_logloss: 0.578724\n",
      "[127]\tvalid_0's binary_logloss: 0.578754\n",
      "Early stopping, best iteration is:\n",
      "[97]\tvalid_0's binary_logloss: 0.578018\n"
     ]
    },
    {
     "data": {
      "text/plain": [
       "LGBMClassifier(n_estimators=200)"
      ]
     },
     "execution_count": 273,
     "metadata": {},
     "output_type": "execute_result"
    }
   ],
   "source": [
    "# # mlp_clf.fit(X_train,y_train)\n",
    "# grd_clf.fit(X_train,y_train)\n",
    "# gb_clf.fit(X_train,y_train)\n",
    "# ex_clf.fit(X_train,y_train)\n",
    "\n",
    "knn_clf.fit(X_train_over, y_train_over) \n",
    "rf_clf.fit(X_train_over, y_train_over) \n",
    "dt_clf.fit(X_train_over, y_train_over) \n",
    "ada_clf.fit(X_train_over, y_train_over) \n",
    "# mlp_clf.fit(X_train_over,y_train_over)\n",
    "grd_clf.fit(X_train_over,y_train_over)\n",
    "gb_clf.fit(X_train_over,y_train_over)\n",
    "ex_clf.fit(X_train_over,y_train_over)\n",
    "\n",
    "evals = [(X_test, y_test)]\n",
    "lgbm_wrapper_classifier.fit(X_train_over, y_train_over, early_stopping_rounds = 30, \n",
    "                            eval_metric = 'logloss', eval_set = evals, verbose = True)"
   ]
  },
  {
   "cell_type": "code",
   "execution_count": 274,
   "id": "4f04a91d",
   "metadata": {},
   "outputs": [
    {
     "name": "stdout",
     "output_type": "stream",
     "text": [
      "KNN 정확도 : 0.6604\n",
      "랜덤 포레스트 정확도 : 0.7011\n",
      "결정 트리 정확도 : 0.6751\n",
      "에이다부스트 정확도 : 0.7265\n",
      "GradientBoostingClassifer : 0.7332\n",
      "GaussianNB 정확도 : 0.6338\n",
      "ExtraTreeclassifer 정확도 : 0.6664\n",
      "LightGBM 정확도 : 0.7158\n"
     ]
    }
   ],
   "source": [
    "# Model Prediction\n",
    "\n",
    "knn_pred = knn_clf.predict(X_test)\n",
    "rf_pred = rf_clf.predict(X_test)\n",
    "dt_pred = dt_clf.predict(X_test)\n",
    "ada_pred = ada_clf.predict(X_test)\n",
    "# mlp_pred = mlp_clf.predict(X_test)\n",
    "grd_pred = grd_clf.predict(X_test)\n",
    "gb_pred = gb_clf.predict(X_test)\n",
    "ex_pred = ex_clf.predict(X_test)\n",
    "lightgbm_pred = lgbm_wrapper_classifier.predict(X_test)\n",
    "\n",
    "\n",
    "\n",
    "\n",
    "print('KNN 정확도 : {0:.4f}'.format(accuracy_score(y_test, knn_pred)))\n",
    "print('랜덤 포레스트 정확도 : {0:.4f}'.format(accuracy_score(y_test, rf_pred)))\n",
    "print('결정 트리 정확도 : {0:.4f}'.format(accuracy_score(y_test, dt_pred)))\n",
    "print('에이다부스트 정확도 : {0:.4f}'.format(accuracy_score(y_test, ada_pred)))\n",
    "# print('MLPClassfier 정확도 : {0:.4f}'.format(accuracy_score(y_test, mlp_pred)))\n",
    "print('GradientBoostingClassifer : {0:.4f}'.format(accuracy_score(y_test, grd_pred)))\n",
    "print('GaussianNB 정확도 : {0:.4f}'.format(accuracy_score(y_test, gb_pred)))\n",
    "print('ExtraTreeclassifer 정확도 : {0:.4f}'.format(accuracy_score(y_test, ex_pred)))\n",
    "print('LightGBM 정확도 : {0:.4f}'.format(accuracy_score(y_test, lightgbm_pred)))\n"
   ]
  },
  {
   "cell_type": "code",
   "execution_count": 275,
   "id": "b46dd5b2",
   "metadata": {},
   "outputs": [],
   "source": [
    "### df_mix\n",
    "pred = np.array([rf_pred, ada_pred, grd_pred, lightgbm_pred])\n",
    "pred = np.transpose(pred)"
   ]
  },
  {
   "cell_type": "code",
   "execution_count": 249,
   "id": "9dbc8ed2",
   "metadata": {},
   "outputs": [
    {
     "name": "stdout",
     "output_type": "stream",
     "text": [
      "최종 메타 모델의 예측 정확도 : 0.6882\n"
     ]
    }
   ],
   "source": [
    "lr_final.fit(pred, y_test)\n",
    "final = lr_final.predict(pred)\n",
    "\n",
    "print('최종 메타 모델의 예측 정확도 : {0:.4f}'.format(accuracy_score(y_test, final)))"
   ]
  },
  {
   "cell_type": "code",
   "execution_count": 276,
   "id": "bac84a1f",
   "metadata": {},
   "outputs": [
    {
     "name": "stdout",
     "output_type": "stream",
     "text": [
      "0.7158105403602402\n",
      "0.797608095676173\n",
      "0.8080149114631874\n",
      "0.8027777777777778\n"
     ]
    }
   ],
   "source": [
    "from sklearn.metrics import accuracy_score, recall_score, precision_score, f1_score\n",
    "\n",
    "print(accuracy_score(y_test, lightgbm_pred))\n",
    "print(recall_score(y_test, lightgbm_pred))\n",
    "print(precision_score(y_test, lightgbm_pred))\n",
    "print(f1_score(y_test, lightgbm_pred))"
   ]
  },
  {
   "cell_type": "code",
   "execution_count": null,
   "id": "f576f78e",
   "metadata": {},
   "outputs": [],
   "source": [
    "from sklearn.model_selection import cross_val_predict\n",
    "from sklearn.metrics import confusion_matrix\n",
    "\n",
    "y_train_pred = cross_val_predict(lr_final, X_train, y_train, cv = 3)\n",
    "cf = confusion_matrix(y_train, y_train_pred)\n",
    "print(cf)"
   ]
  },
  {
   "cell_type": "code",
   "execution_count": null,
   "id": "310237c4",
   "metadata": {},
   "outputs": [],
   "source": []
  },
  {
   "cell_type": "code",
   "execution_count": null,
   "id": "f7be2f00",
   "metadata": {},
   "outputs": [],
   "source": [
    "오버샘플링 : 0.78\n",
    "오버샘플링X : 0.79\n",
    "직영 오버샘플링 : 0.80\n",
    "직영 오토인코더0.83"
   ]
  },
  {
   "cell_type": "code",
   "execution_count": 321,
   "id": "d75dc75d",
   "metadata": {},
   "outputs": [
    {
     "data": {
      "text/plain": [
       "1.098612    1633\n",
       "1.386294    1433\n",
       "0.000000    1405\n",
       "0.693147    1309\n",
       "1.609438     602\n",
       "1.791759     563\n",
       "2.079442     210\n",
       "1.945910     201\n",
       "2.197225     135\n",
       "Name: 당시의나이, dtype: int64"
      ]
     },
     "execution_count": 321,
     "metadata": {},
     "output_type": "execute_result"
    }
   ],
   "source": [
    "nomix['당시의나이'].value_counts()"
   ]
  },
  {
   "cell_type": "markdown",
   "id": "db6275e9",
   "metadata": {},
   "source": [
    "## autoencoder\n",
    "---"
   ]
  },
  {
   "cell_type": "code",
   "execution_count": 277,
   "id": "bdc12067",
   "metadata": {},
   "outputs": [],
   "source": [
    "from pycaret.classification import *"
   ]
  },
  {
   "cell_type": "code",
   "execution_count": 307,
   "id": "000b7f33",
   "metadata": {
    "scrolled": true
   },
   "outputs": [
    {
     "data": {
      "text/html": [
       "<style  type=\"text/css\" >\n",
       "#T_81721_row18_col1{\n",
       "            background-color:  lightgreen;\n",
       "        }</style><table id=\"T_81721_\" ><thead>    <tr>        <th class=\"blank level0\" ></th>        <th class=\"col_heading level0 col0\" >Description</th>        <th class=\"col_heading level0 col1\" >Value</th>    </tr></thead><tbody>\n",
       "                <tr>\n",
       "                        <th id=\"T_81721_level0_row0\" class=\"row_heading level0 row0\" >0</th>\n",
       "                        <td id=\"T_81721_row0_col0\" class=\"data row0 col0\" >session_id</td>\n",
       "                        <td id=\"T_81721_row0_col1\" class=\"data row0 col1\" >10</td>\n",
       "            </tr>\n",
       "            <tr>\n",
       "                        <th id=\"T_81721_level0_row1\" class=\"row_heading level0 row1\" >1</th>\n",
       "                        <td id=\"T_81721_row1_col0\" class=\"data row1 col0\" >Target</td>\n",
       "                        <td id=\"T_81721_row1_col1\" class=\"data row1 col1\" >상태</td>\n",
       "            </tr>\n",
       "            <tr>\n",
       "                        <th id=\"T_81721_level0_row2\" class=\"row_heading level0 row2\" >2</th>\n",
       "                        <td id=\"T_81721_row2_col0\" class=\"data row2 col0\" >Target Type</td>\n",
       "                        <td id=\"T_81721_row2_col1\" class=\"data row2 col1\" >Binary</td>\n",
       "            </tr>\n",
       "            <tr>\n",
       "                        <th id=\"T_81721_level0_row3\" class=\"row_heading level0 row3\" >3</th>\n",
       "                        <td id=\"T_81721_row3_col0\" class=\"data row3 col0\" >Label Encoded</td>\n",
       "                        <td id=\"T_81721_row3_col1\" class=\"data row3 col1\" >0: 0, 1: 1</td>\n",
       "            </tr>\n",
       "            <tr>\n",
       "                        <th id=\"T_81721_level0_row4\" class=\"row_heading level0 row4\" >4</th>\n",
       "                        <td id=\"T_81721_row4_col0\" class=\"data row4 col0\" >Original Data</td>\n",
       "                        <td id=\"T_81721_row4_col1\" class=\"data row4 col1\" >(7491, 7)</td>\n",
       "            </tr>\n",
       "            <tr>\n",
       "                        <th id=\"T_81721_level0_row5\" class=\"row_heading level0 row5\" >5</th>\n",
       "                        <td id=\"T_81721_row5_col0\" class=\"data row5 col0\" >Missing Values</td>\n",
       "                        <td id=\"T_81721_row5_col1\" class=\"data row5 col1\" >False</td>\n",
       "            </tr>\n",
       "            <tr>\n",
       "                        <th id=\"T_81721_level0_row6\" class=\"row_heading level0 row6\" >6</th>\n",
       "                        <td id=\"T_81721_row6_col0\" class=\"data row6 col0\" >Numeric Features</td>\n",
       "                        <td id=\"T_81721_row6_col1\" class=\"data row6 col1\" >2</td>\n",
       "            </tr>\n",
       "            <tr>\n",
       "                        <th id=\"T_81721_level0_row7\" class=\"row_heading level0 row7\" >7</th>\n",
       "                        <td id=\"T_81721_row7_col0\" class=\"data row7 col0\" >Categorical Features</td>\n",
       "                        <td id=\"T_81721_row7_col1\" class=\"data row7 col1\" >4</td>\n",
       "            </tr>\n",
       "            <tr>\n",
       "                        <th id=\"T_81721_level0_row8\" class=\"row_heading level0 row8\" >8</th>\n",
       "                        <td id=\"T_81721_row8_col0\" class=\"data row8 col0\" >Ordinal Features</td>\n",
       "                        <td id=\"T_81721_row8_col1\" class=\"data row8 col1\" >False</td>\n",
       "            </tr>\n",
       "            <tr>\n",
       "                        <th id=\"T_81721_level0_row9\" class=\"row_heading level0 row9\" >9</th>\n",
       "                        <td id=\"T_81721_row9_col0\" class=\"data row9 col0\" >High Cardinality Features</td>\n",
       "                        <td id=\"T_81721_row9_col1\" class=\"data row9 col1\" >False</td>\n",
       "            </tr>\n",
       "            <tr>\n",
       "                        <th id=\"T_81721_level0_row10\" class=\"row_heading level0 row10\" >10</th>\n",
       "                        <td id=\"T_81721_row10_col0\" class=\"data row10 col0\" >High Cardinality Method</td>\n",
       "                        <td id=\"T_81721_row10_col1\" class=\"data row10 col1\" >None</td>\n",
       "            </tr>\n",
       "            <tr>\n",
       "                        <th id=\"T_81721_level0_row11\" class=\"row_heading level0 row11\" >11</th>\n",
       "                        <td id=\"T_81721_row11_col0\" class=\"data row11 col0\" >Transformed Train Set</td>\n",
       "                        <td id=\"T_81721_row11_col1\" class=\"data row11 col1\" >(5992, 18)</td>\n",
       "            </tr>\n",
       "            <tr>\n",
       "                        <th id=\"T_81721_level0_row12\" class=\"row_heading level0 row12\" >12</th>\n",
       "                        <td id=\"T_81721_row12_col0\" class=\"data row12 col0\" >Transformed Test Set</td>\n",
       "                        <td id=\"T_81721_row12_col1\" class=\"data row12 col1\" >(1499, 18)</td>\n",
       "            </tr>\n",
       "            <tr>\n",
       "                        <th id=\"T_81721_level0_row13\" class=\"row_heading level0 row13\" >13</th>\n",
       "                        <td id=\"T_81721_row13_col0\" class=\"data row13 col0\" >Shuffle Train-Test</td>\n",
       "                        <td id=\"T_81721_row13_col1\" class=\"data row13 col1\" >True</td>\n",
       "            </tr>\n",
       "            <tr>\n",
       "                        <th id=\"T_81721_level0_row14\" class=\"row_heading level0 row14\" >14</th>\n",
       "                        <td id=\"T_81721_row14_col0\" class=\"data row14 col0\" >Stratify Train-Test</td>\n",
       "                        <td id=\"T_81721_row14_col1\" class=\"data row14 col1\" >False</td>\n",
       "            </tr>\n",
       "            <tr>\n",
       "                        <th id=\"T_81721_level0_row15\" class=\"row_heading level0 row15\" >15</th>\n",
       "                        <td id=\"T_81721_row15_col0\" class=\"data row15 col0\" >Fold Generator</td>\n",
       "                        <td id=\"T_81721_row15_col1\" class=\"data row15 col1\" >StratifiedKFold</td>\n",
       "            </tr>\n",
       "            <tr>\n",
       "                        <th id=\"T_81721_level0_row16\" class=\"row_heading level0 row16\" >16</th>\n",
       "                        <td id=\"T_81721_row16_col0\" class=\"data row16 col0\" >Fold Number</td>\n",
       "                        <td id=\"T_81721_row16_col1\" class=\"data row16 col1\" >10</td>\n",
       "            </tr>\n",
       "            <tr>\n",
       "                        <th id=\"T_81721_level0_row17\" class=\"row_heading level0 row17\" >17</th>\n",
       "                        <td id=\"T_81721_row17_col0\" class=\"data row17 col0\" >CPU Jobs</td>\n",
       "                        <td id=\"T_81721_row17_col1\" class=\"data row17 col1\" >-1</td>\n",
       "            </tr>\n",
       "            <tr>\n",
       "                        <th id=\"T_81721_level0_row18\" class=\"row_heading level0 row18\" >18</th>\n",
       "                        <td id=\"T_81721_row18_col0\" class=\"data row18 col0\" >Use GPU</td>\n",
       "                        <td id=\"T_81721_row18_col1\" class=\"data row18 col1\" >True</td>\n",
       "            </tr>\n",
       "            <tr>\n",
       "                        <th id=\"T_81721_level0_row19\" class=\"row_heading level0 row19\" >19</th>\n",
       "                        <td id=\"T_81721_row19_col0\" class=\"data row19 col0\" >Log Experiment</td>\n",
       "                        <td id=\"T_81721_row19_col1\" class=\"data row19 col1\" >False</td>\n",
       "            </tr>\n",
       "            <tr>\n",
       "                        <th id=\"T_81721_level0_row20\" class=\"row_heading level0 row20\" >20</th>\n",
       "                        <td id=\"T_81721_row20_col0\" class=\"data row20 col0\" >Experiment Name</td>\n",
       "                        <td id=\"T_81721_row20_col1\" class=\"data row20 col1\" >clf-default-name</td>\n",
       "            </tr>\n",
       "            <tr>\n",
       "                        <th id=\"T_81721_level0_row21\" class=\"row_heading level0 row21\" >21</th>\n",
       "                        <td id=\"T_81721_row21_col0\" class=\"data row21 col0\" >USI</td>\n",
       "                        <td id=\"T_81721_row21_col1\" class=\"data row21 col1\" >e939</td>\n",
       "            </tr>\n",
       "            <tr>\n",
       "                        <th id=\"T_81721_level0_row22\" class=\"row_heading level0 row22\" >22</th>\n",
       "                        <td id=\"T_81721_row22_col0\" class=\"data row22 col0\" >Imputation Type</td>\n",
       "                        <td id=\"T_81721_row22_col1\" class=\"data row22 col1\" >simple</td>\n",
       "            </tr>\n",
       "            <tr>\n",
       "                        <th id=\"T_81721_level0_row23\" class=\"row_heading level0 row23\" >23</th>\n",
       "                        <td id=\"T_81721_row23_col0\" class=\"data row23 col0\" >Iterative Imputation Iteration</td>\n",
       "                        <td id=\"T_81721_row23_col1\" class=\"data row23 col1\" >None</td>\n",
       "            </tr>\n",
       "            <tr>\n",
       "                        <th id=\"T_81721_level0_row24\" class=\"row_heading level0 row24\" >24</th>\n",
       "                        <td id=\"T_81721_row24_col0\" class=\"data row24 col0\" >Numeric Imputer</td>\n",
       "                        <td id=\"T_81721_row24_col1\" class=\"data row24 col1\" >mean</td>\n",
       "            </tr>\n",
       "            <tr>\n",
       "                        <th id=\"T_81721_level0_row25\" class=\"row_heading level0 row25\" >25</th>\n",
       "                        <td id=\"T_81721_row25_col0\" class=\"data row25 col0\" >Iterative Imputation Numeric Model</td>\n",
       "                        <td id=\"T_81721_row25_col1\" class=\"data row25 col1\" >None</td>\n",
       "            </tr>\n",
       "            <tr>\n",
       "                        <th id=\"T_81721_level0_row26\" class=\"row_heading level0 row26\" >26</th>\n",
       "                        <td id=\"T_81721_row26_col0\" class=\"data row26 col0\" >Categorical Imputer</td>\n",
       "                        <td id=\"T_81721_row26_col1\" class=\"data row26 col1\" >constant</td>\n",
       "            </tr>\n",
       "            <tr>\n",
       "                        <th id=\"T_81721_level0_row27\" class=\"row_heading level0 row27\" >27</th>\n",
       "                        <td id=\"T_81721_row27_col0\" class=\"data row27 col0\" >Iterative Imputation Categorical Model</td>\n",
       "                        <td id=\"T_81721_row27_col1\" class=\"data row27 col1\" >None</td>\n",
       "            </tr>\n",
       "            <tr>\n",
       "                        <th id=\"T_81721_level0_row28\" class=\"row_heading level0 row28\" >28</th>\n",
       "                        <td id=\"T_81721_row28_col0\" class=\"data row28 col0\" >Unknown Categoricals Handling</td>\n",
       "                        <td id=\"T_81721_row28_col1\" class=\"data row28 col1\" >least_frequent</td>\n",
       "            </tr>\n",
       "            <tr>\n",
       "                        <th id=\"T_81721_level0_row29\" class=\"row_heading level0 row29\" >29</th>\n",
       "                        <td id=\"T_81721_row29_col0\" class=\"data row29 col0\" >Normalize</td>\n",
       "                        <td id=\"T_81721_row29_col1\" class=\"data row29 col1\" >False</td>\n",
       "            </tr>\n",
       "            <tr>\n",
       "                        <th id=\"T_81721_level0_row30\" class=\"row_heading level0 row30\" >30</th>\n",
       "                        <td id=\"T_81721_row30_col0\" class=\"data row30 col0\" >Normalize Method</td>\n",
       "                        <td id=\"T_81721_row30_col1\" class=\"data row30 col1\" >None</td>\n",
       "            </tr>\n",
       "            <tr>\n",
       "                        <th id=\"T_81721_level0_row31\" class=\"row_heading level0 row31\" >31</th>\n",
       "                        <td id=\"T_81721_row31_col0\" class=\"data row31 col0\" >Transformation</td>\n",
       "                        <td id=\"T_81721_row31_col1\" class=\"data row31 col1\" >False</td>\n",
       "            </tr>\n",
       "            <tr>\n",
       "                        <th id=\"T_81721_level0_row32\" class=\"row_heading level0 row32\" >32</th>\n",
       "                        <td id=\"T_81721_row32_col0\" class=\"data row32 col0\" >Transformation Method</td>\n",
       "                        <td id=\"T_81721_row32_col1\" class=\"data row32 col1\" >None</td>\n",
       "            </tr>\n",
       "            <tr>\n",
       "                        <th id=\"T_81721_level0_row33\" class=\"row_heading level0 row33\" >33</th>\n",
       "                        <td id=\"T_81721_row33_col0\" class=\"data row33 col0\" >PCA</td>\n",
       "                        <td id=\"T_81721_row33_col1\" class=\"data row33 col1\" >False</td>\n",
       "            </tr>\n",
       "            <tr>\n",
       "                        <th id=\"T_81721_level0_row34\" class=\"row_heading level0 row34\" >34</th>\n",
       "                        <td id=\"T_81721_row34_col0\" class=\"data row34 col0\" >PCA Method</td>\n",
       "                        <td id=\"T_81721_row34_col1\" class=\"data row34 col1\" >None</td>\n",
       "            </tr>\n",
       "            <tr>\n",
       "                        <th id=\"T_81721_level0_row35\" class=\"row_heading level0 row35\" >35</th>\n",
       "                        <td id=\"T_81721_row35_col0\" class=\"data row35 col0\" >PCA Components</td>\n",
       "                        <td id=\"T_81721_row35_col1\" class=\"data row35 col1\" >None</td>\n",
       "            </tr>\n",
       "            <tr>\n",
       "                        <th id=\"T_81721_level0_row36\" class=\"row_heading level0 row36\" >36</th>\n",
       "                        <td id=\"T_81721_row36_col0\" class=\"data row36 col0\" >Ignore Low Variance</td>\n",
       "                        <td id=\"T_81721_row36_col1\" class=\"data row36 col1\" >False</td>\n",
       "            </tr>\n",
       "            <tr>\n",
       "                        <th id=\"T_81721_level0_row37\" class=\"row_heading level0 row37\" >37</th>\n",
       "                        <td id=\"T_81721_row37_col0\" class=\"data row37 col0\" >Combine Rare Levels</td>\n",
       "                        <td id=\"T_81721_row37_col1\" class=\"data row37 col1\" >False</td>\n",
       "            </tr>\n",
       "            <tr>\n",
       "                        <th id=\"T_81721_level0_row38\" class=\"row_heading level0 row38\" >38</th>\n",
       "                        <td id=\"T_81721_row38_col0\" class=\"data row38 col0\" >Rare Level Threshold</td>\n",
       "                        <td id=\"T_81721_row38_col1\" class=\"data row38 col1\" >None</td>\n",
       "            </tr>\n",
       "            <tr>\n",
       "                        <th id=\"T_81721_level0_row39\" class=\"row_heading level0 row39\" >39</th>\n",
       "                        <td id=\"T_81721_row39_col0\" class=\"data row39 col0\" >Numeric Binning</td>\n",
       "                        <td id=\"T_81721_row39_col1\" class=\"data row39 col1\" >False</td>\n",
       "            </tr>\n",
       "            <tr>\n",
       "                        <th id=\"T_81721_level0_row40\" class=\"row_heading level0 row40\" >40</th>\n",
       "                        <td id=\"T_81721_row40_col0\" class=\"data row40 col0\" >Remove Outliers</td>\n",
       "                        <td id=\"T_81721_row40_col1\" class=\"data row40 col1\" >False</td>\n",
       "            </tr>\n",
       "            <tr>\n",
       "                        <th id=\"T_81721_level0_row41\" class=\"row_heading level0 row41\" >41</th>\n",
       "                        <td id=\"T_81721_row41_col0\" class=\"data row41 col0\" >Outliers Threshold</td>\n",
       "                        <td id=\"T_81721_row41_col1\" class=\"data row41 col1\" >None</td>\n",
       "            </tr>\n",
       "            <tr>\n",
       "                        <th id=\"T_81721_level0_row42\" class=\"row_heading level0 row42\" >42</th>\n",
       "                        <td id=\"T_81721_row42_col0\" class=\"data row42 col0\" >Remove Multicollinearity</td>\n",
       "                        <td id=\"T_81721_row42_col1\" class=\"data row42 col1\" >False</td>\n",
       "            </tr>\n",
       "            <tr>\n",
       "                        <th id=\"T_81721_level0_row43\" class=\"row_heading level0 row43\" >43</th>\n",
       "                        <td id=\"T_81721_row43_col0\" class=\"data row43 col0\" >Multicollinearity Threshold</td>\n",
       "                        <td id=\"T_81721_row43_col1\" class=\"data row43 col1\" >None</td>\n",
       "            </tr>\n",
       "            <tr>\n",
       "                        <th id=\"T_81721_level0_row44\" class=\"row_heading level0 row44\" >44</th>\n",
       "                        <td id=\"T_81721_row44_col0\" class=\"data row44 col0\" >Clustering</td>\n",
       "                        <td id=\"T_81721_row44_col1\" class=\"data row44 col1\" >False</td>\n",
       "            </tr>\n",
       "            <tr>\n",
       "                        <th id=\"T_81721_level0_row45\" class=\"row_heading level0 row45\" >45</th>\n",
       "                        <td id=\"T_81721_row45_col0\" class=\"data row45 col0\" >Clustering Iteration</td>\n",
       "                        <td id=\"T_81721_row45_col1\" class=\"data row45 col1\" >None</td>\n",
       "            </tr>\n",
       "            <tr>\n",
       "                        <th id=\"T_81721_level0_row46\" class=\"row_heading level0 row46\" >46</th>\n",
       "                        <td id=\"T_81721_row46_col0\" class=\"data row46 col0\" >Polynomial Features</td>\n",
       "                        <td id=\"T_81721_row46_col1\" class=\"data row46 col1\" >False</td>\n",
       "            </tr>\n",
       "            <tr>\n",
       "                        <th id=\"T_81721_level0_row47\" class=\"row_heading level0 row47\" >47</th>\n",
       "                        <td id=\"T_81721_row47_col0\" class=\"data row47 col0\" >Polynomial Degree</td>\n",
       "                        <td id=\"T_81721_row47_col1\" class=\"data row47 col1\" >None</td>\n",
       "            </tr>\n",
       "            <tr>\n",
       "                        <th id=\"T_81721_level0_row48\" class=\"row_heading level0 row48\" >48</th>\n",
       "                        <td id=\"T_81721_row48_col0\" class=\"data row48 col0\" >Trignometry Features</td>\n",
       "                        <td id=\"T_81721_row48_col1\" class=\"data row48 col1\" >False</td>\n",
       "            </tr>\n",
       "            <tr>\n",
       "                        <th id=\"T_81721_level0_row49\" class=\"row_heading level0 row49\" >49</th>\n",
       "                        <td id=\"T_81721_row49_col0\" class=\"data row49 col0\" >Polynomial Threshold</td>\n",
       "                        <td id=\"T_81721_row49_col1\" class=\"data row49 col1\" >None</td>\n",
       "            </tr>\n",
       "            <tr>\n",
       "                        <th id=\"T_81721_level0_row50\" class=\"row_heading level0 row50\" >50</th>\n",
       "                        <td id=\"T_81721_row50_col0\" class=\"data row50 col0\" >Group Features</td>\n",
       "                        <td id=\"T_81721_row50_col1\" class=\"data row50 col1\" >False</td>\n",
       "            </tr>\n",
       "            <tr>\n",
       "                        <th id=\"T_81721_level0_row51\" class=\"row_heading level0 row51\" >51</th>\n",
       "                        <td id=\"T_81721_row51_col0\" class=\"data row51 col0\" >Feature Selection</td>\n",
       "                        <td id=\"T_81721_row51_col1\" class=\"data row51 col1\" >False</td>\n",
       "            </tr>\n",
       "            <tr>\n",
       "                        <th id=\"T_81721_level0_row52\" class=\"row_heading level0 row52\" >52</th>\n",
       "                        <td id=\"T_81721_row52_col0\" class=\"data row52 col0\" >Features Selection Threshold</td>\n",
       "                        <td id=\"T_81721_row52_col1\" class=\"data row52 col1\" >None</td>\n",
       "            </tr>\n",
       "            <tr>\n",
       "                        <th id=\"T_81721_level0_row53\" class=\"row_heading level0 row53\" >53</th>\n",
       "                        <td id=\"T_81721_row53_col0\" class=\"data row53 col0\" >Feature Interaction</td>\n",
       "                        <td id=\"T_81721_row53_col1\" class=\"data row53 col1\" >False</td>\n",
       "            </tr>\n",
       "            <tr>\n",
       "                        <th id=\"T_81721_level0_row54\" class=\"row_heading level0 row54\" >54</th>\n",
       "                        <td id=\"T_81721_row54_col0\" class=\"data row54 col0\" >Feature Ratio</td>\n",
       "                        <td id=\"T_81721_row54_col1\" class=\"data row54 col1\" >False</td>\n",
       "            </tr>\n",
       "            <tr>\n",
       "                        <th id=\"T_81721_level0_row55\" class=\"row_heading level0 row55\" >55</th>\n",
       "                        <td id=\"T_81721_row55_col0\" class=\"data row55 col0\" >Interaction Threshold</td>\n",
       "                        <td id=\"T_81721_row55_col1\" class=\"data row55 col1\" >None</td>\n",
       "            </tr>\n",
       "            <tr>\n",
       "                        <th id=\"T_81721_level0_row56\" class=\"row_heading level0 row56\" >56</th>\n",
       "                        <td id=\"T_81721_row56_col0\" class=\"data row56 col0\" >Fix Imbalance</td>\n",
       "                        <td id=\"T_81721_row56_col1\" class=\"data row56 col1\" >False</td>\n",
       "            </tr>\n",
       "            <tr>\n",
       "                        <th id=\"T_81721_level0_row57\" class=\"row_heading level0 row57\" >57</th>\n",
       "                        <td id=\"T_81721_row57_col0\" class=\"data row57 col0\" >Fix Imbalance Method</td>\n",
       "                        <td id=\"T_81721_row57_col1\" class=\"data row57 col1\" >SMOTE</td>\n",
       "            </tr>\n",
       "    </tbody></table>"
      ],
      "text/plain": [
       "<pandas.io.formats.style.Styler at 0x1fa0411a5e0>"
      ]
     },
     "metadata": {},
     "output_type": "display_data"
    }
   ],
   "source": [
    "clf = setup(data = nomix, target = '상태', train_size = 0.8, session_id = 10, use_gpu = True)"
   ]
  },
  {
   "cell_type": "code",
   "execution_count": 308,
   "id": "46b2a590",
   "metadata": {
    "scrolled": false
   },
   "outputs": [
    {
     "data": {
      "text/html": [
       "<style  type=\"text/css\" >\n",
       "    #T_39e11_ th {\n",
       "          text-align: left;\n",
       "    }#T_39e11_row0_col0,#T_39e11_row0_col2,#T_39e11_row0_col3,#T_39e11_row0_col4,#T_39e11_row1_col0,#T_39e11_row1_col1,#T_39e11_row1_col3,#T_39e11_row1_col4,#T_39e11_row1_col5,#T_39e11_row1_col6,#T_39e11_row1_col7,#T_39e11_row2_col0,#T_39e11_row2_col1,#T_39e11_row2_col2,#T_39e11_row2_col3,#T_39e11_row2_col4,#T_39e11_row2_col5,#T_39e11_row2_col6,#T_39e11_row2_col7,#T_39e11_row3_col0,#T_39e11_row3_col1,#T_39e11_row3_col2,#T_39e11_row3_col4,#T_39e11_row3_col5,#T_39e11_row3_col6,#T_39e11_row3_col7,#T_39e11_row4_col0,#T_39e11_row4_col1,#T_39e11_row4_col2,#T_39e11_row4_col3,#T_39e11_row4_col4,#T_39e11_row4_col5,#T_39e11_row4_col6,#T_39e11_row4_col7,#T_39e11_row5_col0,#T_39e11_row5_col1,#T_39e11_row5_col2,#T_39e11_row5_col3,#T_39e11_row5_col4,#T_39e11_row5_col5,#T_39e11_row5_col6,#T_39e11_row5_col7,#T_39e11_row6_col0,#T_39e11_row6_col1,#T_39e11_row6_col2,#T_39e11_row6_col3,#T_39e11_row6_col4,#T_39e11_row6_col5,#T_39e11_row6_col6,#T_39e11_row6_col7,#T_39e11_row7_col0,#T_39e11_row7_col1,#T_39e11_row7_col2,#T_39e11_row7_col3,#T_39e11_row7_col4,#T_39e11_row7_col5,#T_39e11_row7_col6,#T_39e11_row7_col7,#T_39e11_row8_col0,#T_39e11_row8_col1,#T_39e11_row8_col2,#T_39e11_row8_col3,#T_39e11_row8_col4,#T_39e11_row8_col5,#T_39e11_row8_col6,#T_39e11_row8_col7,#T_39e11_row9_col0,#T_39e11_row9_col1,#T_39e11_row9_col2,#T_39e11_row9_col3,#T_39e11_row9_col4,#T_39e11_row9_col5,#T_39e11_row9_col6,#T_39e11_row9_col7,#T_39e11_row10_col0,#T_39e11_row10_col1,#T_39e11_row10_col2,#T_39e11_row10_col3,#T_39e11_row10_col4,#T_39e11_row10_col5,#T_39e11_row10_col6,#T_39e11_row10_col7,#T_39e11_row11_col0,#T_39e11_row11_col1,#T_39e11_row11_col2,#T_39e11_row11_col3,#T_39e11_row11_col5,#T_39e11_row11_col6,#T_39e11_row11_col7,#T_39e11_row12_col0,#T_39e11_row12_col1,#T_39e11_row12_col2,#T_39e11_row12_col3,#T_39e11_row12_col4,#T_39e11_row12_col5,#T_39e11_row12_col6,#T_39e11_row12_col7,#T_39e11_row13_col0,#T_39e11_row13_col1,#T_39e11_row13_col2,#T_39e11_row13_col3,#T_39e11_row13_col4,#T_39e11_row13_col5,#T_39e11_row13_col6,#T_39e11_row13_col7,#T_39e11_row14_col0,#T_39e11_row14_col1,#T_39e11_row14_col2,#T_39e11_row14_col3,#T_39e11_row14_col4,#T_39e11_row14_col5,#T_39e11_row14_col6,#T_39e11_row14_col7{\n",
       "            text-align:  left;\n",
       "            text-align:  left;\n",
       "        }#T_39e11_row0_col1,#T_39e11_row0_col5,#T_39e11_row0_col6,#T_39e11_row0_col7,#T_39e11_row1_col2,#T_39e11_row3_col3,#T_39e11_row11_col4{\n",
       "            text-align:  left;\n",
       "            text-align:  left;\n",
       "            background-color:  yellow;\n",
       "        }#T_39e11_row0_col8,#T_39e11_row1_col8,#T_39e11_row2_col8,#T_39e11_row3_col8,#T_39e11_row5_col8,#T_39e11_row6_col8,#T_39e11_row7_col8,#T_39e11_row8_col8,#T_39e11_row9_col8,#T_39e11_row10_col8,#T_39e11_row11_col8,#T_39e11_row12_col8,#T_39e11_row13_col8,#T_39e11_row14_col8{\n",
       "            text-align:  left;\n",
       "            text-align:  left;\n",
       "            background-color:  lightgrey;\n",
       "        }#T_39e11_row4_col8{\n",
       "            text-align:  left;\n",
       "            text-align:  left;\n",
       "            background-color:  yellow;\n",
       "            background-color:  lightgrey;\n",
       "        }</style><table id=\"T_39e11_\" ><thead>    <tr>        <th class=\"blank level0\" ></th>        <th class=\"col_heading level0 col0\" >Model</th>        <th class=\"col_heading level0 col1\" >Accuracy</th>        <th class=\"col_heading level0 col2\" >AUC</th>        <th class=\"col_heading level0 col3\" >Recall</th>        <th class=\"col_heading level0 col4\" >Prec.</th>        <th class=\"col_heading level0 col5\" >F1</th>        <th class=\"col_heading level0 col6\" >Kappa</th>        <th class=\"col_heading level0 col7\" >MCC</th>        <th class=\"col_heading level0 col8\" >TT (Sec)</th>    </tr></thead><tbody>\n",
       "                <tr>\n",
       "                        <th id=\"T_39e11_level0_row0\" class=\"row_heading level0 row0\" >lightgbm</th>\n",
       "                        <td id=\"T_39e11_row0_col0\" class=\"data row0 col0\" >Light Gradient Boosting Machine</td>\n",
       "                        <td id=\"T_39e11_row0_col1\" class=\"data row0 col1\" >0.7528</td>\n",
       "                        <td id=\"T_39e11_row0_col2\" class=\"data row0 col2\" >0.7155</td>\n",
       "                        <td id=\"T_39e11_row0_col3\" class=\"data row0 col3\" >0.9130</td>\n",
       "                        <td id=\"T_39e11_row0_col4\" class=\"data row0 col4\" >0.7818</td>\n",
       "                        <td id=\"T_39e11_row0_col5\" class=\"data row0 col5\" >0.8423</td>\n",
       "                        <td id=\"T_39e11_row0_col6\" class=\"data row0 col6\" >0.2866</td>\n",
       "                        <td id=\"T_39e11_row0_col7\" class=\"data row0 col7\" >0.3060</td>\n",
       "                        <td id=\"T_39e11_row0_col8\" class=\"data row0 col8\" >0.1990</td>\n",
       "            </tr>\n",
       "            <tr>\n",
       "                        <th id=\"T_39e11_level0_row1\" class=\"row_heading level0 row1\" >catboost</th>\n",
       "                        <td id=\"T_39e11_row1_col0\" class=\"data row1 col0\" >CatBoost Classifier</td>\n",
       "                        <td id=\"T_39e11_row1_col1\" class=\"data row1 col1\" >0.7518</td>\n",
       "                        <td id=\"T_39e11_row1_col2\" class=\"data row1 col2\" >0.7190</td>\n",
       "                        <td id=\"T_39e11_row1_col3\" class=\"data row1 col3\" >0.9162</td>\n",
       "                        <td id=\"T_39e11_row1_col4\" class=\"data row1 col4\" >0.7794</td>\n",
       "                        <td id=\"T_39e11_row1_col5\" class=\"data row1 col5\" >0.8422</td>\n",
       "                        <td id=\"T_39e11_row1_col6\" class=\"data row1 col6\" >0.2782</td>\n",
       "                        <td id=\"T_39e11_row1_col7\" class=\"data row1 col7\" >0.2997</td>\n",
       "                        <td id=\"T_39e11_row1_col8\" class=\"data row1 col8\" >4.2650</td>\n",
       "            </tr>\n",
       "            <tr>\n",
       "                        <th id=\"T_39e11_level0_row2\" class=\"row_heading level0 row2\" >gbc</th>\n",
       "                        <td id=\"T_39e11_row2_col0\" class=\"data row2 col0\" >Gradient Boosting Classifier</td>\n",
       "                        <td id=\"T_39e11_row2_col1\" class=\"data row2 col1\" >0.7430</td>\n",
       "                        <td id=\"T_39e11_row2_col2\" class=\"data row2 col2\" >0.7102</td>\n",
       "                        <td id=\"T_39e11_row2_col3\" class=\"data row2 col3\" >0.9220</td>\n",
       "                        <td id=\"T_39e11_row2_col4\" class=\"data row2 col4\" >0.7687</td>\n",
       "                        <td id=\"T_39e11_row2_col5\" class=\"data row2 col5\" >0.8383</td>\n",
       "                        <td id=\"T_39e11_row2_col6\" class=\"data row2 col6\" >0.2358</td>\n",
       "                        <td id=\"T_39e11_row2_col7\" class=\"data row2 col7\" >0.2614</td>\n",
       "                        <td id=\"T_39e11_row2_col8\" class=\"data row2 col8\" >0.5030</td>\n",
       "            </tr>\n",
       "            <tr>\n",
       "                        <th id=\"T_39e11_level0_row3\" class=\"row_heading level0 row3\" >ada</th>\n",
       "                        <td id=\"T_39e11_row3_col0\" class=\"data row3 col0\" >Ada Boost Classifier</td>\n",
       "                        <td id=\"T_39e11_row3_col1\" class=\"data row3 col1\" >0.7356</td>\n",
       "                        <td id=\"T_39e11_row3_col2\" class=\"data row3 col2\" >0.6958</td>\n",
       "                        <td id=\"T_39e11_row3_col3\" class=\"data row3 col3\" >0.9282</td>\n",
       "                        <td id=\"T_39e11_row3_col4\" class=\"data row3 col4\" >0.7595</td>\n",
       "                        <td id=\"T_39e11_row3_col5\" class=\"data row3 col5\" >0.8354</td>\n",
       "                        <td id=\"T_39e11_row3_col6\" class=\"data row3 col6\" >0.1967</td>\n",
       "                        <td id=\"T_39e11_row3_col7\" class=\"data row3 col7\" >0.2251</td>\n",
       "                        <td id=\"T_39e11_row3_col8\" class=\"data row3 col8\" >0.2570</td>\n",
       "            </tr>\n",
       "            <tr>\n",
       "                        <th id=\"T_39e11_level0_row4\" class=\"row_heading level0 row4\" >ridge</th>\n",
       "                        <td id=\"T_39e11_row4_col0\" class=\"data row4 col0\" >Ridge Classifier</td>\n",
       "                        <td id=\"T_39e11_row4_col1\" class=\"data row4 col1\" >0.7273</td>\n",
       "                        <td id=\"T_39e11_row4_col2\" class=\"data row4 col2\" >0.0000</td>\n",
       "                        <td id=\"T_39e11_row4_col3\" class=\"data row4 col3\" >0.9028</td>\n",
       "                        <td id=\"T_39e11_row4_col4\" class=\"data row4 col4\" >0.7633</td>\n",
       "                        <td id=\"T_39e11_row4_col5\" class=\"data row4 col5\" >0.8272</td>\n",
       "                        <td id=\"T_39e11_row4_col6\" class=\"data row4 col6\" >0.2019</td>\n",
       "                        <td id=\"T_39e11_row4_col7\" class=\"data row4 col7\" >0.2191</td>\n",
       "                        <td id=\"T_39e11_row4_col8\" class=\"data row4 col8\" >0.0200</td>\n",
       "            </tr>\n",
       "            <tr>\n",
       "                        <th id=\"T_39e11_level0_row5\" class=\"row_heading level0 row5\" >lr</th>\n",
       "                        <td id=\"T_39e11_row5_col0\" class=\"data row5 col0\" >Logistic Regression</td>\n",
       "                        <td id=\"T_39e11_row5_col1\" class=\"data row5 col1\" >0.7253</td>\n",
       "                        <td id=\"T_39e11_row5_col2\" class=\"data row5 col2\" >0.6863</td>\n",
       "                        <td id=\"T_39e11_row5_col3\" class=\"data row5 col3\" >0.9063</td>\n",
       "                        <td id=\"T_39e11_row5_col4\" class=\"data row5 col4\" >0.7600</td>\n",
       "                        <td id=\"T_39e11_row5_col5\" class=\"data row5 col5\" >0.8267</td>\n",
       "                        <td id=\"T_39e11_row5_col6\" class=\"data row5 col6\" >0.1886</td>\n",
       "                        <td id=\"T_39e11_row5_col7\" class=\"data row5 col7\" >0.2069</td>\n",
       "                        <td id=\"T_39e11_row5_col8\" class=\"data row5 col8\" >0.0740</td>\n",
       "            </tr>\n",
       "            <tr>\n",
       "                        <th id=\"T_39e11_level0_row6\" class=\"row_heading level0 row6\" >knn</th>\n",
       "                        <td id=\"T_39e11_row6_col0\" class=\"data row6 col0\" >K Neighbors Classifier</td>\n",
       "                        <td id=\"T_39e11_row6_col1\" class=\"data row6 col1\" >0.7316</td>\n",
       "                        <td id=\"T_39e11_row6_col2\" class=\"data row6 col2\" >0.6635</td>\n",
       "                        <td id=\"T_39e11_row6_col3\" class=\"data row6 col3\" >0.8721</td>\n",
       "                        <td id=\"T_39e11_row6_col4\" class=\"data row6 col4\" >0.7819</td>\n",
       "                        <td id=\"T_39e11_row6_col5\" class=\"data row6 col5\" >0.8245</td>\n",
       "                        <td id=\"T_39e11_row6_col6\" class=\"data row6 col6\" >0.2618</td>\n",
       "                        <td id=\"T_39e11_row6_col7\" class=\"data row6 col7\" >0.2692</td>\n",
       "                        <td id=\"T_39e11_row6_col8\" class=\"data row6 col8\" >0.6940</td>\n",
       "            </tr>\n",
       "            <tr>\n",
       "                        <th id=\"T_39e11_level0_row7\" class=\"row_heading level0 row7\" >lda</th>\n",
       "                        <td id=\"T_39e11_row7_col0\" class=\"data row7 col0\" >Linear Discriminant Analysis</td>\n",
       "                        <td id=\"T_39e11_row7_col1\" class=\"data row7 col1\" >0.7308</td>\n",
       "                        <td id=\"T_39e11_row7_col2\" class=\"data row7 col2\" >0.6867</td>\n",
       "                        <td id=\"T_39e11_row7_col3\" class=\"data row7 col3\" >0.8594</td>\n",
       "                        <td id=\"T_39e11_row7_col4\" class=\"data row7 col4\" >0.7877</td>\n",
       "                        <td id=\"T_39e11_row7_col5\" class=\"data row7 col5\" >0.8219</td>\n",
       "                        <td id=\"T_39e11_row7_col6\" class=\"data row7 col6\" >0.2748</td>\n",
       "                        <td id=\"T_39e11_row7_col7\" class=\"data row7 col7\" >0.2794</td>\n",
       "                        <td id=\"T_39e11_row7_col8\" class=\"data row7 col8\" >0.0410</td>\n",
       "            </tr>\n",
       "            <tr>\n",
       "                        <th id=\"T_39e11_level0_row8\" class=\"row_heading level0 row8\" >svm</th>\n",
       "                        <td id=\"T_39e11_row8_col0\" class=\"data row8 col0\" >SVM - Linear Kernel</td>\n",
       "                        <td id=\"T_39e11_row8_col1\" class=\"data row8 col1\" >0.7258</td>\n",
       "                        <td id=\"T_39e11_row8_col2\" class=\"data row8 col2\" >0.0000</td>\n",
       "                        <td id=\"T_39e11_row8_col3\" class=\"data row8 col3\" >0.8700</td>\n",
       "                        <td id=\"T_39e11_row8_col4\" class=\"data row8 col4\" >0.7797</td>\n",
       "                        <td id=\"T_39e11_row8_col5\" class=\"data row8 col5\" >0.8207</td>\n",
       "                        <td id=\"T_39e11_row8_col6\" class=\"data row8 col6\" >0.2348</td>\n",
       "                        <td id=\"T_39e11_row8_col7\" class=\"data row8 col7\" >0.2449</td>\n",
       "                        <td id=\"T_39e11_row8_col8\" class=\"data row8 col8\" >0.0610</td>\n",
       "            </tr>\n",
       "            <tr>\n",
       "                        <th id=\"T_39e11_level0_row9\" class=\"row_heading level0 row9\" >rf</th>\n",
       "                        <td id=\"T_39e11_row9_col0\" class=\"data row9 col0\" >Random Forest Classifier</td>\n",
       "                        <td id=\"T_39e11_row9_col1\" class=\"data row9 col1\" >0.7273</td>\n",
       "                        <td id=\"T_39e11_row9_col2\" class=\"data row9 col2\" >0.6827</td>\n",
       "                        <td id=\"T_39e11_row9_col3\" class=\"data row9 col3\" >0.8520</td>\n",
       "                        <td id=\"T_39e11_row9_col4\" class=\"data row9 col4\" >0.7880</td>\n",
       "                        <td id=\"T_39e11_row9_col5\" class=\"data row9 col5\" >0.8186</td>\n",
       "                        <td id=\"T_39e11_row9_col6\" class=\"data row9 col6\" >0.2719</td>\n",
       "                        <td id=\"T_39e11_row9_col7\" class=\"data row9 col7\" >0.2760</td>\n",
       "                        <td id=\"T_39e11_row9_col8\" class=\"data row9 col8\" >1.1340</td>\n",
       "            </tr>\n",
       "            <tr>\n",
       "                        <th id=\"T_39e11_level0_row10\" class=\"row_heading level0 row10\" >et</th>\n",
       "                        <td id=\"T_39e11_row10_col0\" class=\"data row10 col0\" >Extra Trees Classifier</td>\n",
       "                        <td id=\"T_39e11_row10_col1\" class=\"data row10 col1\" >0.7048</td>\n",
       "                        <td id=\"T_39e11_row10_col2\" class=\"data row10 col2\" >0.6606</td>\n",
       "                        <td id=\"T_39e11_row10_col3\" class=\"data row10 col3\" >0.8051</td>\n",
       "                        <td id=\"T_39e11_row10_col4\" class=\"data row10 col4\" >0.7905</td>\n",
       "                        <td id=\"T_39e11_row10_col5\" class=\"data row10 col5\" >0.7976</td>\n",
       "                        <td id=\"T_39e11_row10_col6\" class=\"data row10 col6\" >0.2519</td>\n",
       "                        <td id=\"T_39e11_row10_col7\" class=\"data row10 col7\" >0.2524</td>\n",
       "                        <td id=\"T_39e11_row10_col8\" class=\"data row10 col8\" >1.4070</td>\n",
       "            </tr>\n",
       "            <tr>\n",
       "                        <th id=\"T_39e11_level0_row11\" class=\"row_heading level0 row11\" >nb</th>\n",
       "                        <td id=\"T_39e11_row11_col0\" class=\"data row11 col0\" >Naive Bayes</td>\n",
       "                        <td id=\"T_39e11_row11_col1\" class=\"data row11 col1\" >0.6973</td>\n",
       "                        <td id=\"T_39e11_row11_col2\" class=\"data row11 col2\" >0.6548</td>\n",
       "                        <td id=\"T_39e11_row11_col3\" class=\"data row11 col3\" >0.7707</td>\n",
       "                        <td id=\"T_39e11_row11_col4\" class=\"data row11 col4\" >0.8028</td>\n",
       "                        <td id=\"T_39e11_row11_col5\" class=\"data row11 col5\" >0.7863</td>\n",
       "                        <td id=\"T_39e11_row11_col6\" class=\"data row11 col6\" >0.2676</td>\n",
       "                        <td id=\"T_39e11_row11_col7\" class=\"data row11 col7\" >0.2685</td>\n",
       "                        <td id=\"T_39e11_row11_col8\" class=\"data row11 col8\" >0.0340</td>\n",
       "            </tr>\n",
       "            <tr>\n",
       "                        <th id=\"T_39e11_level0_row12\" class=\"row_heading level0 row12\" >dt</th>\n",
       "                        <td id=\"T_39e11_row12_col0\" class=\"data row12 col0\" >Decision Tree Classifier</td>\n",
       "                        <td id=\"T_39e11_row12_col1\" class=\"data row12 col1\" >0.6928</td>\n",
       "                        <td id=\"T_39e11_row12_col2\" class=\"data row12 col2\" >0.6417</td>\n",
       "                        <td id=\"T_39e11_row12_col3\" class=\"data row12 col3\" >0.7709</td>\n",
       "                        <td id=\"T_39e11_row12_col4\" class=\"data row12 col4\" >0.7974</td>\n",
       "                        <td id=\"T_39e11_row12_col5\" class=\"data row12 col5\" >0.7838</td>\n",
       "                        <td id=\"T_39e11_row12_col6\" class=\"data row12 col6\" >0.2529</td>\n",
       "                        <td id=\"T_39e11_row12_col7\" class=\"data row12 col7\" >0.2536</td>\n",
       "                        <td id=\"T_39e11_row12_col8\" class=\"data row12 col8\" >0.0380</td>\n",
       "            </tr>\n",
       "            <tr>\n",
       "                        <th id=\"T_39e11_level0_row13\" class=\"row_heading level0 row13\" >qda</th>\n",
       "                        <td id=\"T_39e11_row13_col0\" class=\"data row13 col0\" >Quadratic Discriminant Analysis</td>\n",
       "                        <td id=\"T_39e11_row13_col1\" class=\"data row13 col1\" >0.5709</td>\n",
       "                        <td id=\"T_39e11_row13_col2\" class=\"data row13 col2\" >0.5272</td>\n",
       "                        <td id=\"T_39e11_row13_col3\" class=\"data row13 col3\" >0.6252</td>\n",
       "                        <td id=\"T_39e11_row13_col4\" class=\"data row13 col4\" >0.7441</td>\n",
       "                        <td id=\"T_39e11_row13_col5\" class=\"data row13 col5\" >0.6421</td>\n",
       "                        <td id=\"T_39e11_row13_col6\" class=\"data row13 col6\" >0.0480</td>\n",
       "                        <td id=\"T_39e11_row13_col7\" class=\"data row13 col7\" >0.0600</td>\n",
       "                        <td id=\"T_39e11_row13_col8\" class=\"data row13 col8\" >0.0260</td>\n",
       "            </tr>\n",
       "            <tr>\n",
       "                        <th id=\"T_39e11_level0_row14\" class=\"row_heading level0 row14\" >xgboost</th>\n",
       "                        <td id=\"T_39e11_row14_col0\" class=\"data row14 col0\" >Extreme Gradient Boosting</td>\n",
       "                        <td id=\"T_39e11_row14_col1\" class=\"data row14 col1\" >0.0000</td>\n",
       "                        <td id=\"T_39e11_row14_col2\" class=\"data row14 col2\" >0.0000</td>\n",
       "                        <td id=\"T_39e11_row14_col3\" class=\"data row14 col3\" >0.0000</td>\n",
       "                        <td id=\"T_39e11_row14_col4\" class=\"data row14 col4\" >0.0000</td>\n",
       "                        <td id=\"T_39e11_row14_col5\" class=\"data row14 col5\" >0.0000</td>\n",
       "                        <td id=\"T_39e11_row14_col6\" class=\"data row14 col6\" >0.0000</td>\n",
       "                        <td id=\"T_39e11_row14_col7\" class=\"data row14 col7\" >0.0000</td>\n",
       "                        <td id=\"T_39e11_row14_col8\" class=\"data row14 col8\" >0.0210</td>\n",
       "            </tr>\n",
       "    </tbody></table>"
      ],
      "text/plain": [
       "<pandas.io.formats.style.Styler at 0x1fa049fdbe0>"
      ]
     },
     "metadata": {},
     "output_type": "display_data"
    }
   ],
   "source": [
    "best3models = compare_models(sort = 'F1', n_select = 3)"
   ]
  },
  {
   "cell_type": "code",
   "execution_count": 320,
   "id": "94f9c470",
   "metadata": {
    "scrolled": true
   },
   "outputs": [
    {
     "data": {
      "text/html": [
       "<style  type=\"text/css\" >\n",
       "#T_e7289_row3_col0,#T_e7289_row3_col1,#T_e7289_row3_col2,#T_e7289_row3_col3,#T_e7289_row3_col4,#T_e7289_row3_col5,#T_e7289_row3_col6{\n",
       "            background:  yellow;\n",
       "        }</style><table id=\"T_e7289_\" ><thead>    <tr>        <th class=\"blank level0\" ></th>        <th class=\"col_heading level0 col0\" >Accuracy</th>        <th class=\"col_heading level0 col1\" >AUC</th>        <th class=\"col_heading level0 col2\" >Recall</th>        <th class=\"col_heading level0 col3\" >Prec.</th>        <th class=\"col_heading level0 col4\" >F1</th>        <th class=\"col_heading level0 col5\" >Kappa</th>        <th class=\"col_heading level0 col6\" >MCC</th>    </tr></thead><tbody>\n",
       "                <tr>\n",
       "                        <th id=\"T_e7289_level0_row0\" class=\"row_heading level0 row0\" >0</th>\n",
       "                        <td id=\"T_e7289_row0_col0\" class=\"data row0 col0\" >0.7472</td>\n",
       "                        <td id=\"T_e7289_row0_col1\" class=\"data row0 col1\" >0.7187</td>\n",
       "                        <td id=\"T_e7289_row0_col2\" class=\"data row0 col2\" >0.9141</td>\n",
       "                        <td id=\"T_e7289_row0_col3\" class=\"data row0 col3\" >0.7760</td>\n",
       "                        <td id=\"T_e7289_row0_col4\" class=\"data row0 col4\" >0.8394</td>\n",
       "                        <td id=\"T_e7289_row0_col5\" class=\"data row0 col5\" >0.2642</td>\n",
       "                        <td id=\"T_e7289_row0_col6\" class=\"data row0 col6\" >0.2849</td>\n",
       "            </tr>\n",
       "            <tr>\n",
       "                        <th id=\"T_e7289_level0_row1\" class=\"row_heading level0 row1\" >1</th>\n",
       "                        <td id=\"T_e7289_row1_col0\" class=\"data row1 col0\" >0.7461</td>\n",
       "                        <td id=\"T_e7289_row1_col1\" class=\"data row1 col1\" >0.7055</td>\n",
       "                        <td id=\"T_e7289_row1_col2\" class=\"data row1 col2\" >0.9190</td>\n",
       "                        <td id=\"T_e7289_row1_col3\" class=\"data row1 col3\" >0.7729</td>\n",
       "                        <td id=\"T_e7289_row1_col4\" class=\"data row1 col4\" >0.8396</td>\n",
       "                        <td id=\"T_e7289_row1_col5\" class=\"data row1 col5\" >0.2521</td>\n",
       "                        <td id=\"T_e7289_row1_col6\" class=\"data row1 col6\" >0.2755</td>\n",
       "            </tr>\n",
       "            <tr>\n",
       "                        <th id=\"T_e7289_level0_row2\" class=\"row_heading level0 row2\" >2</th>\n",
       "                        <td id=\"T_e7289_row2_col0\" class=\"data row2 col0\" >0.7456</td>\n",
       "                        <td id=\"T_e7289_row2_col1\" class=\"data row2 col1\" >0.7128</td>\n",
       "                        <td id=\"T_e7289_row2_col2\" class=\"data row2 col2\" >0.9071</td>\n",
       "                        <td id=\"T_e7289_row2_col3\" class=\"data row2 col3\" >0.7778</td>\n",
       "                        <td id=\"T_e7289_row2_col4\" class=\"data row2 col4\" >0.8375</td>\n",
       "                        <td id=\"T_e7289_row2_col5\" class=\"data row2 col5\" >0.2678</td>\n",
       "                        <td id=\"T_e7289_row2_col6\" class=\"data row2 col6\" >0.2854</td>\n",
       "            </tr>\n",
       "            <tr>\n",
       "                        <th id=\"T_e7289_level0_row3\" class=\"row_heading level0 row3\" >Mean</th>\n",
       "                        <td id=\"T_e7289_row3_col0\" class=\"data row3 col0\" >0.7463</td>\n",
       "                        <td id=\"T_e7289_row3_col1\" class=\"data row3 col1\" >0.7124</td>\n",
       "                        <td id=\"T_e7289_row3_col2\" class=\"data row3 col2\" >0.9134</td>\n",
       "                        <td id=\"T_e7289_row3_col3\" class=\"data row3 col3\" >0.7756</td>\n",
       "                        <td id=\"T_e7289_row3_col4\" class=\"data row3 col4\" >0.8388</td>\n",
       "                        <td id=\"T_e7289_row3_col5\" class=\"data row3 col5\" >0.2614</td>\n",
       "                        <td id=\"T_e7289_row3_col6\" class=\"data row3 col6\" >0.2819</td>\n",
       "            </tr>\n",
       "            <tr>\n",
       "                        <th id=\"T_e7289_level0_row4\" class=\"row_heading level0 row4\" >SD</th>\n",
       "                        <td id=\"T_e7289_row4_col0\" class=\"data row4 col0\" >0.0007</td>\n",
       "                        <td id=\"T_e7289_row4_col1\" class=\"data row4 col1\" >0.0054</td>\n",
       "                        <td id=\"T_e7289_row4_col2\" class=\"data row4 col2\" >0.0049</td>\n",
       "                        <td id=\"T_e7289_row4_col3\" class=\"data row4 col3\" >0.0020</td>\n",
       "                        <td id=\"T_e7289_row4_col4\" class=\"data row4 col4\" >0.0010</td>\n",
       "                        <td id=\"T_e7289_row4_col5\" class=\"data row4 col5\" >0.0067</td>\n",
       "                        <td id=\"T_e7289_row4_col6\" class=\"data row4 col6\" >0.0046</td>\n",
       "            </tr>\n",
       "    </tbody></table>"
      ],
      "text/plain": [
       "<pandas.io.formats.style.Styler at 0x1fa0435ea60>"
      ]
     },
     "metadata": {},
     "output_type": "display_data"
    }
   ],
   "source": [
    "lightgbm = create_model('catboost', fold = 3)"
   ]
  },
  {
   "cell_type": "code",
   "execution_count": 310,
   "id": "71901a02",
   "metadata": {},
   "outputs": [
    {
     "data": {
      "text/html": [
       "<style  type=\"text/css\" >\n",
       "#T_d766f_row3_col0,#T_d766f_row3_col1,#T_d766f_row3_col2,#T_d766f_row3_col3,#T_d766f_row3_col4,#T_d766f_row3_col5,#T_d766f_row3_col6{\n",
       "            background:  yellow;\n",
       "        }</style><table id=\"T_d766f_\" ><thead>    <tr>        <th class=\"blank level0\" ></th>        <th class=\"col_heading level0 col0\" >Accuracy</th>        <th class=\"col_heading level0 col1\" >AUC</th>        <th class=\"col_heading level0 col2\" >Recall</th>        <th class=\"col_heading level0 col3\" >Prec.</th>        <th class=\"col_heading level0 col4\" >F1</th>        <th class=\"col_heading level0 col5\" >Kappa</th>        <th class=\"col_heading level0 col6\" >MCC</th>    </tr></thead><tbody>\n",
       "                <tr>\n",
       "                        <th id=\"T_d766f_level0_row0\" class=\"row_heading level0 row0\" >0</th>\n",
       "                        <td id=\"T_d766f_row0_col0\" class=\"data row0 col0\" >0.7357</td>\n",
       "                        <td id=\"T_d766f_row0_col1\" class=\"data row0 col1\" >0.7082</td>\n",
       "                        <td id=\"T_d766f_row0_col2\" class=\"data row0 col2\" >0.9744</td>\n",
       "                        <td id=\"T_d766f_row0_col3\" class=\"data row0 col3\" >0.7413</td>\n",
       "                        <td id=\"T_d766f_row0_col4\" class=\"data row0 col4\" >0.8420</td>\n",
       "                        <td id=\"T_d766f_row0_col5\" class=\"data row0 col5\" >0.1179</td>\n",
       "                        <td id=\"T_d766f_row0_col6\" class=\"data row0 col6\" >0.1809</td>\n",
       "            </tr>\n",
       "            <tr>\n",
       "                        <th id=\"T_d766f_level0_row1\" class=\"row_heading level0 row1\" >1</th>\n",
       "                        <td id=\"T_d766f_row1_col0\" class=\"data row1 col0\" >0.7381</td>\n",
       "                        <td id=\"T_d766f_row1_col1\" class=\"data row1 col1\" >0.6914</td>\n",
       "                        <td id=\"T_d766f_row1_col2\" class=\"data row1 col2\" >0.9681</td>\n",
       "                        <td id=\"T_d766f_row1_col3\" class=\"data row1 col3\" >0.7456</td>\n",
       "                        <td id=\"T_d766f_row1_col4\" class=\"data row1 col4\" >0.8424</td>\n",
       "                        <td id=\"T_d766f_row1_col5\" class=\"data row1 col5\" >0.1390</td>\n",
       "                        <td id=\"T_d766f_row1_col6\" class=\"data row1 col6\" >0.1973</td>\n",
       "            </tr>\n",
       "            <tr>\n",
       "                        <th id=\"T_d766f_level0_row2\" class=\"row_heading level0 row2\" >2</th>\n",
       "                        <td id=\"T_d766f_row2_col0\" class=\"data row2 col0\" >0.7316</td>\n",
       "                        <td id=\"T_d766f_row2_col1\" class=\"data row2 col1\" >0.7008</td>\n",
       "                        <td id=\"T_d766f_row2_col2\" class=\"data row2 col2\" >0.9723</td>\n",
       "                        <td id=\"T_d766f_row2_col3\" class=\"data row2 col3\" >0.7388</td>\n",
       "                        <td id=\"T_d766f_row2_col4\" class=\"data row2 col4\" >0.8396</td>\n",
       "                        <td id=\"T_d766f_row2_col5\" class=\"data row2 col5\" >0.1031</td>\n",
       "                        <td id=\"T_d766f_row2_col6\" class=\"data row2 col6\" >0.1595</td>\n",
       "            </tr>\n",
       "            <tr>\n",
       "                        <th id=\"T_d766f_level0_row3\" class=\"row_heading level0 row3\" >Mean</th>\n",
       "                        <td id=\"T_d766f_row3_col0\" class=\"data row3 col0\" >0.7351</td>\n",
       "                        <td id=\"T_d766f_row3_col1\" class=\"data row3 col1\" >0.7001</td>\n",
       "                        <td id=\"T_d766f_row3_col2\" class=\"data row3 col2\" >0.9716</td>\n",
       "                        <td id=\"T_d766f_row3_col3\" class=\"data row3 col3\" >0.7419</td>\n",
       "                        <td id=\"T_d766f_row3_col4\" class=\"data row3 col4\" >0.8414</td>\n",
       "                        <td id=\"T_d766f_row3_col5\" class=\"data row3 col5\" >0.1200</td>\n",
       "                        <td id=\"T_d766f_row3_col6\" class=\"data row3 col6\" >0.1792</td>\n",
       "            </tr>\n",
       "            <tr>\n",
       "                        <th id=\"T_d766f_level0_row4\" class=\"row_heading level0 row4\" >SD</th>\n",
       "                        <td id=\"T_d766f_row4_col0\" class=\"data row4 col0\" >0.0027</td>\n",
       "                        <td id=\"T_d766f_row4_col1\" class=\"data row4 col1\" >0.0069</td>\n",
       "                        <td id=\"T_d766f_row4_col2\" class=\"data row4 col2\" >0.0026</td>\n",
       "                        <td id=\"T_d766f_row4_col3\" class=\"data row4 col3\" >0.0028</td>\n",
       "                        <td id=\"T_d766f_row4_col4\" class=\"data row4 col4\" >0.0012</td>\n",
       "                        <td id=\"T_d766f_row4_col5\" class=\"data row4 col5\" >0.0147</td>\n",
       "                        <td id=\"T_d766f_row4_col6\" class=\"data row4 col6\" >0.0154</td>\n",
       "            </tr>\n",
       "    </tbody></table>"
      ],
      "text/plain": [
       "<pandas.io.formats.style.Styler at 0x1fa37743820>"
      ]
     },
     "metadata": {},
     "output_type": "display_data"
    }
   ],
   "source": [
    "tuned_light = tune_model(lightgbm, fold = 3, optimize = 'F1')"
   ]
  },
  {
   "cell_type": "code",
   "execution_count": 316,
   "id": "7f83f7e3",
   "metadata": {},
   "outputs": [
    {
     "data": {
      "image/png": "[encoded data removed]",
      "text/plain": [
       "<Figure size 800x500 with 1 Axes>"
      ]
     },
     "metadata": {
      "needs_background": "light"
     },
     "output_type": "display_data"
    }
   ],
   "source": [
    "plot_model(lightgbm, plot = 'feature')"
   ]
  },
  {
   "cell_type": "code",
   "execution_count": 312,
   "id": "2dac0dfb",
   "metadata": {},
   "outputs": [
    {
     "data": {
      "text/html": [
       "<style  type=\"text/css\" >\n",
       "#T_f9bce_row3_col0,#T_f9bce_row3_col1,#T_f9bce_row3_col2,#T_f9bce_row3_col3,#T_f9bce_row3_col4,#T_f9bce_row3_col5,#T_f9bce_row3_col6{\n",
       "            background:  yellow;\n",
       "        }</style><table id=\"T_f9bce_\" ><thead>    <tr>        <th class=\"blank level0\" ></th>        <th class=\"col_heading level0 col0\" >Accuracy</th>        <th class=\"col_heading level0 col1\" >AUC</th>        <th class=\"col_heading level0 col2\" >Recall</th>        <th class=\"col_heading level0 col3\" >Prec.</th>        <th class=\"col_heading level0 col4\" >F1</th>        <th class=\"col_heading level0 col5\" >Kappa</th>        <th class=\"col_heading level0 col6\" >MCC</th>    </tr></thead><tbody>\n",
       "                <tr>\n",
       "                        <th id=\"T_f9bce_level0_row0\" class=\"row_heading level0 row0\" >0</th>\n",
       "                        <td id=\"T_f9bce_row0_col0\" class=\"data row0 col0\" >0.7352</td>\n",
       "                        <td id=\"T_f9bce_row0_col1\" class=\"data row0 col1\" >0.6983</td>\n",
       "                        <td id=\"T_f9bce_row0_col2\" class=\"data row0 col2\" >0.8975</td>\n",
       "                        <td id=\"T_f9bce_row0_col3\" class=\"data row0 col3\" >0.7728</td>\n",
       "                        <td id=\"T_f9bce_row0_col4\" class=\"data row0 col4\" >0.8305</td>\n",
       "                        <td id=\"T_f9bce_row0_col5\" class=\"data row0 col5\" >0.2410</td>\n",
       "                        <td id=\"T_f9bce_row0_col6\" class=\"data row0 col6\" >0.2557</td>\n",
       "            </tr>\n",
       "            <tr>\n",
       "                        <th id=\"T_f9bce_level0_row1\" class=\"row_heading level0 row1\" >1</th>\n",
       "                        <td id=\"T_f9bce_row1_col0\" class=\"data row1 col0\" >0.7441</td>\n",
       "                        <td id=\"T_f9bce_row1_col1\" class=\"data row1 col1\" >0.7146</td>\n",
       "                        <td id=\"T_f9bce_row1_col2\" class=\"data row1 col2\" >0.9176</td>\n",
       "                        <td id=\"T_f9bce_row1_col3\" class=\"data row1 col3\" >0.7717</td>\n",
       "                        <td id=\"T_f9bce_row1_col4\" class=\"data row1 col4\" >0.8383</td>\n",
       "                        <td id=\"T_f9bce_row1_col5\" class=\"data row1 col5\" >0.2462</td>\n",
       "                        <td id=\"T_f9bce_row1_col6\" class=\"data row1 col6\" >0.2690</td>\n",
       "            </tr>\n",
       "            <tr>\n",
       "                        <th id=\"T_f9bce_level0_row2\" class=\"row_heading level0 row2\" >2</th>\n",
       "                        <td id=\"T_f9bce_row2_col0\" class=\"data row2 col0\" >0.7431</td>\n",
       "                        <td id=\"T_f9bce_row2_col1\" class=\"data row2 col1\" >0.6904</td>\n",
       "                        <td id=\"T_f9bce_row2_col2\" class=\"data row2 col2\" >0.9085</td>\n",
       "                        <td id=\"T_f9bce_row2_col3\" class=\"data row2 col3\" >0.7748</td>\n",
       "                        <td id=\"T_f9bce_row2_col4\" class=\"data row2 col4\" >0.8364</td>\n",
       "                        <td id=\"T_f9bce_row2_col5\" class=\"data row2 col5\" >0.2563</td>\n",
       "                        <td id=\"T_f9bce_row2_col6\" class=\"data row2 col6\" >0.2748</td>\n",
       "            </tr>\n",
       "            <tr>\n",
       "                        <th id=\"T_f9bce_level0_row3\" class=\"row_heading level0 row3\" >Mean</th>\n",
       "                        <td id=\"T_f9bce_row3_col0\" class=\"data row3 col0\" >0.7408</td>\n",
       "                        <td id=\"T_f9bce_row3_col1\" class=\"data row3 col1\" >0.7011</td>\n",
       "                        <td id=\"T_f9bce_row3_col2\" class=\"data row3 col2\" >0.9079</td>\n",
       "                        <td id=\"T_f9bce_row3_col3\" class=\"data row3 col3\" >0.7731</td>\n",
       "                        <td id=\"T_f9bce_row3_col4\" class=\"data row3 col4\" >0.8351</td>\n",
       "                        <td id=\"T_f9bce_row3_col5\" class=\"data row3 col5\" >0.2478</td>\n",
       "                        <td id=\"T_f9bce_row3_col6\" class=\"data row3 col6\" >0.2665</td>\n",
       "            </tr>\n",
       "            <tr>\n",
       "                        <th id=\"T_f9bce_level0_row4\" class=\"row_heading level0 row4\" >SD</th>\n",
       "                        <td id=\"T_f9bce_row4_col0\" class=\"data row4 col0\" >0.0040</td>\n",
       "                        <td id=\"T_f9bce_row4_col1\" class=\"data row4 col1\" >0.0101</td>\n",
       "                        <td id=\"T_f9bce_row4_col2\" class=\"data row4 col2\" >0.0082</td>\n",
       "                        <td id=\"T_f9bce_row4_col3\" class=\"data row4 col3\" >0.0013</td>\n",
       "                        <td id=\"T_f9bce_row4_col4\" class=\"data row4 col4\" >0.0033</td>\n",
       "                        <td id=\"T_f9bce_row4_col5\" class=\"data row4 col5\" >0.0063</td>\n",
       "                        <td id=\"T_f9bce_row4_col6\" class=\"data row4 col6\" >0.0080</td>\n",
       "            </tr>\n",
       "    </tbody></table>"
      ],
      "text/plain": [
       "<pandas.io.formats.style.Styler at 0x1fa0427dca0>"
      ]
     },
     "metadata": {},
     "output_type": "display_data"
    }
   ],
   "source": [
    "stacker = stack_models(estimator_list = best3models[1:], meta_model = best3models[0], fold = 3)"
   ]
  },
  {
   "cell_type": "code",
   "execution_count": 317,
   "id": "bba51daf",
   "metadata": {},
   "outputs": [],
   "source": [
    "final_model = finalize_model(stacker)\n",
    "prediction = predict_model(final_model, data=dataset.iloc[-100:])"
   ]
  },
  {
   "cell_type": "code",
   "execution_count": 318,
   "id": "2d64831b",
   "metadata": {},
   "outputs": [
    {
     "data": {
      "text/html": [
       "<div>\n",
       "<style scoped>\n",
       "    .dataframe tbody tr th:only-of-type {\n",
       "        vertical-align: middle;\n",
       "    }\n",
       "\n",
       "    .dataframe tbody tr th {\n",
       "        vertical-align: top;\n",
       "    }\n",
       "\n",
       "    .dataframe thead th {\n",
       "        text-align: right;\n",
       "    }\n",
       "</style>\n",
       "<table border=\"1\" class=\"dataframe\">\n",
       "  <thead>\n",
       "    <tr style=\"text-align: right;\">\n",
       "      <th></th>\n",
       "      <th>품종</th>\n",
       "      <th>체중</th>\n",
       "      <th>색상</th>\n",
       "      <th>성별</th>\n",
       "      <th>중성화여부</th>\n",
       "      <th>당시의나이</th>\n",
       "      <th>상태</th>\n",
       "      <th>Label</th>\n",
       "      <th>Score</th>\n",
       "    </tr>\n",
       "  </thead>\n",
       "  <tbody>\n",
       "    <tr>\n",
       "      <th>54135</th>\n",
       "      <td>4</td>\n",
       "      <td>6.27</td>\n",
       "      <td>4</td>\n",
       "      <td>0</td>\n",
       "      <td>2</td>\n",
       "      <td>0</td>\n",
       "      <td>1</td>\n",
       "      <td>1</td>\n",
       "      <td>0.8617</td>\n",
       "    </tr>\n",
       "    <tr>\n",
       "      <th>54137</th>\n",
       "      <td>3</td>\n",
       "      <td>1.00</td>\n",
       "      <td>5</td>\n",
       "      <td>1</td>\n",
       "      <td>0</td>\n",
       "      <td>0</td>\n",
       "      <td>0</td>\n",
       "      <td>1</td>\n",
       "      <td>0.8250</td>\n",
       "    </tr>\n",
       "    <tr>\n",
       "      <th>54138</th>\n",
       "      <td>3</td>\n",
       "      <td>1.00</td>\n",
       "      <td>5</td>\n",
       "      <td>0</td>\n",
       "      <td>0</td>\n",
       "      <td>0</td>\n",
       "      <td>0</td>\n",
       "      <td>0</td>\n",
       "      <td>0.5627</td>\n",
       "    </tr>\n",
       "    <tr>\n",
       "      <th>54139</th>\n",
       "      <td>3</td>\n",
       "      <td>1.00</td>\n",
       "      <td>5</td>\n",
       "      <td>0</td>\n",
       "      <td>0</td>\n",
       "      <td>0</td>\n",
       "      <td>1</td>\n",
       "      <td>0</td>\n",
       "      <td>0.5627</td>\n",
       "    </tr>\n",
       "    <tr>\n",
       "      <th>54140</th>\n",
       "      <td>3</td>\n",
       "      <td>4.00</td>\n",
       "      <td>5</td>\n",
       "      <td>1</td>\n",
       "      <td>0</td>\n",
       "      <td>0</td>\n",
       "      <td>0</td>\n",
       "      <td>1</td>\n",
       "      <td>0.8533</td>\n",
       "    </tr>\n",
       "    <tr>\n",
       "      <th>...</th>\n",
       "      <td>...</td>\n",
       "      <td>...</td>\n",
       "      <td>...</td>\n",
       "      <td>...</td>\n",
       "      <td>...</td>\n",
       "      <td>...</td>\n",
       "      <td>...</td>\n",
       "      <td>...</td>\n",
       "      <td>...</td>\n",
       "    </tr>\n",
       "    <tr>\n",
       "      <th>54246</th>\n",
       "      <td>5</td>\n",
       "      <td>25.00</td>\n",
       "      <td>2</td>\n",
       "      <td>0</td>\n",
       "      <td>0</td>\n",
       "      <td>4</td>\n",
       "      <td>0</td>\n",
       "      <td>1</td>\n",
       "      <td>0.6312</td>\n",
       "    </tr>\n",
       "    <tr>\n",
       "      <th>54249</th>\n",
       "      <td>9</td>\n",
       "      <td>4.50</td>\n",
       "      <td>1</td>\n",
       "      <td>0</td>\n",
       "      <td>0</td>\n",
       "      <td>4</td>\n",
       "      <td>1</td>\n",
       "      <td>0</td>\n",
       "      <td>0.6864</td>\n",
       "    </tr>\n",
       "    <tr>\n",
       "      <th>54250</th>\n",
       "      <td>3</td>\n",
       "      <td>4.20</td>\n",
       "      <td>1</td>\n",
       "      <td>0</td>\n",
       "      <td>0</td>\n",
       "      <td>3</td>\n",
       "      <td>1</td>\n",
       "      <td>0</td>\n",
       "      <td>0.6285</td>\n",
       "    </tr>\n",
       "    <tr>\n",
       "      <th>54252</th>\n",
       "      <td>8</td>\n",
       "      <td>20.00</td>\n",
       "      <td>2</td>\n",
       "      <td>1</td>\n",
       "      <td>0</td>\n",
       "      <td>5</td>\n",
       "      <td>1</td>\n",
       "      <td>0</td>\n",
       "      <td>0.5786</td>\n",
       "    </tr>\n",
       "    <tr>\n",
       "      <th>54253</th>\n",
       "      <td>8</td>\n",
       "      <td>28.50</td>\n",
       "      <td>2</td>\n",
       "      <td>0</td>\n",
       "      <td>0</td>\n",
       "      <td>4</td>\n",
       "      <td>1</td>\n",
       "      <td>0</td>\n",
       "      <td>0.6781</td>\n",
       "    </tr>\n",
       "  </tbody>\n",
       "</table>\n",
       "<p>100 rows × 9 columns</p>\n",
       "</div>"
      ],
      "text/plain": [
       "       품종     체중  색상  성별  중성화여부  당시의나이  상태  Label   Score\n",
       "54135   4   6.27   4   0      2      0   1      1  0.8617\n",
       "54137   3   1.00   5   1      0      0   0      1  0.8250\n",
       "54138   3   1.00   5   0      0      0   0      0  0.5627\n",
       "54139   3   1.00   5   0      0      0   1      0  0.5627\n",
       "54140   3   4.00   5   1      0      0   0      1  0.8533\n",
       "...    ..    ...  ..  ..    ...    ...  ..    ...     ...\n",
       "54246   5  25.00   2   0      0      4   0      1  0.6312\n",
       "54249   9   4.50   1   0      0      4   1      0  0.6864\n",
       "54250   3   4.20   1   0      0      3   1      0  0.6285\n",
       "54252   8  20.00   2   1      0      5   1      0  0.5786\n",
       "54253   8  28.50   2   0      0      4   1      0  0.6781\n",
       "\n",
       "[100 rows x 9 columns]"
      ]
     },
     "execution_count": 318,
     "metadata": {},
     "output_type": "execute_result"
    }
   ],
   "source": [
    "prediction"
   ]
  },
  {
   "cell_type": "code",
   "execution_count": 319,
   "id": "664361c8",
   "metadata": {
    "scrolled": true
   },
   "outputs": [
    {
     "ename": "KeyError",
     "evalue": "'Purchase'",
     "output_type": "error",
     "traceback": [
      "\u001b[1;31m---------------------------------------------------------------------------\u001b[0m",
      "\u001b[1;31mKeyError\u001b[0m                                  Traceback (most recent call last)",
      "\u001b[1;32m~\\Anaconda3\\lib\\site-packages\\pandas\\core\\indexes\\base.py\u001b[0m in \u001b[0;36mget_loc\u001b[1;34m(self, key, method, tolerance)\u001b[0m\n\u001b[0;32m   3079\u001b[0m             \u001b[1;32mtry\u001b[0m\u001b[1;33m:\u001b[0m\u001b[1;33m\u001b[0m\u001b[1;33m\u001b[0m\u001b[0m\n\u001b[1;32m-> 3080\u001b[1;33m                 \u001b[1;32mreturn\u001b[0m \u001b[0mself\u001b[0m\u001b[1;33m.\u001b[0m\u001b[0m_engine\u001b[0m\u001b[1;33m.\u001b[0m\u001b[0mget_loc\u001b[0m\u001b[1;33m(\u001b[0m\u001b[0mcasted_key\u001b[0m\u001b[1;33m)\u001b[0m\u001b[1;33m\u001b[0m\u001b[1;33m\u001b[0m\u001b[0m\n\u001b[0m\u001b[0;32m   3081\u001b[0m             \u001b[1;32mexcept\u001b[0m \u001b[0mKeyError\u001b[0m \u001b[1;32mas\u001b[0m \u001b[0merr\u001b[0m\u001b[1;33m:\u001b[0m\u001b[1;33m\u001b[0m\u001b[1;33m\u001b[0m\u001b[0m\n",
      "\u001b[1;32mpandas\\_libs\\index.pyx\u001b[0m in \u001b[0;36mpandas._libs.index.IndexEngine.get_loc\u001b[1;34m()\u001b[0m\n",
      "\u001b[1;32mpandas\\_libs\\index.pyx\u001b[0m in \u001b[0;36mpandas._libs.index.IndexEngine.get_loc\u001b[1;34m()\u001b[0m\n",
      "\u001b[1;32mpandas\\_libs\\hashtable_class_helper.pxi\u001b[0m in \u001b[0;36mpandas._libs.hashtable.PyObjectHashTable.get_item\u001b[1;34m()\u001b[0m\n",
      "\u001b[1;32mpandas\\_libs\\hashtable_class_helper.pxi\u001b[0m in \u001b[0;36mpandas._libs.hashtable.PyObjectHashTable.get_item\u001b[1;34m()\u001b[0m\n",
      "\u001b[1;31mKeyError\u001b[0m: 'Purchase'",
      "\nThe above exception was the direct cause of the following exception:\n",
      "\u001b[1;31mKeyError\u001b[0m                                  Traceback (most recent call last)",
      "\u001b[1;32m<ipython-input-319-ecf5977c541d>\u001b[0m in \u001b[0;36m<module>\u001b[1;34m\u001b[0m\n\u001b[0;32m      1\u001b[0m \u001b[1;32mfrom\u001b[0m \u001b[0mpycaret\u001b[0m\u001b[1;33m.\u001b[0m\u001b[0mutils\u001b[0m \u001b[1;32mimport\u001b[0m \u001b[0mcheck_metric\u001b[0m\u001b[1;33m\u001b[0m\u001b[1;33m\u001b[0m\u001b[0m\n\u001b[1;32m----> 2\u001b[1;33m \u001b[0mcheck_metric\u001b[0m\u001b[1;33m(\u001b[0m\u001b[0mprediction\u001b[0m\u001b[1;33m[\u001b[0m\u001b[1;34m'Purchase'\u001b[0m\u001b[1;33m]\u001b[0m\u001b[1;33m,\u001b[0m \u001b[0mprediction\u001b[0m\u001b[1;33m[\u001b[0m\u001b[1;34m'Label'\u001b[0m\u001b[1;33m]\u001b[0m\u001b[1;33m,\u001b[0m \u001b[0mmetric\u001b[0m \u001b[1;33m=\u001b[0m \u001b[1;34m'Accuracy'\u001b[0m\u001b[1;33m)\u001b[0m\u001b[1;33m\u001b[0m\u001b[1;33m\u001b[0m\u001b[0m\n\u001b[0m",
      "\u001b[1;32m~\\Anaconda3\\lib\\site-packages\\pandas\\core\\frame.py\u001b[0m in \u001b[0;36m__getitem__\u001b[1;34m(self, key)\u001b[0m\n\u001b[0;32m   3022\u001b[0m             \u001b[1;32mif\u001b[0m \u001b[0mself\u001b[0m\u001b[1;33m.\u001b[0m\u001b[0mcolumns\u001b[0m\u001b[1;33m.\u001b[0m\u001b[0mnlevels\u001b[0m \u001b[1;33m>\u001b[0m \u001b[1;36m1\u001b[0m\u001b[1;33m:\u001b[0m\u001b[1;33m\u001b[0m\u001b[1;33m\u001b[0m\u001b[0m\n\u001b[0;32m   3023\u001b[0m                 \u001b[1;32mreturn\u001b[0m \u001b[0mself\u001b[0m\u001b[1;33m.\u001b[0m\u001b[0m_getitem_multilevel\u001b[0m\u001b[1;33m(\u001b[0m\u001b[0mkey\u001b[0m\u001b[1;33m)\u001b[0m\u001b[1;33m\u001b[0m\u001b[1;33m\u001b[0m\u001b[0m\n\u001b[1;32m-> 3024\u001b[1;33m             \u001b[0mindexer\u001b[0m \u001b[1;33m=\u001b[0m \u001b[0mself\u001b[0m\u001b[1;33m.\u001b[0m\u001b[0mcolumns\u001b[0m\u001b[1;33m.\u001b[0m\u001b[0mget_loc\u001b[0m\u001b[1;33m(\u001b[0m\u001b[0mkey\u001b[0m\u001b[1;33m)\u001b[0m\u001b[1;33m\u001b[0m\u001b[1;33m\u001b[0m\u001b[0m\n\u001b[0m\u001b[0;32m   3025\u001b[0m             \u001b[1;32mif\u001b[0m \u001b[0mis_integer\u001b[0m\u001b[1;33m(\u001b[0m\u001b[0mindexer\u001b[0m\u001b[1;33m)\u001b[0m\u001b[1;33m:\u001b[0m\u001b[1;33m\u001b[0m\u001b[1;33m\u001b[0m\u001b[0m\n\u001b[0;32m   3026\u001b[0m                 \u001b[0mindexer\u001b[0m \u001b[1;33m=\u001b[0m \u001b[1;33m[\u001b[0m\u001b[0mindexer\u001b[0m\u001b[1;33m]\u001b[0m\u001b[1;33m\u001b[0m\u001b[1;33m\u001b[0m\u001b[0m\n",
      "\u001b[1;32m~\\Anaconda3\\lib\\site-packages\\pandas\\core\\indexes\\base.py\u001b[0m in \u001b[0;36mget_loc\u001b[1;34m(self, key, method, tolerance)\u001b[0m\n\u001b[0;32m   3080\u001b[0m                 \u001b[1;32mreturn\u001b[0m \u001b[0mself\u001b[0m\u001b[1;33m.\u001b[0m\u001b[0m_engine\u001b[0m\u001b[1;33m.\u001b[0m\u001b[0mget_loc\u001b[0m\u001b[1;33m(\u001b[0m\u001b[0mcasted_key\u001b[0m\u001b[1;33m)\u001b[0m\u001b[1;33m\u001b[0m\u001b[1;33m\u001b[0m\u001b[0m\n\u001b[0;32m   3081\u001b[0m             \u001b[1;32mexcept\u001b[0m \u001b[0mKeyError\u001b[0m \u001b[1;32mas\u001b[0m \u001b[0merr\u001b[0m\u001b[1;33m:\u001b[0m\u001b[1;33m\u001b[0m\u001b[1;33m\u001b[0m\u001b[0m\n\u001b[1;32m-> 3082\u001b[1;33m                 \u001b[1;32mraise\u001b[0m \u001b[0mKeyError\u001b[0m\u001b[1;33m(\u001b[0m\u001b[0mkey\u001b[0m\u001b[1;33m)\u001b[0m \u001b[1;32mfrom\u001b[0m \u001b[0merr\u001b[0m\u001b[1;33m\u001b[0m\u001b[1;33m\u001b[0m\u001b[0m\n\u001b[0m\u001b[0;32m   3083\u001b[0m \u001b[1;33m\u001b[0m\u001b[0m\n\u001b[0;32m   3084\u001b[0m         \u001b[1;32mif\u001b[0m \u001b[0mtolerance\u001b[0m \u001b[1;32mis\u001b[0m \u001b[1;32mnot\u001b[0m \u001b[1;32mNone\u001b[0m\u001b[1;33m:\u001b[0m\u001b[1;33m\u001b[0m\u001b[1;33m\u001b[0m\u001b[0m\n",
      "\u001b[1;31mKeyError\u001b[0m: 'Purchase'"
     ]
    }
   ],
   "source": [
    "from pycaret.utils import check_metric\n",
    "check_metric(prediction['Purchase'], prediction['Label'], metric = 'Accuracy')"
   ]
  },
  {
   "cell_type": "code",
   "execution_count": null,
   "id": "aded34d9",
   "metadata": {},
   "outputs": [],
   "source": []
  }
 ],
 "metadata": {
  "kernelspec": {
   "display_name": "Python 3",
   "language": "python",
   "name": "python3"
  },
  "language_info": {
   "codemirror_mode": {
    "name": "ipython",
    "version": 3
   },
   "file_extension": ".py",
   "mimetype": "text/x-python",
   "name": "python",
   "nbconvert_exporter": "python",
   "pygments_lexer": "ipython3",
   "version": "3.8.8"
  }
 },
 "nbformat": 4,
 "nbformat_minor": 5
}
